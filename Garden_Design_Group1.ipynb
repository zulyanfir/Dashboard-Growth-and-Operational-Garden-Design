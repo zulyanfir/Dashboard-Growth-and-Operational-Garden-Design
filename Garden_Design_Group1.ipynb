{
 "cells": [
  {
   "cell_type": "markdown",
   "metadata": {},
   "source": [
    "## **Project Overview**\n",
    "`OKE Garden` adalah sebuah layanan untuk menghubungkan produk petani tanaman hias serta jasa tukang taman untuk menjawab kebutuhan tamanmu yang lebih OK!\n",
    "\n",
    "**Tujuan Utama Proyek:** Membuat dan mengembagkan dashboard interaktif yang dapat memberikan wawasan bisnis berdasarkan data dari OKE GARDEN\n",
    "\n",
    "**Output Yang Diharapkan:** Menyediakan wawasan dari segi growth dan operational terkait desain taman (garden design)"
   ]
  },
  {
   "cell_type": "markdown",
   "metadata": {},
   "source": [
    "## **Data Collection**"
   ]
  },
  {
   "cell_type": "markdown",
   "metadata": {},
   "source": [
    "Tabel dan Kolom yang digunakan:\n",
    "\n",
    "`order_design`: Tabel yang berisi data transaksi order desain\n",
    "- *id_order* : primary key dari tabel order_design\n",
    "- *id_user*  : foreign key ke user.id_user, adalah user / klien yang melakukan order design\n",
    "- *id_designer* : foreign key ke user.id_user, adalah designer yang bertanggung jawab untuk membuat design\n",
    "- *id_design_finish* : foreign key ke design.id_design, adalah design yang sudah dikerjakan oleh designer, akan memiliki value ketika designer submit design\n",
    "- *id_category* : foreign key ke category_size.id_category, adalah ukuran area taman yang akan dibuatkan designya\n",
    "- *status* : Status dari order design, new, paid, wait_freelancer, on_going, in_review_internal, in_review, finish, expired\n",
    "- *price* : Harga final order design/jumlah yang dibayar klien untuk mengubah status dari new menjadi paid, akan memiliki value ketika user membuat order\n",
    "- *created_at* : Saat order dibuat oleh user\n",
    "- *updated_at* : Saat terakhir kali data order terupdate oleh siapapun itu\n",
    "\n",
    "`user` : Tabel yang berisi data user yang melakukan transaksi dan user untuk nama designer\n",
    "- *id_user* : Primary key dari tabel user\n",
    "- *name* : Nama designer yang membuat design / join ke order_design berdasarkan id_designer\n",
    "- *status* :  (Status designer: active)\n",
    "\n",
    "`category_size`: Tabel yang berisi data ukuran taman\n",
    "- *id_category* : Primary Key dari tabel category_size\n",
    "\n",
    "`design`: Tabel yang berisi data mengenai design taman\n",
    "- *id_design* : Primary key dari tabel design\n",
    "- *status* : Status design public, private, akan memiliki value ketika designer/admin submit design\n",
    "\n",
    "`category_design` : Tabel yang berisikan data mengenai jenis taman yang ada\n",
    "- *id_category_design* : Primary key dari tabel category_design\n",
    "- *name* : Nama kategori desain taman\n",
    "\n",
    "`address_components` : Tabel yang berisi informasi mengenai lokasi pemesanan design\n",
    "- *address_componentable_id* : Foreign key ke order_design berdasarkan id_order\n",
    "- *address_componentable_type* : Tipe address component pada tabel, yaitu: App\\Models\\OrderDesign\n",
    "- *administrative_area_level_1* : Informasi nama lokasi dalam Provinsi\n",
    "- *administrative_area_level_2* : Informasi nama lokasi dalam Kabupaten\n",
    "- *administrative_area_level_3* : Informasi nama lokasi dalam Kecamatan"
   ]
  },
  {
   "cell_type": "markdown",
   "metadata": {},
   "source": [
    "## Database Connection"
   ]
  },
  {
   "cell_type": "code",
   "execution_count": 1,
   "metadata": {},
   "outputs": [
    {
     "name": "stdout",
     "output_type": "stream",
     "text": [
      "Requirement already satisfied: mysql-connector-python in c:\\users\\asus\\appdata\\local\\programs\\python\\python311\\lib\\site-packages (9.1.0)\n"
     ]
    },
    {
     "name": "stderr",
     "output_type": "stream",
     "text": [
      "\n",
      "[notice] A new release of pip is available: 23.2.1 -> 24.3.1\n",
      "[notice] To update, run: python.exe -m pip install --upgrade pip\n"
     ]
    }
   ],
   "source": [
    "!pip install mysql-connector-python"
   ]
  },
  {
   "cell_type": "code",
   "execution_count": 2,
   "metadata": {},
   "outputs": [],
   "source": [
    "# import libraries\n",
    "import mysql.connector\n",
    "from mysql.connector import Error"
   ]
  },
  {
   "cell_type": "code",
   "execution_count": 3,
   "metadata": {},
   "outputs": [],
   "source": [
    "# import pandas\n",
    "import pandas as pd\n",
    "\n",
    "#import matplotlib\n",
    "import matplotlib.pyplot as plt\n",
    "import numpy as np\n",
    "import seaborn as sns\n",
    "\n",
    "# import warning to ignore warning\n",
    "import warnings\n",
    "warnings.filterwarnings('ignore')"
   ]
  },
  {
   "cell_type": "code",
   "execution_count": 4,
   "metadata": {},
   "outputs": [],
   "source": [
    "# Force pandas to display all columns and rows\n",
    "pd.options.display.max_columns = None\n",
    "# pd.options.display.max_rows = None"
   ]
  },
  {
   "cell_type": "code",
   "execution_count": 5,
   "metadata": {},
   "outputs": [],
   "source": [
    "# define mysql details\n",
    "host   = 'okegarden-laravel-prod-db-2024-11-15-0200.cgwhhgh85mr3.ap-southeast-3.rds.amazonaws.com'\n",
    "port   = '3306'\n",
    "user   = 'intern_mes'\n",
    "passwd = 'sdfDFLES342982Ddlsdksd'\n",
    "databs = 'okegarden_laravel_prod_db'"
   ]
  },
  {
   "cell_type": "code",
   "execution_count": 6,
   "metadata": {},
   "outputs": [],
   "source": [
    "# function to fetch data from database, the connection is closed after use.\n",
    "def fetch_data(host_name, port_name, user_name, user_password, db_name, query, params=None):\n",
    "    try:\n",
    "        # use with to ensure the connection is closed after use\n",
    "        with mysql.connector.connect(\n",
    "            host=host_name,\n",
    "            port=port_name,\n",
    "            user=user_name,\n",
    "            password=user_password,\n",
    "            database=db_name\n",
    "        ) as connection:\n",
    "            data = pd.read_sql(query, connection, params=params) # read the query to dataframe format\n",
    "            return data\n",
    "\n",
    "    except Error as e:\n",
    "        print(f\"Error while connecting to MySQL or fetching data: {e}\")\n",
    "        return None"
   ]
  },
  {
   "cell_type": "code",
   "execution_count": 7,
   "metadata": {},
   "outputs": [],
   "source": [
    "query_master_table = \"\"\"  \n",
    "SELECT \n",
    "    order_design.id_order,\n",
    "    order_design.id_user,\n",
    "    category_size.id_category,\n",
    "    order_design.id_design_finish,\n",
    "    category_design.id_category_design,\n",
    "    user.name AS user_name,\n",
    "    user.status AS user_status,\n",
    "    design.design_name,\n",
    "    design.status AS design_status,\n",
    "    CASE\n",
    "    \tWHEN category_size.id_category = 1 THEN '< 10m^2'\n",
    "\t\tWHEN category_size.id_category = 2 THEN '11 - 20m^2'\n",
    "   \t\tWHEN category_size.id_category = 3 THEN '21 - 30m^2'\n",
    "   \t\tWHEN category_size.id_category = 4 THEN '31 - 40m^2'\n",
    "   \t\tWHEN category_size.id_category = 5 THEN '41 - 50m^2'\n",
    "   \t\tELSE '> 50m^2'\n",
    "   \tEND AS category_size,\n",
    "   \tcategory_design.name AS category_name,\n",
    "   \torder_design.status AS order_status,\n",
    "   \torder_design.price,\n",
    "   \tpromo_code.code AS promo_code,\n",
    "   \tpromo_code.valid_from,\n",
    "   \tpromo_code.valid_until,\n",
    "   \torder_design.created_at,\n",
    "   \torder_design.updated_at,\n",
    "    CASE\n",
    "    \tWHEN address_components.administrative_area_level_1 IN ('Daerah Khusus Ibukota Jakarta','Jakarta') THEN 'Daerah Khusus Ibukota Jakarta'\n",
    "        WHEN address_components.administrative_area_level_1 = 'Banten' THEN 'Banten'\n",
    "        WHEN address_components.administrative_area_level_1 IN ('Jawa Barat', 'West Java') THEN 'Jawa Barat'\n",
    "        WHEN address_components.administrative_area_level_1 IN ('Jawa Timur', 'East Java') THEN 'Jawa Timur'\n",
    "        WHEN address_components.administrative_area_level_1 = 'Bali' THEN 'Bali'\n",
    "        WHEN address_components.administrative_area_level_1 = 'Sulawesi Selatan' THEN 'Sulawesi Selatan'\n",
    "        WHEN address_components.administrative_area_level_1 IN ('Sumatera Utara', 'North Sumatra') THEN 'Sumatera Utara'\n",
    "        WHEN address_components.administrative_area_level_1 IN ('Jawa Tengah', 'Central Java') THEN 'Jawa Tengah'\n",
    "        WHEN address_components.administrative_area_level_1 = 'Daerah Istimewa Yogyakarta' THEN 'Daerah Istimewa Yogyakarta'\n",
    "        WHEN address_components.administrative_area_level_1 = 'Jambi' THEN 'Jambi'\n",
    "        WHEN address_components.administrative_area_level_1 = 'Lampung' THEN 'Lampung'\n",
    "        WHEN address_components.administrative_area_level_1 = 'Aceh' THEN 'Aceh'\n",
    "        WHEN address_components.administrative_area_level_1 IN ('Sumatera Barat', 'West Sumatra') THEN 'Sumatera Barat'\n",
    "        WHEN address_components.administrative_area_level_1 = 'Federal District' THEN 'Federal District'\n",
    "        WHEN address_components.administrative_area_level_1 = '' OR address_components.administrative_area_level_1 IS NULL THEN 'Unknown Location'\n",
    "        ELSE address_components.administrative_area_level_1\n",
    "  \tEND AS province,\n",
    "    CASE\n",
    "        WHEN address_components.administrative_area_level_2 IN ('Badung', 'Badung Regency') THEN 'Badung'\n",
    "        WHEN address_components.administrative_area_level_2 IN ('Bandung', 'Bandung Regency') THEN 'Bandung'\n",
    "        WHEN address_components.administrative_area_level_2 IN ('Banyumas', 'Banyumas Regency') THEN 'Banyumas'\n",
    "        WHEN address_components.administrative_area_level_2 IN ('Bekasi', 'Bekasi Regency') THEN 'Bekasi'\n",
    "        WHEN address_components.administrative_area_level_2 IN ('Bogor', 'Bogor Regency') THEN 'Bogor'\n",
    "        WHEN address_components.administrative_area_level_2 IN ('Central Jakarta City', 'Jakarta Pusat') THEN 'Jakarta Pusat'\n",
    "        WHEN address_components.administrative_area_level_2 IN ('Ciamis', 'Ciamis Regency') THEN 'Ciamis'\n",
    "        WHEN address_components.administrative_area_level_2 IN ('Cimahi', 'Cimahi City') THEN 'Cimahi'\n",
    "        WHEN address_components.administrative_area_level_2 IN ('Deli Serdang', 'Deli Serdang Regency') THEN 'Deli Serdang'\n",
    "        WHEN address_components.administrative_area_level_2 IN ('Depok', 'Depok City') THEN 'Depok'\n",
    "        WHEN address_components.administrative_area_level_2 IN ('East Jakarta City', 'Jakarta Timur') THEN 'Jakarta Timur'\n",
    "        WHEN address_components.administrative_area_level_2 IN ('Jakarta Barat', 'West Jakarta City') THEN 'Jakarta Barat'\n",
    "        WHEN address_components.administrative_area_level_2 IN ('Jakarta Selatan', 'South Jakarta City') THEN 'Jakarta Selatan'\n",
    "        WHEN address_components.administrative_area_level_2 IN ('Jakarta Utara', 'North Jakarta City') THEN 'Jakarta Utara'\n",
    "        WHEN address_components.administrative_area_level_2 IN ('Jember', 'Jember Regency') THEN 'Jember'\n",
    "        WHEN address_components.administrative_area_level_2 IN ('Klungkung', 'Klungkung Regency') THEN 'Klungkung'\n",
    "        WHEN address_components.administrative_area_level_2 IN ('Pringsewu', 'Pringsewu Regency') THEN 'Pringsewu'\n",
    "        WHEN address_components.administrative_area_level_2 IN ('Sukabumi', 'Sukabumi City') THEN 'Sukabumi'\n",
    "        WHEN address_components.administrative_area_level_2 IN ('Tangerang', 'Tangerang City', 'Tangerang Regency') THEN 'Tangerang'\n",
    "        WHEN address_components.administrative_area_level_2 IN ('Tangerang Selatan', 'South Tangerang City') THEN 'Tangerang Selatan'\n",
    "        WHEN address_components.administrative_area_level_2 IN ('West Bandung', 'West Bandung Regency') THEN 'Bandung Barat'\n",
    "        WHEN address_components.administrative_area_level_2 = ' ' THEN 'Unknown City'\n",
    "        ELSE address_components.administrative_area_level_2\n",
    "    END AS city,\n",
    "    CASE\n",
    "        WHEN address_components.administrative_area_level_3 IN ('South Kuta') THEN 'Kuta Selatan'\n",
    "        WHEN address_components.administrative_area_level_3 = ' ' THEN 'Unknown District'\n",
    "        ELSE address_components.administrative_area_level_3\n",
    "    END AS district\n",
    "    FROM\n",
    "    \torder_design\n",
    "    LEFT JOIN\n",
    "    \tuser ON user.id_user = order_design.id_designer\n",
    "    LEFT JOIN\n",
    "    \tcategory_size ON category_size.id_category = order_design.id_category\n",
    "    LEFT JOIN\n",
    "    \tdesign ON design.id_design = order_design.id_design_finish\n",
    "    LEFT JOIN\n",
    "    \tcategory_design ON category_design.id_category_design = design.id_type\n",
    "    LEFT JOIN\n",
    "    \taddress_components ON address_components.address_componentable_id = order_design.id_order\n",
    "    LEFT JOIN \n",
    "        promo_code ON promo_code.id_promo = order_design.id_promo\n",
    "    WHERE \n",
    "    \torder_design.id_user > 249\n",
    "    AND\n",
    "    \torder_design.status NOT IN ('expired','new');\n",
    "\"\"\""
   ]
  },
  {
   "cell_type": "markdown",
   "metadata": {},
   "source": [
    "## Master Table"
   ]
  },
  {
   "cell_type": "code",
   "execution_count": 8,
   "metadata": {},
   "outputs": [
    {
     "data": {
      "text/html": [
       "<div>\n",
       "<style scoped>\n",
       "    .dataframe tbody tr th:only-of-type {\n",
       "        vertical-align: middle;\n",
       "    }\n",
       "\n",
       "    .dataframe tbody tr th {\n",
       "        vertical-align: top;\n",
       "    }\n",
       "\n",
       "    .dataframe thead th {\n",
       "        text-align: right;\n",
       "    }\n",
       "</style>\n",
       "<table border=\"1\" class=\"dataframe\">\n",
       "  <thead>\n",
       "    <tr style=\"text-align: right;\">\n",
       "      <th></th>\n",
       "      <th>id_order</th>\n",
       "      <th>id_user</th>\n",
       "      <th>id_category</th>\n",
       "      <th>id_design_finish</th>\n",
       "      <th>id_category_design</th>\n",
       "      <th>user_name</th>\n",
       "      <th>user_status</th>\n",
       "      <th>design_name</th>\n",
       "      <th>design_status</th>\n",
       "      <th>category_size</th>\n",
       "      <th>category_name</th>\n",
       "      <th>order_status</th>\n",
       "      <th>price</th>\n",
       "      <th>promo_code</th>\n",
       "      <th>valid_from</th>\n",
       "      <th>valid_until</th>\n",
       "      <th>created_at</th>\n",
       "      <th>updated_at</th>\n",
       "      <th>province</th>\n",
       "      <th>city</th>\n",
       "      <th>district</th>\n",
       "    </tr>\n",
       "  </thead>\n",
       "  <tbody>\n",
       "    <tr>\n",
       "      <th>0</th>\n",
       "      <td>568</td>\n",
       "      <td>921</td>\n",
       "      <td>3</td>\n",
       "      <td>244.0</td>\n",
       "      <td>2.0</td>\n",
       "      <td>Muhammad Waldi Fiddaroini</td>\n",
       "      <td>active</td>\n",
       "      <td>Taman Rakhmania Pithaloka</td>\n",
       "      <td>private</td>\n",
       "      <td>21 - 30m^2</td>\n",
       "      <td>Kering</td>\n",
       "      <td>in_review</td>\n",
       "      <td>388500.0</td>\n",
       "      <td>PREBUILD50</td>\n",
       "      <td>2024-04-17 11:14:00</td>\n",
       "      <td>2024-10-03 23:14:00</td>\n",
       "      <td>2024-04-20 15:28:15</td>\n",
       "      <td>2024-05-13 10:13:59</td>\n",
       "      <td>Banten</td>\n",
       "      <td>Tangerang Selatan</td>\n",
       "      <td>Unknown District</td>\n",
       "    </tr>\n",
       "    <tr>\n",
       "      <th>1</th>\n",
       "      <td>569</td>\n",
       "      <td>923</td>\n",
       "      <td>1</td>\n",
       "      <td>236.0</td>\n",
       "      <td>2.0</td>\n",
       "      <td>Nazun Thousan</td>\n",
       "      <td>active</td>\n",
       "      <td>Taman Iqbal</td>\n",
       "      <td>private</td>\n",
       "      <td>&lt; 10m^2</td>\n",
       "      <td>Kering</td>\n",
       "      <td>in_review</td>\n",
       "      <td>277500.0</td>\n",
       "      <td>PREBUILD50</td>\n",
       "      <td>2024-04-17 11:14:00</td>\n",
       "      <td>2024-10-03 23:14:00</td>\n",
       "      <td>2024-04-21 10:30:22</td>\n",
       "      <td>2024-05-15 15:58:58</td>\n",
       "      <td>Daerah Khusus Ibukota Jakarta</td>\n",
       "      <td>Jakarta Timur</td>\n",
       "      <td>Cakung</td>\n",
       "    </tr>\n",
       "    <tr>\n",
       "      <th>2</th>\n",
       "      <td>570</td>\n",
       "      <td>925</td>\n",
       "      <td>4</td>\n",
       "      <td>214.0</td>\n",
       "      <td>3.0</td>\n",
       "      <td>Diandra Faradina</td>\n",
       "      <td>active</td>\n",
       "      <td>Taman Lintang R</td>\n",
       "      <td>private</td>\n",
       "      <td>31 - 40m^2</td>\n",
       "      <td>Minimalis</td>\n",
       "      <td>finish</td>\n",
       "      <td>444000.0</td>\n",
       "      <td>PREBUILD50</td>\n",
       "      <td>2024-04-17 11:14:00</td>\n",
       "      <td>2024-10-03 23:14:00</td>\n",
       "      <td>2024-04-21 16:00:33</td>\n",
       "      <td>2024-05-14 08:55:30</td>\n",
       "      <td>Daerah Khusus Ibukota Jakarta</td>\n",
       "      <td>Jakarta Timur</td>\n",
       "      <td>Ciracas</td>\n",
       "    </tr>\n",
       "    <tr>\n",
       "      <th>3</th>\n",
       "      <td>571</td>\n",
       "      <td>926</td>\n",
       "      <td>3</td>\n",
       "      <td>219.0</td>\n",
       "      <td>1.0</td>\n",
       "      <td>Shafa Miranti</td>\n",
       "      <td>active</td>\n",
       "      <td>Taman Susy</td>\n",
       "      <td>private</td>\n",
       "      <td>21 - 30m^2</td>\n",
       "      <td>Tropis</td>\n",
       "      <td>in_review</td>\n",
       "      <td>388500.0</td>\n",
       "      <td>PREBUILD50</td>\n",
       "      <td>2024-04-17 11:14:00</td>\n",
       "      <td>2024-10-03 23:14:00</td>\n",
       "      <td>2024-04-22 10:25:36</td>\n",
       "      <td>2024-05-15 20:41:09</td>\n",
       "      <td>Banten</td>\n",
       "      <td>Tangerang Selatan</td>\n",
       "      <td>Pondok Aren</td>\n",
       "    </tr>\n",
       "    <tr>\n",
       "      <th>4</th>\n",
       "      <td>572</td>\n",
       "      <td>927</td>\n",
       "      <td>2</td>\n",
       "      <td>213.0</td>\n",
       "      <td>1.0</td>\n",
       "      <td>Nurfadliani Kadir</td>\n",
       "      <td>active</td>\n",
       "      <td>Taman Regina</td>\n",
       "      <td>publish</td>\n",
       "      <td>11 - 20m^2</td>\n",
       "      <td>Tropis</td>\n",
       "      <td>finish</td>\n",
       "      <td>0.0</td>\n",
       "      <td>None</td>\n",
       "      <td>NaT</td>\n",
       "      <td>NaT</td>\n",
       "      <td>2024-04-22 11:41:42</td>\n",
       "      <td>2024-05-13 10:13:59</td>\n",
       "      <td>Daerah Khusus Ibukota Jakarta</td>\n",
       "      <td>Jakarta Timur</td>\n",
       "      <td>Pasar Rebo</td>\n",
       "    </tr>\n",
       "    <tr>\n",
       "      <th>...</th>\n",
       "      <td>...</td>\n",
       "      <td>...</td>\n",
       "      <td>...</td>\n",
       "      <td>...</td>\n",
       "      <td>...</td>\n",
       "      <td>...</td>\n",
       "      <td>...</td>\n",
       "      <td>...</td>\n",
       "      <td>...</td>\n",
       "      <td>...</td>\n",
       "      <td>...</td>\n",
       "      <td>...</td>\n",
       "      <td>...</td>\n",
       "      <td>...</td>\n",
       "      <td>...</td>\n",
       "      <td>...</td>\n",
       "      <td>...</td>\n",
       "      <td>...</td>\n",
       "      <td>...</td>\n",
       "      <td>...</td>\n",
       "      <td>...</td>\n",
       "    </tr>\n",
       "    <tr>\n",
       "      <th>354</th>\n",
       "      <td>1012</td>\n",
       "      <td>1951</td>\n",
       "      <td>1</td>\n",
       "      <td>NaN</td>\n",
       "      <td>NaN</td>\n",
       "      <td>Fitria khoerunnisa</td>\n",
       "      <td>active</td>\n",
       "      <td>None</td>\n",
       "      <td>None</td>\n",
       "      <td>&lt; 10m^2</td>\n",
       "      <td>None</td>\n",
       "      <td>wait_freelancer</td>\n",
       "      <td>450000.0</td>\n",
       "      <td>DESAINHEMAT</td>\n",
       "      <td>2024-08-01 00:00:00</td>\n",
       "      <td>2025-01-01 23:59:00</td>\n",
       "      <td>2024-11-13 15:38:57</td>\n",
       "      <td>2024-11-14 17:36:55</td>\n",
       "      <td>Unknown Location</td>\n",
       "      <td>None</td>\n",
       "      <td>None</td>\n",
       "    </tr>\n",
       "    <tr>\n",
       "      <th>355</th>\n",
       "      <td>1013</td>\n",
       "      <td>1958</td>\n",
       "      <td>1</td>\n",
       "      <td>NaN</td>\n",
       "      <td>NaN</td>\n",
       "      <td>Hendri caw</td>\n",
       "      <td>active</td>\n",
       "      <td>None</td>\n",
       "      <td>None</td>\n",
       "      <td>&lt; 10m^2</td>\n",
       "      <td>None</td>\n",
       "      <td>wait_freelancer</td>\n",
       "      <td>0.0</td>\n",
       "      <td>freesurvey</td>\n",
       "      <td>2024-04-22 14:32:00</td>\n",
       "      <td>2024-12-31 14:32:00</td>\n",
       "      <td>2024-11-14 09:32:30</td>\n",
       "      <td>2024-11-14 14:36:39</td>\n",
       "      <td>Unknown Location</td>\n",
       "      <td>None</td>\n",
       "      <td>None</td>\n",
       "    </tr>\n",
       "    <tr>\n",
       "      <th>356</th>\n",
       "      <td>1016</td>\n",
       "      <td>1961</td>\n",
       "      <td>1</td>\n",
       "      <td>NaN</td>\n",
       "      <td>NaN</td>\n",
       "      <td>None</td>\n",
       "      <td>None</td>\n",
       "      <td>None</td>\n",
       "      <td>None</td>\n",
       "      <td>&lt; 10m^2</td>\n",
       "      <td>None</td>\n",
       "      <td>paid</td>\n",
       "      <td>0.0</td>\n",
       "      <td>freesurvey</td>\n",
       "      <td>2024-04-22 14:32:00</td>\n",
       "      <td>2024-12-31 14:32:00</td>\n",
       "      <td>2024-11-14 16:14:14</td>\n",
       "      <td>2024-11-14 16:15:36</td>\n",
       "      <td>Unknown Location</td>\n",
       "      <td>None</td>\n",
       "      <td>None</td>\n",
       "    </tr>\n",
       "    <tr>\n",
       "      <th>357</th>\n",
       "      <td>1017</td>\n",
       "      <td>1967</td>\n",
       "      <td>1</td>\n",
       "      <td>NaN</td>\n",
       "      <td>NaN</td>\n",
       "      <td>None</td>\n",
       "      <td>None</td>\n",
       "      <td>None</td>\n",
       "      <td>None</td>\n",
       "      <td>&lt; 10m^2</td>\n",
       "      <td>None</td>\n",
       "      <td>paid</td>\n",
       "      <td>0.0</td>\n",
       "      <td>freesurvey</td>\n",
       "      <td>2024-04-22 14:32:00</td>\n",
       "      <td>2024-12-31 14:32:00</td>\n",
       "      <td>2024-11-15 08:32:14</td>\n",
       "      <td>2024-11-15 08:32:14</td>\n",
       "      <td>Unknown Location</td>\n",
       "      <td>None</td>\n",
       "      <td>None</td>\n",
       "    </tr>\n",
       "    <tr>\n",
       "      <th>358</th>\n",
       "      <td>1018</td>\n",
       "      <td>1968</td>\n",
       "      <td>1</td>\n",
       "      <td>NaN</td>\n",
       "      <td>NaN</td>\n",
       "      <td>None</td>\n",
       "      <td>None</td>\n",
       "      <td>None</td>\n",
       "      <td>None</td>\n",
       "      <td>&lt; 10m^2</td>\n",
       "      <td>None</td>\n",
       "      <td>paid</td>\n",
       "      <td>0.0</td>\n",
       "      <td>freesurvey</td>\n",
       "      <td>2024-04-22 14:32:00</td>\n",
       "      <td>2024-12-31 14:32:00</td>\n",
       "      <td>2024-11-15 08:47:27</td>\n",
       "      <td>2024-11-15 08:47:27</td>\n",
       "      <td>Unknown Location</td>\n",
       "      <td>None</td>\n",
       "      <td>None</td>\n",
       "    </tr>\n",
       "  </tbody>\n",
       "</table>\n",
       "<p>359 rows × 21 columns</p>\n",
       "</div>"
      ],
      "text/plain": [
       "     id_order  id_user  id_category  id_design_finish  id_category_design  \\\n",
       "0         568      921            3             244.0                 2.0   \n",
       "1         569      923            1             236.0                 2.0   \n",
       "2         570      925            4             214.0                 3.0   \n",
       "3         571      926            3             219.0                 1.0   \n",
       "4         572      927            2             213.0                 1.0   \n",
       "..        ...      ...          ...               ...                 ...   \n",
       "354      1012     1951            1               NaN                 NaN   \n",
       "355      1013     1958            1               NaN                 NaN   \n",
       "356      1016     1961            1               NaN                 NaN   \n",
       "357      1017     1967            1               NaN                 NaN   \n",
       "358      1018     1968            1               NaN                 NaN   \n",
       "\n",
       "                     user_name user_status                design_name  \\\n",
       "0    Muhammad Waldi Fiddaroini      active  Taman Rakhmania Pithaloka   \n",
       "1                Nazun Thousan      active                Taman Iqbal   \n",
       "2             Diandra Faradina      active            Taman Lintang R   \n",
       "3                Shafa Miranti      active                 Taman Susy   \n",
       "4            Nurfadliani Kadir      active               Taman Regina   \n",
       "..                         ...         ...                        ...   \n",
       "354         Fitria khoerunnisa      active                       None   \n",
       "355                 Hendri caw      active                       None   \n",
       "356                       None        None                       None   \n",
       "357                       None        None                       None   \n",
       "358                       None        None                       None   \n",
       "\n",
       "    design_status category_size category_name     order_status     price  \\\n",
       "0         private    21 - 30m^2        Kering        in_review  388500.0   \n",
       "1         private       < 10m^2        Kering        in_review  277500.0   \n",
       "2         private    31 - 40m^2     Minimalis           finish  444000.0   \n",
       "3         private    21 - 30m^2        Tropis        in_review  388500.0   \n",
       "4         publish    11 - 20m^2        Tropis           finish       0.0   \n",
       "..            ...           ...           ...              ...       ...   \n",
       "354          None       < 10m^2          None  wait_freelancer  450000.0   \n",
       "355          None       < 10m^2          None  wait_freelancer       0.0   \n",
       "356          None       < 10m^2          None             paid       0.0   \n",
       "357          None       < 10m^2          None             paid       0.0   \n",
       "358          None       < 10m^2          None             paid       0.0   \n",
       "\n",
       "      promo_code          valid_from         valid_until          created_at  \\\n",
       "0     PREBUILD50 2024-04-17 11:14:00 2024-10-03 23:14:00 2024-04-20 15:28:15   \n",
       "1     PREBUILD50 2024-04-17 11:14:00 2024-10-03 23:14:00 2024-04-21 10:30:22   \n",
       "2     PREBUILD50 2024-04-17 11:14:00 2024-10-03 23:14:00 2024-04-21 16:00:33   \n",
       "3     PREBUILD50 2024-04-17 11:14:00 2024-10-03 23:14:00 2024-04-22 10:25:36   \n",
       "4           None                 NaT                 NaT 2024-04-22 11:41:42   \n",
       "..           ...                 ...                 ...                 ...   \n",
       "354  DESAINHEMAT 2024-08-01 00:00:00 2025-01-01 23:59:00 2024-11-13 15:38:57   \n",
       "355   freesurvey 2024-04-22 14:32:00 2024-12-31 14:32:00 2024-11-14 09:32:30   \n",
       "356   freesurvey 2024-04-22 14:32:00 2024-12-31 14:32:00 2024-11-14 16:14:14   \n",
       "357   freesurvey 2024-04-22 14:32:00 2024-12-31 14:32:00 2024-11-15 08:32:14   \n",
       "358   freesurvey 2024-04-22 14:32:00 2024-12-31 14:32:00 2024-11-15 08:47:27   \n",
       "\n",
       "             updated_at                       province               city  \\\n",
       "0   2024-05-13 10:13:59                         Banten  Tangerang Selatan   \n",
       "1   2024-05-15 15:58:58  Daerah Khusus Ibukota Jakarta      Jakarta Timur   \n",
       "2   2024-05-14 08:55:30  Daerah Khusus Ibukota Jakarta      Jakarta Timur   \n",
       "3   2024-05-15 20:41:09                         Banten  Tangerang Selatan   \n",
       "4   2024-05-13 10:13:59  Daerah Khusus Ibukota Jakarta      Jakarta Timur   \n",
       "..                  ...                            ...                ...   \n",
       "354 2024-11-14 17:36:55               Unknown Location               None   \n",
       "355 2024-11-14 14:36:39               Unknown Location               None   \n",
       "356 2024-11-14 16:15:36               Unknown Location               None   \n",
       "357 2024-11-15 08:32:14               Unknown Location               None   \n",
       "358 2024-11-15 08:47:27               Unknown Location               None   \n",
       "\n",
       "             district  \n",
       "0    Unknown District  \n",
       "1              Cakung  \n",
       "2             Ciracas  \n",
       "3         Pondok Aren  \n",
       "4          Pasar Rebo  \n",
       "..                ...  \n",
       "354              None  \n",
       "355              None  \n",
       "356              None  \n",
       "357              None  \n",
       "358              None  \n",
       "\n",
       "[359 rows x 21 columns]"
      ]
     },
     "execution_count": 8,
     "metadata": {},
     "output_type": "execute_result"
    }
   ],
   "source": [
    "# master table\n",
    "master_table = fetch_data(host, port, user, passwd, databs, query_master_table)\n",
    "master_table"
   ]
  },
  {
   "cell_type": "markdown",
   "metadata": {},
   "source": [
    "## Data Assesment"
   ]
  },
  {
   "cell_type": "code",
   "execution_count": 9,
   "metadata": {},
   "outputs": [
    {
     "name": "stdout",
     "output_type": "stream",
     "text": [
      "<class 'pandas.core.frame.DataFrame'>\n",
      "RangeIndex: 359 entries, 0 to 358\n",
      "Data columns (total 21 columns):\n",
      " #   Column              Non-Null Count  Dtype         \n",
      "---  ------              --------------  -----         \n",
      " 0   id_order            359 non-null    int64         \n",
      " 1   id_user             359 non-null    int64         \n",
      " 2   id_category         359 non-null    int64         \n",
      " 3   id_design_finish    297 non-null    float64       \n",
      " 4   id_category_design  295 non-null    float64       \n",
      " 5   user_name           324 non-null    object        \n",
      " 6   user_status         324 non-null    object        \n",
      " 7   design_name         297 non-null    object        \n",
      " 8   design_status       297 non-null    object        \n",
      " 9   category_size       359 non-null    object        \n",
      " 10  category_name       295 non-null    object        \n",
      " 11  order_status        359 non-null    object        \n",
      " 12  price               356 non-null    float64       \n",
      " 13  promo_code          348 non-null    object        \n",
      " 14  valid_from          348 non-null    datetime64[ns]\n",
      " 15  valid_until         348 non-null    datetime64[ns]\n",
      " 16  created_at          359 non-null    datetime64[ns]\n",
      " 17  updated_at          359 non-null    datetime64[ns]\n",
      " 18  province            359 non-null    object        \n",
      " 19  city                199 non-null    object        \n",
      " 20  district            199 non-null    object        \n",
      "dtypes: datetime64[ns](4), float64(3), int64(3), object(11)\n",
      "memory usage: 59.0+ KB\n"
     ]
    }
   ],
   "source": [
    "master_table.info()"
   ]
  },
  {
   "cell_type": "markdown",
   "metadata": {},
   "source": [
    "Berdasarkan informasi diatas, kita dapat melihat bahwa data table memiliki 359 baris dan terdiri dari 21 kolom, serta terdiri dari beberapa tipe data seperti `int64`, `float64`, `object` dan `datetime64[ns]`"
   ]
  },
  {
   "cell_type": "markdown",
   "metadata": {},
   "source": [
    "## Missing Value"
   ]
  },
  {
   "cell_type": "code",
   "execution_count": 10,
   "metadata": {},
   "outputs": [
    {
     "data": {
      "text/plain": [
       "id_order                0\n",
       "id_user                 0\n",
       "id_category             0\n",
       "id_design_finish       62\n",
       "id_category_design     64\n",
       "user_name              35\n",
       "user_status            35\n",
       "design_name            62\n",
       "design_status          62\n",
       "category_size           0\n",
       "category_name          64\n",
       "order_status            0\n",
       "price                   3\n",
       "promo_code             11\n",
       "valid_from             11\n",
       "valid_until            11\n",
       "created_at              0\n",
       "updated_at              0\n",
       "province                0\n",
       "city                  160\n",
       "district              160\n",
       "dtype: int64"
      ]
     },
     "execution_count": 10,
     "metadata": {},
     "output_type": "execute_result"
    }
   ],
   "source": [
    "master_table.isnull().sum()"
   ]
  },
  {
   "cell_type": "markdown",
   "metadata": {},
   "source": [
    "Pada identifikasi missing value pada data yang akan digunakan, ditemukan nilai null pada kolom `id_design_finish`, `id_category_design`, `user_name`, `address_componentable_type`, `user_status`, `design_name`, `design_status` dan `category_name`, `price`, `province`, `promo_code`, `valid_from`, `valid_until`, `city`, dan `district`. Berdasarkan konfirmasi, nilai null tersebut akan tetap diproses sebagai null values. Jadi untuk saat ini tidak ada penanganan lebih lanjut terhadap missing value tersebut."
   ]
  },
  {
   "cell_type": "markdown",
   "metadata": {},
   "source": [
    "## Outlier"
   ]
  },
  {
   "cell_type": "code",
   "execution_count": 11,
   "metadata": {},
   "outputs": [
    {
     "name": "stdout",
     "output_type": "stream",
     "text": [
      "Index(['id_order', 'id_user', 'id_category', 'id_design_finish',\n",
      "       'id_category_design', 'price'],\n",
      "      dtype='object')\n"
     ]
    }
   ],
   "source": [
    "numeric_cols = master_table.select_dtypes(include=['float64', 'int64']).columns\n",
    "print(numeric_cols)"
   ]
  },
  {
   "cell_type": "code",
   "execution_count": 12,
   "metadata": {},
   "outputs": [
    {
     "name": "stdout",
     "output_type": "stream",
     "text": [
      "Outliers Detected : id_order 0\n",
      "Outliers Detected : id_user 5\n",
      "Outliers Detected : id_category 0\n",
      "Outliers Detected : id_design_finish 0\n",
      "Outliers Detected : id_category_design 0\n",
      "Outliers Detected : price 49\n"
     ]
    }
   ],
   "source": [
    "# Fungsi untuk mendeteksi outlier menggunakan IQR\n",
    "def detect_outliers_iqr(master_table, column):\n",
    "    Q1 = master_table[column].quantile(0.25)\n",
    "    Q3 = master_table[column].quantile(0.75)\n",
    "    IQR = Q3 - Q1\n",
    "    lower_bound = Q1 - 1.5 * IQR\n",
    "    upper_bound = Q3 + 1.5 * IQR\n",
    "    outliers = master_table[(master_table[column] < lower_bound) | (master_table[column] > upper_bound)]\n",
    "    return outliers\n",
    "\n",
    "# Iterasi setiap kolom dalam dataset\n",
    "for column in master_table.columns:\n",
    "    # Hanya proses kolom numerik\n",
    "    if master_table[column].dtype in ['int64', 'float64']:\n",
    "        # Deteksi outlier tiap kolom numerik\n",
    "        outliers = detect_outliers_iqr(master_table, column)\n",
    "        print(f'Outliers Detected : {column} {len(outliers)}')"
   ]
  },
  {
   "cell_type": "markdown",
   "metadata": {},
   "source": [
    "- Berdasarkan uji outliers dengan IQR, ditemukan outliers pada kolom `id_user` dan `price`\n",
    "- Setelah dikonfirmasi kembali, outliers pada `id_user` di handling dengan mengecualikan id_user yang < 250 dikarenakan id_user tersebut adalah id untuk testing\n",
    "- Untuk kolom `price` yang terdapat outlier, data akan tetap di proses (outliers tetap diproses dalam analisis)"
   ]
  },
  {
   "cell_type": "markdown",
   "metadata": {},
   "source": [
    "## Exploratory Data Analysis"
   ]
  },
  {
   "cell_type": "code",
   "execution_count": 13,
   "metadata": {},
   "outputs": [
    {
     "data": {
      "text/html": [
       "<div>\n",
       "<style scoped>\n",
       "    .dataframe tbody tr th:only-of-type {\n",
       "        vertical-align: middle;\n",
       "    }\n",
       "\n",
       "    .dataframe tbody tr th {\n",
       "        vertical-align: top;\n",
       "    }\n",
       "\n",
       "    .dataframe thead th {\n",
       "        text-align: right;\n",
       "    }\n",
       "</style>\n",
       "<table border=\"1\" class=\"dataframe\">\n",
       "  <thead>\n",
       "    <tr style=\"text-align: right;\">\n",
       "      <th></th>\n",
       "      <th>id_order</th>\n",
       "      <th>id_user</th>\n",
       "      <th>id_category</th>\n",
       "      <th>id_design_finish</th>\n",
       "      <th>id_category_design</th>\n",
       "      <th>price</th>\n",
       "      <th>valid_from</th>\n",
       "      <th>valid_until</th>\n",
       "      <th>created_at</th>\n",
       "      <th>updated_at</th>\n",
       "    </tr>\n",
       "  </thead>\n",
       "  <tbody>\n",
       "    <tr>\n",
       "      <th>count</th>\n",
       "      <td>359.000000</td>\n",
       "      <td>359.000000</td>\n",
       "      <td>359.000000</td>\n",
       "      <td>297.000000</td>\n",
       "      <td>295.000000</td>\n",
       "      <td>3.560000e+02</td>\n",
       "      <td>348</td>\n",
       "      <td>348</td>\n",
       "      <td>359</td>\n",
       "      <td>359</td>\n",
       "    </tr>\n",
       "    <tr>\n",
       "      <th>mean</th>\n",
       "      <td>786.752089</td>\n",
       "      <td>1374.256267</td>\n",
       "      <td>2.286908</td>\n",
       "      <td>410.973064</td>\n",
       "      <td>2.132203</td>\n",
       "      <td>1.006004e+05</td>\n",
       "      <td>2024-05-11 08:22:37.586207232</td>\n",
       "      <td>2024-12-10 04:29:59.827586304</td>\n",
       "      <td>2024-08-04 09:50:39.515320320</td>\n",
       "      <td>2024-08-24 00:47:48.509749248</td>\n",
       "    </tr>\n",
       "    <tr>\n",
       "      <th>min</th>\n",
       "      <td>568.000000</td>\n",
       "      <td>263.000000</td>\n",
       "      <td>1.000000</td>\n",
       "      <td>213.000000</td>\n",
       "      <td>1.000000</td>\n",
       "      <td>0.000000e+00</td>\n",
       "      <td>2024-04-17 11:14:00</td>\n",
       "      <td>2024-05-13 09:47:00</td>\n",
       "      <td>2024-04-20 15:28:15</td>\n",
       "      <td>2024-05-13 10:13:59</td>\n",
       "    </tr>\n",
       "    <tr>\n",
       "      <th>25%</th>\n",
       "      <td>670.500000</td>\n",
       "      <td>1096.000000</td>\n",
       "      <td>1.000000</td>\n",
       "      <td>337.000000</td>\n",
       "      <td>1.000000</td>\n",
       "      <td>0.000000e+00</td>\n",
       "      <td>2024-04-22 14:32:00</td>\n",
       "      <td>2024-12-31 14:32:00</td>\n",
       "      <td>2024-06-21 09:29:02.500000</td>\n",
       "      <td>2024-07-16 14:26:13</td>\n",
       "    </tr>\n",
       "    <tr>\n",
       "      <th>50%</th>\n",
       "      <td>790.000000</td>\n",
       "      <td>1400.000000</td>\n",
       "      <td>2.000000</td>\n",
       "      <td>417.000000</td>\n",
       "      <td>2.000000</td>\n",
       "      <td>0.000000e+00</td>\n",
       "      <td>2024-04-22 14:32:00</td>\n",
       "      <td>2024-12-31 14:32:00</td>\n",
       "      <td>2024-08-11 15:51:40</td>\n",
       "      <td>2024-08-25 20:05:46</td>\n",
       "    </tr>\n",
       "    <tr>\n",
       "      <th>75%</th>\n",
       "      <td>893.500000</td>\n",
       "      <td>1605.500000</td>\n",
       "      <td>3.000000</td>\n",
       "      <td>500.000000</td>\n",
       "      <td>3.000000</td>\n",
       "      <td>1.250000e+05</td>\n",
       "      <td>2024-04-22 14:32:00</td>\n",
       "      <td>2024-12-31 14:32:00</td>\n",
       "      <td>2024-09-11 03:18:04</td>\n",
       "      <td>2024-10-08 06:23:57.500000</td>\n",
       "    </tr>\n",
       "    <tr>\n",
       "      <th>max</th>\n",
       "      <td>1018.000000</td>\n",
       "      <td>1968.000000</td>\n",
       "      <td>6.000000</td>\n",
       "      <td>594.000000</td>\n",
       "      <td>4.000000</td>\n",
       "      <td>1.225000e+06</td>\n",
       "      <td>2024-10-06 06:49:00</td>\n",
       "      <td>2025-01-01 23:59:00</td>\n",
       "      <td>2024-11-15 08:47:27</td>\n",
       "      <td>2024-11-15 08:47:27</td>\n",
       "    </tr>\n",
       "    <tr>\n",
       "      <th>std</th>\n",
       "      <td>128.996524</td>\n",
       "      <td>323.294755</td>\n",
       "      <td>1.660794</td>\n",
       "      <td>107.647476</td>\n",
       "      <td>0.836750</td>\n",
       "      <td>1.994528e+05</td>\n",
       "      <td>NaN</td>\n",
       "      <td>NaN</td>\n",
       "      <td>NaN</td>\n",
       "      <td>NaN</td>\n",
       "    </tr>\n",
       "  </tbody>\n",
       "</table>\n",
       "</div>"
      ],
      "text/plain": [
       "          id_order      id_user  id_category  id_design_finish  \\\n",
       "count   359.000000   359.000000   359.000000        297.000000   \n",
       "mean    786.752089  1374.256267     2.286908        410.973064   \n",
       "min     568.000000   263.000000     1.000000        213.000000   \n",
       "25%     670.500000  1096.000000     1.000000        337.000000   \n",
       "50%     790.000000  1400.000000     2.000000        417.000000   \n",
       "75%     893.500000  1605.500000     3.000000        500.000000   \n",
       "max    1018.000000  1968.000000     6.000000        594.000000   \n",
       "std     128.996524   323.294755     1.660794        107.647476   \n",
       "\n",
       "       id_category_design         price                     valid_from  \\\n",
       "count          295.000000  3.560000e+02                            348   \n",
       "mean             2.132203  1.006004e+05  2024-05-11 08:22:37.586207232   \n",
       "min              1.000000  0.000000e+00            2024-04-17 11:14:00   \n",
       "25%              1.000000  0.000000e+00            2024-04-22 14:32:00   \n",
       "50%              2.000000  0.000000e+00            2024-04-22 14:32:00   \n",
       "75%              3.000000  1.250000e+05            2024-04-22 14:32:00   \n",
       "max              4.000000  1.225000e+06            2024-10-06 06:49:00   \n",
       "std              0.836750  1.994528e+05                            NaN   \n",
       "\n",
       "                         valid_until                     created_at  \\\n",
       "count                            348                            359   \n",
       "mean   2024-12-10 04:29:59.827586304  2024-08-04 09:50:39.515320320   \n",
       "min              2024-05-13 09:47:00            2024-04-20 15:28:15   \n",
       "25%              2024-12-31 14:32:00     2024-06-21 09:29:02.500000   \n",
       "50%              2024-12-31 14:32:00            2024-08-11 15:51:40   \n",
       "75%              2024-12-31 14:32:00            2024-09-11 03:18:04   \n",
       "max              2025-01-01 23:59:00            2024-11-15 08:47:27   \n",
       "std                              NaN                            NaN   \n",
       "\n",
       "                          updated_at  \n",
       "count                            359  \n",
       "mean   2024-08-24 00:47:48.509749248  \n",
       "min              2024-05-13 10:13:59  \n",
       "25%              2024-07-16 14:26:13  \n",
       "50%              2024-08-25 20:05:46  \n",
       "75%       2024-10-08 06:23:57.500000  \n",
       "max              2024-11-15 08:47:27  \n",
       "std                              NaN  "
      ]
     },
     "execution_count": 13,
     "metadata": {},
     "output_type": "execute_result"
    }
   ],
   "source": [
    "#Describe data numeric\n",
    "master_table.describe()"
   ]
  },
  {
   "cell_type": "markdown",
   "metadata": {},
   "source": [
    "Berdasarkan informasi di atas kita dapat menemukan beberapa hal:\n",
    "- Data order yang akan dianalisis adalah data dari rentang id_order 568 sampai 1018.\n",
    "- Id_user terkecil adalah 263 yang berarti sudah bersih dari id testing dan data yang akan dianalisis adalah dari rentang id_user 263 sampai 1968.\n",
    "- Id_design_finish masih ada nilai null yang berarti ada design yang masing belum terselesaikan dan yang akan dianalisis dari rentang id_design_finish 213 sampai 594.\n",
    "- Terdapat 3 data harga yang null, harga design terendah adalah 0 dan tertinggi adalah 1.225.0000 dan rata-rata harga adalah 1.006.004\n"
   ]
  },
  {
   "cell_type": "code",
   "execution_count": 14,
   "metadata": {},
   "outputs": [
    {
     "data": {
      "text/html": [
       "<div>\n",
       "<style scoped>\n",
       "    .dataframe tbody tr th:only-of-type {\n",
       "        vertical-align: middle;\n",
       "    }\n",
       "\n",
       "    .dataframe tbody tr th {\n",
       "        vertical-align: top;\n",
       "    }\n",
       "\n",
       "    .dataframe thead th {\n",
       "        text-align: right;\n",
       "    }\n",
       "</style>\n",
       "<table border=\"1\" class=\"dataframe\">\n",
       "  <thead>\n",
       "    <tr style=\"text-align: right;\">\n",
       "      <th></th>\n",
       "      <th>user_name</th>\n",
       "      <th>user_status</th>\n",
       "      <th>design_name</th>\n",
       "      <th>design_status</th>\n",
       "      <th>category_size</th>\n",
       "      <th>category_name</th>\n",
       "      <th>order_status</th>\n",
       "      <th>promo_code</th>\n",
       "      <th>province</th>\n",
       "      <th>city</th>\n",
       "      <th>district</th>\n",
       "    </tr>\n",
       "  </thead>\n",
       "  <tbody>\n",
       "    <tr>\n",
       "      <th>count</th>\n",
       "      <td>324</td>\n",
       "      <td>324</td>\n",
       "      <td>297</td>\n",
       "      <td>297</td>\n",
       "      <td>359</td>\n",
       "      <td>295</td>\n",
       "      <td>359</td>\n",
       "      <td>348</td>\n",
       "      <td>359</td>\n",
       "      <td>199</td>\n",
       "      <td>199</td>\n",
       "    </tr>\n",
       "    <tr>\n",
       "      <th>unique</th>\n",
       "      <td>58</td>\n",
       "      <td>1</td>\n",
       "      <td>284</td>\n",
       "      <td>2</td>\n",
       "      <td>6</td>\n",
       "      <td>4</td>\n",
       "      <td>6</td>\n",
       "      <td>14</td>\n",
       "      <td>14</td>\n",
       "      <td>32</td>\n",
       "      <td>105</td>\n",
       "    </tr>\n",
       "    <tr>\n",
       "      <th>top</th>\n",
       "      <td>Arista Putri Valentin</td>\n",
       "      <td>active</td>\n",
       "      <td>Taman Dhini</td>\n",
       "      <td>private</td>\n",
       "      <td>&lt; 10m^2</td>\n",
       "      <td>Minimalis</td>\n",
       "      <td>in_review</td>\n",
       "      <td>freesurvey</td>\n",
       "      <td>Unknown Location</td>\n",
       "      <td>Tangerang Selatan</td>\n",
       "      <td>Unknown District</td>\n",
       "    </tr>\n",
       "    <tr>\n",
       "      <th>freq</th>\n",
       "      <td>32</td>\n",
       "      <td>324</td>\n",
       "      <td>2</td>\n",
       "      <td>199</td>\n",
       "      <td>162</td>\n",
       "      <td>116</td>\n",
       "      <td>151</td>\n",
       "      <td>237</td>\n",
       "      <td>161</td>\n",
       "      <td>28</td>\n",
       "      <td>16</td>\n",
       "    </tr>\n",
       "  </tbody>\n",
       "</table>\n",
       "</div>"
      ],
      "text/plain": [
       "                    user_name user_status  design_name design_status  \\\n",
       "count                     324         324          297           297   \n",
       "unique                     58           1          284             2   \n",
       "top     Arista Putri Valentin      active  Taman Dhini       private   \n",
       "freq                       32         324            2           199   \n",
       "\n",
       "       category_size category_name order_status  promo_code          province  \\\n",
       "count            359           295          359         348               359   \n",
       "unique             6             4            6          14                14   \n",
       "top          < 10m^2     Minimalis    in_review  freesurvey  Unknown Location   \n",
       "freq             162           116          151         237               161   \n",
       "\n",
       "                     city          district  \n",
       "count                 199               199  \n",
       "unique                 32               105  \n",
       "top     Tangerang Selatan  Unknown District  \n",
       "freq                   28                16  "
      ]
     },
     "execution_count": 14,
     "metadata": {},
     "output_type": "execute_result"
    }
   ],
   "source": [
    "#Describe data object\n",
    "master_table.describe(include='object')"
   ]
  },
  {
   "cell_type": "markdown",
   "metadata": {},
   "source": [
    "Dari informasi diatas dapat diketahui bahwa:\n",
    "- User_name atau nama desainer yang paling sering muncul adalah Arista Putri Valentin dengan total frekuensi sebanyak 32.\n",
    "- Nama design yang memiliki frekuensi paling banyak adalah Taman Dhini dengan total frekuensi sebanyak 2 kali.\n",
    "- Categori ukuran taman paling populer berdasarkan tabel diatas adalah kategori ukuran taman <10m^2 sedangkan untuk kategori taman adalah minimalis.\n",
    "- Masih banyak orderan yang tidak diketahui provinsinya.\n",
    "- Status order sebagian besar masih in_review (customer review)\n",
    "- Terdapat 39 desainer yang statusnya tidak aktif\n",
    "- Kode promo yang paling laris adalah `freesurvey`"
   ]
  },
  {
   "cell_type": "markdown",
   "metadata": {},
   "source": [
    "## Insights"
   ]
  },
  {
   "cell_type": "markdown",
   "metadata": {},
   "source": [
    "### Growth"
   ]
  },
  {
   "cell_type": "markdown",
   "metadata": {},
   "source": [
    "#### Pendapatan Per Bulan "
   ]
  },
  {
   "cell_type": "code",
   "execution_count": 37,
   "metadata": {
    "vscode": {
     "languageId": "sql"
    }
   },
   "outputs": [],
   "source": [
    "query_pendapatan_per_bulan = \"\"\"  \n",
    "SELECT \n",
    "\tSUM(price) AS total_pendapatan,\n",
    "\tDATE_FORMAT(created_at, '%M') AS nama_bulan\n",
    "FROM(\n",
    "\tSELECT \n",
    "    order_design.id_order,\n",
    "    order_design.id_user,\n",
    "    category_size.id_category,\n",
    "    order_design.id_design_finish,\n",
    "    category_design.id_category_design,\n",
    "    user.name AS user_name,\n",
    "    user.status AS user_status,\n",
    "    design.design_name,\n",
    "    design.status AS design_status,\n",
    "    CASE\n",
    "    \tWHEN category_size.id_category = 1 THEN '< 10m^2'\n",
    "\t\tWHEN category_size.id_category = 2 THEN '11 - 20m^2'\n",
    "   \t\tWHEN category_size.id_category = 3 THEN '21 - 30m^2'\n",
    "   \t\tWHEN category_size.id_category = 4 THEN '31 - 40m^2'\n",
    "   \t\tWHEN category_size.id_category = 5 THEN '41 - 50m^2'\n",
    "   \t\tELSE '> 50m^2'\n",
    "   \tEND AS category_size,\n",
    "   \tcategory_design.name AS category_name,\n",
    "   \torder_design.status AS order_status,\n",
    "   \torder_design.price,\n",
    "   \tpromo_code.code AS promo_code,\n",
    "   \tpromo_code.valid_from,\n",
    "   \tpromo_code.valid_until,\n",
    "   \torder_design.created_at,\n",
    "   \torder_design.updated_at,\n",
    "    CASE\n",
    "    \tWHEN address_components.administrative_area_level_1 IN ('Daerah Khusus Ibukota Jakarta','Jakarta') THEN 'Daerah Khusus Ibukota Jakarta'\n",
    "        WHEN address_components.administrative_area_level_1 = 'Banten' THEN 'Banten'\n",
    "        WHEN address_components.administrative_area_level_1 IN ('Jawa Barat', 'West Java') THEN 'Jawa Barat'\n",
    "        WHEN address_components.administrative_area_level_1 IN ('Jawa Timur', 'East Java') THEN 'Jawa Timur'\n",
    "        WHEN address_components.administrative_area_level_1 = 'Bali' THEN 'Bali'\n",
    "        WHEN address_components.administrative_area_level_1 = 'Sulawesi Selatan' THEN 'Sulawesi Selatan'\n",
    "        WHEN address_components.administrative_area_level_1 IN ('Sumatera Utara', 'North Sumatra') THEN 'Sumatera Utara'\n",
    "        WHEN address_components.administrative_area_level_1 IN ('Jawa Tengah', 'Central Java') THEN 'Jawa Tengah'\n",
    "        WHEN address_components.administrative_area_level_1 = 'Daerah Istimewa Yogyakarta' THEN 'Daerah Istimewa Yogyakarta'\n",
    "        WHEN address_components.administrative_area_level_1 = 'Jambi' THEN 'Jambi'\n",
    "        WHEN address_components.administrative_area_level_1 = 'Lampung' THEN 'Lampung'\n",
    "        WHEN address_components.administrative_area_level_1 = 'Aceh' THEN 'Aceh'\n",
    "        WHEN address_components.administrative_area_level_1 IN ('Sumatera Barat', 'West Sumatra') THEN 'Sumatera Barat'\n",
    "        WHEN address_components.administrative_area_level_1 = 'Federal District' THEN 'Federal District'\n",
    "        WHEN address_components.administrative_area_level_1 = '' OR address_components.administrative_area_level_1 IS NULL THEN 'Unknown Location'\n",
    "        ELSE address_components.administrative_area_level_1\n",
    "  \tEND AS province,\n",
    "    CASE\n",
    "        WHEN address_components.administrative_area_level_2 IN ('Badung', 'Badung Regency') THEN 'Badung'\n",
    "        WHEN address_components.administrative_area_level_2 IN ('Bandung', 'Bandung Regency') THEN 'Bandung'\n",
    "        WHEN address_components.administrative_area_level_2 IN ('Banyumas', 'Banyumas Regency') THEN 'Banyumas'\n",
    "        WHEN address_components.administrative_area_level_2 IN ('Bekasi', 'Bekasi Regency') THEN 'Bekasi'\n",
    "        WHEN address_components.administrative_area_level_2 IN ('Bogor', 'Bogor Regency') THEN 'Bogor'\n",
    "        WHEN address_components.administrative_area_level_2 IN ('Central Jakarta City', 'Jakarta Pusat') THEN 'Jakarta Pusat'\n",
    "        WHEN address_components.administrative_area_level_2 IN ('Ciamis', 'Ciamis Regency') THEN 'Ciamis'\n",
    "        WHEN address_components.administrative_area_level_2 IN ('Cimahi', 'Cimahi City') THEN 'Cimahi'\n",
    "        WHEN address_components.administrative_area_level_2 IN ('Deli Serdang', 'Deli Serdang Regency') THEN 'Deli Serdang'\n",
    "        WHEN address_components.administrative_area_level_2 IN ('Depok', 'Depok City') THEN 'Depok'\n",
    "        WHEN address_components.administrative_area_level_2 IN ('East Jakarta City', 'Jakarta Timur') THEN 'Jakarta Timur'\n",
    "        WHEN address_components.administrative_area_level_2 IN ('Jakarta Barat', 'West Jakarta City') THEN 'Jakarta Barat'\n",
    "        WHEN address_components.administrative_area_level_2 IN ('Jakarta Selatan', 'South Jakarta City') THEN 'Jakarta Selatan'\n",
    "        WHEN address_components.administrative_area_level_2 IN ('Jakarta Utara', 'North Jakarta City') THEN 'Jakarta Utara'\n",
    "        WHEN address_components.administrative_area_level_2 IN ('Jember', 'Jember Regency') THEN 'Jember'\n",
    "        WHEN address_components.administrative_area_level_2 IN ('Klungkung', 'Klungkung Regency') THEN 'Klungkung'\n",
    "        WHEN address_components.administrative_area_level_2 IN ('Pringsewu', 'Pringsewu Regency') THEN 'Pringsewu'\n",
    "        WHEN address_components.administrative_area_level_2 IN ('Sukabumi', 'Sukabumi City') THEN 'Sukabumi'\n",
    "        WHEN address_components.administrative_area_level_2 IN ('Tangerang', 'Tangerang City', 'Tangerang Regency') THEN 'Tangerang'\n",
    "        WHEN address_components.administrative_area_level_2 IN ('Tangerang Selatan', 'South Tangerang City') THEN 'Tangerang Selatan'\n",
    "        WHEN address_components.administrative_area_level_2 IN ('West Bandung', 'West Bandung Regency') THEN 'Bandung Barat'\n",
    "        WHEN address_components.administrative_area_level_2 = ' ' THEN 'Unknown City'\n",
    "        ELSE address_components.administrative_area_level_2\n",
    "    END AS city,\n",
    "    CASE\n",
    "        WHEN address_components.administrative_area_level_3 IN ('South Kuta') THEN 'Kuta Selatan'\n",
    "        WHEN address_components.administrative_area_level_3 = ' ' THEN 'Unknown District'\n",
    "        ELSE address_components.administrative_area_level_3\n",
    "    END AS district\n",
    "    FROM\n",
    "    \torder_design\n",
    "    LEFT JOIN\n",
    "    \tuser ON user.id_user = order_design.id_designer\n",
    "    LEFT JOIN\n",
    "    \tcategory_size ON category_size.id_category = order_design.id_category\n",
    "    LEFT JOIN\n",
    "    \tdesign ON design.id_design = order_design.id_design_finish\n",
    "    LEFT JOIN\n",
    "    \tcategory_design ON category_design.id_category_design = design.id_type\n",
    "    LEFT JOIN\n",
    "    \taddress_components ON address_components.address_componentable_id = order_design.id_order\n",
    "    LEFT JOIN \n",
    "        promo_code ON promo_code.id_promo = order_design.id_promo\n",
    "    WHERE \n",
    "    \torder_design.id_user > 249\n",
    "    AND\n",
    "    \torder_design.status NOT IN ('expired','new')\n",
    ") AS master_table\n",
    "GROUP BY nama_bulan\n",
    "ORDER BY created_at;\n",
    "\"\"\""
   ]
  },
  {
   "cell_type": "code",
   "execution_count": 38,
   "metadata": {},
   "outputs": [
    {
     "data": {
      "text/html": [
       "<div>\n",
       "<style scoped>\n",
       "    .dataframe tbody tr th:only-of-type {\n",
       "        vertical-align: middle;\n",
       "    }\n",
       "\n",
       "    .dataframe tbody tr th {\n",
       "        vertical-align: top;\n",
       "    }\n",
       "\n",
       "    .dataframe thead th {\n",
       "        text-align: right;\n",
       "    }\n",
       "</style>\n",
       "<table border=\"1\" class=\"dataframe\">\n",
       "  <thead>\n",
       "    <tr style=\"text-align: right;\">\n",
       "      <th></th>\n",
       "      <th>total_pendapatan</th>\n",
       "      <th>nama_bulan</th>\n",
       "    </tr>\n",
       "  </thead>\n",
       "  <tbody>\n",
       "    <tr>\n",
       "      <th>0</th>\n",
       "      <td>3274500.0</td>\n",
       "      <td>April</td>\n",
       "    </tr>\n",
       "    <tr>\n",
       "      <th>1</th>\n",
       "      <td>3191250.0</td>\n",
       "      <td>May</td>\n",
       "    </tr>\n",
       "    <tr>\n",
       "      <th>2</th>\n",
       "      <td>0.0</td>\n",
       "      <td>June</td>\n",
       "    </tr>\n",
       "    <tr>\n",
       "      <th>3</th>\n",
       "      <td>6675000.0</td>\n",
       "      <td>July</td>\n",
       "    </tr>\n",
       "    <tr>\n",
       "      <th>4</th>\n",
       "      <td>7250000.0</td>\n",
       "      <td>August</td>\n",
       "    </tr>\n",
       "    <tr>\n",
       "      <th>5</th>\n",
       "      <td>6610000.0</td>\n",
       "      <td>September</td>\n",
       "    </tr>\n",
       "    <tr>\n",
       "      <th>6</th>\n",
       "      <td>5143000.0</td>\n",
       "      <td>October</td>\n",
       "    </tr>\n",
       "    <tr>\n",
       "      <th>7</th>\n",
       "      <td>3670000.0</td>\n",
       "      <td>November</td>\n",
       "    </tr>\n",
       "  </tbody>\n",
       "</table>\n",
       "</div>"
      ],
      "text/plain": [
       "   total_pendapatan nama_bulan\n",
       "0         3274500.0      April\n",
       "1         3191250.0        May\n",
       "2               0.0       June\n",
       "3         6675000.0       July\n",
       "4         7250000.0     August\n",
       "5         6610000.0  September\n",
       "6         5143000.0    October\n",
       "7         3670000.0   November"
      ]
     },
     "execution_count": 38,
     "metadata": {},
     "output_type": "execute_result"
    }
   ],
   "source": [
    "pendapatan_per_bulan = fetch_data(host, port, user, passwd, databs, query_pendapatan_per_bulan)\n",
    "pendapatan_per_bulan"
   ]
  },
  {
   "cell_type": "code",
   "execution_count": 39,
   "metadata": {},
   "outputs": [
    {
     "data": {
      "application/vnd.plotly.v1+json": {
       "config": {
        "plotlyServerURL": "https://plot.ly"
       },
       "data": [
        {
         "hovertemplate": "nama_bulan=%{x}<br>total_pendapatan=%{y}<extra></extra>",
         "legendgroup": "",
         "line": {
          "color": "#636efa",
          "dash": "solid"
         },
         "marker": {
          "symbol": "circle"
         },
         "mode": "lines+markers",
         "name": "",
         "orientation": "v",
         "showlegend": false,
         "type": "scatter",
         "x": [
          "April",
          "May",
          "June",
          "July",
          "August",
          "September",
          "October",
          "November"
         ],
         "xaxis": "x",
         "y": [
          3274500,
          3191250,
          0,
          6675000,
          7250000,
          6610000,
          5143000,
          3670000
         ],
         "yaxis": "y"
        }
       ],
       "layout": {
        "legend": {
         "tracegroupgap": 0
        },
        "template": {
         "data": {
          "bar": [
           {
            "error_x": {
             "color": "#2a3f5f"
            },
            "error_y": {
             "color": "#2a3f5f"
            },
            "marker": {
             "line": {
              "color": "#E5ECF6",
              "width": 0.5
             },
             "pattern": {
              "fillmode": "overlay",
              "size": 10,
              "solidity": 0.2
             }
            },
            "type": "bar"
           }
          ],
          "barpolar": [
           {
            "marker": {
             "line": {
              "color": "#E5ECF6",
              "width": 0.5
             },
             "pattern": {
              "fillmode": "overlay",
              "size": 10,
              "solidity": 0.2
             }
            },
            "type": "barpolar"
           }
          ],
          "carpet": [
           {
            "aaxis": {
             "endlinecolor": "#2a3f5f",
             "gridcolor": "white",
             "linecolor": "white",
             "minorgridcolor": "white",
             "startlinecolor": "#2a3f5f"
            },
            "baxis": {
             "endlinecolor": "#2a3f5f",
             "gridcolor": "white",
             "linecolor": "white",
             "minorgridcolor": "white",
             "startlinecolor": "#2a3f5f"
            },
            "type": "carpet"
           }
          ],
          "choropleth": [
           {
            "colorbar": {
             "outlinewidth": 0,
             "ticks": ""
            },
            "type": "choropleth"
           }
          ],
          "contour": [
           {
            "colorbar": {
             "outlinewidth": 0,
             "ticks": ""
            },
            "colorscale": [
             [
              0,
              "#0d0887"
             ],
             [
              0.1111111111111111,
              "#46039f"
             ],
             [
              0.2222222222222222,
              "#7201a8"
             ],
             [
              0.3333333333333333,
              "#9c179e"
             ],
             [
              0.4444444444444444,
              "#bd3786"
             ],
             [
              0.5555555555555556,
              "#d8576b"
             ],
             [
              0.6666666666666666,
              "#ed7953"
             ],
             [
              0.7777777777777778,
              "#fb9f3a"
             ],
             [
              0.8888888888888888,
              "#fdca26"
             ],
             [
              1,
              "#f0f921"
             ]
            ],
            "type": "contour"
           }
          ],
          "contourcarpet": [
           {
            "colorbar": {
             "outlinewidth": 0,
             "ticks": ""
            },
            "type": "contourcarpet"
           }
          ],
          "heatmap": [
           {
            "colorbar": {
             "outlinewidth": 0,
             "ticks": ""
            },
            "colorscale": [
             [
              0,
              "#0d0887"
             ],
             [
              0.1111111111111111,
              "#46039f"
             ],
             [
              0.2222222222222222,
              "#7201a8"
             ],
             [
              0.3333333333333333,
              "#9c179e"
             ],
             [
              0.4444444444444444,
              "#bd3786"
             ],
             [
              0.5555555555555556,
              "#d8576b"
             ],
             [
              0.6666666666666666,
              "#ed7953"
             ],
             [
              0.7777777777777778,
              "#fb9f3a"
             ],
             [
              0.8888888888888888,
              "#fdca26"
             ],
             [
              1,
              "#f0f921"
             ]
            ],
            "type": "heatmap"
           }
          ],
          "heatmapgl": [
           {
            "colorbar": {
             "outlinewidth": 0,
             "ticks": ""
            },
            "colorscale": [
             [
              0,
              "#0d0887"
             ],
             [
              0.1111111111111111,
              "#46039f"
             ],
             [
              0.2222222222222222,
              "#7201a8"
             ],
             [
              0.3333333333333333,
              "#9c179e"
             ],
             [
              0.4444444444444444,
              "#bd3786"
             ],
             [
              0.5555555555555556,
              "#d8576b"
             ],
             [
              0.6666666666666666,
              "#ed7953"
             ],
             [
              0.7777777777777778,
              "#fb9f3a"
             ],
             [
              0.8888888888888888,
              "#fdca26"
             ],
             [
              1,
              "#f0f921"
             ]
            ],
            "type": "heatmapgl"
           }
          ],
          "histogram": [
           {
            "marker": {
             "pattern": {
              "fillmode": "overlay",
              "size": 10,
              "solidity": 0.2
             }
            },
            "type": "histogram"
           }
          ],
          "histogram2d": [
           {
            "colorbar": {
             "outlinewidth": 0,
             "ticks": ""
            },
            "colorscale": [
             [
              0,
              "#0d0887"
             ],
             [
              0.1111111111111111,
              "#46039f"
             ],
             [
              0.2222222222222222,
              "#7201a8"
             ],
             [
              0.3333333333333333,
              "#9c179e"
             ],
             [
              0.4444444444444444,
              "#bd3786"
             ],
             [
              0.5555555555555556,
              "#d8576b"
             ],
             [
              0.6666666666666666,
              "#ed7953"
             ],
             [
              0.7777777777777778,
              "#fb9f3a"
             ],
             [
              0.8888888888888888,
              "#fdca26"
             ],
             [
              1,
              "#f0f921"
             ]
            ],
            "type": "histogram2d"
           }
          ],
          "histogram2dcontour": [
           {
            "colorbar": {
             "outlinewidth": 0,
             "ticks": ""
            },
            "colorscale": [
             [
              0,
              "#0d0887"
             ],
             [
              0.1111111111111111,
              "#46039f"
             ],
             [
              0.2222222222222222,
              "#7201a8"
             ],
             [
              0.3333333333333333,
              "#9c179e"
             ],
             [
              0.4444444444444444,
              "#bd3786"
             ],
             [
              0.5555555555555556,
              "#d8576b"
             ],
             [
              0.6666666666666666,
              "#ed7953"
             ],
             [
              0.7777777777777778,
              "#fb9f3a"
             ],
             [
              0.8888888888888888,
              "#fdca26"
             ],
             [
              1,
              "#f0f921"
             ]
            ],
            "type": "histogram2dcontour"
           }
          ],
          "mesh3d": [
           {
            "colorbar": {
             "outlinewidth": 0,
             "ticks": ""
            },
            "type": "mesh3d"
           }
          ],
          "parcoords": [
           {
            "line": {
             "colorbar": {
              "outlinewidth": 0,
              "ticks": ""
             }
            },
            "type": "parcoords"
           }
          ],
          "pie": [
           {
            "automargin": true,
            "type": "pie"
           }
          ],
          "scatter": [
           {
            "fillpattern": {
             "fillmode": "overlay",
             "size": 10,
             "solidity": 0.2
            },
            "type": "scatter"
           }
          ],
          "scatter3d": [
           {
            "line": {
             "colorbar": {
              "outlinewidth": 0,
              "ticks": ""
             }
            },
            "marker": {
             "colorbar": {
              "outlinewidth": 0,
              "ticks": ""
             }
            },
            "type": "scatter3d"
           }
          ],
          "scattercarpet": [
           {
            "marker": {
             "colorbar": {
              "outlinewidth": 0,
              "ticks": ""
             }
            },
            "type": "scattercarpet"
           }
          ],
          "scattergeo": [
           {
            "marker": {
             "colorbar": {
              "outlinewidth": 0,
              "ticks": ""
             }
            },
            "type": "scattergeo"
           }
          ],
          "scattergl": [
           {
            "marker": {
             "colorbar": {
              "outlinewidth": 0,
              "ticks": ""
             }
            },
            "type": "scattergl"
           }
          ],
          "scattermapbox": [
           {
            "marker": {
             "colorbar": {
              "outlinewidth": 0,
              "ticks": ""
             }
            },
            "type": "scattermapbox"
           }
          ],
          "scatterpolar": [
           {
            "marker": {
             "colorbar": {
              "outlinewidth": 0,
              "ticks": ""
             }
            },
            "type": "scatterpolar"
           }
          ],
          "scatterpolargl": [
           {
            "marker": {
             "colorbar": {
              "outlinewidth": 0,
              "ticks": ""
             }
            },
            "type": "scatterpolargl"
           }
          ],
          "scatterternary": [
           {
            "marker": {
             "colorbar": {
              "outlinewidth": 0,
              "ticks": ""
             }
            },
            "type": "scatterternary"
           }
          ],
          "surface": [
           {
            "colorbar": {
             "outlinewidth": 0,
             "ticks": ""
            },
            "colorscale": [
             [
              0,
              "#0d0887"
             ],
             [
              0.1111111111111111,
              "#46039f"
             ],
             [
              0.2222222222222222,
              "#7201a8"
             ],
             [
              0.3333333333333333,
              "#9c179e"
             ],
             [
              0.4444444444444444,
              "#bd3786"
             ],
             [
              0.5555555555555556,
              "#d8576b"
             ],
             [
              0.6666666666666666,
              "#ed7953"
             ],
             [
              0.7777777777777778,
              "#fb9f3a"
             ],
             [
              0.8888888888888888,
              "#fdca26"
             ],
             [
              1,
              "#f0f921"
             ]
            ],
            "type": "surface"
           }
          ],
          "table": [
           {
            "cells": {
             "fill": {
              "color": "#EBF0F8"
             },
             "line": {
              "color": "white"
             }
            },
            "header": {
             "fill": {
              "color": "#C8D4E3"
             },
             "line": {
              "color": "white"
             }
            },
            "type": "table"
           }
          ]
         },
         "layout": {
          "annotationdefaults": {
           "arrowcolor": "#2a3f5f",
           "arrowhead": 0,
           "arrowwidth": 1
          },
          "autotypenumbers": "strict",
          "coloraxis": {
           "colorbar": {
            "outlinewidth": 0,
            "ticks": ""
           }
          },
          "colorscale": {
           "diverging": [
            [
             0,
             "#8e0152"
            ],
            [
             0.1,
             "#c51b7d"
            ],
            [
             0.2,
             "#de77ae"
            ],
            [
             0.3,
             "#f1b6da"
            ],
            [
             0.4,
             "#fde0ef"
            ],
            [
             0.5,
             "#f7f7f7"
            ],
            [
             0.6,
             "#e6f5d0"
            ],
            [
             0.7,
             "#b8e186"
            ],
            [
             0.8,
             "#7fbc41"
            ],
            [
             0.9,
             "#4d9221"
            ],
            [
             1,
             "#276419"
            ]
           ],
           "sequential": [
            [
             0,
             "#0d0887"
            ],
            [
             0.1111111111111111,
             "#46039f"
            ],
            [
             0.2222222222222222,
             "#7201a8"
            ],
            [
             0.3333333333333333,
             "#9c179e"
            ],
            [
             0.4444444444444444,
             "#bd3786"
            ],
            [
             0.5555555555555556,
             "#d8576b"
            ],
            [
             0.6666666666666666,
             "#ed7953"
            ],
            [
             0.7777777777777778,
             "#fb9f3a"
            ],
            [
             0.8888888888888888,
             "#fdca26"
            ],
            [
             1,
             "#f0f921"
            ]
           ],
           "sequentialminus": [
            [
             0,
             "#0d0887"
            ],
            [
             0.1111111111111111,
             "#46039f"
            ],
            [
             0.2222222222222222,
             "#7201a8"
            ],
            [
             0.3333333333333333,
             "#9c179e"
            ],
            [
             0.4444444444444444,
             "#bd3786"
            ],
            [
             0.5555555555555556,
             "#d8576b"
            ],
            [
             0.6666666666666666,
             "#ed7953"
            ],
            [
             0.7777777777777778,
             "#fb9f3a"
            ],
            [
             0.8888888888888888,
             "#fdca26"
            ],
            [
             1,
             "#f0f921"
            ]
           ]
          },
          "colorway": [
           "#636efa",
           "#EF553B",
           "#00cc96",
           "#ab63fa",
           "#FFA15A",
           "#19d3f3",
           "#FF6692",
           "#B6E880",
           "#FF97FF",
           "#FECB52"
          ],
          "font": {
           "color": "#2a3f5f"
          },
          "geo": {
           "bgcolor": "white",
           "lakecolor": "white",
           "landcolor": "#E5ECF6",
           "showlakes": true,
           "showland": true,
           "subunitcolor": "white"
          },
          "hoverlabel": {
           "align": "left"
          },
          "hovermode": "closest",
          "mapbox": {
           "style": "light"
          },
          "paper_bgcolor": "white",
          "plot_bgcolor": "#E5ECF6",
          "polar": {
           "angularaxis": {
            "gridcolor": "white",
            "linecolor": "white",
            "ticks": ""
           },
           "bgcolor": "#E5ECF6",
           "radialaxis": {
            "gridcolor": "white",
            "linecolor": "white",
            "ticks": ""
           }
          },
          "scene": {
           "xaxis": {
            "backgroundcolor": "#E5ECF6",
            "gridcolor": "white",
            "gridwidth": 2,
            "linecolor": "white",
            "showbackground": true,
            "ticks": "",
            "zerolinecolor": "white"
           },
           "yaxis": {
            "backgroundcolor": "#E5ECF6",
            "gridcolor": "white",
            "gridwidth": 2,
            "linecolor": "white",
            "showbackground": true,
            "ticks": "",
            "zerolinecolor": "white"
           },
           "zaxis": {
            "backgroundcolor": "#E5ECF6",
            "gridcolor": "white",
            "gridwidth": 2,
            "linecolor": "white",
            "showbackground": true,
            "ticks": "",
            "zerolinecolor": "white"
           }
          },
          "shapedefaults": {
           "line": {
            "color": "#2a3f5f"
           }
          },
          "ternary": {
           "aaxis": {
            "gridcolor": "white",
            "linecolor": "white",
            "ticks": ""
           },
           "baxis": {
            "gridcolor": "white",
            "linecolor": "white",
            "ticks": ""
           },
           "bgcolor": "#E5ECF6",
           "caxis": {
            "gridcolor": "white",
            "linecolor": "white",
            "ticks": ""
           }
          },
          "title": {
           "x": 0.05
          },
          "xaxis": {
           "automargin": true,
           "gridcolor": "white",
           "linecolor": "white",
           "ticks": "",
           "title": {
            "standoff": 15
           },
           "zerolinecolor": "white",
           "zerolinewidth": 2
          },
          "yaxis": {
           "automargin": true,
           "gridcolor": "white",
           "linecolor": "white",
           "ticks": "",
           "title": {
            "standoff": 15
           },
           "zerolinecolor": "white",
           "zerolinewidth": 2
          }
         }
        },
        "title": {
         "text": "Total Pendapatan Berdasarkan Bulan"
        },
        "xaxis": {
         "anchor": "y",
         "domain": [
          0,
          1
         ],
         "title": {
          "text": "Nama Bulan"
         }
        },
        "yaxis": {
         "anchor": "x",
         "domain": [
          0,
          1
         ],
         "title": {
          "text": "Total Pendapatan"
         }
        }
       }
      }
     },
     "metadata": {},
     "output_type": "display_data"
    }
   ],
   "source": [
    "import plotly.express as px # plotly\n",
    "fig = px.line(pendapatan_per_bulan, x=\"nama_bulan\", y=\"total_pendapatan\", title=\"Total Pendapatan Berdasarkan Bulan\", markers=True)\n",
    "fig.update_xaxes(title=\"Nama Bulan\")\n",
    "fig.update_yaxes(title=\"Total Pendapatan\")\n",
    "fig.show()"
   ]
  },
  {
   "cell_type": "markdown",
   "metadata": {},
   "source": [
    "Berdasarkan grafik tersebut, bulan `Juni` tidak ada pendapatan sama sekali (*Rp 0*), kami sudah konfirmasi bahwa benar tidak ada pendapatan pada bulan tersebut. Tren dari bulan `April` hingga `Juni` menurun. Kemudian dari bulan `Juni` hingga `Agustus` meningkat. Selanjutnya dari bulan `Agustus` hingga `November` kembali menurun. Puncak pendapatan tertinggi ada pada bulan `Agustus` yaitu *Rp 7.250.000*"
   ]
  },
  {
   "cell_type": "markdown",
   "metadata": {},
   "source": [
    "#### Pendapatan Berdasarkan Provinsi"
   ]
  },
  {
   "cell_type": "code",
   "execution_count": 43,
   "metadata": {},
   "outputs": [],
   "source": [
    "query_pendapatan_per_provinsi= \"\"\"  \n",
    "SELECT\n",
    "    province AS provinsi,\n",
    "    sum(price) AS total_pendapatan\n",
    "FROM (\n",
    "\tSELECT \n",
    "    order_design.id_order,\n",
    "    order_design.id_user,\n",
    "    category_size.id_category,\n",
    "    order_design.id_design_finish,\n",
    "    category_design.id_category_design,\n",
    "    user.name AS user_name,\n",
    "    user.status AS user_status,\n",
    "    design.design_name,\n",
    "    design.status AS design_status,\n",
    "    CASE\n",
    "    \tWHEN category_size.id_category = 1 THEN '< 10m^2'\n",
    "\t\tWHEN category_size.id_category = 2 THEN '11 - 20m^2'\n",
    "   \t\tWHEN category_size.id_category = 3 THEN '21 - 30m^2'\n",
    "   \t\tWHEN category_size.id_category = 4 THEN '31 - 40m^2'\n",
    "   \t\tWHEN category_size.id_category = 5 THEN '41 - 50m^2'\n",
    "   \t\tELSE '> 50m^2'\n",
    "   \tEND AS category_size,\n",
    "   \tcategory_design.name AS category_name,\n",
    "   \torder_design.status AS order_status,\n",
    "   \torder_design.price,\n",
    "   \tpromo_code.code AS promo_code,\n",
    "   \tpromo_code.valid_from,\n",
    "   \tpromo_code.valid_until,\n",
    "   \torder_design.created_at,\n",
    "   \torder_design.updated_at,\n",
    "    CASE\n",
    "    \tWHEN address_components.administrative_area_level_1 IN ('Daerah Khusus Ibukota Jakarta','Jakarta') THEN 'Daerah Khusus Ibukota Jakarta'\n",
    "        WHEN address_components.administrative_area_level_1 = 'Banten' THEN 'Banten'\n",
    "        WHEN address_components.administrative_area_level_1 IN ('Jawa Barat', 'West Java') THEN 'Jawa Barat'\n",
    "        WHEN address_components.administrative_area_level_1 IN ('Jawa Timur', 'East Java') THEN 'Jawa Timur'\n",
    "        WHEN address_components.administrative_area_level_1 = 'Bali' THEN 'Bali'\n",
    "        WHEN address_components.administrative_area_level_1 = 'Sulawesi Selatan' THEN 'Sulawesi Selatan'\n",
    "        WHEN address_components.administrative_area_level_1 IN ('Sumatera Utara', 'North Sumatra') THEN 'Sumatera Utara'\n",
    "        WHEN address_components.administrative_area_level_1 IN ('Jawa Tengah', 'Central Java') THEN 'Jawa Tengah'\n",
    "        WHEN address_components.administrative_area_level_1 = 'Daerah Istimewa Yogyakarta' THEN 'Daerah Istimewa Yogyakarta'\n",
    "        WHEN address_components.administrative_area_level_1 = 'Jambi' THEN 'Jambi'\n",
    "        WHEN address_components.administrative_area_level_1 = 'Lampung' THEN 'Lampung'\n",
    "        WHEN address_components.administrative_area_level_1 = 'Aceh' THEN 'Aceh'\n",
    "        WHEN address_components.administrative_area_level_1 IN ('Sumatera Barat', 'West Sumatra') THEN 'Sumatera Barat'\n",
    "        WHEN address_components.administrative_area_level_1 = 'Federal District' THEN 'Federal District'\n",
    "        WHEN address_components.administrative_area_level_1 = '' OR address_components.administrative_area_level_1 IS NULL THEN 'Unknown Location'\n",
    "        ELSE address_components.administrative_area_level_1\n",
    "  \tEND AS province,\n",
    "    CASE\n",
    "        WHEN address_components.administrative_area_level_2 IN ('Badung', 'Badung Regency') THEN 'Badung'\n",
    "        WHEN address_components.administrative_area_level_2 IN ('Bandung', 'Bandung Regency') THEN 'Bandung'\n",
    "        WHEN address_components.administrative_area_level_2 IN ('Banyumas', 'Banyumas Regency') THEN 'Banyumas'\n",
    "        WHEN address_components.administrative_area_level_2 IN ('Bekasi', 'Bekasi Regency') THEN 'Bekasi'\n",
    "        WHEN address_components.administrative_area_level_2 IN ('Bogor', 'Bogor Regency') THEN 'Bogor'\n",
    "        WHEN address_components.administrative_area_level_2 IN ('Central Jakarta City', 'Jakarta Pusat') THEN 'Jakarta Pusat'\n",
    "        WHEN address_components.administrative_area_level_2 IN ('Ciamis', 'Ciamis Regency') THEN 'Ciamis'\n",
    "        WHEN address_components.administrative_area_level_2 IN ('Cimahi', 'Cimahi City') THEN 'Cimahi'\n",
    "        WHEN address_components.administrative_area_level_2 IN ('Deli Serdang', 'Deli Serdang Regency') THEN 'Deli Serdang'\n",
    "        WHEN address_components.administrative_area_level_2 IN ('Depok', 'Depok City') THEN 'Depok'\n",
    "        WHEN address_components.administrative_area_level_2 IN ('East Jakarta City', 'Jakarta Timur') THEN 'Jakarta Timur'\n",
    "        WHEN address_components.administrative_area_level_2 IN ('Jakarta Barat', 'West Jakarta City') THEN 'Jakarta Barat'\n",
    "        WHEN address_components.administrative_area_level_2 IN ('Jakarta Selatan', 'South Jakarta City') THEN 'Jakarta Selatan'\n",
    "        WHEN address_components.administrative_area_level_2 IN ('Jakarta Utara', 'North Jakarta City') THEN 'Jakarta Utara'\n",
    "        WHEN address_components.administrative_area_level_2 IN ('Jember', 'Jember Regency') THEN 'Jember'\n",
    "        WHEN address_components.administrative_area_level_2 IN ('Klungkung', 'Klungkung Regency') THEN 'Klungkung'\n",
    "        WHEN address_components.administrative_area_level_2 IN ('Pringsewu', 'Pringsewu Regency') THEN 'Pringsewu'\n",
    "        WHEN address_components.administrative_area_level_2 IN ('Sukabumi', 'Sukabumi City') THEN 'Sukabumi'\n",
    "        WHEN address_components.administrative_area_level_2 IN ('Tangerang', 'Tangerang City', 'Tangerang Regency') THEN 'Tangerang'\n",
    "        WHEN address_components.administrative_area_level_2 IN ('Tangerang Selatan', 'South Tangerang City') THEN 'Tangerang Selatan'\n",
    "        WHEN address_components.administrative_area_level_2 IN ('West Bandung', 'West Bandung Regency') THEN 'Bandung Barat'\n",
    "        WHEN address_components.administrative_area_level_2 = ' ' THEN 'Unknown City'\n",
    "        ELSE address_components.administrative_area_level_2\n",
    "    END AS city,\n",
    "    CASE\n",
    "        WHEN address_components.administrative_area_level_3 IN ('South Kuta') THEN 'Kuta Selatan'\n",
    "        WHEN address_components.administrative_area_level_3 = ' ' THEN 'Unknown District'\n",
    "        ELSE address_components.administrative_area_level_3\n",
    "    END AS district\n",
    "    FROM\n",
    "    \torder_design\n",
    "    LEFT JOIN\n",
    "    \tuser ON user.id_user = order_design.id_designer\n",
    "    LEFT JOIN\n",
    "    \tcategory_size ON category_size.id_category = order_design.id_category\n",
    "    LEFT JOIN\n",
    "    \tdesign ON design.id_design = order_design.id_design_finish\n",
    "    LEFT JOIN\n",
    "    \tcategory_design ON category_design.id_category_design = design.id_type\n",
    "    LEFT JOIN\n",
    "    \taddress_components ON address_components.address_componentable_id = order_design.id_order\n",
    "    LEFT JOIN \n",
    "        promo_code ON promo_code.id_promo = order_design.id_promo\n",
    "    WHERE \n",
    "    \torder_design.id_user > 249\n",
    "    AND\n",
    "    \torder_design.status NOT IN ('expired','new')\n",
    "    AND \n",
    "\t    address_componentable_type like '%OrderDesign%'\n",
    ") AS master_table\n",
    "GROUP BY \n",
    "\tprovinsi\n",
    "ORDER BY \n",
    "\ttotal_pendapatan DESC;\n",
    "\"\"\""
   ]
  },
  {
   "cell_type": "code",
   "execution_count": 44,
   "metadata": {},
   "outputs": [
    {
     "data": {
      "text/html": [
       "<div>\n",
       "<style scoped>\n",
       "    .dataframe tbody tr th:only-of-type {\n",
       "        vertical-align: middle;\n",
       "    }\n",
       "\n",
       "    .dataframe tbody tr th {\n",
       "        vertical-align: top;\n",
       "    }\n",
       "\n",
       "    .dataframe thead th {\n",
       "        text-align: right;\n",
       "    }\n",
       "</style>\n",
       "<table border=\"1\" class=\"dataframe\">\n",
       "  <thead>\n",
       "    <tr style=\"text-align: right;\">\n",
       "      <th></th>\n",
       "      <th>provinsi</th>\n",
       "      <th>total_pendapatan</th>\n",
       "    </tr>\n",
       "  </thead>\n",
       "  <tbody>\n",
       "    <tr>\n",
       "      <th>0</th>\n",
       "      <td>Jawa Barat</td>\n",
       "      <td>5321750.0</td>\n",
       "    </tr>\n",
       "    <tr>\n",
       "      <th>1</th>\n",
       "      <td>Daerah Khusus Ibukota Jakarta</td>\n",
       "      <td>4900500.0</td>\n",
       "    </tr>\n",
       "    <tr>\n",
       "      <th>2</th>\n",
       "      <td>Banten</td>\n",
       "      <td>1872000.0</td>\n",
       "    </tr>\n",
       "    <tr>\n",
       "      <th>3</th>\n",
       "      <td>Sumatera Utara</td>\n",
       "      <td>1350000.0</td>\n",
       "    </tr>\n",
       "    <tr>\n",
       "      <th>4</th>\n",
       "      <td>Jawa Timur</td>\n",
       "      <td>873000.0</td>\n",
       "    </tr>\n",
       "    <tr>\n",
       "      <th>5</th>\n",
       "      <td>Federal District</td>\n",
       "      <td>540000.0</td>\n",
       "    </tr>\n",
       "    <tr>\n",
       "      <th>6</th>\n",
       "      <td>Jambi</td>\n",
       "      <td>450000.0</td>\n",
       "    </tr>\n",
       "    <tr>\n",
       "      <th>7</th>\n",
       "      <td>Unknown Location</td>\n",
       "      <td>388500.0</td>\n",
       "    </tr>\n",
       "    <tr>\n",
       "      <th>8</th>\n",
       "      <td>Bali</td>\n",
       "      <td>250000.0</td>\n",
       "    </tr>\n",
       "    <tr>\n",
       "      <th>9</th>\n",
       "      <td>Sumatera Barat</td>\n",
       "      <td>0.0</td>\n",
       "    </tr>\n",
       "    <tr>\n",
       "      <th>10</th>\n",
       "      <td>Daerah Istimewa Yogyakarta</td>\n",
       "      <td>0.0</td>\n",
       "    </tr>\n",
       "    <tr>\n",
       "      <th>11</th>\n",
       "      <td>Jawa Tengah</td>\n",
       "      <td>0.0</td>\n",
       "    </tr>\n",
       "    <tr>\n",
       "      <th>12</th>\n",
       "      <td>Lampung</td>\n",
       "      <td>0.0</td>\n",
       "    </tr>\n",
       "    <tr>\n",
       "      <th>13</th>\n",
       "      <td>Sulawesi Selatan</td>\n",
       "      <td>0.0</td>\n",
       "    </tr>\n",
       "  </tbody>\n",
       "</table>\n",
       "</div>"
      ],
      "text/plain": [
       "                         provinsi  total_pendapatan\n",
       "0                      Jawa Barat         5321750.0\n",
       "1   Daerah Khusus Ibukota Jakarta         4900500.0\n",
       "2                          Banten         1872000.0\n",
       "3                  Sumatera Utara         1350000.0\n",
       "4                      Jawa Timur          873000.0\n",
       "5                Federal District          540000.0\n",
       "6                           Jambi          450000.0\n",
       "7                Unknown Location          388500.0\n",
       "8                            Bali          250000.0\n",
       "9                  Sumatera Barat               0.0\n",
       "10     Daerah Istimewa Yogyakarta               0.0\n",
       "11                    Jawa Tengah               0.0\n",
       "12                        Lampung               0.0\n",
       "13               Sulawesi Selatan               0.0"
      ]
     },
     "execution_count": 44,
     "metadata": {},
     "output_type": "execute_result"
    }
   ],
   "source": [
    "pendapatan_per_provinsi = fetch_data(host, port, user, passwd, databs, query_pendapatan_per_provinsi)\n",
    "pendapatan_per_provinsi"
   ]
  },
  {
   "cell_type": "code",
   "execution_count": 45,
   "metadata": {},
   "outputs": [
    {
     "data": {
      "application/vnd.plotly.v1+json": {
       "config": {
        "plotlyServerURL": "https://plot.ly"
       },
       "data": [
        {
         "alignmentgroup": "True",
         "hovertemplate": "provinsi=%{x}<br>total_pendapatan=%{y}<extra></extra>",
         "legendgroup": "",
         "marker": {
          "color": "#636efa",
          "pattern": {
           "shape": ""
          }
         },
         "name": "",
         "offsetgroup": "",
         "orientation": "v",
         "showlegend": false,
         "textposition": "auto",
         "type": "bar",
         "x": [
          "Jawa Barat",
          "Daerah Khusus Ibukota Jakarta",
          "Banten",
          "Sumatera Utara",
          "Jawa Timur",
          "Federal District",
          "Jambi",
          "Unknown Location",
          "Bali",
          "Sumatera Barat",
          "Daerah Istimewa Yogyakarta",
          "Jawa Tengah",
          "Lampung",
          "Sulawesi Selatan"
         ],
         "xaxis": "x",
         "y": [
          5321750,
          4900500,
          1872000,
          1350000,
          873000,
          540000,
          450000,
          388500,
          250000,
          0,
          0,
          0,
          0,
          0
         ],
         "yaxis": "y"
        }
       ],
       "layout": {
        "barmode": "relative",
        "legend": {
         "tracegroupgap": 0
        },
        "template": {
         "data": {
          "bar": [
           {
            "error_x": {
             "color": "#2a3f5f"
            },
            "error_y": {
             "color": "#2a3f5f"
            },
            "marker": {
             "line": {
              "color": "#E5ECF6",
              "width": 0.5
             },
             "pattern": {
              "fillmode": "overlay",
              "size": 10,
              "solidity": 0.2
             }
            },
            "type": "bar"
           }
          ],
          "barpolar": [
           {
            "marker": {
             "line": {
              "color": "#E5ECF6",
              "width": 0.5
             },
             "pattern": {
              "fillmode": "overlay",
              "size": 10,
              "solidity": 0.2
             }
            },
            "type": "barpolar"
           }
          ],
          "carpet": [
           {
            "aaxis": {
             "endlinecolor": "#2a3f5f",
             "gridcolor": "white",
             "linecolor": "white",
             "minorgridcolor": "white",
             "startlinecolor": "#2a3f5f"
            },
            "baxis": {
             "endlinecolor": "#2a3f5f",
             "gridcolor": "white",
             "linecolor": "white",
             "minorgridcolor": "white",
             "startlinecolor": "#2a3f5f"
            },
            "type": "carpet"
           }
          ],
          "choropleth": [
           {
            "colorbar": {
             "outlinewidth": 0,
             "ticks": ""
            },
            "type": "choropleth"
           }
          ],
          "contour": [
           {
            "colorbar": {
             "outlinewidth": 0,
             "ticks": ""
            },
            "colorscale": [
             [
              0,
              "#0d0887"
             ],
             [
              0.1111111111111111,
              "#46039f"
             ],
             [
              0.2222222222222222,
              "#7201a8"
             ],
             [
              0.3333333333333333,
              "#9c179e"
             ],
             [
              0.4444444444444444,
              "#bd3786"
             ],
             [
              0.5555555555555556,
              "#d8576b"
             ],
             [
              0.6666666666666666,
              "#ed7953"
             ],
             [
              0.7777777777777778,
              "#fb9f3a"
             ],
             [
              0.8888888888888888,
              "#fdca26"
             ],
             [
              1,
              "#f0f921"
             ]
            ],
            "type": "contour"
           }
          ],
          "contourcarpet": [
           {
            "colorbar": {
             "outlinewidth": 0,
             "ticks": ""
            },
            "type": "contourcarpet"
           }
          ],
          "heatmap": [
           {
            "colorbar": {
             "outlinewidth": 0,
             "ticks": ""
            },
            "colorscale": [
             [
              0,
              "#0d0887"
             ],
             [
              0.1111111111111111,
              "#46039f"
             ],
             [
              0.2222222222222222,
              "#7201a8"
             ],
             [
              0.3333333333333333,
              "#9c179e"
             ],
             [
              0.4444444444444444,
              "#bd3786"
             ],
             [
              0.5555555555555556,
              "#d8576b"
             ],
             [
              0.6666666666666666,
              "#ed7953"
             ],
             [
              0.7777777777777778,
              "#fb9f3a"
             ],
             [
              0.8888888888888888,
              "#fdca26"
             ],
             [
              1,
              "#f0f921"
             ]
            ],
            "type": "heatmap"
           }
          ],
          "heatmapgl": [
           {
            "colorbar": {
             "outlinewidth": 0,
             "ticks": ""
            },
            "colorscale": [
             [
              0,
              "#0d0887"
             ],
             [
              0.1111111111111111,
              "#46039f"
             ],
             [
              0.2222222222222222,
              "#7201a8"
             ],
             [
              0.3333333333333333,
              "#9c179e"
             ],
             [
              0.4444444444444444,
              "#bd3786"
             ],
             [
              0.5555555555555556,
              "#d8576b"
             ],
             [
              0.6666666666666666,
              "#ed7953"
             ],
             [
              0.7777777777777778,
              "#fb9f3a"
             ],
             [
              0.8888888888888888,
              "#fdca26"
             ],
             [
              1,
              "#f0f921"
             ]
            ],
            "type": "heatmapgl"
           }
          ],
          "histogram": [
           {
            "marker": {
             "pattern": {
              "fillmode": "overlay",
              "size": 10,
              "solidity": 0.2
             }
            },
            "type": "histogram"
           }
          ],
          "histogram2d": [
           {
            "colorbar": {
             "outlinewidth": 0,
             "ticks": ""
            },
            "colorscale": [
             [
              0,
              "#0d0887"
             ],
             [
              0.1111111111111111,
              "#46039f"
             ],
             [
              0.2222222222222222,
              "#7201a8"
             ],
             [
              0.3333333333333333,
              "#9c179e"
             ],
             [
              0.4444444444444444,
              "#bd3786"
             ],
             [
              0.5555555555555556,
              "#d8576b"
             ],
             [
              0.6666666666666666,
              "#ed7953"
             ],
             [
              0.7777777777777778,
              "#fb9f3a"
             ],
             [
              0.8888888888888888,
              "#fdca26"
             ],
             [
              1,
              "#f0f921"
             ]
            ],
            "type": "histogram2d"
           }
          ],
          "histogram2dcontour": [
           {
            "colorbar": {
             "outlinewidth": 0,
             "ticks": ""
            },
            "colorscale": [
             [
              0,
              "#0d0887"
             ],
             [
              0.1111111111111111,
              "#46039f"
             ],
             [
              0.2222222222222222,
              "#7201a8"
             ],
             [
              0.3333333333333333,
              "#9c179e"
             ],
             [
              0.4444444444444444,
              "#bd3786"
             ],
             [
              0.5555555555555556,
              "#d8576b"
             ],
             [
              0.6666666666666666,
              "#ed7953"
             ],
             [
              0.7777777777777778,
              "#fb9f3a"
             ],
             [
              0.8888888888888888,
              "#fdca26"
             ],
             [
              1,
              "#f0f921"
             ]
            ],
            "type": "histogram2dcontour"
           }
          ],
          "mesh3d": [
           {
            "colorbar": {
             "outlinewidth": 0,
             "ticks": ""
            },
            "type": "mesh3d"
           }
          ],
          "parcoords": [
           {
            "line": {
             "colorbar": {
              "outlinewidth": 0,
              "ticks": ""
             }
            },
            "type": "parcoords"
           }
          ],
          "pie": [
           {
            "automargin": true,
            "type": "pie"
           }
          ],
          "scatter": [
           {
            "fillpattern": {
             "fillmode": "overlay",
             "size": 10,
             "solidity": 0.2
            },
            "type": "scatter"
           }
          ],
          "scatter3d": [
           {
            "line": {
             "colorbar": {
              "outlinewidth": 0,
              "ticks": ""
             }
            },
            "marker": {
             "colorbar": {
              "outlinewidth": 0,
              "ticks": ""
             }
            },
            "type": "scatter3d"
           }
          ],
          "scattercarpet": [
           {
            "marker": {
             "colorbar": {
              "outlinewidth": 0,
              "ticks": ""
             }
            },
            "type": "scattercarpet"
           }
          ],
          "scattergeo": [
           {
            "marker": {
             "colorbar": {
              "outlinewidth": 0,
              "ticks": ""
             }
            },
            "type": "scattergeo"
           }
          ],
          "scattergl": [
           {
            "marker": {
             "colorbar": {
              "outlinewidth": 0,
              "ticks": ""
             }
            },
            "type": "scattergl"
           }
          ],
          "scattermapbox": [
           {
            "marker": {
             "colorbar": {
              "outlinewidth": 0,
              "ticks": ""
             }
            },
            "type": "scattermapbox"
           }
          ],
          "scatterpolar": [
           {
            "marker": {
             "colorbar": {
              "outlinewidth": 0,
              "ticks": ""
             }
            },
            "type": "scatterpolar"
           }
          ],
          "scatterpolargl": [
           {
            "marker": {
             "colorbar": {
              "outlinewidth": 0,
              "ticks": ""
             }
            },
            "type": "scatterpolargl"
           }
          ],
          "scatterternary": [
           {
            "marker": {
             "colorbar": {
              "outlinewidth": 0,
              "ticks": ""
             }
            },
            "type": "scatterternary"
           }
          ],
          "surface": [
           {
            "colorbar": {
             "outlinewidth": 0,
             "ticks": ""
            },
            "colorscale": [
             [
              0,
              "#0d0887"
             ],
             [
              0.1111111111111111,
              "#46039f"
             ],
             [
              0.2222222222222222,
              "#7201a8"
             ],
             [
              0.3333333333333333,
              "#9c179e"
             ],
             [
              0.4444444444444444,
              "#bd3786"
             ],
             [
              0.5555555555555556,
              "#d8576b"
             ],
             [
              0.6666666666666666,
              "#ed7953"
             ],
             [
              0.7777777777777778,
              "#fb9f3a"
             ],
             [
              0.8888888888888888,
              "#fdca26"
             ],
             [
              1,
              "#f0f921"
             ]
            ],
            "type": "surface"
           }
          ],
          "table": [
           {
            "cells": {
             "fill": {
              "color": "#EBF0F8"
             },
             "line": {
              "color": "white"
             }
            },
            "header": {
             "fill": {
              "color": "#C8D4E3"
             },
             "line": {
              "color": "white"
             }
            },
            "type": "table"
           }
          ]
         },
         "layout": {
          "annotationdefaults": {
           "arrowcolor": "#2a3f5f",
           "arrowhead": 0,
           "arrowwidth": 1
          },
          "autotypenumbers": "strict",
          "coloraxis": {
           "colorbar": {
            "outlinewidth": 0,
            "ticks": ""
           }
          },
          "colorscale": {
           "diverging": [
            [
             0,
             "#8e0152"
            ],
            [
             0.1,
             "#c51b7d"
            ],
            [
             0.2,
             "#de77ae"
            ],
            [
             0.3,
             "#f1b6da"
            ],
            [
             0.4,
             "#fde0ef"
            ],
            [
             0.5,
             "#f7f7f7"
            ],
            [
             0.6,
             "#e6f5d0"
            ],
            [
             0.7,
             "#b8e186"
            ],
            [
             0.8,
             "#7fbc41"
            ],
            [
             0.9,
             "#4d9221"
            ],
            [
             1,
             "#276419"
            ]
           ],
           "sequential": [
            [
             0,
             "#0d0887"
            ],
            [
             0.1111111111111111,
             "#46039f"
            ],
            [
             0.2222222222222222,
             "#7201a8"
            ],
            [
             0.3333333333333333,
             "#9c179e"
            ],
            [
             0.4444444444444444,
             "#bd3786"
            ],
            [
             0.5555555555555556,
             "#d8576b"
            ],
            [
             0.6666666666666666,
             "#ed7953"
            ],
            [
             0.7777777777777778,
             "#fb9f3a"
            ],
            [
             0.8888888888888888,
             "#fdca26"
            ],
            [
             1,
             "#f0f921"
            ]
           ],
           "sequentialminus": [
            [
             0,
             "#0d0887"
            ],
            [
             0.1111111111111111,
             "#46039f"
            ],
            [
             0.2222222222222222,
             "#7201a8"
            ],
            [
             0.3333333333333333,
             "#9c179e"
            ],
            [
             0.4444444444444444,
             "#bd3786"
            ],
            [
             0.5555555555555556,
             "#d8576b"
            ],
            [
             0.6666666666666666,
             "#ed7953"
            ],
            [
             0.7777777777777778,
             "#fb9f3a"
            ],
            [
             0.8888888888888888,
             "#fdca26"
            ],
            [
             1,
             "#f0f921"
            ]
           ]
          },
          "colorway": [
           "#636efa",
           "#EF553B",
           "#00cc96",
           "#ab63fa",
           "#FFA15A",
           "#19d3f3",
           "#FF6692",
           "#B6E880",
           "#FF97FF",
           "#FECB52"
          ],
          "font": {
           "color": "#2a3f5f"
          },
          "geo": {
           "bgcolor": "white",
           "lakecolor": "white",
           "landcolor": "#E5ECF6",
           "showlakes": true,
           "showland": true,
           "subunitcolor": "white"
          },
          "hoverlabel": {
           "align": "left"
          },
          "hovermode": "closest",
          "mapbox": {
           "style": "light"
          },
          "paper_bgcolor": "white",
          "plot_bgcolor": "#E5ECF6",
          "polar": {
           "angularaxis": {
            "gridcolor": "white",
            "linecolor": "white",
            "ticks": ""
           },
           "bgcolor": "#E5ECF6",
           "radialaxis": {
            "gridcolor": "white",
            "linecolor": "white",
            "ticks": ""
           }
          },
          "scene": {
           "xaxis": {
            "backgroundcolor": "#E5ECF6",
            "gridcolor": "white",
            "gridwidth": 2,
            "linecolor": "white",
            "showbackground": true,
            "ticks": "",
            "zerolinecolor": "white"
           },
           "yaxis": {
            "backgroundcolor": "#E5ECF6",
            "gridcolor": "white",
            "gridwidth": 2,
            "linecolor": "white",
            "showbackground": true,
            "ticks": "",
            "zerolinecolor": "white"
           },
           "zaxis": {
            "backgroundcolor": "#E5ECF6",
            "gridcolor": "white",
            "gridwidth": 2,
            "linecolor": "white",
            "showbackground": true,
            "ticks": "",
            "zerolinecolor": "white"
           }
          },
          "shapedefaults": {
           "line": {
            "color": "#2a3f5f"
           }
          },
          "ternary": {
           "aaxis": {
            "gridcolor": "white",
            "linecolor": "white",
            "ticks": ""
           },
           "baxis": {
            "gridcolor": "white",
            "linecolor": "white",
            "ticks": ""
           },
           "bgcolor": "#E5ECF6",
           "caxis": {
            "gridcolor": "white",
            "linecolor": "white",
            "ticks": ""
           }
          },
          "title": {
           "x": 0.05
          },
          "xaxis": {
           "automargin": true,
           "gridcolor": "white",
           "linecolor": "white",
           "ticks": "",
           "title": {
            "standoff": 15
           },
           "zerolinecolor": "white",
           "zerolinewidth": 2
          },
          "yaxis": {
           "automargin": true,
           "gridcolor": "white",
           "linecolor": "white",
           "ticks": "",
           "title": {
            "standoff": 15
           },
           "zerolinecolor": "white",
           "zerolinewidth": 2
          }
         }
        },
        "title": {
         "text": "Total Pendapatan Per Provinsi"
        },
        "xaxis": {
         "anchor": "y",
         "domain": [
          0,
          1
         ],
         "title": {
          "text": "Provinsi"
         }
        },
        "yaxis": {
         "anchor": "x",
         "domain": [
          0,
          1
         ],
         "title": {
          "text": "Total Pendapatan"
         }
        }
       }
      }
     },
     "metadata": {},
     "output_type": "display_data"
    }
   ],
   "source": [
    "fig = px.bar(pendapatan_per_provinsi, x=\"provinsi\", y=\"total_pendapatan\", title=\"Total Pendapatan Per Provinsi\")\n",
    "fig.update_xaxes(title=\"Provinsi\")\n",
    "fig.update_yaxes(title=\"Total Pendapatan\")\n",
    "fig.show()"
   ]
  },
  {
   "cell_type": "markdown",
   "metadata": {},
   "source": [
    "Berdasarkan informasi di atas provinsi `Jawa Barat` adalah provinsi dengan hasil tertinggi dari pendapatan pembuatan design dengan jumlah *Rp 5.321.750*. Sedangkan untuk provinsi `Sumatera Barat`,`Daerah Istimewa Yogyakarta`, `Jawa Tengah`, `Lampung`, `Sulawesi Selatan` tidak ada pendapatan sama sekali atau *Rp 0*."
   ]
  },
  {
   "cell_type": "markdown",
   "metadata": {},
   "source": [
    "#### Pendapatan Berdasarkan Kota"
   ]
  },
  {
   "cell_type": "code",
   "execution_count": 46,
   "metadata": {},
   "outputs": [],
   "source": [
    "query_pendapatan_per_kota = \"\"\"\n",
    "SELECT \n",
    "    city,\n",
    "    SUM(price) AS total_pendapatan\n",
    "FROM(\n",
    "\tSELECT \n",
    "    order_design.id_order,\n",
    "    order_design.id_user,\n",
    "    category_size.id_category,\n",
    "    order_design.id_design_finish,\n",
    "    category_design.id_category_design,\n",
    "    user.name AS user_name,\n",
    "    user.status AS user_status,\n",
    "    design.design_name,\n",
    "    design.status AS design_status,\n",
    "    CASE\n",
    "    \tWHEN category_size.id_category = 1 THEN '< 10m^2'\n",
    "\t\tWHEN category_size.id_category = 2 THEN '11 - 20m^2'\n",
    "   \t\tWHEN category_size.id_category = 3 THEN '21 - 30m^2'\n",
    "   \t\tWHEN category_size.id_category = 4 THEN '31 - 40m^2'\n",
    "   \t\tWHEN category_size.id_category = 5 THEN '41 - 50m^2'\n",
    "   \t\tELSE '> 50m^2'\n",
    "   \tEND AS category_size,\n",
    "   \tcategory_design.name AS category_name,\n",
    "   \torder_design.status AS order_status,\n",
    "   \torder_design.price,\n",
    "   \tpromo_code.code AS promo_code,\n",
    "   \tpromo_code.valid_from,\n",
    "   \tpromo_code.valid_until,\n",
    "   \torder_design.created_at,\n",
    "   \torder_design.updated_at,\n",
    "    CASE\n",
    "    \tWHEN address_components.administrative_area_level_1 IN ('Daerah Khusus Ibukota Jakarta','Jakarta') THEN 'Daerah Khusus Ibukota Jakarta'\n",
    "        WHEN address_components.administrative_area_level_1 = 'Banten' THEN 'Banten'\n",
    "        WHEN address_components.administrative_area_level_1 IN ('Jawa Barat', 'West Java') THEN 'Jawa Barat'\n",
    "        WHEN address_components.administrative_area_level_1 IN ('Jawa Timur', 'East Java') THEN 'Jawa Timur'\n",
    "        WHEN address_components.administrative_area_level_1 = 'Bali' THEN 'Bali'\n",
    "        WHEN address_components.administrative_area_level_1 = 'Sulawesi Selatan' THEN 'Sulawesi Selatan'\n",
    "        WHEN address_components.administrative_area_level_1 IN ('Sumatera Utara', 'North Sumatra') THEN 'Sumatera Utara'\n",
    "        WHEN address_components.administrative_area_level_1 IN ('Jawa Tengah', 'Central Java') THEN 'Jawa Tengah'\n",
    "        WHEN address_components.administrative_area_level_1 = 'Daerah Istimewa Yogyakarta' THEN 'Daerah Istimewa Yogyakarta'\n",
    "        WHEN address_components.administrative_area_level_1 = 'Jambi' THEN 'Jambi'\n",
    "        WHEN address_components.administrative_area_level_1 = 'Lampung' THEN 'Lampung'\n",
    "        WHEN address_components.administrative_area_level_1 = 'Aceh' THEN 'Aceh'\n",
    "        WHEN address_components.administrative_area_level_1 IN ('Sumatera Barat', 'West Sumatra') THEN 'Sumatera Barat'\n",
    "        WHEN address_components.administrative_area_level_1 = 'Federal District' THEN 'Federal District'\n",
    "        WHEN address_components.administrative_area_level_1 = '' OR address_components.administrative_area_level_1 IS NULL THEN 'Unknown Location'\n",
    "        ELSE address_components.administrative_area_level_1\n",
    "  \tEND AS province,\n",
    "    CASE\n",
    "        WHEN address_components.administrative_area_level_2 IN ('Badung', 'Badung Regency') THEN 'Badung'\n",
    "        WHEN address_components.administrative_area_level_2 IN ('Bandung', 'Bandung Regency') THEN 'Bandung'\n",
    "        WHEN address_components.administrative_area_level_2 IN ('Banyumas', 'Banyumas Regency') THEN 'Banyumas'\n",
    "        WHEN address_components.administrative_area_level_2 IN ('Bekasi', 'Bekasi Regency') THEN 'Bekasi'\n",
    "        WHEN address_components.administrative_area_level_2 IN ('Bogor', 'Bogor Regency') THEN 'Bogor'\n",
    "        WHEN address_components.administrative_area_level_2 IN ('Central Jakarta City', 'Jakarta Pusat') THEN 'Jakarta Pusat'\n",
    "        WHEN address_components.administrative_area_level_2 IN ('Ciamis', 'Ciamis Regency') THEN 'Ciamis'\n",
    "        WHEN address_components.administrative_area_level_2 IN ('Cimahi', 'Cimahi City') THEN 'Cimahi'\n",
    "        WHEN address_components.administrative_area_level_2 IN ('Deli Serdang', 'Deli Serdang Regency') THEN 'Deli Serdang'\n",
    "        WHEN address_components.administrative_area_level_2 IN ('Depok', 'Depok City') THEN 'Depok'\n",
    "        WHEN address_components.administrative_area_level_2 IN ('East Jakarta City', 'Jakarta Timur') THEN 'Jakarta Timur'\n",
    "        WHEN address_components.administrative_area_level_2 IN ('Jakarta Barat', 'West Jakarta City') THEN 'Jakarta Barat'\n",
    "        WHEN address_components.administrative_area_level_2 IN ('Jakarta Selatan', 'South Jakarta City') THEN 'Jakarta Selatan'\n",
    "        WHEN address_components.administrative_area_level_2 IN ('Jakarta Utara', 'North Jakarta City') THEN 'Jakarta Utara'\n",
    "        WHEN address_components.administrative_area_level_2 IN ('Jember', 'Jember Regency') THEN 'Jember'\n",
    "        WHEN address_components.administrative_area_level_2 IN ('Klungkung', 'Klungkung Regency') THEN 'Klungkung'\n",
    "        WHEN address_components.administrative_area_level_2 IN ('Pringsewu', 'Pringsewu Regency') THEN 'Pringsewu'\n",
    "        WHEN address_components.administrative_area_level_2 IN ('Sukabumi', 'Sukabumi City') THEN 'Sukabumi'\n",
    "        WHEN address_components.administrative_area_level_2 IN ('Tangerang', 'Tangerang City', 'Tangerang Regency') THEN 'Tangerang'\n",
    "        WHEN address_components.administrative_area_level_2 IN ('Tangerang Selatan', 'South Tangerang City') THEN 'Tangerang Selatan'\n",
    "        WHEN address_components.administrative_area_level_2 IN ('West Bandung', 'West Bandung Regency') THEN 'Bandung Barat'\n",
    "        WHEN address_components.administrative_area_level_2 = ' ' THEN 'Unknown City'\n",
    "        ELSE address_components.administrative_area_level_2\n",
    "    END AS city,\n",
    "    CASE\n",
    "        WHEN address_components.administrative_area_level_3 IN ('South Kuta') THEN 'Kuta Selatan'\n",
    "        WHEN address_components.administrative_area_level_3 = ' ' THEN 'Unknown District'\n",
    "        ELSE address_components.administrative_area_level_3\n",
    "    END AS district\n",
    "    FROM\n",
    "    \torder_design\n",
    "    LEFT JOIN\n",
    "    \tuser ON user.id_user = order_design.id_designer\n",
    "    LEFT JOIN\n",
    "    \tcategory_size ON category_size.id_category = order_design.id_category\n",
    "    LEFT JOIN\n",
    "    \tdesign ON design.id_design = order_design.id_design_finish\n",
    "    LEFT JOIN\n",
    "    \tcategory_design ON category_design.id_category_design = design.id_type\n",
    "    LEFT JOIN\n",
    "    \taddress_components ON address_components.address_componentable_id = order_design.id_order\n",
    "    LEFT JOIN \n",
    "        promo_code ON promo_code.id_promo = order_design.id_promo\n",
    "    WHERE \n",
    "    \torder_design.id_user > 249\n",
    "    AND\n",
    "    \torder_design.status NOT IN ('expired','new')\n",
    "    AND \n",
    "        address_componentable_type like '%OrderDesign%'\n",
    ") AS master_table\n",
    "GROUP BY \n",
    "    city\n",
    "ORDER BY \n",
    "    total_pendapatan DESC;\n",
    "\"\"\""
   ]
  },
  {
   "cell_type": "code",
   "execution_count": 47,
   "metadata": {},
   "outputs": [
    {
     "data": {
      "text/html": [
       "<div>\n",
       "<style scoped>\n",
       "    .dataframe tbody tr th:only-of-type {\n",
       "        vertical-align: middle;\n",
       "    }\n",
       "\n",
       "    .dataframe tbody tr th {\n",
       "        vertical-align: top;\n",
       "    }\n",
       "\n",
       "    .dataframe thead th {\n",
       "        text-align: right;\n",
       "    }\n",
       "</style>\n",
       "<table border=\"1\" class=\"dataframe\">\n",
       "  <thead>\n",
       "    <tr style=\"text-align: right;\">\n",
       "      <th></th>\n",
       "      <th>city</th>\n",
       "      <th>total_pendapatan</th>\n",
       "    </tr>\n",
       "  </thead>\n",
       "  <tbody>\n",
       "    <tr>\n",
       "      <th>0</th>\n",
       "      <td>Depok</td>\n",
       "      <td>2667500.0</td>\n",
       "    </tr>\n",
       "    <tr>\n",
       "      <th>1</th>\n",
       "      <td>Jakarta Selatan</td>\n",
       "      <td>1948500.0</td>\n",
       "    </tr>\n",
       "    <tr>\n",
       "      <th>2</th>\n",
       "      <td>Tangerang Selatan</td>\n",
       "      <td>1872000.0</td>\n",
       "    </tr>\n",
       "    <tr>\n",
       "      <th>3</th>\n",
       "      <td>Bekasi</td>\n",
       "      <td>1588000.0</td>\n",
       "    </tr>\n",
       "    <tr>\n",
       "      <th>4</th>\n",
       "      <td>Deli Serdang</td>\n",
       "      <td>1350000.0</td>\n",
       "    </tr>\n",
       "    <tr>\n",
       "      <th>5</th>\n",
       "      <td>Jakarta Barat</td>\n",
       "      <td>1240500.0</td>\n",
       "    </tr>\n",
       "    <tr>\n",
       "      <th>6</th>\n",
       "      <td>Jakarta Timur</td>\n",
       "      <td>1171500.0</td>\n",
       "    </tr>\n",
       "    <tr>\n",
       "      <th>7</th>\n",
       "      <td>Bogor</td>\n",
       "      <td>1066250.0</td>\n",
       "    </tr>\n",
       "    <tr>\n",
       "      <th>8</th>\n",
       "      <td>Malang</td>\n",
       "      <td>540000.0</td>\n",
       "    </tr>\n",
       "    <tr>\n",
       "      <th>9</th>\n",
       "      <td>Brasilia</td>\n",
       "      <td>540000.0</td>\n",
       "    </tr>\n",
       "    <tr>\n",
       "      <th>10</th>\n",
       "      <td>Jakarta Utara</td>\n",
       "      <td>540000.0</td>\n",
       "    </tr>\n",
       "    <tr>\n",
       "      <th>11</th>\n",
       "      <td>Jambi City</td>\n",
       "      <td>450000.0</td>\n",
       "    </tr>\n",
       "    <tr>\n",
       "      <th>12</th>\n",
       "      <td>Unknown City</td>\n",
       "      <td>388500.0</td>\n",
       "    </tr>\n",
       "    <tr>\n",
       "      <th>13</th>\n",
       "      <td>Surabaya</td>\n",
       "      <td>333000.0</td>\n",
       "    </tr>\n",
       "    <tr>\n",
       "      <th>14</th>\n",
       "      <td>Denpasar</td>\n",
       "      <td>250000.0</td>\n",
       "    </tr>\n",
       "    <tr>\n",
       "      <th>15</th>\n",
       "      <td>Pringsewu</td>\n",
       "      <td>0.0</td>\n",
       "    </tr>\n",
       "    <tr>\n",
       "      <th>16</th>\n",
       "      <td>Lebak</td>\n",
       "      <td>0.0</td>\n",
       "    </tr>\n",
       "    <tr>\n",
       "      <th>17</th>\n",
       "      <td>Padang City</td>\n",
       "      <td>0.0</td>\n",
       "    </tr>\n",
       "    <tr>\n",
       "      <th>18</th>\n",
       "      <td>Jakarta Pusat</td>\n",
       "      <td>0.0</td>\n",
       "    </tr>\n",
       "    <tr>\n",
       "      <th>19</th>\n",
       "      <td>Sukabumi</td>\n",
       "      <td>0.0</td>\n",
       "    </tr>\n",
       "    <tr>\n",
       "      <th>20</th>\n",
       "      <td>Tangerang</td>\n",
       "      <td>0.0</td>\n",
       "    </tr>\n",
       "    <tr>\n",
       "      <th>21</th>\n",
       "      <td>Makassar</td>\n",
       "      <td>0.0</td>\n",
       "    </tr>\n",
       "    <tr>\n",
       "      <th>22</th>\n",
       "      <td>Bandung</td>\n",
       "      <td>0.0</td>\n",
       "    </tr>\n",
       "    <tr>\n",
       "      <th>23</th>\n",
       "      <td>Klungkung</td>\n",
       "      <td>0.0</td>\n",
       "    </tr>\n",
       "    <tr>\n",
       "      <th>24</th>\n",
       "      <td>Cimahi</td>\n",
       "      <td>0.0</td>\n",
       "    </tr>\n",
       "    <tr>\n",
       "      <th>25</th>\n",
       "      <td>Surakarta</td>\n",
       "      <td>0.0</td>\n",
       "    </tr>\n",
       "    <tr>\n",
       "      <th>26</th>\n",
       "      <td>Badung</td>\n",
       "      <td>0.0</td>\n",
       "    </tr>\n",
       "    <tr>\n",
       "      <th>27</th>\n",
       "      <td>Sleman</td>\n",
       "      <td>0.0</td>\n",
       "    </tr>\n",
       "    <tr>\n",
       "      <th>28</th>\n",
       "      <td>Kediri</td>\n",
       "      <td>0.0</td>\n",
       "    </tr>\n",
       "    <tr>\n",
       "      <th>29</th>\n",
       "      <td>Bantul</td>\n",
       "      <td>0.0</td>\n",
       "    </tr>\n",
       "    <tr>\n",
       "      <th>30</th>\n",
       "      <td>Bandung Barat</td>\n",
       "      <td>0.0</td>\n",
       "    </tr>\n",
       "    <tr>\n",
       "      <th>31</th>\n",
       "      <td>Banyumas</td>\n",
       "      <td>0.0</td>\n",
       "    </tr>\n",
       "  </tbody>\n",
       "</table>\n",
       "</div>"
      ],
      "text/plain": [
       "                 city  total_pendapatan\n",
       "0               Depok         2667500.0\n",
       "1     Jakarta Selatan         1948500.0\n",
       "2   Tangerang Selatan         1872000.0\n",
       "3              Bekasi         1588000.0\n",
       "4        Deli Serdang         1350000.0\n",
       "5       Jakarta Barat         1240500.0\n",
       "6       Jakarta Timur         1171500.0\n",
       "7               Bogor         1066250.0\n",
       "8              Malang          540000.0\n",
       "9            Brasilia          540000.0\n",
       "10      Jakarta Utara          540000.0\n",
       "11         Jambi City          450000.0\n",
       "12       Unknown City          388500.0\n",
       "13           Surabaya          333000.0\n",
       "14           Denpasar          250000.0\n",
       "15          Pringsewu               0.0\n",
       "16              Lebak               0.0\n",
       "17        Padang City               0.0\n",
       "18      Jakarta Pusat               0.0\n",
       "19           Sukabumi               0.0\n",
       "20          Tangerang               0.0\n",
       "21           Makassar               0.0\n",
       "22            Bandung               0.0\n",
       "23          Klungkung               0.0\n",
       "24             Cimahi               0.0\n",
       "25          Surakarta               0.0\n",
       "26             Badung               0.0\n",
       "27             Sleman               0.0\n",
       "28             Kediri               0.0\n",
       "29             Bantul               0.0\n",
       "30      Bandung Barat               0.0\n",
       "31           Banyumas               0.0"
      ]
     },
     "execution_count": 47,
     "metadata": {},
     "output_type": "execute_result"
    }
   ],
   "source": [
    "pendapatan_per_kota = fetch_data(host, port, user, passwd, databs, query_pendapatan_per_kota)\n",
    "pendapatan_per_kota"
   ]
  },
  {
   "cell_type": "markdown",
   "metadata": {},
   "source": [
    "#### Pendapatan Per Kecamatan"
   ]
  },
  {
   "cell_type": "code",
   "execution_count": 48,
   "metadata": {},
   "outputs": [],
   "source": [
    "query_pendapatan_per_kecamatan = \"\"\"\n",
    "SELECT \n",
    "    district,\n",
    "    SUM(price) AS total_pendapatan\n",
    "FROM(\n",
    "\tSELECT \n",
    "    order_design.id_order,\n",
    "    order_design.id_user,\n",
    "    category_size.id_category,\n",
    "    order_design.id_design_finish,\n",
    "    category_design.id_category_design,\n",
    "    user.name AS user_name,\n",
    "    user.status AS user_status,\n",
    "    design.design_name,\n",
    "    design.status AS design_status,\n",
    "    CASE\n",
    "    \tWHEN category_size.id_category = 1 THEN '< 10m^2'\n",
    "\t\tWHEN category_size.id_category = 2 THEN '11 - 20m^2'\n",
    "   \t\tWHEN category_size.id_category = 3 THEN '21 - 30m^2'\n",
    "   \t\tWHEN category_size.id_category = 4 THEN '31 - 40m^2'\n",
    "   \t\tWHEN category_size.id_category = 5 THEN '41 - 50m^2'\n",
    "   \t\tELSE '> 50m^2'\n",
    "   \tEND AS category_size,\n",
    "   \tcategory_design.name AS category_name,\n",
    "   \torder_design.status AS order_status,\n",
    "   \torder_design.price,\n",
    "   \tpromo_code.code AS promo_code,\n",
    "   \tpromo_code.valid_from,\n",
    "   \tpromo_code.valid_until,\n",
    "   \torder_design.created_at,\n",
    "   \torder_design.updated_at,\n",
    "    CASE\n",
    "    \tWHEN address_components.administrative_area_level_1 IN ('Daerah Khusus Ibukota Jakarta','Jakarta') THEN 'Daerah Khusus Ibukota Jakarta'\n",
    "        WHEN address_components.administrative_area_level_1 = 'Banten' THEN 'Banten'\n",
    "        WHEN address_components.administrative_area_level_1 IN ('Jawa Barat', 'West Java') THEN 'Jawa Barat'\n",
    "        WHEN address_components.administrative_area_level_1 IN ('Jawa Timur', 'East Java') THEN 'Jawa Timur'\n",
    "        WHEN address_components.administrative_area_level_1 = 'Bali' THEN 'Bali'\n",
    "        WHEN address_components.administrative_area_level_1 = 'Sulawesi Selatan' THEN 'Sulawesi Selatan'\n",
    "        WHEN address_components.administrative_area_level_1 IN ('Sumatera Utara', 'North Sumatra') THEN 'Sumatera Utara'\n",
    "        WHEN address_components.administrative_area_level_1 IN ('Jawa Tengah', 'Central Java') THEN 'Jawa Tengah'\n",
    "        WHEN address_components.administrative_area_level_1 = 'Daerah Istimewa Yogyakarta' THEN 'Daerah Istimewa Yogyakarta'\n",
    "        WHEN address_components.administrative_area_level_1 = 'Jambi' THEN 'Jambi'\n",
    "        WHEN address_components.administrative_area_level_1 = 'Lampung' THEN 'Lampung'\n",
    "        WHEN address_components.administrative_area_level_1 = 'Aceh' THEN 'Aceh'\n",
    "        WHEN address_components.administrative_area_level_1 IN ('Sumatera Barat', 'West Sumatra') THEN 'Sumatera Barat'\n",
    "        WHEN address_components.administrative_area_level_1 = 'Federal District' THEN 'Federal District'\n",
    "        WHEN address_components.administrative_area_level_1 = '' OR address_components.administrative_area_level_1 IS NULL THEN 'Unknown Location'\n",
    "        ELSE address_components.administrative_area_level_1\n",
    "  \tEND AS province,\n",
    "    CASE\n",
    "        WHEN address_components.administrative_area_level_2 IN ('Badung', 'Badung Regency') THEN 'Badung'\n",
    "        WHEN address_components.administrative_area_level_2 IN ('Bandung', 'Bandung Regency') THEN 'Bandung'\n",
    "        WHEN address_components.administrative_area_level_2 IN ('Banyumas', 'Banyumas Regency') THEN 'Banyumas'\n",
    "        WHEN address_components.administrative_area_level_2 IN ('Bekasi', 'Bekasi Regency') THEN 'Bekasi'\n",
    "        WHEN address_components.administrative_area_level_2 IN ('Bogor', 'Bogor Regency') THEN 'Bogor'\n",
    "        WHEN address_components.administrative_area_level_2 IN ('Central Jakarta City', 'Jakarta Pusat') THEN 'Jakarta Pusat'\n",
    "        WHEN address_components.administrative_area_level_2 IN ('Ciamis', 'Ciamis Regency') THEN 'Ciamis'\n",
    "        WHEN address_components.administrative_area_level_2 IN ('Cimahi', 'Cimahi City') THEN 'Cimahi'\n",
    "        WHEN address_components.administrative_area_level_2 IN ('Deli Serdang', 'Deli Serdang Regency') THEN 'Deli Serdang'\n",
    "        WHEN address_components.administrative_area_level_2 IN ('Depok', 'Depok City') THEN 'Depok'\n",
    "        WHEN address_components.administrative_area_level_2 IN ('East Jakarta City', 'Jakarta Timur') THEN 'Jakarta Timur'\n",
    "        WHEN address_components.administrative_area_level_2 IN ('Jakarta Barat', 'West Jakarta City') THEN 'Jakarta Barat'\n",
    "        WHEN address_components.administrative_area_level_2 IN ('Jakarta Selatan', 'South Jakarta City') THEN 'Jakarta Selatan'\n",
    "        WHEN address_components.administrative_area_level_2 IN ('Jakarta Utara', 'North Jakarta City') THEN 'Jakarta Utara'\n",
    "        WHEN address_components.administrative_area_level_2 IN ('Jember', 'Jember Regency') THEN 'Jember'\n",
    "        WHEN address_components.administrative_area_level_2 IN ('Klungkung', 'Klungkung Regency') THEN 'Klungkung'\n",
    "        WHEN address_components.administrative_area_level_2 IN ('Pringsewu', 'Pringsewu Regency') THEN 'Pringsewu'\n",
    "        WHEN address_components.administrative_area_level_2 IN ('Sukabumi', 'Sukabumi City') THEN 'Sukabumi'\n",
    "        WHEN address_components.administrative_area_level_2 IN ('Tangerang', 'Tangerang City', 'Tangerang Regency') THEN 'Tangerang'\n",
    "        WHEN address_components.administrative_area_level_2 IN ('Tangerang Selatan', 'South Tangerang City') THEN 'Tangerang Selatan'\n",
    "        WHEN address_components.administrative_area_level_2 IN ('West Bandung', 'West Bandung Regency') THEN 'Bandung Barat'\n",
    "        WHEN address_components.administrative_area_level_2 = ' ' THEN 'Unknown City'\n",
    "        ELSE address_components.administrative_area_level_2\n",
    "    END AS city,\n",
    "    CASE\n",
    "        WHEN address_components.administrative_area_level_3 IN ('South Kuta') THEN 'Kuta Selatan'\n",
    "        WHEN address_components.administrative_area_level_3 = ' ' THEN 'Unknown District'\n",
    "        ELSE address_components.administrative_area_level_3\n",
    "    END AS district\n",
    "    FROM\n",
    "    \torder_design\n",
    "    LEFT JOIN\n",
    "    \tuser ON user.id_user = order_design.id_designer\n",
    "    LEFT JOIN\n",
    "    \tcategory_size ON category_size.id_category = order_design.id_category\n",
    "    LEFT JOIN\n",
    "    \tdesign ON design.id_design = order_design.id_design_finish\n",
    "    LEFT JOIN\n",
    "    \tcategory_design ON category_design.id_category_design = design.id_type\n",
    "    LEFT JOIN\n",
    "    \taddress_components ON address_components.address_componentable_id = order_design.id_order\n",
    "    LEFT JOIN \n",
    "        promo_code ON promo_code.id_promo = order_design.id_promo\n",
    "    WHERE \n",
    "    \torder_design.id_user > 249\n",
    "    AND\n",
    "    \torder_design.status NOT IN ('expired','new')\n",
    "    AND \n",
    "\t\taddress_componentable_type like '%OrderDesign%'\n",
    ") AS master_table\n",
    "GROUP BY \n",
    "\tdistrict\n",
    "ORDER BY \n",
    "\ttotal_pendapatan DESC;\n",
    "\"\"\""
   ]
  },
  {
   "cell_type": "code",
   "execution_count": 49,
   "metadata": {},
   "outputs": [
    {
     "data": {
      "text/html": [
       "<div>\n",
       "<style scoped>\n",
       "    .dataframe tbody tr th:only-of-type {\n",
       "        vertical-align: middle;\n",
       "    }\n",
       "\n",
       "    .dataframe tbody tr th {\n",
       "        vertical-align: top;\n",
       "    }\n",
       "\n",
       "    .dataframe thead th {\n",
       "        text-align: right;\n",
       "    }\n",
       "</style>\n",
       "<table border=\"1\" class=\"dataframe\">\n",
       "  <thead>\n",
       "    <tr style=\"text-align: right;\">\n",
       "      <th></th>\n",
       "      <th>district</th>\n",
       "      <th>total_pendapatan</th>\n",
       "    </tr>\n",
       "  </thead>\n",
       "  <tbody>\n",
       "    <tr>\n",
       "      <th>0</th>\n",
       "      <td>Unknown District</td>\n",
       "      <td>3172000.0</td>\n",
       "    </tr>\n",
       "    <tr>\n",
       "      <th>1</th>\n",
       "      <td>Tanjung Morawa</td>\n",
       "      <td>1350000.0</td>\n",
       "    </tr>\n",
       "    <tr>\n",
       "      <th>2</th>\n",
       "      <td>Cinere</td>\n",
       "      <td>900000.0</td>\n",
       "    </tr>\n",
       "    <tr>\n",
       "      <th>3</th>\n",
       "      <td>Serpong</td>\n",
       "      <td>678750.0</td>\n",
       "    </tr>\n",
       "    <tr>\n",
       "      <th>4</th>\n",
       "      <td>Pondok Aren</td>\n",
       "      <td>666000.0</td>\n",
       "    </tr>\n",
       "    <tr>\n",
       "      <th>...</th>\n",
       "      <td>...</td>\n",
       "      <td>...</td>\n",
       "    </tr>\n",
       "    <tr>\n",
       "      <th>100</th>\n",
       "      <td>Duren Sawit</td>\n",
       "      <td>0.0</td>\n",
       "    </tr>\n",
       "    <tr>\n",
       "      <th>101</th>\n",
       "      <td>Tanjung Priok</td>\n",
       "      <td>0.0</td>\n",
       "    </tr>\n",
       "    <tr>\n",
       "      <th>102</th>\n",
       "      <td>Sukolilo</td>\n",
       "      <td>0.0</td>\n",
       "    </tr>\n",
       "    <tr>\n",
       "      <th>103</th>\n",
       "      <td>Mengwi</td>\n",
       "      <td>0.0</td>\n",
       "    </tr>\n",
       "    <tr>\n",
       "      <th>104</th>\n",
       "      <td>Pinang</td>\n",
       "      <td>0.0</td>\n",
       "    </tr>\n",
       "  </tbody>\n",
       "</table>\n",
       "<p>105 rows × 2 columns</p>\n",
       "</div>"
      ],
      "text/plain": [
       "             district  total_pendapatan\n",
       "0    Unknown District         3172000.0\n",
       "1      Tanjung Morawa         1350000.0\n",
       "2              Cinere          900000.0\n",
       "3             Serpong          678750.0\n",
       "4         Pondok Aren          666000.0\n",
       "..                ...               ...\n",
       "100       Duren Sawit               0.0\n",
       "101     Tanjung Priok               0.0\n",
       "102          Sukolilo               0.0\n",
       "103            Mengwi               0.0\n",
       "104            Pinang               0.0\n",
       "\n",
       "[105 rows x 2 columns]"
      ]
     },
     "execution_count": 49,
     "metadata": {},
     "output_type": "execute_result"
    }
   ],
   "source": [
    "pendapatan_per_kecamatan = fetch_data(host, port, user, passwd, databs, query_pendapatan_per_kecamatan)\n",
    "pendapatan_per_kecamatan"
   ]
  },
  {
   "cell_type": "markdown",
   "metadata": {},
   "source": [
    "#### Pendapatan Berdasarkan Kategori Ukuran "
   ]
  },
  {
   "cell_type": "code",
   "execution_count": 52,
   "metadata": {},
   "outputs": [],
   "source": [
    "query_pendapatan_berdasarkan_kategori_ukuran = \"\"\"  \n",
    "SELECT \n",
    "    category_size AS ukuran,\n",
    "    SUM(price) AS total_pendapatan\n",
    "FROM(\n",
    "\tSELECT \n",
    "    order_design.id_order,\n",
    "    order_design.id_user,\n",
    "    category_size.id_category,\n",
    "    order_design.id_design_finish,\n",
    "    category_design.id_category_design,\n",
    "    user.name AS user_name,\n",
    "    user.status AS user_status,\n",
    "    design.design_name,\n",
    "    design.status AS design_status,\n",
    "    CASE\n",
    "    \tWHEN category_size.id_category = 1 THEN '< 10m^2'\n",
    "\t\tWHEN category_size.id_category = 2 THEN '11 - 20m^2'\n",
    "   \t\tWHEN category_size.id_category = 3 THEN '21 - 30m^2'\n",
    "   \t\tWHEN category_size.id_category = 4 THEN '31 - 40m^2'\n",
    "   \t\tWHEN category_size.id_category = 5 THEN '41 - 50m^2'\n",
    "   \t\tELSE '> 50m^2'\n",
    "   \tEND AS category_size,\n",
    "   \tcategory_design.name AS category_name,\n",
    "   \torder_design.status AS order_status,\n",
    "   \torder_design.price,\n",
    "   \tpromo_code.code AS promo_code,\n",
    "   \tpromo_code.valid_from,\n",
    "   \tpromo_code.valid_until,\n",
    "   \torder_design.created_at,\n",
    "   \torder_design.updated_at,\n",
    "    CASE\n",
    "    \tWHEN address_components.administrative_area_level_1 IN ('Daerah Khusus Ibukota Jakarta','Jakarta') THEN 'Daerah Khusus Ibukota Jakarta'\n",
    "        WHEN address_components.administrative_area_level_1 = 'Banten' THEN 'Banten'\n",
    "        WHEN address_components.administrative_area_level_1 IN ('Jawa Barat', 'West Java') THEN 'Jawa Barat'\n",
    "        WHEN address_components.administrative_area_level_1 IN ('Jawa Timur', 'East Java') THEN 'Jawa Timur'\n",
    "        WHEN address_components.administrative_area_level_1 = 'Bali' THEN 'Bali'\n",
    "        WHEN address_components.administrative_area_level_1 = 'Sulawesi Selatan' THEN 'Sulawesi Selatan'\n",
    "        WHEN address_components.administrative_area_level_1 IN ('Sumatera Utara', 'North Sumatra') THEN 'Sumatera Utara'\n",
    "        WHEN address_components.administrative_area_level_1 IN ('Jawa Tengah', 'Central Java') THEN 'Jawa Tengah'\n",
    "        WHEN address_components.administrative_area_level_1 = 'Daerah Istimewa Yogyakarta' THEN 'Daerah Istimewa Yogyakarta'\n",
    "        WHEN address_components.administrative_area_level_1 = 'Jambi' THEN 'Jambi'\n",
    "        WHEN address_components.administrative_area_level_1 = 'Lampung' THEN 'Lampung'\n",
    "        WHEN address_components.administrative_area_level_1 = 'Aceh' THEN 'Aceh'\n",
    "        WHEN address_components.administrative_area_level_1 IN ('Sumatera Barat', 'West Sumatra') THEN 'Sumatera Barat'\n",
    "        WHEN address_components.administrative_area_level_1 = 'Federal District' THEN 'Federal District'\n",
    "        WHEN address_components.administrative_area_level_1 = '' OR address_components.administrative_area_level_1 IS NULL THEN 'Unknown Location'\n",
    "        ELSE address_components.administrative_area_level_1\n",
    "  \tEND AS province,\n",
    "    CASE\n",
    "        WHEN address_components.administrative_area_level_2 IN ('Badung', 'Badung Regency') THEN 'Badung'\n",
    "        WHEN address_components.administrative_area_level_2 IN ('Bandung', 'Bandung Regency') THEN 'Bandung'\n",
    "        WHEN address_components.administrative_area_level_2 IN ('Banyumas', 'Banyumas Regency') THEN 'Banyumas'\n",
    "        WHEN address_components.administrative_area_level_2 IN ('Bekasi', 'Bekasi Regency') THEN 'Bekasi'\n",
    "        WHEN address_components.administrative_area_level_2 IN ('Bogor', 'Bogor Regency') THEN 'Bogor'\n",
    "        WHEN address_components.administrative_area_level_2 IN ('Central Jakarta City', 'Jakarta Pusat') THEN 'Jakarta Pusat'\n",
    "        WHEN address_components.administrative_area_level_2 IN ('Ciamis', 'Ciamis Regency') THEN 'Ciamis'\n",
    "        WHEN address_components.administrative_area_level_2 IN ('Cimahi', 'Cimahi City') THEN 'Cimahi'\n",
    "        WHEN address_components.administrative_area_level_2 IN ('Deli Serdang', 'Deli Serdang Regency') THEN 'Deli Serdang'\n",
    "        WHEN address_components.administrative_area_level_2 IN ('Depok', 'Depok City') THEN 'Depok'\n",
    "        WHEN address_components.administrative_area_level_2 IN ('East Jakarta City', 'Jakarta Timur') THEN 'Jakarta Timur'\n",
    "        WHEN address_components.administrative_area_level_2 IN ('Jakarta Barat', 'West Jakarta City') THEN 'Jakarta Barat'\n",
    "        WHEN address_components.administrative_area_level_2 IN ('Jakarta Selatan', 'South Jakarta City') THEN 'Jakarta Selatan'\n",
    "        WHEN address_components.administrative_area_level_2 IN ('Jakarta Utara', 'North Jakarta City') THEN 'Jakarta Utara'\n",
    "        WHEN address_components.administrative_area_level_2 IN ('Jember', 'Jember Regency') THEN 'Jember'\n",
    "        WHEN address_components.administrative_area_level_2 IN ('Klungkung', 'Klungkung Regency') THEN 'Klungkung'\n",
    "        WHEN address_components.administrative_area_level_2 IN ('Pringsewu', 'Pringsewu Regency') THEN 'Pringsewu'\n",
    "        WHEN address_components.administrative_area_level_2 IN ('Sukabumi', 'Sukabumi City') THEN 'Sukabumi'\n",
    "        WHEN address_components.administrative_area_level_2 IN ('Tangerang', 'Tangerang City', 'Tangerang Regency') THEN 'Tangerang'\n",
    "        WHEN address_components.administrative_area_level_2 IN ('Tangerang Selatan', 'South Tangerang City') THEN 'Tangerang Selatan'\n",
    "        WHEN address_components.administrative_area_level_2 IN ('West Bandung', 'West Bandung Regency') THEN 'Bandung Barat'\n",
    "        WHEN address_components.administrative_area_level_2 = ' ' THEN 'Unknown City'\n",
    "        ELSE address_components.administrative_area_level_2\n",
    "    END AS city,\n",
    "    CASE\n",
    "        WHEN address_components.administrative_area_level_3 IN ('South Kuta') THEN 'Kuta Selatan'\n",
    "        WHEN address_components.administrative_area_level_3 = ' ' THEN 'Unknown District'\n",
    "        ELSE address_components.administrative_area_level_3\n",
    "    END AS district\n",
    "    FROM\n",
    "    \torder_design\n",
    "    LEFT JOIN\n",
    "    \tuser ON user.id_user = order_design.id_designer\n",
    "    LEFT JOIN\n",
    "    \tcategory_size ON category_size.id_category = order_design.id_category\n",
    "    LEFT JOIN\n",
    "    \tdesign ON design.id_design = order_design.id_design_finish\n",
    "    LEFT JOIN\n",
    "    \tcategory_design ON category_design.id_category_design = design.id_type\n",
    "    LEFT JOIN\n",
    "    \taddress_components ON address_components.address_componentable_id = order_design.id_order\n",
    "    LEFT JOIN \n",
    "        promo_code ON promo_code.id_promo = order_design.id_promo\n",
    "    WHERE \n",
    "    \torder_design.id_user > 249\n",
    "    AND\n",
    "    \torder_design.status NOT IN ('expired','new')\n",
    ") AS master_table\n",
    "GROUP BY \n",
    "\tukuran\n",
    "ORDER BY \n",
    "\ttotal_pendapatan DESC;\n",
    "\"\"\""
   ]
  },
  {
   "cell_type": "code",
   "execution_count": 53,
   "metadata": {},
   "outputs": [
    {
     "data": {
      "text/html": [
       "<div>\n",
       "<style scoped>\n",
       "    .dataframe tbody tr th:only-of-type {\n",
       "        vertical-align: middle;\n",
       "    }\n",
       "\n",
       "    .dataframe tbody tr th {\n",
       "        vertical-align: top;\n",
       "    }\n",
       "\n",
       "    .dataframe thead th {\n",
       "        text-align: right;\n",
       "    }\n",
       "</style>\n",
       "<table border=\"1\" class=\"dataframe\">\n",
       "  <thead>\n",
       "    <tr style=\"text-align: right;\">\n",
       "      <th></th>\n",
       "      <th>ukuran</th>\n",
       "      <th>total_pendapatan</th>\n",
       "    </tr>\n",
       "  </thead>\n",
       "  <tbody>\n",
       "    <tr>\n",
       "      <th>0</th>\n",
       "      <td>&lt; 10m^2</td>\n",
       "      <td>12876750.0</td>\n",
       "    </tr>\n",
       "    <tr>\n",
       "      <th>1</th>\n",
       "      <td>11 - 20m^2</td>\n",
       "      <td>10571000.0</td>\n",
       "    </tr>\n",
       "    <tr>\n",
       "      <th>2</th>\n",
       "      <td>&gt; 50m^2</td>\n",
       "      <td>4048000.0</td>\n",
       "    </tr>\n",
       "    <tr>\n",
       "      <th>3</th>\n",
       "      <td>21 - 30m^2</td>\n",
       "      <td>3794000.0</td>\n",
       "    </tr>\n",
       "    <tr>\n",
       "      <th>4</th>\n",
       "      <td>41 - 50m^2</td>\n",
       "      <td>2880000.0</td>\n",
       "    </tr>\n",
       "    <tr>\n",
       "      <th>5</th>\n",
       "      <td>31 - 40m^2</td>\n",
       "      <td>1644000.0</td>\n",
       "    </tr>\n",
       "  </tbody>\n",
       "</table>\n",
       "</div>"
      ],
      "text/plain": [
       "       ukuran  total_pendapatan\n",
       "0     < 10m^2        12876750.0\n",
       "1  11 - 20m^2        10571000.0\n",
       "2     > 50m^2         4048000.0\n",
       "3  21 - 30m^2         3794000.0\n",
       "4  41 - 50m^2         2880000.0\n",
       "5  31 - 40m^2         1644000.0"
      ]
     },
     "execution_count": 53,
     "metadata": {},
     "output_type": "execute_result"
    }
   ],
   "source": [
    "pendapatan_berdasarkan_kategori_ukuran = fetch_data(host, port, user, passwd, databs, query_pendapatan_berdasarkan_kategori_ukuran)\n",
    "pendapatan_berdasarkan_kategori_ukuran"
   ]
  },
  {
   "cell_type": "code",
   "execution_count": 54,
   "metadata": {},
   "outputs": [
    {
     "data": {
      "application/vnd.plotly.v1+json": {
       "config": {
        "plotlyServerURL": "https://plot.ly"
       },
       "data": [
        {
         "alignmentgroup": "True",
         "hovertemplate": "ukuran=%{x}<br>total_pendapatan=%{y}<extra></extra>",
         "legendgroup": "",
         "marker": {
          "color": "#636efa",
          "pattern": {
           "shape": ""
          }
         },
         "name": "",
         "offsetgroup": "",
         "orientation": "v",
         "showlegend": false,
         "textposition": "auto",
         "type": "bar",
         "x": [
          "< 10m^2",
          "11 - 20m^2",
          "> 50m^2",
          "21 - 30m^2",
          "41 - 50m^2",
          "31 - 40m^2"
         ],
         "xaxis": "x",
         "y": [
          12876750,
          10571000,
          4048000,
          3794000,
          2880000,
          1644000
         ],
         "yaxis": "y"
        }
       ],
       "layout": {
        "barmode": "relative",
        "legend": {
         "tracegroupgap": 0
        },
        "template": {
         "data": {
          "bar": [
           {
            "error_x": {
             "color": "#2a3f5f"
            },
            "error_y": {
             "color": "#2a3f5f"
            },
            "marker": {
             "line": {
              "color": "#E5ECF6",
              "width": 0.5
             },
             "pattern": {
              "fillmode": "overlay",
              "size": 10,
              "solidity": 0.2
             }
            },
            "type": "bar"
           }
          ],
          "barpolar": [
           {
            "marker": {
             "line": {
              "color": "#E5ECF6",
              "width": 0.5
             },
             "pattern": {
              "fillmode": "overlay",
              "size": 10,
              "solidity": 0.2
             }
            },
            "type": "barpolar"
           }
          ],
          "carpet": [
           {
            "aaxis": {
             "endlinecolor": "#2a3f5f",
             "gridcolor": "white",
             "linecolor": "white",
             "minorgridcolor": "white",
             "startlinecolor": "#2a3f5f"
            },
            "baxis": {
             "endlinecolor": "#2a3f5f",
             "gridcolor": "white",
             "linecolor": "white",
             "minorgridcolor": "white",
             "startlinecolor": "#2a3f5f"
            },
            "type": "carpet"
           }
          ],
          "choropleth": [
           {
            "colorbar": {
             "outlinewidth": 0,
             "ticks": ""
            },
            "type": "choropleth"
           }
          ],
          "contour": [
           {
            "colorbar": {
             "outlinewidth": 0,
             "ticks": ""
            },
            "colorscale": [
             [
              0,
              "#0d0887"
             ],
             [
              0.1111111111111111,
              "#46039f"
             ],
             [
              0.2222222222222222,
              "#7201a8"
             ],
             [
              0.3333333333333333,
              "#9c179e"
             ],
             [
              0.4444444444444444,
              "#bd3786"
             ],
             [
              0.5555555555555556,
              "#d8576b"
             ],
             [
              0.6666666666666666,
              "#ed7953"
             ],
             [
              0.7777777777777778,
              "#fb9f3a"
             ],
             [
              0.8888888888888888,
              "#fdca26"
             ],
             [
              1,
              "#f0f921"
             ]
            ],
            "type": "contour"
           }
          ],
          "contourcarpet": [
           {
            "colorbar": {
             "outlinewidth": 0,
             "ticks": ""
            },
            "type": "contourcarpet"
           }
          ],
          "heatmap": [
           {
            "colorbar": {
             "outlinewidth": 0,
             "ticks": ""
            },
            "colorscale": [
             [
              0,
              "#0d0887"
             ],
             [
              0.1111111111111111,
              "#46039f"
             ],
             [
              0.2222222222222222,
              "#7201a8"
             ],
             [
              0.3333333333333333,
              "#9c179e"
             ],
             [
              0.4444444444444444,
              "#bd3786"
             ],
             [
              0.5555555555555556,
              "#d8576b"
             ],
             [
              0.6666666666666666,
              "#ed7953"
             ],
             [
              0.7777777777777778,
              "#fb9f3a"
             ],
             [
              0.8888888888888888,
              "#fdca26"
             ],
             [
              1,
              "#f0f921"
             ]
            ],
            "type": "heatmap"
           }
          ],
          "heatmapgl": [
           {
            "colorbar": {
             "outlinewidth": 0,
             "ticks": ""
            },
            "colorscale": [
             [
              0,
              "#0d0887"
             ],
             [
              0.1111111111111111,
              "#46039f"
             ],
             [
              0.2222222222222222,
              "#7201a8"
             ],
             [
              0.3333333333333333,
              "#9c179e"
             ],
             [
              0.4444444444444444,
              "#bd3786"
             ],
             [
              0.5555555555555556,
              "#d8576b"
             ],
             [
              0.6666666666666666,
              "#ed7953"
             ],
             [
              0.7777777777777778,
              "#fb9f3a"
             ],
             [
              0.8888888888888888,
              "#fdca26"
             ],
             [
              1,
              "#f0f921"
             ]
            ],
            "type": "heatmapgl"
           }
          ],
          "histogram": [
           {
            "marker": {
             "pattern": {
              "fillmode": "overlay",
              "size": 10,
              "solidity": 0.2
             }
            },
            "type": "histogram"
           }
          ],
          "histogram2d": [
           {
            "colorbar": {
             "outlinewidth": 0,
             "ticks": ""
            },
            "colorscale": [
             [
              0,
              "#0d0887"
             ],
             [
              0.1111111111111111,
              "#46039f"
             ],
             [
              0.2222222222222222,
              "#7201a8"
             ],
             [
              0.3333333333333333,
              "#9c179e"
             ],
             [
              0.4444444444444444,
              "#bd3786"
             ],
             [
              0.5555555555555556,
              "#d8576b"
             ],
             [
              0.6666666666666666,
              "#ed7953"
             ],
             [
              0.7777777777777778,
              "#fb9f3a"
             ],
             [
              0.8888888888888888,
              "#fdca26"
             ],
             [
              1,
              "#f0f921"
             ]
            ],
            "type": "histogram2d"
           }
          ],
          "histogram2dcontour": [
           {
            "colorbar": {
             "outlinewidth": 0,
             "ticks": ""
            },
            "colorscale": [
             [
              0,
              "#0d0887"
             ],
             [
              0.1111111111111111,
              "#46039f"
             ],
             [
              0.2222222222222222,
              "#7201a8"
             ],
             [
              0.3333333333333333,
              "#9c179e"
             ],
             [
              0.4444444444444444,
              "#bd3786"
             ],
             [
              0.5555555555555556,
              "#d8576b"
             ],
             [
              0.6666666666666666,
              "#ed7953"
             ],
             [
              0.7777777777777778,
              "#fb9f3a"
             ],
             [
              0.8888888888888888,
              "#fdca26"
             ],
             [
              1,
              "#f0f921"
             ]
            ],
            "type": "histogram2dcontour"
           }
          ],
          "mesh3d": [
           {
            "colorbar": {
             "outlinewidth": 0,
             "ticks": ""
            },
            "type": "mesh3d"
           }
          ],
          "parcoords": [
           {
            "line": {
             "colorbar": {
              "outlinewidth": 0,
              "ticks": ""
             }
            },
            "type": "parcoords"
           }
          ],
          "pie": [
           {
            "automargin": true,
            "type": "pie"
           }
          ],
          "scatter": [
           {
            "fillpattern": {
             "fillmode": "overlay",
             "size": 10,
             "solidity": 0.2
            },
            "type": "scatter"
           }
          ],
          "scatter3d": [
           {
            "line": {
             "colorbar": {
              "outlinewidth": 0,
              "ticks": ""
             }
            },
            "marker": {
             "colorbar": {
              "outlinewidth": 0,
              "ticks": ""
             }
            },
            "type": "scatter3d"
           }
          ],
          "scattercarpet": [
           {
            "marker": {
             "colorbar": {
              "outlinewidth": 0,
              "ticks": ""
             }
            },
            "type": "scattercarpet"
           }
          ],
          "scattergeo": [
           {
            "marker": {
             "colorbar": {
              "outlinewidth": 0,
              "ticks": ""
             }
            },
            "type": "scattergeo"
           }
          ],
          "scattergl": [
           {
            "marker": {
             "colorbar": {
              "outlinewidth": 0,
              "ticks": ""
             }
            },
            "type": "scattergl"
           }
          ],
          "scattermapbox": [
           {
            "marker": {
             "colorbar": {
              "outlinewidth": 0,
              "ticks": ""
             }
            },
            "type": "scattermapbox"
           }
          ],
          "scatterpolar": [
           {
            "marker": {
             "colorbar": {
              "outlinewidth": 0,
              "ticks": ""
             }
            },
            "type": "scatterpolar"
           }
          ],
          "scatterpolargl": [
           {
            "marker": {
             "colorbar": {
              "outlinewidth": 0,
              "ticks": ""
             }
            },
            "type": "scatterpolargl"
           }
          ],
          "scatterternary": [
           {
            "marker": {
             "colorbar": {
              "outlinewidth": 0,
              "ticks": ""
             }
            },
            "type": "scatterternary"
           }
          ],
          "surface": [
           {
            "colorbar": {
             "outlinewidth": 0,
             "ticks": ""
            },
            "colorscale": [
             [
              0,
              "#0d0887"
             ],
             [
              0.1111111111111111,
              "#46039f"
             ],
             [
              0.2222222222222222,
              "#7201a8"
             ],
             [
              0.3333333333333333,
              "#9c179e"
             ],
             [
              0.4444444444444444,
              "#bd3786"
             ],
             [
              0.5555555555555556,
              "#d8576b"
             ],
             [
              0.6666666666666666,
              "#ed7953"
             ],
             [
              0.7777777777777778,
              "#fb9f3a"
             ],
             [
              0.8888888888888888,
              "#fdca26"
             ],
             [
              1,
              "#f0f921"
             ]
            ],
            "type": "surface"
           }
          ],
          "table": [
           {
            "cells": {
             "fill": {
              "color": "#EBF0F8"
             },
             "line": {
              "color": "white"
             }
            },
            "header": {
             "fill": {
              "color": "#C8D4E3"
             },
             "line": {
              "color": "white"
             }
            },
            "type": "table"
           }
          ]
         },
         "layout": {
          "annotationdefaults": {
           "arrowcolor": "#2a3f5f",
           "arrowhead": 0,
           "arrowwidth": 1
          },
          "autotypenumbers": "strict",
          "coloraxis": {
           "colorbar": {
            "outlinewidth": 0,
            "ticks": ""
           }
          },
          "colorscale": {
           "diverging": [
            [
             0,
             "#8e0152"
            ],
            [
             0.1,
             "#c51b7d"
            ],
            [
             0.2,
             "#de77ae"
            ],
            [
             0.3,
             "#f1b6da"
            ],
            [
             0.4,
             "#fde0ef"
            ],
            [
             0.5,
             "#f7f7f7"
            ],
            [
             0.6,
             "#e6f5d0"
            ],
            [
             0.7,
             "#b8e186"
            ],
            [
             0.8,
             "#7fbc41"
            ],
            [
             0.9,
             "#4d9221"
            ],
            [
             1,
             "#276419"
            ]
           ],
           "sequential": [
            [
             0,
             "#0d0887"
            ],
            [
             0.1111111111111111,
             "#46039f"
            ],
            [
             0.2222222222222222,
             "#7201a8"
            ],
            [
             0.3333333333333333,
             "#9c179e"
            ],
            [
             0.4444444444444444,
             "#bd3786"
            ],
            [
             0.5555555555555556,
             "#d8576b"
            ],
            [
             0.6666666666666666,
             "#ed7953"
            ],
            [
             0.7777777777777778,
             "#fb9f3a"
            ],
            [
             0.8888888888888888,
             "#fdca26"
            ],
            [
             1,
             "#f0f921"
            ]
           ],
           "sequentialminus": [
            [
             0,
             "#0d0887"
            ],
            [
             0.1111111111111111,
             "#46039f"
            ],
            [
             0.2222222222222222,
             "#7201a8"
            ],
            [
             0.3333333333333333,
             "#9c179e"
            ],
            [
             0.4444444444444444,
             "#bd3786"
            ],
            [
             0.5555555555555556,
             "#d8576b"
            ],
            [
             0.6666666666666666,
             "#ed7953"
            ],
            [
             0.7777777777777778,
             "#fb9f3a"
            ],
            [
             0.8888888888888888,
             "#fdca26"
            ],
            [
             1,
             "#f0f921"
            ]
           ]
          },
          "colorway": [
           "#636efa",
           "#EF553B",
           "#00cc96",
           "#ab63fa",
           "#FFA15A",
           "#19d3f3",
           "#FF6692",
           "#B6E880",
           "#FF97FF",
           "#FECB52"
          ],
          "font": {
           "color": "#2a3f5f"
          },
          "geo": {
           "bgcolor": "white",
           "lakecolor": "white",
           "landcolor": "#E5ECF6",
           "showlakes": true,
           "showland": true,
           "subunitcolor": "white"
          },
          "hoverlabel": {
           "align": "left"
          },
          "hovermode": "closest",
          "mapbox": {
           "style": "light"
          },
          "paper_bgcolor": "white",
          "plot_bgcolor": "#E5ECF6",
          "polar": {
           "angularaxis": {
            "gridcolor": "white",
            "linecolor": "white",
            "ticks": ""
           },
           "bgcolor": "#E5ECF6",
           "radialaxis": {
            "gridcolor": "white",
            "linecolor": "white",
            "ticks": ""
           }
          },
          "scene": {
           "xaxis": {
            "backgroundcolor": "#E5ECF6",
            "gridcolor": "white",
            "gridwidth": 2,
            "linecolor": "white",
            "showbackground": true,
            "ticks": "",
            "zerolinecolor": "white"
           },
           "yaxis": {
            "backgroundcolor": "#E5ECF6",
            "gridcolor": "white",
            "gridwidth": 2,
            "linecolor": "white",
            "showbackground": true,
            "ticks": "",
            "zerolinecolor": "white"
           },
           "zaxis": {
            "backgroundcolor": "#E5ECF6",
            "gridcolor": "white",
            "gridwidth": 2,
            "linecolor": "white",
            "showbackground": true,
            "ticks": "",
            "zerolinecolor": "white"
           }
          },
          "shapedefaults": {
           "line": {
            "color": "#2a3f5f"
           }
          },
          "ternary": {
           "aaxis": {
            "gridcolor": "white",
            "linecolor": "white",
            "ticks": ""
           },
           "baxis": {
            "gridcolor": "white",
            "linecolor": "white",
            "ticks": ""
           },
           "bgcolor": "#E5ECF6",
           "caxis": {
            "gridcolor": "white",
            "linecolor": "white",
            "ticks": ""
           }
          },
          "title": {
           "x": 0.05
          },
          "xaxis": {
           "automargin": true,
           "gridcolor": "white",
           "linecolor": "white",
           "ticks": "",
           "title": {
            "standoff": 15
           },
           "zerolinecolor": "white",
           "zerolinewidth": 2
          },
          "yaxis": {
           "automargin": true,
           "gridcolor": "white",
           "linecolor": "white",
           "ticks": "",
           "title": {
            "standoff": 15
           },
           "zerolinecolor": "white",
           "zerolinewidth": 2
          }
         }
        },
        "title": {
         "text": "Total Pendapatan Berdasarkan Kategori Ukuran"
        },
        "xaxis": {
         "anchor": "y",
         "domain": [
          0,
          1
         ],
         "title": {
          "text": "Ukuran"
         }
        },
        "yaxis": {
         "anchor": "x",
         "domain": [
          0,
          1
         ],
         "title": {
          "text": "Total Pendapatan"
         }
        }
       }
      }
     },
     "metadata": {},
     "output_type": "display_data"
    }
   ],
   "source": [
    "fig = px.bar(pendapatan_berdasarkan_kategori_ukuran, x=\"ukuran\", y=\"total_pendapatan\", title=\"Total Pendapatan Berdasarkan Kategori Ukuran\")\n",
    "fig.update_xaxes(title=\"Ukuran\")\n",
    "fig.update_yaxes(title=\"Total Pendapatan\")\n",
    "fig.show()"
   ]
  },
  {
   "cell_type": "markdown",
   "metadata": {},
   "source": [
    "Berdasarkan grafik tersebut. Total pendapatan tertinggi berasal dari kategori ukuran `< 10m^2` yaitu *Rp 12.876.750*. Sedangkan total pendapatan terendah berasal dari kategori ukuran `31 - 40m^2` yaitu *Rp 1.644.000*. Besarnya ukuran taman tidak selalu berbanding lurus dengan pendapatan"
   ]
  },
  {
   "cell_type": "markdown",
   "metadata": {},
   "source": [
    "#### Total Pendapatan Berdasarkan Kategori Desain "
   ]
  },
  {
   "cell_type": "code",
   "execution_count": 57,
   "metadata": {},
   "outputs": [],
   "source": [
    "query_pendapatan_berdasarkan_kategori_desain = \"\"\"\n",
    "SELECT\n",
    "\tcategory_name,\n",
    "    SUM(price) AS total_pendapatan\n",
    "FROM(\n",
    "\tSELECT \n",
    "    order_design.id_order,\n",
    "    order_design.id_user,\n",
    "    category_size.id_category,\n",
    "    order_design.id_design_finish,\n",
    "    category_design.id_category_design,\n",
    "    user.name AS user_name,\n",
    "    user.status AS user_status,\n",
    "    design.design_name,\n",
    "    design.status AS design_status,\n",
    "    CASE\n",
    "    \tWHEN category_size.id_category = 1 THEN '< 10m^2'\n",
    "\t\tWHEN category_size.id_category = 2 THEN '11 - 20m^2'\n",
    "   \t\tWHEN category_size.id_category = 3 THEN '21 - 30m^2'\n",
    "   \t\tWHEN category_size.id_category = 4 THEN '31 - 40m^2'\n",
    "   \t\tWHEN category_size.id_category = 5 THEN '41 - 50m^2'\n",
    "   \t\tELSE '> 50m^2'\n",
    "   \tEND AS category_size,\n",
    "    CASE\n",
    "\t\tWHEN category_design.name = 'Minimalis' then 'Minimalis'\n",
    "    \tWHEN category_design.name = 'Tropis' then 'Tropis'\n",
    "        WHEN category_design.name = 'Kering' then 'Kering'\n",
    "        WHEN category_design.name = 'Mediterania' then 'Mediterania'\n",
    "        WHEN category_design.name is null then 'Unknown Type'\n",
    "    END AS category_name,\n",
    "   \torder_design.status AS order_status,\n",
    "   \torder_design.price,\n",
    "   \tpromo_code.code AS promo_code,\n",
    "   \tpromo_code.valid_from,\n",
    "   \tpromo_code.valid_until,\n",
    "   \torder_design.created_at,\n",
    "   \torder_design.updated_at,\n",
    "    CASE\n",
    "    \tWHEN address_components.administrative_area_level_1 IN ('Daerah Khusus Ibukota Jakarta','Jakarta') THEN 'Daerah Khusus Ibukota Jakarta'\n",
    "        WHEN address_components.administrative_area_level_1 = 'Banten' THEN 'Banten'\n",
    "        WHEN address_components.administrative_area_level_1 IN ('Jawa Barat', 'West Java') THEN 'Jawa Barat'\n",
    "        WHEN address_components.administrative_area_level_1 IN ('Jawa Timur', 'East Java') THEN 'Jawa Timur'\n",
    "        WHEN address_components.administrative_area_level_1 = 'Bali' THEN 'Bali'\n",
    "        WHEN address_components.administrative_area_level_1 = 'Sulawesi Selatan' THEN 'Sulawesi Selatan'\n",
    "        WHEN address_components.administrative_area_level_1 IN ('Sumatera Utara', 'North Sumatra') THEN 'Sumatera Utara'\n",
    "        WHEN address_components.administrative_area_level_1 IN ('Jawa Tengah', 'Central Java') THEN 'Jawa Tengah'\n",
    "        WHEN address_components.administrative_area_level_1 = 'Daerah Istimewa Yogyakarta' THEN 'Daerah Istimewa Yogyakarta'\n",
    "        WHEN address_components.administrative_area_level_1 = 'Jambi' THEN 'Jambi'\n",
    "        WHEN address_components.administrative_area_level_1 = 'Lampung' THEN 'Lampung'\n",
    "        WHEN address_components.administrative_area_level_1 = 'Aceh' THEN 'Aceh'\n",
    "        WHEN address_components.administrative_area_level_1 IN ('Sumatera Barat', 'West Sumatra') THEN 'Sumatera Barat'\n",
    "        WHEN address_components.administrative_area_level_1 = 'Federal District' THEN 'Federal District'\n",
    "        WHEN address_components.administrative_area_level_1 = '' OR address_components.administrative_area_level_1 IS NULL THEN 'Unknown Location'\n",
    "        ELSE address_components.administrative_area_level_1\n",
    "  \tEND AS province,\n",
    "    CASE\n",
    "        WHEN address_components.administrative_area_level_2 IN ('Badung', 'Badung Regency') THEN 'Badung'\n",
    "        WHEN address_components.administrative_area_level_2 IN ('Bandung', 'Bandung Regency') THEN 'Bandung'\n",
    "        WHEN address_components.administrative_area_level_2 IN ('Banyumas', 'Banyumas Regency') THEN 'Banyumas'\n",
    "        WHEN address_components.administrative_area_level_2 IN ('Bekasi', 'Bekasi Regency') THEN 'Bekasi'\n",
    "        WHEN address_components.administrative_area_level_2 IN ('Bogor', 'Bogor Regency') THEN 'Bogor'\n",
    "        WHEN address_components.administrative_area_level_2 IN ('Central Jakarta City', 'Jakarta Pusat') THEN 'Jakarta Pusat'\n",
    "        WHEN address_components.administrative_area_level_2 IN ('Ciamis', 'Ciamis Regency') THEN 'Ciamis'\n",
    "        WHEN address_components.administrative_area_level_2 IN ('Cimahi', 'Cimahi City') THEN 'Cimahi'\n",
    "        WHEN address_components.administrative_area_level_2 IN ('Deli Serdang', 'Deli Serdang Regency') THEN 'Deli Serdang'\n",
    "        WHEN address_components.administrative_area_level_2 IN ('Depok', 'Depok City') THEN 'Depok'\n",
    "        WHEN address_components.administrative_area_level_2 IN ('East Jakarta City', 'Jakarta Timur') THEN 'Jakarta Timur'\n",
    "        WHEN address_components.administrative_area_level_2 IN ('Jakarta Barat', 'West Jakarta City') THEN 'Jakarta Barat'\n",
    "        WHEN address_components.administrative_area_level_2 IN ('Jakarta Selatan', 'South Jakarta City') THEN 'Jakarta Selatan'\n",
    "        WHEN address_components.administrative_area_level_2 IN ('Jakarta Utara', 'North Jakarta City') THEN 'Jakarta Utara'\n",
    "        WHEN address_components.administrative_area_level_2 IN ('Jember', 'Jember Regency') THEN 'Jember'\n",
    "        WHEN address_components.administrative_area_level_2 IN ('Klungkung', 'Klungkung Regency') THEN 'Klungkung'\n",
    "        WHEN address_components.administrative_area_level_2 IN ('Pringsewu', 'Pringsewu Regency') THEN 'Pringsewu'\n",
    "        WHEN address_components.administrative_area_level_2 IN ('Sukabumi', 'Sukabumi City') THEN 'Sukabumi'\n",
    "        WHEN address_components.administrative_area_level_2 IN ('Tangerang', 'Tangerang City', 'Tangerang Regency') THEN 'Tangerang'\n",
    "        WHEN address_components.administrative_area_level_2 IN ('Tangerang Selatan', 'South Tangerang City') THEN 'Tangerang Selatan'\n",
    "        WHEN address_components.administrative_area_level_2 IN ('West Bandung', 'West Bandung Regency') THEN 'Bandung Barat'\n",
    "        WHEN address_components.administrative_area_level_2 = ' ' THEN 'Unknown City'\n",
    "        ELSE address_components.administrative_area_level_2\n",
    "    END AS city,\n",
    "    CASE\n",
    "        WHEN address_components.administrative_area_level_3 IN ('South Kuta') THEN 'Kuta Selatan'\n",
    "        WHEN address_components.administrative_area_level_3 = ' ' THEN 'Unknown District'\n",
    "        ELSE address_components.administrative_area_level_3\n",
    "    END AS district\n",
    "    FROM\n",
    "    \torder_design\n",
    "    LEFT JOIN\n",
    "    \tuser ON user.id_user = order_design.id_designer\n",
    "    LEFT JOIN\n",
    "    \tcategory_size ON category_size.id_category = order_design.id_category\n",
    "    LEFT JOIN\n",
    "    \tdesign ON design.id_design = order_design.id_design_finish\n",
    "    LEFT JOIN\n",
    "    \tcategory_design ON category_design.id_category_design = design.id_type\n",
    "    LEFT JOIN\n",
    "    \taddress_components ON address_components.address_componentable_id = order_design.id_order\n",
    "    LEFT JOIN \n",
    "        promo_code ON promo_code.id_promo = order_design.id_promo\n",
    "    WHERE \n",
    "    \torder_design.id_user > 249\n",
    "    AND\n",
    "    \torder_design.status NOT IN ('expired','new')\n",
    ") AS master_table\n",
    "GROUP BY \n",
    "\tcategory_name\n",
    "ORDER BY\n",
    "\ttotal_pendapatan DESC;\n",
    "\"\"\""
   ]
  },
  {
   "cell_type": "code",
   "execution_count": 58,
   "metadata": {},
   "outputs": [
    {
     "data": {
      "text/html": [
       "<div>\n",
       "<style scoped>\n",
       "    .dataframe tbody tr th:only-of-type {\n",
       "        vertical-align: middle;\n",
       "    }\n",
       "\n",
       "    .dataframe tbody tr th {\n",
       "        vertical-align: top;\n",
       "    }\n",
       "\n",
       "    .dataframe thead th {\n",
       "        text-align: right;\n",
       "    }\n",
       "</style>\n",
       "<table border=\"1\" class=\"dataframe\">\n",
       "  <thead>\n",
       "    <tr style=\"text-align: right;\">\n",
       "      <th></th>\n",
       "      <th>category_name</th>\n",
       "      <th>total_pendapatan</th>\n",
       "    </tr>\n",
       "  </thead>\n",
       "  <tbody>\n",
       "    <tr>\n",
       "      <th>0</th>\n",
       "      <td>Minimalis</td>\n",
       "      <td>11127000.0</td>\n",
       "    </tr>\n",
       "    <tr>\n",
       "      <th>1</th>\n",
       "      <td>Tropis</td>\n",
       "      <td>10027250.0</td>\n",
       "    </tr>\n",
       "    <tr>\n",
       "      <th>2</th>\n",
       "      <td>Kering</td>\n",
       "      <td>8844500.0</td>\n",
       "    </tr>\n",
       "    <tr>\n",
       "      <th>3</th>\n",
       "      <td>Unknown Type</td>\n",
       "      <td>5815000.0</td>\n",
       "    </tr>\n",
       "    <tr>\n",
       "      <th>4</th>\n",
       "      <td>Mediterania</td>\n",
       "      <td>0.0</td>\n",
       "    </tr>\n",
       "  </tbody>\n",
       "</table>\n",
       "</div>"
      ],
      "text/plain": [
       "  category_name  total_pendapatan\n",
       "0     Minimalis        11127000.0\n",
       "1        Tropis        10027250.0\n",
       "2        Kering         8844500.0\n",
       "3  Unknown Type         5815000.0\n",
       "4   Mediterania               0.0"
      ]
     },
     "execution_count": 58,
     "metadata": {},
     "output_type": "execute_result"
    }
   ],
   "source": [
    "pendapatan_berdasarkan_kategori_desain = fetch_data(host, port, user, passwd, databs, query_pendapatan_berdasarkan_kategori_desain)\n",
    "pendapatan_berdasarkan_kategori_desain"
   ]
  },
  {
   "cell_type": "code",
   "execution_count": 59,
   "metadata": {},
   "outputs": [
    {
     "data": {
      "application/vnd.plotly.v1+json": {
       "config": {
        "plotlyServerURL": "https://plot.ly"
       },
       "data": [
        {
         "alignmentgroup": "True",
         "hovertemplate": "category_name=%{x}<br>total_pendapatan=%{y}<extra></extra>",
         "legendgroup": "",
         "marker": {
          "color": "#636efa",
          "pattern": {
           "shape": ""
          }
         },
         "name": "",
         "offsetgroup": "",
         "orientation": "v",
         "showlegend": false,
         "textposition": "auto",
         "type": "bar",
         "x": [
          "Minimalis",
          "Tropis",
          "Kering",
          "Unknown Type",
          "Mediterania"
         ],
         "xaxis": "x",
         "y": [
          11127000,
          10027250,
          8844500,
          5815000,
          0
         ],
         "yaxis": "y"
        }
       ],
       "layout": {
        "barmode": "relative",
        "legend": {
         "tracegroupgap": 0
        },
        "template": {
         "data": {
          "bar": [
           {
            "error_x": {
             "color": "#2a3f5f"
            },
            "error_y": {
             "color": "#2a3f5f"
            },
            "marker": {
             "line": {
              "color": "#E5ECF6",
              "width": 0.5
             },
             "pattern": {
              "fillmode": "overlay",
              "size": 10,
              "solidity": 0.2
             }
            },
            "type": "bar"
           }
          ],
          "barpolar": [
           {
            "marker": {
             "line": {
              "color": "#E5ECF6",
              "width": 0.5
             },
             "pattern": {
              "fillmode": "overlay",
              "size": 10,
              "solidity": 0.2
             }
            },
            "type": "barpolar"
           }
          ],
          "carpet": [
           {
            "aaxis": {
             "endlinecolor": "#2a3f5f",
             "gridcolor": "white",
             "linecolor": "white",
             "minorgridcolor": "white",
             "startlinecolor": "#2a3f5f"
            },
            "baxis": {
             "endlinecolor": "#2a3f5f",
             "gridcolor": "white",
             "linecolor": "white",
             "minorgridcolor": "white",
             "startlinecolor": "#2a3f5f"
            },
            "type": "carpet"
           }
          ],
          "choropleth": [
           {
            "colorbar": {
             "outlinewidth": 0,
             "ticks": ""
            },
            "type": "choropleth"
           }
          ],
          "contour": [
           {
            "colorbar": {
             "outlinewidth": 0,
             "ticks": ""
            },
            "colorscale": [
             [
              0,
              "#0d0887"
             ],
             [
              0.1111111111111111,
              "#46039f"
             ],
             [
              0.2222222222222222,
              "#7201a8"
             ],
             [
              0.3333333333333333,
              "#9c179e"
             ],
             [
              0.4444444444444444,
              "#bd3786"
             ],
             [
              0.5555555555555556,
              "#d8576b"
             ],
             [
              0.6666666666666666,
              "#ed7953"
             ],
             [
              0.7777777777777778,
              "#fb9f3a"
             ],
             [
              0.8888888888888888,
              "#fdca26"
             ],
             [
              1,
              "#f0f921"
             ]
            ],
            "type": "contour"
           }
          ],
          "contourcarpet": [
           {
            "colorbar": {
             "outlinewidth": 0,
             "ticks": ""
            },
            "type": "contourcarpet"
           }
          ],
          "heatmap": [
           {
            "colorbar": {
             "outlinewidth": 0,
             "ticks": ""
            },
            "colorscale": [
             [
              0,
              "#0d0887"
             ],
             [
              0.1111111111111111,
              "#46039f"
             ],
             [
              0.2222222222222222,
              "#7201a8"
             ],
             [
              0.3333333333333333,
              "#9c179e"
             ],
             [
              0.4444444444444444,
              "#bd3786"
             ],
             [
              0.5555555555555556,
              "#d8576b"
             ],
             [
              0.6666666666666666,
              "#ed7953"
             ],
             [
              0.7777777777777778,
              "#fb9f3a"
             ],
             [
              0.8888888888888888,
              "#fdca26"
             ],
             [
              1,
              "#f0f921"
             ]
            ],
            "type": "heatmap"
           }
          ],
          "heatmapgl": [
           {
            "colorbar": {
             "outlinewidth": 0,
             "ticks": ""
            },
            "colorscale": [
             [
              0,
              "#0d0887"
             ],
             [
              0.1111111111111111,
              "#46039f"
             ],
             [
              0.2222222222222222,
              "#7201a8"
             ],
             [
              0.3333333333333333,
              "#9c179e"
             ],
             [
              0.4444444444444444,
              "#bd3786"
             ],
             [
              0.5555555555555556,
              "#d8576b"
             ],
             [
              0.6666666666666666,
              "#ed7953"
             ],
             [
              0.7777777777777778,
              "#fb9f3a"
             ],
             [
              0.8888888888888888,
              "#fdca26"
             ],
             [
              1,
              "#f0f921"
             ]
            ],
            "type": "heatmapgl"
           }
          ],
          "histogram": [
           {
            "marker": {
             "pattern": {
              "fillmode": "overlay",
              "size": 10,
              "solidity": 0.2
             }
            },
            "type": "histogram"
           }
          ],
          "histogram2d": [
           {
            "colorbar": {
             "outlinewidth": 0,
             "ticks": ""
            },
            "colorscale": [
             [
              0,
              "#0d0887"
             ],
             [
              0.1111111111111111,
              "#46039f"
             ],
             [
              0.2222222222222222,
              "#7201a8"
             ],
             [
              0.3333333333333333,
              "#9c179e"
             ],
             [
              0.4444444444444444,
              "#bd3786"
             ],
             [
              0.5555555555555556,
              "#d8576b"
             ],
             [
              0.6666666666666666,
              "#ed7953"
             ],
             [
              0.7777777777777778,
              "#fb9f3a"
             ],
             [
              0.8888888888888888,
              "#fdca26"
             ],
             [
              1,
              "#f0f921"
             ]
            ],
            "type": "histogram2d"
           }
          ],
          "histogram2dcontour": [
           {
            "colorbar": {
             "outlinewidth": 0,
             "ticks": ""
            },
            "colorscale": [
             [
              0,
              "#0d0887"
             ],
             [
              0.1111111111111111,
              "#46039f"
             ],
             [
              0.2222222222222222,
              "#7201a8"
             ],
             [
              0.3333333333333333,
              "#9c179e"
             ],
             [
              0.4444444444444444,
              "#bd3786"
             ],
             [
              0.5555555555555556,
              "#d8576b"
             ],
             [
              0.6666666666666666,
              "#ed7953"
             ],
             [
              0.7777777777777778,
              "#fb9f3a"
             ],
             [
              0.8888888888888888,
              "#fdca26"
             ],
             [
              1,
              "#f0f921"
             ]
            ],
            "type": "histogram2dcontour"
           }
          ],
          "mesh3d": [
           {
            "colorbar": {
             "outlinewidth": 0,
             "ticks": ""
            },
            "type": "mesh3d"
           }
          ],
          "parcoords": [
           {
            "line": {
             "colorbar": {
              "outlinewidth": 0,
              "ticks": ""
             }
            },
            "type": "parcoords"
           }
          ],
          "pie": [
           {
            "automargin": true,
            "type": "pie"
           }
          ],
          "scatter": [
           {
            "fillpattern": {
             "fillmode": "overlay",
             "size": 10,
             "solidity": 0.2
            },
            "type": "scatter"
           }
          ],
          "scatter3d": [
           {
            "line": {
             "colorbar": {
              "outlinewidth": 0,
              "ticks": ""
             }
            },
            "marker": {
             "colorbar": {
              "outlinewidth": 0,
              "ticks": ""
             }
            },
            "type": "scatter3d"
           }
          ],
          "scattercarpet": [
           {
            "marker": {
             "colorbar": {
              "outlinewidth": 0,
              "ticks": ""
             }
            },
            "type": "scattercarpet"
           }
          ],
          "scattergeo": [
           {
            "marker": {
             "colorbar": {
              "outlinewidth": 0,
              "ticks": ""
             }
            },
            "type": "scattergeo"
           }
          ],
          "scattergl": [
           {
            "marker": {
             "colorbar": {
              "outlinewidth": 0,
              "ticks": ""
             }
            },
            "type": "scattergl"
           }
          ],
          "scattermapbox": [
           {
            "marker": {
             "colorbar": {
              "outlinewidth": 0,
              "ticks": ""
             }
            },
            "type": "scattermapbox"
           }
          ],
          "scatterpolar": [
           {
            "marker": {
             "colorbar": {
              "outlinewidth": 0,
              "ticks": ""
             }
            },
            "type": "scatterpolar"
           }
          ],
          "scatterpolargl": [
           {
            "marker": {
             "colorbar": {
              "outlinewidth": 0,
              "ticks": ""
             }
            },
            "type": "scatterpolargl"
           }
          ],
          "scatterternary": [
           {
            "marker": {
             "colorbar": {
              "outlinewidth": 0,
              "ticks": ""
             }
            },
            "type": "scatterternary"
           }
          ],
          "surface": [
           {
            "colorbar": {
             "outlinewidth": 0,
             "ticks": ""
            },
            "colorscale": [
             [
              0,
              "#0d0887"
             ],
             [
              0.1111111111111111,
              "#46039f"
             ],
             [
              0.2222222222222222,
              "#7201a8"
             ],
             [
              0.3333333333333333,
              "#9c179e"
             ],
             [
              0.4444444444444444,
              "#bd3786"
             ],
             [
              0.5555555555555556,
              "#d8576b"
             ],
             [
              0.6666666666666666,
              "#ed7953"
             ],
             [
              0.7777777777777778,
              "#fb9f3a"
             ],
             [
              0.8888888888888888,
              "#fdca26"
             ],
             [
              1,
              "#f0f921"
             ]
            ],
            "type": "surface"
           }
          ],
          "table": [
           {
            "cells": {
             "fill": {
              "color": "#EBF0F8"
             },
             "line": {
              "color": "white"
             }
            },
            "header": {
             "fill": {
              "color": "#C8D4E3"
             },
             "line": {
              "color": "white"
             }
            },
            "type": "table"
           }
          ]
         },
         "layout": {
          "annotationdefaults": {
           "arrowcolor": "#2a3f5f",
           "arrowhead": 0,
           "arrowwidth": 1
          },
          "autotypenumbers": "strict",
          "coloraxis": {
           "colorbar": {
            "outlinewidth": 0,
            "ticks": ""
           }
          },
          "colorscale": {
           "diverging": [
            [
             0,
             "#8e0152"
            ],
            [
             0.1,
             "#c51b7d"
            ],
            [
             0.2,
             "#de77ae"
            ],
            [
             0.3,
             "#f1b6da"
            ],
            [
             0.4,
             "#fde0ef"
            ],
            [
             0.5,
             "#f7f7f7"
            ],
            [
             0.6,
             "#e6f5d0"
            ],
            [
             0.7,
             "#b8e186"
            ],
            [
             0.8,
             "#7fbc41"
            ],
            [
             0.9,
             "#4d9221"
            ],
            [
             1,
             "#276419"
            ]
           ],
           "sequential": [
            [
             0,
             "#0d0887"
            ],
            [
             0.1111111111111111,
             "#46039f"
            ],
            [
             0.2222222222222222,
             "#7201a8"
            ],
            [
             0.3333333333333333,
             "#9c179e"
            ],
            [
             0.4444444444444444,
             "#bd3786"
            ],
            [
             0.5555555555555556,
             "#d8576b"
            ],
            [
             0.6666666666666666,
             "#ed7953"
            ],
            [
             0.7777777777777778,
             "#fb9f3a"
            ],
            [
             0.8888888888888888,
             "#fdca26"
            ],
            [
             1,
             "#f0f921"
            ]
           ],
           "sequentialminus": [
            [
             0,
             "#0d0887"
            ],
            [
             0.1111111111111111,
             "#46039f"
            ],
            [
             0.2222222222222222,
             "#7201a8"
            ],
            [
             0.3333333333333333,
             "#9c179e"
            ],
            [
             0.4444444444444444,
             "#bd3786"
            ],
            [
             0.5555555555555556,
             "#d8576b"
            ],
            [
             0.6666666666666666,
             "#ed7953"
            ],
            [
             0.7777777777777778,
             "#fb9f3a"
            ],
            [
             0.8888888888888888,
             "#fdca26"
            ],
            [
             1,
             "#f0f921"
            ]
           ]
          },
          "colorway": [
           "#636efa",
           "#EF553B",
           "#00cc96",
           "#ab63fa",
           "#FFA15A",
           "#19d3f3",
           "#FF6692",
           "#B6E880",
           "#FF97FF",
           "#FECB52"
          ],
          "font": {
           "color": "#2a3f5f"
          },
          "geo": {
           "bgcolor": "white",
           "lakecolor": "white",
           "landcolor": "#E5ECF6",
           "showlakes": true,
           "showland": true,
           "subunitcolor": "white"
          },
          "hoverlabel": {
           "align": "left"
          },
          "hovermode": "closest",
          "mapbox": {
           "style": "light"
          },
          "paper_bgcolor": "white",
          "plot_bgcolor": "#E5ECF6",
          "polar": {
           "angularaxis": {
            "gridcolor": "white",
            "linecolor": "white",
            "ticks": ""
           },
           "bgcolor": "#E5ECF6",
           "radialaxis": {
            "gridcolor": "white",
            "linecolor": "white",
            "ticks": ""
           }
          },
          "scene": {
           "xaxis": {
            "backgroundcolor": "#E5ECF6",
            "gridcolor": "white",
            "gridwidth": 2,
            "linecolor": "white",
            "showbackground": true,
            "ticks": "",
            "zerolinecolor": "white"
           },
           "yaxis": {
            "backgroundcolor": "#E5ECF6",
            "gridcolor": "white",
            "gridwidth": 2,
            "linecolor": "white",
            "showbackground": true,
            "ticks": "",
            "zerolinecolor": "white"
           },
           "zaxis": {
            "backgroundcolor": "#E5ECF6",
            "gridcolor": "white",
            "gridwidth": 2,
            "linecolor": "white",
            "showbackground": true,
            "ticks": "",
            "zerolinecolor": "white"
           }
          },
          "shapedefaults": {
           "line": {
            "color": "#2a3f5f"
           }
          },
          "ternary": {
           "aaxis": {
            "gridcolor": "white",
            "linecolor": "white",
            "ticks": ""
           },
           "baxis": {
            "gridcolor": "white",
            "linecolor": "white",
            "ticks": ""
           },
           "bgcolor": "#E5ECF6",
           "caxis": {
            "gridcolor": "white",
            "linecolor": "white",
            "ticks": ""
           }
          },
          "title": {
           "x": 0.05
          },
          "xaxis": {
           "automargin": true,
           "gridcolor": "white",
           "linecolor": "white",
           "ticks": "",
           "title": {
            "standoff": 15
           },
           "zerolinecolor": "white",
           "zerolinewidth": 2
          },
          "yaxis": {
           "automargin": true,
           "gridcolor": "white",
           "linecolor": "white",
           "ticks": "",
           "title": {
            "standoff": 15
           },
           "zerolinecolor": "white",
           "zerolinewidth": 2
          }
         }
        },
        "title": {
         "text": "Total Pendapatan Berdasarkan Kategori Desain"
        },
        "xaxis": {
         "anchor": "y",
         "domain": [
          0,
          1
         ],
         "title": {
          "text": "Kategori Desain"
         }
        },
        "yaxis": {
         "anchor": "x",
         "domain": [
          0,
          1
         ],
         "title": {
          "text": "Total Pendapatan"
         }
        }
       }
      }
     },
     "metadata": {},
     "output_type": "display_data"
    }
   ],
   "source": [
    "fig = px.bar(pendapatan_berdasarkan_kategori_desain, x=\"category_name\", y=\"total_pendapatan\", title=\"Total Pendapatan Berdasarkan Kategori Desain\")\n",
    "fig.update_xaxes(title=\"Kategori Desain\")\n",
    "fig.update_yaxes(title=\"Total Pendapatan\")\n",
    "fig.show()"
   ]
  },
  {
   "cell_type": "markdown",
   "metadata": {},
   "source": [
    "Berdasarkan grafik tersebut, pendapatan tertinggi berasal dari kategori `Tropis` yaitu *Rp 10.027.250*, diikuti oleh kategori `Minimalis` yaitu *Rp 9.312.000*, kemudian kategori `Kering` yaitu *Rp 8.394.500*, dan terendah berasal dari kategori `Mediterania` yaitu *Rp 0*"
   ]
  },
  {
   "cell_type": "markdown",
   "metadata": {},
   "source": [
    "#### Top 10 Desainer"
   ]
  },
  {
   "cell_type": "code",
   "execution_count": 64,
   "metadata": {},
   "outputs": [],
   "source": [
    "query_top_10_designer = \"\"\"  \n",
    "SELECT \n",
    "    user_name,\n",
    "    COUNT(id_order) AS jumlah_permintaan\n",
    "FROM(\n",
    "    SELECT \n",
    "    order_design.id_order,\n",
    "    order_design.id_user,\n",
    "    category_size.id_category,\n",
    "    order_design.id_design_finish,\n",
    "    category_design.id_category_design,\n",
    "    user.name AS user_name,\n",
    "    user.status AS user_status,\n",
    "    design.design_name,\n",
    "    design.status AS design_status,\n",
    "    CASE\n",
    "    \tWHEN category_size.id_category = 1 THEN '< 10m^2'\n",
    "\t\tWHEN category_size.id_category = 2 THEN '11 - 20m^2'\n",
    "   \t\tWHEN category_size.id_category = 3 THEN '21 - 30m^2'\n",
    "   \t\tWHEN category_size.id_category = 4 THEN '31 - 40m^2'\n",
    "   \t\tWHEN category_size.id_category = 5 THEN '41 - 50m^2'\n",
    "   \t\tELSE '> 50m^2'\n",
    "   \tEND AS category_size,\n",
    "   \tcategory_design.name AS category_name,\n",
    "   \torder_design.status AS order_status,\n",
    "   \torder_design.price,\n",
    "   \tpromo_code.code AS promo_code,\n",
    "   \tpromo_code.valid_from,\n",
    "   \tpromo_code.valid_until,\n",
    "   \torder_design.created_at,\n",
    "   \torder_design.updated_at,\n",
    "    CASE\n",
    "    \tWHEN address_components.administrative_area_level_1 IN ('Daerah Khusus Ibukota Jakarta','Jakarta') THEN 'Daerah Khusus Ibukota Jakarta'\n",
    "        WHEN address_components.administrative_area_level_1 = 'Banten' THEN 'Banten'\n",
    "        WHEN address_components.administrative_area_level_1 IN ('Jawa Barat', 'West Java') THEN 'Jawa Barat'\n",
    "        WHEN address_components.administrative_area_level_1 IN ('Jawa Timur', 'East Java') THEN 'Jawa Timur'\n",
    "        WHEN address_components.administrative_area_level_1 = 'Bali' THEN 'Bali'\n",
    "        WHEN address_components.administrative_area_level_1 = 'Sulawesi Selatan' THEN 'Sulawesi Selatan'\n",
    "        WHEN address_components.administrative_area_level_1 IN ('Sumatera Utara', 'North Sumatra') THEN 'Sumatera Utara'\n",
    "        WHEN address_components.administrative_area_level_1 IN ('Jawa Tengah', 'Central Java') THEN 'Jawa Tengah'\n",
    "        WHEN address_components.administrative_area_level_1 = 'Daerah Istimewa Yogyakarta' THEN 'Daerah Istimewa Yogyakarta'\n",
    "        WHEN address_components.administrative_area_level_1 = 'Jambi' THEN 'Jambi'\n",
    "        WHEN address_components.administrative_area_level_1 = 'Lampung' THEN 'Lampung'\n",
    "        WHEN address_components.administrative_area_level_1 = 'Aceh' THEN 'Aceh'\n",
    "        WHEN address_components.administrative_area_level_1 IN ('Sumatera Barat', 'West Sumatra') THEN 'Sumatera Barat'\n",
    "        WHEN address_components.administrative_area_level_1 = 'Federal District' THEN 'Federal District'\n",
    "        WHEN address_components.administrative_area_level_1 = '' OR address_components.administrative_area_level_1 IS NULL THEN 'Unknown Location'\n",
    "        ELSE address_components.administrative_area_level_1\n",
    "  \tEND AS province,\n",
    "    CASE\n",
    "        WHEN address_components.administrative_area_level_2 IN ('Badung', 'Badung Regency') THEN 'Badung'\n",
    "        WHEN address_components.administrative_area_level_2 IN ('Bandung', 'Bandung Regency') THEN 'Bandung'\n",
    "        WHEN address_components.administrative_area_level_2 IN ('Banyumas', 'Banyumas Regency') THEN 'Banyumas'\n",
    "        WHEN address_components.administrative_area_level_2 IN ('Bekasi', 'Bekasi Regency') THEN 'Bekasi'\n",
    "        WHEN address_components.administrative_area_level_2 IN ('Bogor', 'Bogor Regency') THEN 'Bogor'\n",
    "        WHEN address_components.administrative_area_level_2 IN ('Central Jakarta City', 'Jakarta Pusat') THEN 'Jakarta Pusat'\n",
    "        WHEN address_components.administrative_area_level_2 IN ('Ciamis', 'Ciamis Regency') THEN 'Ciamis'\n",
    "        WHEN address_components.administrative_area_level_2 IN ('Cimahi', 'Cimahi City') THEN 'Cimahi'\n",
    "        WHEN address_components.administrative_area_level_2 IN ('Deli Serdang', 'Deli Serdang Regency') THEN 'Deli Serdang'\n",
    "        WHEN address_components.administrative_area_level_2 IN ('Depok', 'Depok City') THEN 'Depok'\n",
    "        WHEN address_components.administrative_area_level_2 IN ('East Jakarta City', 'Jakarta Timur') THEN 'Jakarta Timur'\n",
    "        WHEN address_components.administrative_area_level_2 IN ('Jakarta Barat', 'West Jakarta City') THEN 'Jakarta Barat'\n",
    "        WHEN address_components.administrative_area_level_2 IN ('Jakarta Selatan', 'South Jakarta City') THEN 'Jakarta Selatan'\n",
    "        WHEN address_components.administrative_area_level_2 IN ('Jakarta Utara', 'North Jakarta City') THEN 'Jakarta Utara'\n",
    "        WHEN address_components.administrative_area_level_2 IN ('Jember', 'Jember Regency') THEN 'Jember'\n",
    "        WHEN address_components.administrative_area_level_2 IN ('Klungkung', 'Klungkung Regency') THEN 'Klungkung'\n",
    "        WHEN address_components.administrative_area_level_2 IN ('Pringsewu', 'Pringsewu Regency') THEN 'Pringsewu'\n",
    "        WHEN address_components.administrative_area_level_2 IN ('Sukabumi', 'Sukabumi City') THEN 'Sukabumi'\n",
    "        WHEN address_components.administrative_area_level_2 IN ('Tangerang', 'Tangerang City', 'Tangerang Regency') THEN 'Tangerang'\n",
    "        WHEN address_components.administrative_area_level_2 IN ('Tangerang Selatan', 'South Tangerang City') THEN 'Tangerang Selatan'\n",
    "        WHEN address_components.administrative_area_level_2 IN ('West Bandung', 'West Bandung Regency') THEN 'Bandung Barat'\n",
    "        WHEN address_components.administrative_area_level_2 = ' ' THEN 'Unknown City'\n",
    "        ELSE address_components.administrative_area_level_2\n",
    "    END AS city,\n",
    "    CASE\n",
    "        WHEN address_components.administrative_area_level_3 IN ('South Kuta') THEN 'Kuta Selatan'\n",
    "        WHEN address_components.administrative_area_level_3 = ' ' THEN 'Unknown District'\n",
    "        ELSE address_components.administrative_area_level_3\n",
    "    END AS district\n",
    "    FROM\n",
    "    \torder_design\n",
    "    JOIN\n",
    "    \tuser ON user.id_user = order_design.id_designer\n",
    "    LEFT JOIN\n",
    "    \tcategory_size ON category_size.id_category = order_design.id_category\n",
    "    LEFT JOIN\n",
    "    \tdesign ON design.id_design = order_design.id_design_finish\n",
    "    LEFT JOIN\n",
    "    \tcategory_design ON category_design.id_category_design = design.id_type\n",
    "    LEFT JOIN\n",
    "    \taddress_components ON address_components.address_componentable_id = order_design.id_order\n",
    "    LEFT JOIN \n",
    "        promo_code ON promo_code.id_promo = order_design.id_promo\n",
    "    WHERE \n",
    "    \torder_design.id_user > 249\n",
    "    AND\n",
    "    \torder_design.status NOT IN ('expired','new')    \n",
    ") AS master_table\n",
    "GROUP BY\n",
    "    user_name\n",
    "ORDER BY\n",
    "    jumlah_permintaan DESC\n",
    "LIMIT 10;\n",
    "\"\"\""
   ]
  },
  {
   "cell_type": "code",
   "execution_count": 65,
   "metadata": {},
   "outputs": [
    {
     "data": {
      "text/html": [
       "<div>\n",
       "<style scoped>\n",
       "    .dataframe tbody tr th:only-of-type {\n",
       "        vertical-align: middle;\n",
       "    }\n",
       "\n",
       "    .dataframe tbody tr th {\n",
       "        vertical-align: top;\n",
       "    }\n",
       "\n",
       "    .dataframe thead th {\n",
       "        text-align: right;\n",
       "    }\n",
       "</style>\n",
       "<table border=\"1\" class=\"dataframe\">\n",
       "  <thead>\n",
       "    <tr style=\"text-align: right;\">\n",
       "      <th></th>\n",
       "      <th>user_name</th>\n",
       "      <th>jumlah_permintaan</th>\n",
       "    </tr>\n",
       "  </thead>\n",
       "  <tbody>\n",
       "    <tr>\n",
       "      <th>0</th>\n",
       "      <td>Arista Putri Valentin</td>\n",
       "      <td>32</td>\n",
       "    </tr>\n",
       "    <tr>\n",
       "      <th>1</th>\n",
       "      <td>Muhamad Rizq Januar</td>\n",
       "      <td>17</td>\n",
       "    </tr>\n",
       "    <tr>\n",
       "      <th>2</th>\n",
       "      <td>Mochammad Faizal Gibran</td>\n",
       "      <td>15</td>\n",
       "    </tr>\n",
       "    <tr>\n",
       "      <th>3</th>\n",
       "      <td>FAIRUZ NURUL FADHILAH</td>\n",
       "      <td>13</td>\n",
       "    </tr>\n",
       "    <tr>\n",
       "      <th>4</th>\n",
       "      <td>Fitria khoerunnisa</td>\n",
       "      <td>13</td>\n",
       "    </tr>\n",
       "    <tr>\n",
       "      <th>5</th>\n",
       "      <td>Fresylia Novita</td>\n",
       "      <td>11</td>\n",
       "    </tr>\n",
       "    <tr>\n",
       "      <th>6</th>\n",
       "      <td>Nila Reina Puspita</td>\n",
       "      <td>11</td>\n",
       "    </tr>\n",
       "    <tr>\n",
       "      <th>7</th>\n",
       "      <td>Ayudia Karima</td>\n",
       "      <td>10</td>\n",
       "    </tr>\n",
       "    <tr>\n",
       "      <th>8</th>\n",
       "      <td>Olivia</td>\n",
       "      <td>9</td>\n",
       "    </tr>\n",
       "    <tr>\n",
       "      <th>9</th>\n",
       "      <td>Diandra Faradina</td>\n",
       "      <td>9</td>\n",
       "    </tr>\n",
       "  </tbody>\n",
       "</table>\n",
       "</div>"
      ],
      "text/plain": [
       "                 user_name  jumlah_permintaan\n",
       "0    Arista Putri Valentin                 32\n",
       "1      Muhamad Rizq Januar                 17\n",
       "2  Mochammad Faizal Gibran                 15\n",
       "3    FAIRUZ NURUL FADHILAH                 13\n",
       "4       Fitria khoerunnisa                 13\n",
       "5          Fresylia Novita                 11\n",
       "6       Nila Reina Puspita                 11\n",
       "7            Ayudia Karima                 10\n",
       "8                   Olivia                  9\n",
       "9         Diandra Faradina                  9"
      ]
     },
     "execution_count": 65,
     "metadata": {},
     "output_type": "execute_result"
    }
   ],
   "source": [
    "top_10_designer = fetch_data(host, port, user, passwd, databs, query_top_10_designer)\n",
    "top_10_designer"
   ]
  },
  {
   "cell_type": "code",
   "execution_count": 67,
   "metadata": {},
   "outputs": [
    {
     "data": {
      "image/png": "[encoded data removed]",
      "text/plain": [
       "<Figure size 640x480 with 1 Axes>"
      ]
     },
     "metadata": {},
     "output_type": "display_data"
    }
   ],
   "source": [
    "# Membalik urutan untuk barh (horizontal bar)\n",
    "top_designer = top_10_designer.sort_values(by='jumlah_permintaan', ascending=False)\n",
    "\n",
    "# Membuat bar plot horizontal\n",
    "plt.barh(top_10_designer['user_name'], top_10_designer['jumlah_permintaan'], color='c')\n",
    "\n",
    "# Menambahkan judul dan label\n",
    "plt.title(\"Top 10 Desainer dengan Permintaan Terbanyak\")\n",
    "plt.xlabel(\"Jumlah Desain\")\n",
    "plt.ylabel(\"Nama Desainer\")\n",
    "\n",
    "# Menampilkan plot\n",
    "plt.show()"
   ]
  },
  {
   "cell_type": "markdown",
   "metadata": {},
   "source": [
    "Berdasarkan grafik di atas, desainer yang bernama `Arista Putri Valentin` memiliki total permintaan paling banyak yaitu 32. Namun terdapat beberapa desainer yang memiliki jumlah permintaan yang sama."
   ]
  },
  {
   "cell_type": "markdown",
   "metadata": {},
   "source": [
    "#### Total Order "
   ]
  },
  {
   "cell_type": "code",
   "execution_count": 68,
   "metadata": {},
   "outputs": [],
   "source": [
    "query_total_order = \"\"\"\n",
    "SELECT\n",
    "    COUNT(id_order) AS total_order\n",
    "FROM(\n",
    "\tSELECT \n",
    "    order_design.id_order,\n",
    "    order_design.id_user,\n",
    "    category_size.id_category,\n",
    "    order_design.id_design_finish,\n",
    "    category_design.id_category_design,\n",
    "    user.name AS user_name,\n",
    "    user.status AS user_status,\n",
    "    design.design_name,\n",
    "    design.status AS design_status,\n",
    "    CASE\n",
    "    \tWHEN category_size.id_category = 1 THEN '< 10m^2'\n",
    "\t\tWHEN category_size.id_category = 2 THEN '11 - 20m^2'\n",
    "   \t\tWHEN category_size.id_category = 3 THEN '21 - 30m^2'\n",
    "   \t\tWHEN category_size.id_category = 4 THEN '31 - 40m^2'\n",
    "   \t\tWHEN category_size.id_category = 5 THEN '41 - 50m^2'\n",
    "   \t\tELSE '> 50m^2'\n",
    "   \tEND AS category_size,\n",
    "   \tcategory_design.name AS category_name,\n",
    "   \torder_design.status AS order_status,\n",
    "   \torder_design.price,\n",
    "   \tpromo_code.code AS promo_code,\n",
    "   \tpromo_code.valid_from,\n",
    "   \tpromo_code.valid_until,\n",
    "   \torder_design.created_at,\n",
    "   \torder_design.updated_at,\n",
    "    CASE\n",
    "    \tWHEN address_components.administrative_area_level_1 IN ('Daerah Khusus Ibukota Jakarta','Jakarta') THEN 'Daerah Khusus Ibukota Jakarta'\n",
    "        WHEN address_components.administrative_area_level_1 = 'Banten' THEN 'Banten'\n",
    "        WHEN address_components.administrative_area_level_1 IN ('Jawa Barat', 'West Java') THEN 'Jawa Barat'\n",
    "        WHEN address_components.administrative_area_level_1 IN ('Jawa Timur', 'East Java') THEN 'Jawa Timur'\n",
    "        WHEN address_components.administrative_area_level_1 = 'Bali' THEN 'Bali'\n",
    "        WHEN address_components.administrative_area_level_1 = 'Sulawesi Selatan' THEN 'Sulawesi Selatan'\n",
    "        WHEN address_components.administrative_area_level_1 IN ('Sumatera Utara', 'North Sumatra') THEN 'Sumatera Utara'\n",
    "        WHEN address_components.administrative_area_level_1 IN ('Jawa Tengah', 'Central Java') THEN 'Jawa Tengah'\n",
    "        WHEN address_components.administrative_area_level_1 = 'Daerah Istimewa Yogyakarta' THEN 'Daerah Istimewa Yogyakarta'\n",
    "        WHEN address_components.administrative_area_level_1 = 'Jambi' THEN 'Jambi'\n",
    "        WHEN address_components.administrative_area_level_1 = 'Lampung' THEN 'Lampung'\n",
    "        WHEN address_components.administrative_area_level_1 = 'Aceh' THEN 'Aceh'\n",
    "        WHEN address_components.administrative_area_level_1 IN ('Sumatera Barat', 'West Sumatra') THEN 'Sumatera Barat'\n",
    "        WHEN address_components.administrative_area_level_1 = 'Federal District' THEN 'Federal District'\n",
    "        WHEN address_components.administrative_area_level_1 = '' OR address_components.administrative_area_level_1 IS NULL THEN 'Unknown Location'\n",
    "        ELSE address_components.administrative_area_level_1\n",
    "  \tEND AS province,\n",
    "    CASE\n",
    "        WHEN address_components.administrative_area_level_2 IN ('Badung', 'Badung Regency') THEN 'Badung'\n",
    "        WHEN address_components.administrative_area_level_2 IN ('Bandung', 'Bandung Regency') THEN 'Bandung'\n",
    "        WHEN address_components.administrative_area_level_2 IN ('Banyumas', 'Banyumas Regency') THEN 'Banyumas'\n",
    "        WHEN address_components.administrative_area_level_2 IN ('Bekasi', 'Bekasi Regency') THEN 'Bekasi'\n",
    "        WHEN address_components.administrative_area_level_2 IN ('Bogor', 'Bogor Regency') THEN 'Bogor'\n",
    "        WHEN address_components.administrative_area_level_2 IN ('Central Jakarta City', 'Jakarta Pusat') THEN 'Jakarta Pusat'\n",
    "        WHEN address_components.administrative_area_level_2 IN ('Ciamis', 'Ciamis Regency') THEN 'Ciamis'\n",
    "        WHEN address_components.administrative_area_level_2 IN ('Cimahi', 'Cimahi City') THEN 'Cimahi'\n",
    "        WHEN address_components.administrative_area_level_2 IN ('Deli Serdang', 'Deli Serdang Regency') THEN 'Deli Serdang'\n",
    "        WHEN address_components.administrative_area_level_2 IN ('Depok', 'Depok City') THEN 'Depok'\n",
    "        WHEN address_components.administrative_area_level_2 IN ('East Jakarta City', 'Jakarta Timur') THEN 'Jakarta Timur'\n",
    "        WHEN address_components.administrative_area_level_2 IN ('Jakarta Barat', 'West Jakarta City') THEN 'Jakarta Barat'\n",
    "        WHEN address_components.administrative_area_level_2 IN ('Jakarta Selatan', 'South Jakarta City') THEN 'Jakarta Selatan'\n",
    "        WHEN address_components.administrative_area_level_2 IN ('Jakarta Utara', 'North Jakarta City') THEN 'Jakarta Utara'\n",
    "        WHEN address_components.administrative_area_level_2 IN ('Jember', 'Jember Regency') THEN 'Jember'\n",
    "        WHEN address_components.administrative_area_level_2 IN ('Klungkung', 'Klungkung Regency') THEN 'Klungkung'\n",
    "        WHEN address_components.administrative_area_level_2 IN ('Pringsewu', 'Pringsewu Regency') THEN 'Pringsewu'\n",
    "        WHEN address_components.administrative_area_level_2 IN ('Sukabumi', 'Sukabumi City') THEN 'Sukabumi'\n",
    "        WHEN address_components.administrative_area_level_2 IN ('Tangerang', 'Tangerang City', 'Tangerang Regency') THEN 'Tangerang'\n",
    "        WHEN address_components.administrative_area_level_2 IN ('Tangerang Selatan', 'South Tangerang City') THEN 'Tangerang Selatan'\n",
    "        WHEN address_components.administrative_area_level_2 IN ('West Bandung', 'West Bandung Regency') THEN 'Bandung Barat'\n",
    "        WHEN address_components.administrative_area_level_2 = ' ' THEN 'Unknown City'\n",
    "        ELSE address_components.administrative_area_level_2\n",
    "    END AS city,\n",
    "    CASE\n",
    "        WHEN address_components.administrative_area_level_3 IN ('South Kuta') THEN 'Kuta Selatan'\n",
    "        WHEN address_components.administrative_area_level_3 = ' ' THEN 'Unknown District'\n",
    "        ELSE address_components.administrative_area_level_3\n",
    "    END AS district\n",
    "    FROM\n",
    "    \torder_design\n",
    "    LEFT JOIN\n",
    "    \tuser ON user.id_user = order_design.id_designer\n",
    "    LEFT JOIN\n",
    "    \tcategory_size ON category_size.id_category = order_design.id_category\n",
    "    LEFT JOIN\n",
    "    \tdesign ON design.id_design = order_design.id_design_finish\n",
    "    LEFT JOIN\n",
    "    \tcategory_design ON category_design.id_category_design = design.id_type\n",
    "    LEFT JOIN\n",
    "    \taddress_components ON address_components.address_componentable_id = order_design.id_order\n",
    "    LEFT JOIN \n",
    "        promo_code ON promo_code.id_promo = order_design.id_promo\n",
    "    WHERE \n",
    "    \torder_design.id_user > 249\n",
    "    AND\n",
    "    \torder_design.status NOT IN ('expired','new')\n",
    ") AS master_table;\n",
    "\"\"\""
   ]
  },
  {
   "cell_type": "code",
   "execution_count": 69,
   "metadata": {},
   "outputs": [
    {
     "data": {
      "text/html": [
       "<div>\n",
       "<style scoped>\n",
       "    .dataframe tbody tr th:only-of-type {\n",
       "        vertical-align: middle;\n",
       "    }\n",
       "\n",
       "    .dataframe tbody tr th {\n",
       "        vertical-align: top;\n",
       "    }\n",
       "\n",
       "    .dataframe thead th {\n",
       "        text-align: right;\n",
       "    }\n",
       "</style>\n",
       "<table border=\"1\" class=\"dataframe\">\n",
       "  <thead>\n",
       "    <tr style=\"text-align: right;\">\n",
       "      <th></th>\n",
       "      <th>total_order</th>\n",
       "    </tr>\n",
       "  </thead>\n",
       "  <tbody>\n",
       "    <tr>\n",
       "      <th>0</th>\n",
       "      <td>359</td>\n",
       "    </tr>\n",
       "  </tbody>\n",
       "</table>\n",
       "</div>"
      ],
      "text/plain": [
       "   total_order\n",
       "0          359"
      ]
     },
     "execution_count": 69,
     "metadata": {},
     "output_type": "execute_result"
    }
   ],
   "source": [
    "total_order = fetch_data(host, port, user, passwd, databs, query_total_order)\n",
    "total_order"
   ]
  },
  {
   "cell_type": "markdown",
   "metadata": {},
   "source": [
    "#### Tren Order Berdasarkan Bulan "
   ]
  },
  {
   "cell_type": "code",
   "execution_count": 70,
   "metadata": {},
   "outputs": [],
   "source": [
    "query_tren_order_per_bulan = \"\"\"  \n",
    "SELECT \n",
    "    COUNT(id_order) AS total_order,\n",
    "    DATE_FORMAT(created_at, '%M') AS nama_bulan\n",
    "FROM(\n",
    "\tSELECT \n",
    "    order_design.id_order,\n",
    "    order_design.id_user,\n",
    "    category_size.id_category,\n",
    "    order_design.id_design_finish,\n",
    "    category_design.id_category_design,\n",
    "    user.name AS user_name,\n",
    "    user.status AS user_status,\n",
    "    design.design_name,\n",
    "    design.status AS design_status,\n",
    "    CASE\n",
    "    \tWHEN category_size.id_category = 1 THEN '< 10m^2'\n",
    "\t\tWHEN category_size.id_category = 2 THEN '11 - 20m^2'\n",
    "   \t\tWHEN category_size.id_category = 3 THEN '21 - 30m^2'\n",
    "   \t\tWHEN category_size.id_category = 4 THEN '31 - 40m^2'\n",
    "   \t\tWHEN category_size.id_category = 5 THEN '41 - 50m^2'\n",
    "   \t\tELSE '> 50m^2'\n",
    "   \tEND AS category_size,\n",
    "   \tcategory_design.name AS category_name,\n",
    "   \torder_design.status AS order_status,\n",
    "   \torder_design.price,\n",
    "   \tpromo_code.code AS promo_code,\n",
    "   \tpromo_code.valid_from,\n",
    "   \tpromo_code.valid_until,\n",
    "   \torder_design.created_at,\n",
    "   \torder_design.updated_at,\n",
    "    CASE\n",
    "    \tWHEN address_components.administrative_area_level_1 IN ('Daerah Khusus Ibukota Jakarta','Jakarta') THEN 'Daerah Khusus Ibukota Jakarta'\n",
    "        WHEN address_components.administrative_area_level_1 = 'Banten' THEN 'Banten'\n",
    "        WHEN address_components.administrative_area_level_1 IN ('Jawa Barat', 'West Java') THEN 'Jawa Barat'\n",
    "        WHEN address_components.administrative_area_level_1 IN ('Jawa Timur', 'East Java') THEN 'Jawa Timur'\n",
    "        WHEN address_components.administrative_area_level_1 = 'Bali' THEN 'Bali'\n",
    "        WHEN address_components.administrative_area_level_1 = 'Sulawesi Selatan' THEN 'Sulawesi Selatan'\n",
    "        WHEN address_components.administrative_area_level_1 IN ('Sumatera Utara', 'North Sumatra') THEN 'Sumatera Utara'\n",
    "        WHEN address_components.administrative_area_level_1 IN ('Jawa Tengah', 'Central Java') THEN 'Jawa Tengah'\n",
    "        WHEN address_components.administrative_area_level_1 = 'Daerah Istimewa Yogyakarta' THEN 'Daerah Istimewa Yogyakarta'\n",
    "        WHEN address_components.administrative_area_level_1 = 'Jambi' THEN 'Jambi'\n",
    "        WHEN address_components.administrative_area_level_1 = 'Lampung' THEN 'Lampung'\n",
    "        WHEN address_components.administrative_area_level_1 = 'Aceh' THEN 'Aceh'\n",
    "        WHEN address_components.administrative_area_level_1 IN ('Sumatera Barat', 'West Sumatra') THEN 'Sumatera Barat'\n",
    "        WHEN address_components.administrative_area_level_1 = 'Federal District' THEN 'Federal District'\n",
    "        WHEN address_components.administrative_area_level_1 = '' OR address_components.administrative_area_level_1 IS NULL THEN 'Unknown Location'\n",
    "        ELSE address_components.administrative_area_level_1\n",
    "  \tEND AS province,\n",
    "    CASE\n",
    "        WHEN address_components.administrative_area_level_2 IN ('Badung', 'Badung Regency') THEN 'Badung'\n",
    "        WHEN address_components.administrative_area_level_2 IN ('Bandung', 'Bandung Regency') THEN 'Bandung'\n",
    "        WHEN address_components.administrative_area_level_2 IN ('Banyumas', 'Banyumas Regency') THEN 'Banyumas'\n",
    "        WHEN address_components.administrative_area_level_2 IN ('Bekasi', 'Bekasi Regency') THEN 'Bekasi'\n",
    "        WHEN address_components.administrative_area_level_2 IN ('Bogor', 'Bogor Regency') THEN 'Bogor'\n",
    "        WHEN address_components.administrative_area_level_2 IN ('Central Jakarta City', 'Jakarta Pusat') THEN 'Jakarta Pusat'\n",
    "        WHEN address_components.administrative_area_level_2 IN ('Ciamis', 'Ciamis Regency') THEN 'Ciamis'\n",
    "        WHEN address_components.administrative_area_level_2 IN ('Cimahi', 'Cimahi City') THEN 'Cimahi'\n",
    "        WHEN address_components.administrative_area_level_2 IN ('Deli Serdang', 'Deli Serdang Regency') THEN 'Deli Serdang'\n",
    "        WHEN address_components.administrative_area_level_2 IN ('Depok', 'Depok City') THEN 'Depok'\n",
    "        WHEN address_components.administrative_area_level_2 IN ('East Jakarta City', 'Jakarta Timur') THEN 'Jakarta Timur'\n",
    "        WHEN address_components.administrative_area_level_2 IN ('Jakarta Barat', 'West Jakarta City') THEN 'Jakarta Barat'\n",
    "        WHEN address_components.administrative_area_level_2 IN ('Jakarta Selatan', 'South Jakarta City') THEN 'Jakarta Selatan'\n",
    "        WHEN address_components.administrative_area_level_2 IN ('Jakarta Utara', 'North Jakarta City') THEN 'Jakarta Utara'\n",
    "        WHEN address_components.administrative_area_level_2 IN ('Jember', 'Jember Regency') THEN 'Jember'\n",
    "        WHEN address_components.administrative_area_level_2 IN ('Klungkung', 'Klungkung Regency') THEN 'Klungkung'\n",
    "        WHEN address_components.administrative_area_level_2 IN ('Pringsewu', 'Pringsewu Regency') THEN 'Pringsewu'\n",
    "        WHEN address_components.administrative_area_level_2 IN ('Sukabumi', 'Sukabumi City') THEN 'Sukabumi'\n",
    "        WHEN address_components.administrative_area_level_2 IN ('Tangerang', 'Tangerang City', 'Tangerang Regency') THEN 'Tangerang'\n",
    "        WHEN address_components.administrative_area_level_2 IN ('Tangerang Selatan', 'South Tangerang City') THEN 'Tangerang Selatan'\n",
    "        WHEN address_components.administrative_area_level_2 IN ('West Bandung', 'West Bandung Regency') THEN 'Bandung Barat'\n",
    "        WHEN address_components.administrative_area_level_2 = ' ' THEN 'Unknown City'\n",
    "        ELSE address_components.administrative_area_level_2\n",
    "    END AS city,\n",
    "    CASE\n",
    "        WHEN address_components.administrative_area_level_3 IN ('South Kuta') THEN 'Kuta Selatan'\n",
    "        WHEN address_components.administrative_area_level_3 = ' ' THEN 'Unknown District'\n",
    "        ELSE address_components.administrative_area_level_3\n",
    "    END AS district\n",
    "    FROM\n",
    "    \torder_design\n",
    "    LEFT JOIN\n",
    "    \tuser ON user.id_user = order_design.id_designer\n",
    "    LEFT JOIN\n",
    "    \tcategory_size ON category_size.id_category = order_design.id_category\n",
    "    LEFT JOIN\n",
    "    \tdesign ON design.id_design = order_design.id_design_finish\n",
    "    LEFT JOIN\n",
    "    \tcategory_design ON category_design.id_category_design = design.id_type\n",
    "    LEFT JOIN\n",
    "    \taddress_components ON address_components.address_componentable_id = order_design.id_order\n",
    "    LEFT JOIN \n",
    "        promo_code ON promo_code.id_promo = order_design.id_promo\n",
    "    WHERE \n",
    "    \torder_design.id_user > 249\n",
    "    AND\n",
    "    \torder_design.status NOT IN ('expired','new')\n",
    ") AS master_table\n",
    "GROUP BY \n",
    "    nama_bulan\n",
    "ORDER BY \n",
    "    created_at;\n",
    "\"\"\""
   ]
  },
  {
   "cell_type": "code",
   "execution_count": 71,
   "metadata": {},
   "outputs": [
    {
     "data": {
      "text/html": [
       "<div>\n",
       "<style scoped>\n",
       "    .dataframe tbody tr th:only-of-type {\n",
       "        vertical-align: middle;\n",
       "    }\n",
       "\n",
       "    .dataframe tbody tr th {\n",
       "        vertical-align: top;\n",
       "    }\n",
       "\n",
       "    .dataframe thead th {\n",
       "        text-align: right;\n",
       "    }\n",
       "</style>\n",
       "<table border=\"1\" class=\"dataframe\">\n",
       "  <thead>\n",
       "    <tr style=\"text-align: right;\">\n",
       "      <th></th>\n",
       "      <th>total_order</th>\n",
       "      <th>nama_bulan</th>\n",
       "    </tr>\n",
       "  </thead>\n",
       "  <tbody>\n",
       "    <tr>\n",
       "      <th>0</th>\n",
       "      <td>17</td>\n",
       "      <td>April</td>\n",
       "    </tr>\n",
       "    <tr>\n",
       "      <th>1</th>\n",
       "      <td>37</td>\n",
       "      <td>May</td>\n",
       "    </tr>\n",
       "    <tr>\n",
       "      <th>2</th>\n",
       "      <td>47</td>\n",
       "      <td>June</td>\n",
       "    </tr>\n",
       "    <tr>\n",
       "      <th>3</th>\n",
       "      <td>56</td>\n",
       "      <td>July</td>\n",
       "    </tr>\n",
       "    <tr>\n",
       "      <th>4</th>\n",
       "      <td>88</td>\n",
       "      <td>August</td>\n",
       "    </tr>\n",
       "    <tr>\n",
       "      <th>5</th>\n",
       "      <td>59</td>\n",
       "      <td>September</td>\n",
       "    </tr>\n",
       "    <tr>\n",
       "      <th>6</th>\n",
       "      <td>32</td>\n",
       "      <td>October</td>\n",
       "    </tr>\n",
       "    <tr>\n",
       "      <th>7</th>\n",
       "      <td>23</td>\n",
       "      <td>November</td>\n",
       "    </tr>\n",
       "  </tbody>\n",
       "</table>\n",
       "</div>"
      ],
      "text/plain": [
       "   total_order nama_bulan\n",
       "0           17      April\n",
       "1           37        May\n",
       "2           47       June\n",
       "3           56       July\n",
       "4           88     August\n",
       "5           59  September\n",
       "6           32    October\n",
       "7           23   November"
      ]
     },
     "execution_count": 71,
     "metadata": {},
     "output_type": "execute_result"
    }
   ],
   "source": [
    "tren_order_per_bulan = fetch_data(host, port, user, passwd, databs, query_tren_order_per_bulan)\n",
    "tren_order_per_bulan"
   ]
  },
  {
   "cell_type": "code",
   "execution_count": 72,
   "metadata": {},
   "outputs": [
    {
     "data": {
      "application/vnd.plotly.v1+json": {
       "config": {
        "plotlyServerURL": "https://plot.ly"
       },
       "data": [
        {
         "hovertemplate": "nama_bulan=%{x}<br>total_order=%{y}<extra></extra>",
         "legendgroup": "",
         "line": {
          "color": "#636efa",
          "dash": "solid"
         },
         "marker": {
          "symbol": "circle"
         },
         "mode": "lines+markers",
         "name": "",
         "orientation": "v",
         "showlegend": false,
         "type": "scatter",
         "x": [
          "April",
          "May",
          "June",
          "July",
          "August",
          "September",
          "October",
          "November"
         ],
         "xaxis": "x",
         "y": [
          17,
          37,
          47,
          56,
          88,
          59,
          32,
          23
         ],
         "yaxis": "y"
        }
       ],
       "layout": {
        "legend": {
         "tracegroupgap": 0
        },
        "template": {
         "data": {
          "bar": [
           {
            "error_x": {
             "color": "#2a3f5f"
            },
            "error_y": {
             "color": "#2a3f5f"
            },
            "marker": {
             "line": {
              "color": "#E5ECF6",
              "width": 0.5
             },
             "pattern": {
              "fillmode": "overlay",
              "size": 10,
              "solidity": 0.2
             }
            },
            "type": "bar"
           }
          ],
          "barpolar": [
           {
            "marker": {
             "line": {
              "color": "#E5ECF6",
              "width": 0.5
             },
             "pattern": {
              "fillmode": "overlay",
              "size": 10,
              "solidity": 0.2
             }
            },
            "type": "barpolar"
           }
          ],
          "carpet": [
           {
            "aaxis": {
             "endlinecolor": "#2a3f5f",
             "gridcolor": "white",
             "linecolor": "white",
             "minorgridcolor": "white",
             "startlinecolor": "#2a3f5f"
            },
            "baxis": {
             "endlinecolor": "#2a3f5f",
             "gridcolor": "white",
             "linecolor": "white",
             "minorgridcolor": "white",
             "startlinecolor": "#2a3f5f"
            },
            "type": "carpet"
           }
          ],
          "choropleth": [
           {
            "colorbar": {
             "outlinewidth": 0,
             "ticks": ""
            },
            "type": "choropleth"
           }
          ],
          "contour": [
           {
            "colorbar": {
             "outlinewidth": 0,
             "ticks": ""
            },
            "colorscale": [
             [
              0,
              "#0d0887"
             ],
             [
              0.1111111111111111,
              "#46039f"
             ],
             [
              0.2222222222222222,
              "#7201a8"
             ],
             [
              0.3333333333333333,
              "#9c179e"
             ],
             [
              0.4444444444444444,
              "#bd3786"
             ],
             [
              0.5555555555555556,
              "#d8576b"
             ],
             [
              0.6666666666666666,
              "#ed7953"
             ],
             [
              0.7777777777777778,
              "#fb9f3a"
             ],
             [
              0.8888888888888888,
              "#fdca26"
             ],
             [
              1,
              "#f0f921"
             ]
            ],
            "type": "contour"
           }
          ],
          "contourcarpet": [
           {
            "colorbar": {
             "outlinewidth": 0,
             "ticks": ""
            },
            "type": "contourcarpet"
           }
          ],
          "heatmap": [
           {
            "colorbar": {
             "outlinewidth": 0,
             "ticks": ""
            },
            "colorscale": [
             [
              0,
              "#0d0887"
             ],
             [
              0.1111111111111111,
              "#46039f"
             ],
             [
              0.2222222222222222,
              "#7201a8"
             ],
             [
              0.3333333333333333,
              "#9c179e"
             ],
             [
              0.4444444444444444,
              "#bd3786"
             ],
             [
              0.5555555555555556,
              "#d8576b"
             ],
             [
              0.6666666666666666,
              "#ed7953"
             ],
             [
              0.7777777777777778,
              "#fb9f3a"
             ],
             [
              0.8888888888888888,
              "#fdca26"
             ],
             [
              1,
              "#f0f921"
             ]
            ],
            "type": "heatmap"
           }
          ],
          "heatmapgl": [
           {
            "colorbar": {
             "outlinewidth": 0,
             "ticks": ""
            },
            "colorscale": [
             [
              0,
              "#0d0887"
             ],
             [
              0.1111111111111111,
              "#46039f"
             ],
             [
              0.2222222222222222,
              "#7201a8"
             ],
             [
              0.3333333333333333,
              "#9c179e"
             ],
             [
              0.4444444444444444,
              "#bd3786"
             ],
             [
              0.5555555555555556,
              "#d8576b"
             ],
             [
              0.6666666666666666,
              "#ed7953"
             ],
             [
              0.7777777777777778,
              "#fb9f3a"
             ],
             [
              0.8888888888888888,
              "#fdca26"
             ],
             [
              1,
              "#f0f921"
             ]
            ],
            "type": "heatmapgl"
           }
          ],
          "histogram": [
           {
            "marker": {
             "pattern": {
              "fillmode": "overlay",
              "size": 10,
              "solidity": 0.2
             }
            },
            "type": "histogram"
           }
          ],
          "histogram2d": [
           {
            "colorbar": {
             "outlinewidth": 0,
             "ticks": ""
            },
            "colorscale": [
             [
              0,
              "#0d0887"
             ],
             [
              0.1111111111111111,
              "#46039f"
             ],
             [
              0.2222222222222222,
              "#7201a8"
             ],
             [
              0.3333333333333333,
              "#9c179e"
             ],
             [
              0.4444444444444444,
              "#bd3786"
             ],
             [
              0.5555555555555556,
              "#d8576b"
             ],
             [
              0.6666666666666666,
              "#ed7953"
             ],
             [
              0.7777777777777778,
              "#fb9f3a"
             ],
             [
              0.8888888888888888,
              "#fdca26"
             ],
             [
              1,
              "#f0f921"
             ]
            ],
            "type": "histogram2d"
           }
          ],
          "histogram2dcontour": [
           {
            "colorbar": {
             "outlinewidth": 0,
             "ticks": ""
            },
            "colorscale": [
             [
              0,
              "#0d0887"
             ],
             [
              0.1111111111111111,
              "#46039f"
             ],
             [
              0.2222222222222222,
              "#7201a8"
             ],
             [
              0.3333333333333333,
              "#9c179e"
             ],
             [
              0.4444444444444444,
              "#bd3786"
             ],
             [
              0.5555555555555556,
              "#d8576b"
             ],
             [
              0.6666666666666666,
              "#ed7953"
             ],
             [
              0.7777777777777778,
              "#fb9f3a"
             ],
             [
              0.8888888888888888,
              "#fdca26"
             ],
             [
              1,
              "#f0f921"
             ]
            ],
            "type": "histogram2dcontour"
           }
          ],
          "mesh3d": [
           {
            "colorbar": {
             "outlinewidth": 0,
             "ticks": ""
            },
            "type": "mesh3d"
           }
          ],
          "parcoords": [
           {
            "line": {
             "colorbar": {
              "outlinewidth": 0,
              "ticks": ""
             }
            },
            "type": "parcoords"
           }
          ],
          "pie": [
           {
            "automargin": true,
            "type": "pie"
           }
          ],
          "scatter": [
           {
            "fillpattern": {
             "fillmode": "overlay",
             "size": 10,
             "solidity": 0.2
            },
            "type": "scatter"
           }
          ],
          "scatter3d": [
           {
            "line": {
             "colorbar": {
              "outlinewidth": 0,
              "ticks": ""
             }
            },
            "marker": {
             "colorbar": {
              "outlinewidth": 0,
              "ticks": ""
             }
            },
            "type": "scatter3d"
           }
          ],
          "scattercarpet": [
           {
            "marker": {
             "colorbar": {
              "outlinewidth": 0,
              "ticks": ""
             }
            },
            "type": "scattercarpet"
           }
          ],
          "scattergeo": [
           {
            "marker": {
             "colorbar": {
              "outlinewidth": 0,
              "ticks": ""
             }
            },
            "type": "scattergeo"
           }
          ],
          "scattergl": [
           {
            "marker": {
             "colorbar": {
              "outlinewidth": 0,
              "ticks": ""
             }
            },
            "type": "scattergl"
           }
          ],
          "scattermapbox": [
           {
            "marker": {
             "colorbar": {
              "outlinewidth": 0,
              "ticks": ""
             }
            },
            "type": "scattermapbox"
           }
          ],
          "scatterpolar": [
           {
            "marker": {
             "colorbar": {
              "outlinewidth": 0,
              "ticks": ""
             }
            },
            "type": "scatterpolar"
           }
          ],
          "scatterpolargl": [
           {
            "marker": {
             "colorbar": {
              "outlinewidth": 0,
              "ticks": ""
             }
            },
            "type": "scatterpolargl"
           }
          ],
          "scatterternary": [
           {
            "marker": {
             "colorbar": {
              "outlinewidth": 0,
              "ticks": ""
             }
            },
            "type": "scatterternary"
           }
          ],
          "surface": [
           {
            "colorbar": {
             "outlinewidth": 0,
             "ticks": ""
            },
            "colorscale": [
             [
              0,
              "#0d0887"
             ],
             [
              0.1111111111111111,
              "#46039f"
             ],
             [
              0.2222222222222222,
              "#7201a8"
             ],
             [
              0.3333333333333333,
              "#9c179e"
             ],
             [
              0.4444444444444444,
              "#bd3786"
             ],
             [
              0.5555555555555556,
              "#d8576b"
             ],
             [
              0.6666666666666666,
              "#ed7953"
             ],
             [
              0.7777777777777778,
              "#fb9f3a"
             ],
             [
              0.8888888888888888,
              "#fdca26"
             ],
             [
              1,
              "#f0f921"
             ]
            ],
            "type": "surface"
           }
          ],
          "table": [
           {
            "cells": {
             "fill": {
              "color": "#EBF0F8"
             },
             "line": {
              "color": "white"
             }
            },
            "header": {
             "fill": {
              "color": "#C8D4E3"
             },
             "line": {
              "color": "white"
             }
            },
            "type": "table"
           }
          ]
         },
         "layout": {
          "annotationdefaults": {
           "arrowcolor": "#2a3f5f",
           "arrowhead": 0,
           "arrowwidth": 1
          },
          "autotypenumbers": "strict",
          "coloraxis": {
           "colorbar": {
            "outlinewidth": 0,
            "ticks": ""
           }
          },
          "colorscale": {
           "diverging": [
            [
             0,
             "#8e0152"
            ],
            [
             0.1,
             "#c51b7d"
            ],
            [
             0.2,
             "#de77ae"
            ],
            [
             0.3,
             "#f1b6da"
            ],
            [
             0.4,
             "#fde0ef"
            ],
            [
             0.5,
             "#f7f7f7"
            ],
            [
             0.6,
             "#e6f5d0"
            ],
            [
             0.7,
             "#b8e186"
            ],
            [
             0.8,
             "#7fbc41"
            ],
            [
             0.9,
             "#4d9221"
            ],
            [
             1,
             "#276419"
            ]
           ],
           "sequential": [
            [
             0,
             "#0d0887"
            ],
            [
             0.1111111111111111,
             "#46039f"
            ],
            [
             0.2222222222222222,
             "#7201a8"
            ],
            [
             0.3333333333333333,
             "#9c179e"
            ],
            [
             0.4444444444444444,
             "#bd3786"
            ],
            [
             0.5555555555555556,
             "#d8576b"
            ],
            [
             0.6666666666666666,
             "#ed7953"
            ],
            [
             0.7777777777777778,
             "#fb9f3a"
            ],
            [
             0.8888888888888888,
             "#fdca26"
            ],
            [
             1,
             "#f0f921"
            ]
           ],
           "sequentialminus": [
            [
             0,
             "#0d0887"
            ],
            [
             0.1111111111111111,
             "#46039f"
            ],
            [
             0.2222222222222222,
             "#7201a8"
            ],
            [
             0.3333333333333333,
             "#9c179e"
            ],
            [
             0.4444444444444444,
             "#bd3786"
            ],
            [
             0.5555555555555556,
             "#d8576b"
            ],
            [
             0.6666666666666666,
             "#ed7953"
            ],
            [
             0.7777777777777778,
             "#fb9f3a"
            ],
            [
             0.8888888888888888,
             "#fdca26"
            ],
            [
             1,
             "#f0f921"
            ]
           ]
          },
          "colorway": [
           "#636efa",
           "#EF553B",
           "#00cc96",
           "#ab63fa",
           "#FFA15A",
           "#19d3f3",
           "#FF6692",
           "#B6E880",
           "#FF97FF",
           "#FECB52"
          ],
          "font": {
           "color": "#2a3f5f"
          },
          "geo": {
           "bgcolor": "white",
           "lakecolor": "white",
           "landcolor": "#E5ECF6",
           "showlakes": true,
           "showland": true,
           "subunitcolor": "white"
          },
          "hoverlabel": {
           "align": "left"
          },
          "hovermode": "closest",
          "mapbox": {
           "style": "light"
          },
          "paper_bgcolor": "white",
          "plot_bgcolor": "#E5ECF6",
          "polar": {
           "angularaxis": {
            "gridcolor": "white",
            "linecolor": "white",
            "ticks": ""
           },
           "bgcolor": "#E5ECF6",
           "radialaxis": {
            "gridcolor": "white",
            "linecolor": "white",
            "ticks": ""
           }
          },
          "scene": {
           "xaxis": {
            "backgroundcolor": "#E5ECF6",
            "gridcolor": "white",
            "gridwidth": 2,
            "linecolor": "white",
            "showbackground": true,
            "ticks": "",
            "zerolinecolor": "white"
           },
           "yaxis": {
            "backgroundcolor": "#E5ECF6",
            "gridcolor": "white",
            "gridwidth": 2,
            "linecolor": "white",
            "showbackground": true,
            "ticks": "",
            "zerolinecolor": "white"
           },
           "zaxis": {
            "backgroundcolor": "#E5ECF6",
            "gridcolor": "white",
            "gridwidth": 2,
            "linecolor": "white",
            "showbackground": true,
            "ticks": "",
            "zerolinecolor": "white"
           }
          },
          "shapedefaults": {
           "line": {
            "color": "#2a3f5f"
           }
          },
          "ternary": {
           "aaxis": {
            "gridcolor": "white",
            "linecolor": "white",
            "ticks": ""
           },
           "baxis": {
            "gridcolor": "white",
            "linecolor": "white",
            "ticks": ""
           },
           "bgcolor": "#E5ECF6",
           "caxis": {
            "gridcolor": "white",
            "linecolor": "white",
            "ticks": ""
           }
          },
          "title": {
           "x": 0.05
          },
          "xaxis": {
           "automargin": true,
           "gridcolor": "white",
           "linecolor": "white",
           "ticks": "",
           "title": {
            "standoff": 15
           },
           "zerolinecolor": "white",
           "zerolinewidth": 2
          },
          "yaxis": {
           "automargin": true,
           "gridcolor": "white",
           "linecolor": "white",
           "ticks": "",
           "title": {
            "standoff": 15
           },
           "zerolinecolor": "white",
           "zerolinewidth": 2
          }
         }
        },
        "title": {
         "text": "Tren Total Order Per Bulan"
        },
        "xaxis": {
         "anchor": "y",
         "domain": [
          0,
          1
         ],
         "title": {
          "text": "Nama Bulan"
         }
        },
        "yaxis": {
         "anchor": "x",
         "domain": [
          0,
          1
         ],
         "title": {
          "text": "Total Order"
         }
        }
       }
      }
     },
     "metadata": {},
     "output_type": "display_data"
    }
   ],
   "source": [
    "fig = px.line(tren_order_per_bulan, x=\"nama_bulan\", y=\"total_order\", title=\"Tren Total Order Per Bulan\", markers=True)\n",
    "fig.update_xaxes(title=\"Nama Bulan\")\n",
    "fig.update_yaxes(title=\"Total Order\")\n",
    "fig.show()"
   ]
  },
  {
   "cell_type": "markdown",
   "metadata": {},
   "source": [
    "Berdasarkan grafik di atas, tren order dari bulan `April` hingga `Agustus` meningkat. Puncaknya pada bulan `Agustus` dengan total order sebanyak *88* dan terendahnya pada bulan `April` sebanyak *17*. Namun setelahnya dari bulan `Agustus` hinga `November` menurun."
   ]
  },
  {
   "cell_type": "markdown",
   "metadata": {},
   "source": [
    "#### Total Order Dalam Proses"
   ]
  },
  {
   "cell_type": "code",
   "execution_count": 73,
   "metadata": {},
   "outputs": [],
   "source": [
    "query_total_order_dalam_proses = \"\"\"  \n",
    "SELECT\n",
    "    order_status,\n",
    "    COUNT(*) AS total_order\n",
    "FROM(\n",
    "\tSELECT \n",
    "    order_design.id_order,\n",
    "    order_design.id_user,\n",
    "    category_size.id_category,\n",
    "    order_design.id_design_finish,\n",
    "    category_design.id_category_design,\n",
    "    user.name AS user_name,\n",
    "    user.status AS user_status,\n",
    "    design.design_name,\n",
    "    design.status AS design_status,\n",
    "    CASE\n",
    "    \tWHEN category_size.id_category = 1 THEN '< 10m^2'\n",
    "\t\tWHEN category_size.id_category = 2 THEN '11 - 20m^2'\n",
    "   \t\tWHEN category_size.id_category = 3 THEN '21 - 30m^2'\n",
    "   \t\tWHEN category_size.id_category = 4 THEN '31 - 40m^2'\n",
    "   \t\tWHEN category_size.id_category = 5 THEN '41 - 50m^2'\n",
    "   \t\tELSE '> 50m^2'\n",
    "   \tEND AS category_size,\n",
    "   \tcategory_design.name AS category_name,\n",
    "   \torder_design.status AS order_status,\n",
    "   \torder_design.price,\n",
    "   \tpromo_code.code AS promo_code,\n",
    "   \tpromo_code.valid_from,\n",
    "   \tpromo_code.valid_until,\n",
    "   \torder_design.created_at,\n",
    "   \torder_design.updated_at,\n",
    "    CASE\n",
    "    \tWHEN address_components.administrative_area_level_1 IN ('Daerah Khusus Ibukota Jakarta','Jakarta') THEN 'Daerah Khusus Ibukota Jakarta'\n",
    "        WHEN address_components.administrative_area_level_1 = 'Banten' THEN 'Banten'\n",
    "        WHEN address_components.administrative_area_level_1 IN ('Jawa Barat', 'West Java') THEN 'Jawa Barat'\n",
    "        WHEN address_components.administrative_area_level_1 IN ('Jawa Timur', 'East Java') THEN 'Jawa Timur'\n",
    "        WHEN address_components.administrative_area_level_1 = 'Bali' THEN 'Bali'\n",
    "        WHEN address_components.administrative_area_level_1 = 'Sulawesi Selatan' THEN 'Sulawesi Selatan'\n",
    "        WHEN address_components.administrative_area_level_1 IN ('Sumatera Utara', 'North Sumatra') THEN 'Sumatera Utara'\n",
    "        WHEN address_components.administrative_area_level_1 IN ('Jawa Tengah', 'Central Java') THEN 'Jawa Tengah'\n",
    "        WHEN address_components.administrative_area_level_1 = 'Daerah Istimewa Yogyakarta' THEN 'Daerah Istimewa Yogyakarta'\n",
    "        WHEN address_components.administrative_area_level_1 = 'Jambi' THEN 'Jambi'\n",
    "        WHEN address_components.administrative_area_level_1 = 'Lampung' THEN 'Lampung'\n",
    "        WHEN address_components.administrative_area_level_1 = 'Aceh' THEN 'Aceh'\n",
    "        WHEN address_components.administrative_area_level_1 IN ('Sumatera Barat', 'West Sumatra') THEN 'Sumatera Barat'\n",
    "        WHEN address_components.administrative_area_level_1 = 'Federal District' THEN 'Federal District'\n",
    "        WHEN address_components.administrative_area_level_1 = '' OR address_components.administrative_area_level_1 IS NULL THEN 'Unknown Location'\n",
    "        ELSE address_components.administrative_area_level_1\n",
    "  \tEND AS province,\n",
    "    CASE\n",
    "        WHEN address_components.administrative_area_level_2 IN ('Badung', 'Badung Regency') THEN 'Badung'\n",
    "        WHEN address_components.administrative_area_level_2 IN ('Bandung', 'Bandung Regency') THEN 'Bandung'\n",
    "        WHEN address_components.administrative_area_level_2 IN ('Banyumas', 'Banyumas Regency') THEN 'Banyumas'\n",
    "        WHEN address_components.administrative_area_level_2 IN ('Bekasi', 'Bekasi Regency') THEN 'Bekasi'\n",
    "        WHEN address_components.administrative_area_level_2 IN ('Bogor', 'Bogor Regency') THEN 'Bogor'\n",
    "        WHEN address_components.administrative_area_level_2 IN ('Central Jakarta City', 'Jakarta Pusat') THEN 'Jakarta Pusat'\n",
    "        WHEN address_components.administrative_area_level_2 IN ('Ciamis', 'Ciamis Regency') THEN 'Ciamis'\n",
    "        WHEN address_components.administrative_area_level_2 IN ('Cimahi', 'Cimahi City') THEN 'Cimahi'\n",
    "        WHEN address_components.administrative_area_level_2 IN ('Deli Serdang', 'Deli Serdang Regency') THEN 'Deli Serdang'\n",
    "        WHEN address_components.administrative_area_level_2 IN ('Depok', 'Depok City') THEN 'Depok'\n",
    "        WHEN address_components.administrative_area_level_2 IN ('East Jakarta City', 'Jakarta Timur') THEN 'Jakarta Timur'\n",
    "        WHEN address_components.administrative_area_level_2 IN ('Jakarta Barat', 'West Jakarta City') THEN 'Jakarta Barat'\n",
    "        WHEN address_components.administrative_area_level_2 IN ('Jakarta Selatan', 'South Jakarta City') THEN 'Jakarta Selatan'\n",
    "        WHEN address_components.administrative_area_level_2 IN ('Jakarta Utara', 'North Jakarta City') THEN 'Jakarta Utara'\n",
    "        WHEN address_components.administrative_area_level_2 IN ('Jember', 'Jember Regency') THEN 'Jember'\n",
    "        WHEN address_components.administrative_area_level_2 IN ('Klungkung', 'Klungkung Regency') THEN 'Klungkung'\n",
    "        WHEN address_components.administrative_area_level_2 IN ('Pringsewu', 'Pringsewu Regency') THEN 'Pringsewu'\n",
    "        WHEN address_components.administrative_area_level_2 IN ('Sukabumi', 'Sukabumi City') THEN 'Sukabumi'\n",
    "        WHEN address_components.administrative_area_level_2 IN ('Tangerang', 'Tangerang City', 'Tangerang Regency') THEN 'Tangerang'\n",
    "        WHEN address_components.administrative_area_level_2 IN ('Tangerang Selatan', 'South Tangerang City') THEN 'Tangerang Selatan'\n",
    "        WHEN address_components.administrative_area_level_2 IN ('West Bandung', 'West Bandung Regency') THEN 'Bandung Barat'\n",
    "        WHEN address_components.administrative_area_level_2 = ' ' THEN 'Unknown City'\n",
    "        ELSE address_components.administrative_area_level_2\n",
    "    END AS city,\n",
    "    CASE\n",
    "        WHEN address_components.administrative_area_level_3 IN ('South Kuta') THEN 'Kuta Selatan'\n",
    "        WHEN address_components.administrative_area_level_3 = ' ' THEN 'Unknown District'\n",
    "        ELSE address_components.administrative_area_level_3\n",
    "    END AS district\n",
    "    FROM\n",
    "    \torder_design\n",
    "    LEFT JOIN\n",
    "    \tuser ON user.id_user = order_design.id_designer\n",
    "    LEFT JOIN\n",
    "    \tcategory_size ON category_size.id_category = order_design.id_category\n",
    "    LEFT JOIN\n",
    "    \tdesign ON design.id_design = order_design.id_design_finish\n",
    "    LEFT JOIN\n",
    "    \tcategory_design ON category_design.id_category_design = design.id_type\n",
    "    LEFT JOIN\n",
    "    \taddress_components ON address_components.address_componentable_id = order_design.id_order\n",
    "    LEFT JOIN \n",
    "        promo_code ON promo_code.id_promo = order_design.id_promo\n",
    "    WHERE \n",
    "    \torder_design.id_user > 249\n",
    "    AND\n",
    "    \torder_design.status IN ('paid','wait_freelancer','on_going','in_review_internal','in_review')\n",
    ") AS master_table\n",
    "GROUP BY \n",
    "\torder_status;\n",
    "\"\"\""
   ]
  },
  {
   "cell_type": "code",
   "execution_count": 75,
   "metadata": {},
   "outputs": [
    {
     "data": {
      "text/html": [
       "<div>\n",
       "<style scoped>\n",
       "    .dataframe tbody tr th:only-of-type {\n",
       "        vertical-align: middle;\n",
       "    }\n",
       "\n",
       "    .dataframe tbody tr th {\n",
       "        vertical-align: top;\n",
       "    }\n",
       "\n",
       "    .dataframe thead th {\n",
       "        text-align: right;\n",
       "    }\n",
       "</style>\n",
       "<table border=\"1\" class=\"dataframe\">\n",
       "  <thead>\n",
       "    <tr style=\"text-align: right;\">\n",
       "      <th></th>\n",
       "      <th>order_status</th>\n",
       "      <th>total_order</th>\n",
       "    </tr>\n",
       "  </thead>\n",
       "  <tbody>\n",
       "    <tr>\n",
       "      <th>0</th>\n",
       "      <td>in_review</td>\n",
       "      <td>151</td>\n",
       "    </tr>\n",
       "    <tr>\n",
       "      <th>1</th>\n",
       "      <td>in_review_internal</td>\n",
       "      <td>25</td>\n",
       "    </tr>\n",
       "    <tr>\n",
       "      <th>2</th>\n",
       "      <td>on_going</td>\n",
       "      <td>24</td>\n",
       "    </tr>\n",
       "    <tr>\n",
       "      <th>3</th>\n",
       "      <td>paid</td>\n",
       "      <td>31</td>\n",
       "    </tr>\n",
       "    <tr>\n",
       "      <th>4</th>\n",
       "      <td>wait_freelancer</td>\n",
       "      <td>6</td>\n",
       "    </tr>\n",
       "  </tbody>\n",
       "</table>\n",
       "</div>"
      ],
      "text/plain": [
       "         order_status  total_order\n",
       "0           in_review          151\n",
       "1  in_review_internal           25\n",
       "2            on_going           24\n",
       "3                paid           31\n",
       "4     wait_freelancer            6"
      ]
     },
     "execution_count": 75,
     "metadata": {},
     "output_type": "execute_result"
    }
   ],
   "source": [
    "total_order_dalam_proses = fetch_data(host, port, user, passwd, databs, query_total_order_dalam_proses)\n",
    "total_order_dalam_proses"
   ]
  },
  {
   "cell_type": "code",
   "execution_count": 77,
   "metadata": {},
   "outputs": [
    {
     "data": {
      "application/vnd.plotly.v1+json": {
       "config": {
        "plotlyServerURL": "https://plot.ly"
       },
       "data": [
        {
         "alignmentgroup": "True",
         "hovertemplate": "order_status=%{x}<br>total_order=%{y}<extra></extra>",
         "legendgroup": "",
         "marker": {
          "color": "#636efa",
          "pattern": {
           "shape": ""
          }
         },
         "name": "",
         "offsetgroup": "",
         "orientation": "v",
         "showlegend": false,
         "textposition": "auto",
         "type": "bar",
         "x": [
          "in_review",
          "in_review_internal",
          "on_going",
          "paid",
          "wait_freelancer"
         ],
         "xaxis": "x",
         "y": [
          151,
          25,
          24,
          31,
          6
         ],
         "yaxis": "y"
        }
       ],
       "layout": {
        "barmode": "relative",
        "legend": {
         "tracegroupgap": 0
        },
        "template": {
         "data": {
          "bar": [
           {
            "error_x": {
             "color": "#2a3f5f"
            },
            "error_y": {
             "color": "#2a3f5f"
            },
            "marker": {
             "line": {
              "color": "#E5ECF6",
              "width": 0.5
             },
             "pattern": {
              "fillmode": "overlay",
              "size": 10,
              "solidity": 0.2
             }
            },
            "type": "bar"
           }
          ],
          "barpolar": [
           {
            "marker": {
             "line": {
              "color": "#E5ECF6",
              "width": 0.5
             },
             "pattern": {
              "fillmode": "overlay",
              "size": 10,
              "solidity": 0.2
             }
            },
            "type": "barpolar"
           }
          ],
          "carpet": [
           {
            "aaxis": {
             "endlinecolor": "#2a3f5f",
             "gridcolor": "white",
             "linecolor": "white",
             "minorgridcolor": "white",
             "startlinecolor": "#2a3f5f"
            },
            "baxis": {
             "endlinecolor": "#2a3f5f",
             "gridcolor": "white",
             "linecolor": "white",
             "minorgridcolor": "white",
             "startlinecolor": "#2a3f5f"
            },
            "type": "carpet"
           }
          ],
          "choropleth": [
           {
            "colorbar": {
             "outlinewidth": 0,
             "ticks": ""
            },
            "type": "choropleth"
           }
          ],
          "contour": [
           {
            "colorbar": {
             "outlinewidth": 0,
             "ticks": ""
            },
            "colorscale": [
             [
              0,
              "#0d0887"
             ],
             [
              0.1111111111111111,
              "#46039f"
             ],
             [
              0.2222222222222222,
              "#7201a8"
             ],
             [
              0.3333333333333333,
              "#9c179e"
             ],
             [
              0.4444444444444444,
              "#bd3786"
             ],
             [
              0.5555555555555556,
              "#d8576b"
             ],
             [
              0.6666666666666666,
              "#ed7953"
             ],
             [
              0.7777777777777778,
              "#fb9f3a"
             ],
             [
              0.8888888888888888,
              "#fdca26"
             ],
             [
              1,
              "#f0f921"
             ]
            ],
            "type": "contour"
           }
          ],
          "contourcarpet": [
           {
            "colorbar": {
             "outlinewidth": 0,
             "ticks": ""
            },
            "type": "contourcarpet"
           }
          ],
          "heatmap": [
           {
            "colorbar": {
             "outlinewidth": 0,
             "ticks": ""
            },
            "colorscale": [
             [
              0,
              "#0d0887"
             ],
             [
              0.1111111111111111,
              "#46039f"
             ],
             [
              0.2222222222222222,
              "#7201a8"
             ],
             [
              0.3333333333333333,
              "#9c179e"
             ],
             [
              0.4444444444444444,
              "#bd3786"
             ],
             [
              0.5555555555555556,
              "#d8576b"
             ],
             [
              0.6666666666666666,
              "#ed7953"
             ],
             [
              0.7777777777777778,
              "#fb9f3a"
             ],
             [
              0.8888888888888888,
              "#fdca26"
             ],
             [
              1,
              "#f0f921"
             ]
            ],
            "type": "heatmap"
           }
          ],
          "heatmapgl": [
           {
            "colorbar": {
             "outlinewidth": 0,
             "ticks": ""
            },
            "colorscale": [
             [
              0,
              "#0d0887"
             ],
             [
              0.1111111111111111,
              "#46039f"
             ],
             [
              0.2222222222222222,
              "#7201a8"
             ],
             [
              0.3333333333333333,
              "#9c179e"
             ],
             [
              0.4444444444444444,
              "#bd3786"
             ],
             [
              0.5555555555555556,
              "#d8576b"
             ],
             [
              0.6666666666666666,
              "#ed7953"
             ],
             [
              0.7777777777777778,
              "#fb9f3a"
             ],
             [
              0.8888888888888888,
              "#fdca26"
             ],
             [
              1,
              "#f0f921"
             ]
            ],
            "type": "heatmapgl"
           }
          ],
          "histogram": [
           {
            "marker": {
             "pattern": {
              "fillmode": "overlay",
              "size": 10,
              "solidity": 0.2
             }
            },
            "type": "histogram"
           }
          ],
          "histogram2d": [
           {
            "colorbar": {
             "outlinewidth": 0,
             "ticks": ""
            },
            "colorscale": [
             [
              0,
              "#0d0887"
             ],
             [
              0.1111111111111111,
              "#46039f"
             ],
             [
              0.2222222222222222,
              "#7201a8"
             ],
             [
              0.3333333333333333,
              "#9c179e"
             ],
             [
              0.4444444444444444,
              "#bd3786"
             ],
             [
              0.5555555555555556,
              "#d8576b"
             ],
             [
              0.6666666666666666,
              "#ed7953"
             ],
             [
              0.7777777777777778,
              "#fb9f3a"
             ],
             [
              0.8888888888888888,
              "#fdca26"
             ],
             [
              1,
              "#f0f921"
             ]
            ],
            "type": "histogram2d"
           }
          ],
          "histogram2dcontour": [
           {
            "colorbar": {
             "outlinewidth": 0,
             "ticks": ""
            },
            "colorscale": [
             [
              0,
              "#0d0887"
             ],
             [
              0.1111111111111111,
              "#46039f"
             ],
             [
              0.2222222222222222,
              "#7201a8"
             ],
             [
              0.3333333333333333,
              "#9c179e"
             ],
             [
              0.4444444444444444,
              "#bd3786"
             ],
             [
              0.5555555555555556,
              "#d8576b"
             ],
             [
              0.6666666666666666,
              "#ed7953"
             ],
             [
              0.7777777777777778,
              "#fb9f3a"
             ],
             [
              0.8888888888888888,
              "#fdca26"
             ],
             [
              1,
              "#f0f921"
             ]
            ],
            "type": "histogram2dcontour"
           }
          ],
          "mesh3d": [
           {
            "colorbar": {
             "outlinewidth": 0,
             "ticks": ""
            },
            "type": "mesh3d"
           }
          ],
          "parcoords": [
           {
            "line": {
             "colorbar": {
              "outlinewidth": 0,
              "ticks": ""
             }
            },
            "type": "parcoords"
           }
          ],
          "pie": [
           {
            "automargin": true,
            "type": "pie"
           }
          ],
          "scatter": [
           {
            "fillpattern": {
             "fillmode": "overlay",
             "size": 10,
             "solidity": 0.2
            },
            "type": "scatter"
           }
          ],
          "scatter3d": [
           {
            "line": {
             "colorbar": {
              "outlinewidth": 0,
              "ticks": ""
             }
            },
            "marker": {
             "colorbar": {
              "outlinewidth": 0,
              "ticks": ""
             }
            },
            "type": "scatter3d"
           }
          ],
          "scattercarpet": [
           {
            "marker": {
             "colorbar": {
              "outlinewidth": 0,
              "ticks": ""
             }
            },
            "type": "scattercarpet"
           }
          ],
          "scattergeo": [
           {
            "marker": {
             "colorbar": {
              "outlinewidth": 0,
              "ticks": ""
             }
            },
            "type": "scattergeo"
           }
          ],
          "scattergl": [
           {
            "marker": {
             "colorbar": {
              "outlinewidth": 0,
              "ticks": ""
             }
            },
            "type": "scattergl"
           }
          ],
          "scattermapbox": [
           {
            "marker": {
             "colorbar": {
              "outlinewidth": 0,
              "ticks": ""
             }
            },
            "type": "scattermapbox"
           }
          ],
          "scatterpolar": [
           {
            "marker": {
             "colorbar": {
              "outlinewidth": 0,
              "ticks": ""
             }
            },
            "type": "scatterpolar"
           }
          ],
          "scatterpolargl": [
           {
            "marker": {
             "colorbar": {
              "outlinewidth": 0,
              "ticks": ""
             }
            },
            "type": "scatterpolargl"
           }
          ],
          "scatterternary": [
           {
            "marker": {
             "colorbar": {
              "outlinewidth": 0,
              "ticks": ""
             }
            },
            "type": "scatterternary"
           }
          ],
          "surface": [
           {
            "colorbar": {
             "outlinewidth": 0,
             "ticks": ""
            },
            "colorscale": [
             [
              0,
              "#0d0887"
             ],
             [
              0.1111111111111111,
              "#46039f"
             ],
             [
              0.2222222222222222,
              "#7201a8"
             ],
             [
              0.3333333333333333,
              "#9c179e"
             ],
             [
              0.4444444444444444,
              "#bd3786"
             ],
             [
              0.5555555555555556,
              "#d8576b"
             ],
             [
              0.6666666666666666,
              "#ed7953"
             ],
             [
              0.7777777777777778,
              "#fb9f3a"
             ],
             [
              0.8888888888888888,
              "#fdca26"
             ],
             [
              1,
              "#f0f921"
             ]
            ],
            "type": "surface"
           }
          ],
          "table": [
           {
            "cells": {
             "fill": {
              "color": "#EBF0F8"
             },
             "line": {
              "color": "white"
             }
            },
            "header": {
             "fill": {
              "color": "#C8D4E3"
             },
             "line": {
              "color": "white"
             }
            },
            "type": "table"
           }
          ]
         },
         "layout": {
          "annotationdefaults": {
           "arrowcolor": "#2a3f5f",
           "arrowhead": 0,
           "arrowwidth": 1
          },
          "autotypenumbers": "strict",
          "coloraxis": {
           "colorbar": {
            "outlinewidth": 0,
            "ticks": ""
           }
          },
          "colorscale": {
           "diverging": [
            [
             0,
             "#8e0152"
            ],
            [
             0.1,
             "#c51b7d"
            ],
            [
             0.2,
             "#de77ae"
            ],
            [
             0.3,
             "#f1b6da"
            ],
            [
             0.4,
             "#fde0ef"
            ],
            [
             0.5,
             "#f7f7f7"
            ],
            [
             0.6,
             "#e6f5d0"
            ],
            [
             0.7,
             "#b8e186"
            ],
            [
             0.8,
             "#7fbc41"
            ],
            [
             0.9,
             "#4d9221"
            ],
            [
             1,
             "#276419"
            ]
           ],
           "sequential": [
            [
             0,
             "#0d0887"
            ],
            [
             0.1111111111111111,
             "#46039f"
            ],
            [
             0.2222222222222222,
             "#7201a8"
            ],
            [
             0.3333333333333333,
             "#9c179e"
            ],
            [
             0.4444444444444444,
             "#bd3786"
            ],
            [
             0.5555555555555556,
             "#d8576b"
            ],
            [
             0.6666666666666666,
             "#ed7953"
            ],
            [
             0.7777777777777778,
             "#fb9f3a"
            ],
            [
             0.8888888888888888,
             "#fdca26"
            ],
            [
             1,
             "#f0f921"
            ]
           ],
           "sequentialminus": [
            [
             0,
             "#0d0887"
            ],
            [
             0.1111111111111111,
             "#46039f"
            ],
            [
             0.2222222222222222,
             "#7201a8"
            ],
            [
             0.3333333333333333,
             "#9c179e"
            ],
            [
             0.4444444444444444,
             "#bd3786"
            ],
            [
             0.5555555555555556,
             "#d8576b"
            ],
            [
             0.6666666666666666,
             "#ed7953"
            ],
            [
             0.7777777777777778,
             "#fb9f3a"
            ],
            [
             0.8888888888888888,
             "#fdca26"
            ],
            [
             1,
             "#f0f921"
            ]
           ]
          },
          "colorway": [
           "#636efa",
           "#EF553B",
           "#00cc96",
           "#ab63fa",
           "#FFA15A",
           "#19d3f3",
           "#FF6692",
           "#B6E880",
           "#FF97FF",
           "#FECB52"
          ],
          "font": {
           "color": "#2a3f5f"
          },
          "geo": {
           "bgcolor": "white",
           "lakecolor": "white",
           "landcolor": "#E5ECF6",
           "showlakes": true,
           "showland": true,
           "subunitcolor": "white"
          },
          "hoverlabel": {
           "align": "left"
          },
          "hovermode": "closest",
          "mapbox": {
           "style": "light"
          },
          "paper_bgcolor": "white",
          "plot_bgcolor": "#E5ECF6",
          "polar": {
           "angularaxis": {
            "gridcolor": "white",
            "linecolor": "white",
            "ticks": ""
           },
           "bgcolor": "#E5ECF6",
           "radialaxis": {
            "gridcolor": "white",
            "linecolor": "white",
            "ticks": ""
           }
          },
          "scene": {
           "xaxis": {
            "backgroundcolor": "#E5ECF6",
            "gridcolor": "white",
            "gridwidth": 2,
            "linecolor": "white",
            "showbackground": true,
            "ticks": "",
            "zerolinecolor": "white"
           },
           "yaxis": {
            "backgroundcolor": "#E5ECF6",
            "gridcolor": "white",
            "gridwidth": 2,
            "linecolor": "white",
            "showbackground": true,
            "ticks": "",
            "zerolinecolor": "white"
           },
           "zaxis": {
            "backgroundcolor": "#E5ECF6",
            "gridcolor": "white",
            "gridwidth": 2,
            "linecolor": "white",
            "showbackground": true,
            "ticks": "",
            "zerolinecolor": "white"
           }
          },
          "shapedefaults": {
           "line": {
            "color": "#2a3f5f"
           }
          },
          "ternary": {
           "aaxis": {
            "gridcolor": "white",
            "linecolor": "white",
            "ticks": ""
           },
           "baxis": {
            "gridcolor": "white",
            "linecolor": "white",
            "ticks": ""
           },
           "bgcolor": "#E5ECF6",
           "caxis": {
            "gridcolor": "white",
            "linecolor": "white",
            "ticks": ""
           }
          },
          "title": {
           "x": 0.05
          },
          "xaxis": {
           "automargin": true,
           "gridcolor": "white",
           "linecolor": "white",
           "ticks": "",
           "title": {
            "standoff": 15
           },
           "zerolinecolor": "white",
           "zerolinewidth": 2
          },
          "yaxis": {
           "automargin": true,
           "gridcolor": "white",
           "linecolor": "white",
           "ticks": "",
           "title": {
            "standoff": 15
           },
           "zerolinecolor": "white",
           "zerolinewidth": 2
          }
         }
        },
        "title": {
         "text": "Total Order Dalam Proses"
        },
        "xaxis": {
         "anchor": "y",
         "domain": [
          0,
          1
         ],
         "title": {
          "text": "Status"
         }
        },
        "yaxis": {
         "anchor": "x",
         "domain": [
          0,
          1
         ],
         "title": {
          "text": "Total Order"
         }
        }
       }
      }
     },
     "metadata": {},
     "output_type": "display_data"
    }
   ],
   "source": [
    "fig = px.bar(total_order_dalam_proses, x=\"order_status\", y=\"total_order\", title=\"Total Order Dalam Proses\")\n",
    "fig.update_xaxes(title=\"Status\")\n",
    "fig.update_yaxes(title=\"Total Order\")\n",
    "fig.show()"
   ]
  },
  {
   "cell_type": "markdown",
   "metadata": {},
   "source": [
    "Berdasarkan grafik tersebut, dapat diketahui bahwa jumlah order yang statusnya (`in_review`/customer review) adalah sebanyak 151, (`in_review_internal`/designer submit design) sebanyak 25, `on_going` sebanyak 24, (`paid`/sudah dibayar) sebanyak 31, dan `wait_freelancer` sebanyak 6. Hal ini berarti design sebagian besar sudah dibuat dan hanya menunggu review atau feedback dari customer. "
   ]
  },
  {
   "cell_type": "markdown",
   "metadata": {},
   "source": [
    "#### Total Order Berdasarkan Ukuran "
   ]
  },
  {
   "cell_type": "code",
   "execution_count": 78,
   "metadata": {},
   "outputs": [],
   "source": [
    "query_total_order_berdasarkan_ukuran = \"\"\"  \n",
    "SELECT\n",
    "    category_size,\n",
    "    COUNT(id_order) AS total_order\n",
    "FROM(\n",
    "\tSELECT \n",
    "    order_design.id_order,\n",
    "    order_design.id_user,\n",
    "    category_size.id_category,\n",
    "    order_design.id_design_finish,\n",
    "    category_design.id_category_design,\n",
    "    user.name AS user_name,\n",
    "    user.status AS user_status,\n",
    "    design.design_name,\n",
    "    design.status AS design_status,\n",
    "    CASE\n",
    "    \tWHEN category_size.id_category = 1 THEN '< 10m^2'\n",
    "\t\tWHEN category_size.id_category = 2 THEN '11 - 20m^2'\n",
    "   \t\tWHEN category_size.id_category = 3 THEN '21 - 30m^2'\n",
    "   \t\tWHEN category_size.id_category = 4 THEN '31 - 40m^2'\n",
    "   \t\tWHEN category_size.id_category = 5 THEN '41 - 50m^2'\n",
    "   \t\tELSE '> 50m^2'\n",
    "   \tEND AS category_size,\n",
    "   \tcategory_design.name AS category_name,\n",
    "   \torder_design.status AS order_status,\n",
    "   \torder_design.price,\n",
    "   \tpromo_code.code AS promo_code,\n",
    "   \tpromo_code.valid_from,\n",
    "   \tpromo_code.valid_until,\n",
    "   \torder_design.created_at,\n",
    "   \torder_design.updated_at,\n",
    "    CASE\n",
    "    \tWHEN address_components.administrative_area_level_1 IN ('Daerah Khusus Ibukota Jakarta','Jakarta') THEN 'Daerah Khusus Ibukota Jakarta'\n",
    "        WHEN address_components.administrative_area_level_1 = 'Banten' THEN 'Banten'\n",
    "        WHEN address_components.administrative_area_level_1 IN ('Jawa Barat', 'West Java') THEN 'Jawa Barat'\n",
    "        WHEN address_components.administrative_area_level_1 IN ('Jawa Timur', 'East Java') THEN 'Jawa Timur'\n",
    "        WHEN address_components.administrative_area_level_1 = 'Bali' THEN 'Bali'\n",
    "        WHEN address_components.administrative_area_level_1 = 'Sulawesi Selatan' THEN 'Sulawesi Selatan'\n",
    "        WHEN address_components.administrative_area_level_1 IN ('Sumatera Utara', 'North Sumatra') THEN 'Sumatera Utara'\n",
    "        WHEN address_components.administrative_area_level_1 IN ('Jawa Tengah', 'Central Java') THEN 'Jawa Tengah'\n",
    "        WHEN address_components.administrative_area_level_1 = 'Daerah Istimewa Yogyakarta' THEN 'Daerah Istimewa Yogyakarta'\n",
    "        WHEN address_components.administrative_area_level_1 = 'Jambi' THEN 'Jambi'\n",
    "        WHEN address_components.administrative_area_level_1 = 'Lampung' THEN 'Lampung'\n",
    "        WHEN address_components.administrative_area_level_1 = 'Aceh' THEN 'Aceh'\n",
    "        WHEN address_components.administrative_area_level_1 IN ('Sumatera Barat', 'West Sumatra') THEN 'Sumatera Barat'\n",
    "        WHEN address_components.administrative_area_level_1 = 'Federal District' THEN 'Federal District'\n",
    "        WHEN address_components.administrative_area_level_1 = '' OR address_components.administrative_area_level_1 IS NULL THEN 'Unknown Location'\n",
    "        ELSE address_components.administrative_area_level_1\n",
    "  \tEND AS province,\n",
    "    CASE\n",
    "        WHEN address_components.administrative_area_level_2 IN ('Badung', 'Badung Regency') THEN 'Badung'\n",
    "        WHEN address_components.administrative_area_level_2 IN ('Bandung', 'Bandung Regency') THEN 'Bandung'\n",
    "        WHEN address_components.administrative_area_level_2 IN ('Banyumas', 'Banyumas Regency') THEN 'Banyumas'\n",
    "        WHEN address_components.administrative_area_level_2 IN ('Bekasi', 'Bekasi Regency') THEN 'Bekasi'\n",
    "        WHEN address_components.administrative_area_level_2 IN ('Bogor', 'Bogor Regency') THEN 'Bogor'\n",
    "        WHEN address_components.administrative_area_level_2 IN ('Central Jakarta City', 'Jakarta Pusat') THEN 'Jakarta Pusat'\n",
    "        WHEN address_components.administrative_area_level_2 IN ('Ciamis', 'Ciamis Regency') THEN 'Ciamis'\n",
    "        WHEN address_components.administrative_area_level_2 IN ('Cimahi', 'Cimahi City') THEN 'Cimahi'\n",
    "        WHEN address_components.administrative_area_level_2 IN ('Deli Serdang', 'Deli Serdang Regency') THEN 'Deli Serdang'\n",
    "        WHEN address_components.administrative_area_level_2 IN ('Depok', 'Depok City') THEN 'Depok'\n",
    "        WHEN address_components.administrative_area_level_2 IN ('East Jakarta City', 'Jakarta Timur') THEN 'Jakarta Timur'\n",
    "        WHEN address_components.administrative_area_level_2 IN ('Jakarta Barat', 'West Jakarta City') THEN 'Jakarta Barat'\n",
    "        WHEN address_components.administrative_area_level_2 IN ('Jakarta Selatan', 'South Jakarta City') THEN 'Jakarta Selatan'\n",
    "        WHEN address_components.administrative_area_level_2 IN ('Jakarta Utara', 'North Jakarta City') THEN 'Jakarta Utara'\n",
    "        WHEN address_components.administrative_area_level_2 IN ('Jember', 'Jember Regency') THEN 'Jember'\n",
    "        WHEN address_components.administrative_area_level_2 IN ('Klungkung', 'Klungkung Regency') THEN 'Klungkung'\n",
    "        WHEN address_components.administrative_area_level_2 IN ('Pringsewu', 'Pringsewu Regency') THEN 'Pringsewu'\n",
    "        WHEN address_components.administrative_area_level_2 IN ('Sukabumi', 'Sukabumi City') THEN 'Sukabumi'\n",
    "        WHEN address_components.administrative_area_level_2 IN ('Tangerang', 'Tangerang City', 'Tangerang Regency') THEN 'Tangerang'\n",
    "        WHEN address_components.administrative_area_level_2 IN ('Tangerang Selatan', 'South Tangerang City') THEN 'Tangerang Selatan'\n",
    "        WHEN address_components.administrative_area_level_2 IN ('West Bandung', 'West Bandung Regency') THEN 'Bandung Barat'\n",
    "        WHEN address_components.administrative_area_level_2 = ' ' THEN 'Unknown City'\n",
    "        ELSE address_components.administrative_area_level_2\n",
    "    END AS city,\n",
    "    CASE\n",
    "        WHEN address_components.administrative_area_level_3 IN ('South Kuta') THEN 'Kuta Selatan'\n",
    "        WHEN address_components.administrative_area_level_3 = ' ' THEN 'Unknown District'\n",
    "        ELSE address_components.administrative_area_level_3\n",
    "    END AS district\n",
    "    FROM\n",
    "    \torder_design\n",
    "    LEFT JOIN\n",
    "    \tuser ON user.id_user = order_design.id_designer\n",
    "    LEFT JOIN\n",
    "    \tcategory_size ON category_size.id_category = order_design.id_category\n",
    "    LEFT JOIN\n",
    "    \tdesign ON design.id_design = order_design.id_design_finish\n",
    "    LEFT JOIN\n",
    "    \tcategory_design ON category_design.id_category_design = design.id_type\n",
    "    LEFT JOIN\n",
    "    \taddress_components ON address_components.address_componentable_id = order_design.id_order\n",
    "    LEFT JOIN \n",
    "        promo_code ON promo_code.id_promo = order_design.id_promo\n",
    "    WHERE \n",
    "    \torder_design.id_user > 249\n",
    "    AND\n",
    "    \torder_design.status NOT IN ('expired','new')\n",
    ") AS master_table\n",
    "GROUP BY \n",
    "\tcategory_size\n",
    "ORDER BY\n",
    "\ttotal_order DESC;\n",
    "\"\"\""
   ]
  },
  {
   "cell_type": "code",
   "execution_count": 79,
   "metadata": {},
   "outputs": [
    {
     "data": {
      "text/html": [
       "<div>\n",
       "<style scoped>\n",
       "    .dataframe tbody tr th:only-of-type {\n",
       "        vertical-align: middle;\n",
       "    }\n",
       "\n",
       "    .dataframe tbody tr th {\n",
       "        vertical-align: top;\n",
       "    }\n",
       "\n",
       "    .dataframe thead th {\n",
       "        text-align: right;\n",
       "    }\n",
       "</style>\n",
       "<table border=\"1\" class=\"dataframe\">\n",
       "  <thead>\n",
       "    <tr style=\"text-align: right;\">\n",
       "      <th></th>\n",
       "      <th>category_size</th>\n",
       "      <th>total_order</th>\n",
       "    </tr>\n",
       "  </thead>\n",
       "  <tbody>\n",
       "    <tr>\n",
       "      <th>0</th>\n",
       "      <td>&lt; 10m^2</td>\n",
       "      <td>162</td>\n",
       "    </tr>\n",
       "    <tr>\n",
       "      <th>1</th>\n",
       "      <td>11 - 20m^2</td>\n",
       "      <td>95</td>\n",
       "    </tr>\n",
       "    <tr>\n",
       "      <th>2</th>\n",
       "      <td>&gt; 50m^2</td>\n",
       "      <td>39</td>\n",
       "    </tr>\n",
       "    <tr>\n",
       "      <th>3</th>\n",
       "      <td>21 - 30m^2</td>\n",
       "      <td>32</td>\n",
       "    </tr>\n",
       "    <tr>\n",
       "      <th>4</th>\n",
       "      <td>31 - 40m^2</td>\n",
       "      <td>16</td>\n",
       "    </tr>\n",
       "    <tr>\n",
       "      <th>5</th>\n",
       "      <td>41 - 50m^2</td>\n",
       "      <td>15</td>\n",
       "    </tr>\n",
       "  </tbody>\n",
       "</table>\n",
       "</div>"
      ],
      "text/plain": [
       "  category_size  total_order\n",
       "0       < 10m^2          162\n",
       "1    11 - 20m^2           95\n",
       "2       > 50m^2           39\n",
       "3    21 - 30m^2           32\n",
       "4    31 - 40m^2           16\n",
       "5    41 - 50m^2           15"
      ]
     },
     "execution_count": 79,
     "metadata": {},
     "output_type": "execute_result"
    }
   ],
   "source": [
    "total_order_berdasarkan_ukuran = fetch_data(host, port, user, passwd, databs, query_total_order_berdasarkan_ukuran)\n",
    "total_order_berdasarkan_ukuran"
   ]
  },
  {
   "cell_type": "code",
   "execution_count": 80,
   "metadata": {},
   "outputs": [
    {
     "data": {
      "image/png": "[encoded data removed]",
      "text/plain": [
       "<Figure size 800x400 with 1 Axes>"
      ]
     },
     "metadata": {},
     "output_type": "display_data"
    }
   ],
   "source": [
    "# Membuat bar plot\n",
    "plt.figure(figsize=(8, 4))\n",
    "plt.bar(total_order_berdasarkan_ukuran['category_size'],total_order_berdasarkan_ukuran['total_order'], color='blue')\n",
    "\n",
    "# Menambahkan judul dan label\n",
    "plt.title(\"Total Order Berdasarkan Ukuran\")\n",
    "plt.xlabel(\"Total Order\")\n",
    "plt.ylabel(\"Category Size\")\n",
    "\n",
    "# Menampilkan plot\n",
    "plt.show()"
   ]
  },
  {
   "cell_type": "markdown",
   "metadata": {},
   "source": [
    "#### Total Desain yang Dibuat "
   ]
  },
  {
   "cell_type": "code",
   "execution_count": 81,
   "metadata": {},
   "outputs": [],
   "source": [
    "query_jumlah_design = \"\"\"  \n",
    "SELECT \n",
    "    COUNT(id_design_finish) AS jumlah_desain_terbuat\n",
    "from(\n",
    "\tSELECT \n",
    "    order_design.id_order,\n",
    "    order_design.id_user,\n",
    "    category_size.id_category,\n",
    "    order_design.id_design_finish,\n",
    "    category_design.id_category_design,\n",
    "    user.name AS user_name,\n",
    "    user.status AS user_status,\n",
    "    design.design_name,\n",
    "    design.status AS design_status,\n",
    "    CASE\n",
    "    \tWHEN category_size.id_category = 1 THEN '< 10m^2'\n",
    "\t\tWHEN category_size.id_category = 2 THEN '11 - 20m^2'\n",
    "   \t\tWHEN category_size.id_category = 3 THEN '21 - 30m^2'\n",
    "   \t\tWHEN category_size.id_category = 4 THEN '31 - 40m^2'\n",
    "   \t\tWHEN category_size.id_category = 5 THEN '41 - 50m^2'\n",
    "   \t\tELSE '> 50m^2'\n",
    "   \tEND AS category_size,\n",
    "   \tcategory_design.name AS category_name,\n",
    "   \torder_design.status AS order_status,\n",
    "   \torder_design.price,\n",
    "   \tpromo_code.code AS promo_code,\n",
    "   \tpromo_code.valid_from,\n",
    "   \tpromo_code.valid_until,\n",
    "   \torder_design.created_at,\n",
    "   \torder_design.updated_at,\n",
    "    CASE\n",
    "    \tWHEN address_components.administrative_area_level_1 IN ('Daerah Khusus Ibukota Jakarta','Jakarta') THEN 'Daerah Khusus Ibukota Jakarta'\n",
    "        WHEN address_components.administrative_area_level_1 = 'Banten' THEN 'Banten'\n",
    "        WHEN address_components.administrative_area_level_1 IN ('Jawa Barat', 'West Java') THEN 'Jawa Barat'\n",
    "        WHEN address_components.administrative_area_level_1 IN ('Jawa Timur', 'East Java') THEN 'Jawa Timur'\n",
    "        WHEN address_components.administrative_area_level_1 = 'Bali' THEN 'Bali'\n",
    "        WHEN address_components.administrative_area_level_1 = 'Sulawesi Selatan' THEN 'Sulawesi Selatan'\n",
    "        WHEN address_components.administrative_area_level_1 IN ('Sumatera Utara', 'North Sumatra') THEN 'Sumatera Utara'\n",
    "        WHEN address_components.administrative_area_level_1 IN ('Jawa Tengah', 'Central Java') THEN 'Jawa Tengah'\n",
    "        WHEN address_components.administrative_area_level_1 = 'Daerah Istimewa Yogyakarta' THEN 'Daerah Istimewa Yogyakarta'\n",
    "        WHEN address_components.administrative_area_level_1 = 'Jambi' THEN 'Jambi'\n",
    "        WHEN address_components.administrative_area_level_1 = 'Lampung' THEN 'Lampung'\n",
    "        WHEN address_components.administrative_area_level_1 = 'Aceh' THEN 'Aceh'\n",
    "        WHEN address_components.administrative_area_level_1 IN ('Sumatera Barat', 'West Sumatra') THEN 'Sumatera Barat'\n",
    "        WHEN address_components.administrative_area_level_1 = 'Federal District' THEN 'Federal District'\n",
    "        WHEN address_components.administrative_area_level_1 = '' OR address_components.administrative_area_level_1 IS NULL THEN 'Unknown Location'\n",
    "        ELSE address_components.administrative_area_level_1\n",
    "  \tEND AS province,\n",
    "    CASE\n",
    "        WHEN address_components.administrative_area_level_2 IN ('Badung', 'Badung Regency') THEN 'Badung'\n",
    "        WHEN address_components.administrative_area_level_2 IN ('Bandung', 'Bandung Regency') THEN 'Bandung'\n",
    "        WHEN address_components.administrative_area_level_2 IN ('Banyumas', 'Banyumas Regency') THEN 'Banyumas'\n",
    "        WHEN address_components.administrative_area_level_2 IN ('Bekasi', 'Bekasi Regency') THEN 'Bekasi'\n",
    "        WHEN address_components.administrative_area_level_2 IN ('Bogor', 'Bogor Regency') THEN 'Bogor'\n",
    "        WHEN address_components.administrative_area_level_2 IN ('Central Jakarta City', 'Jakarta Pusat') THEN 'Jakarta Pusat'\n",
    "        WHEN address_components.administrative_area_level_2 IN ('Ciamis', 'Ciamis Regency') THEN 'Ciamis'\n",
    "        WHEN address_components.administrative_area_level_2 IN ('Cimahi', 'Cimahi City') THEN 'Cimahi'\n",
    "        WHEN address_components.administrative_area_level_2 IN ('Deli Serdang', 'Deli Serdang Regency') THEN 'Deli Serdang'\n",
    "        WHEN address_components.administrative_area_level_2 IN ('Depok', 'Depok City') THEN 'Depok'\n",
    "        WHEN address_components.administrative_area_level_2 IN ('East Jakarta City', 'Jakarta Timur') THEN 'Jakarta Timur'\n",
    "        WHEN address_components.administrative_area_level_2 IN ('Jakarta Barat', 'West Jakarta City') THEN 'Jakarta Barat'\n",
    "        WHEN address_components.administrative_area_level_2 IN ('Jakarta Selatan', 'South Jakarta City') THEN 'Jakarta Selatan'\n",
    "        WHEN address_components.administrative_area_level_2 IN ('Jakarta Utara', 'North Jakarta City') THEN 'Jakarta Utara'\n",
    "        WHEN address_components.administrative_area_level_2 IN ('Jember', 'Jember Regency') THEN 'Jember'\n",
    "        WHEN address_components.administrative_area_level_2 IN ('Klungkung', 'Klungkung Regency') THEN 'Klungkung'\n",
    "        WHEN address_components.administrative_area_level_2 IN ('Pringsewu', 'Pringsewu Regency') THEN 'Pringsewu'\n",
    "        WHEN address_components.administrative_area_level_2 IN ('Sukabumi', 'Sukabumi City') THEN 'Sukabumi'\n",
    "        WHEN address_components.administrative_area_level_2 IN ('Tangerang', 'Tangerang City', 'Tangerang Regency') THEN 'Tangerang'\n",
    "        WHEN address_components.administrative_area_level_2 IN ('Tangerang Selatan', 'South Tangerang City') THEN 'Tangerang Selatan'\n",
    "        WHEN address_components.administrative_area_level_2 IN ('West Bandung', 'West Bandung Regency') THEN 'Bandung Barat'\n",
    "        WHEN address_components.administrative_area_level_2 = ' ' THEN 'Unknown City'\n",
    "        ELSE address_components.administrative_area_level_2\n",
    "    END AS city,\n",
    "    CASE\n",
    "        WHEN address_components.administrative_area_level_3 IN ('South Kuta') THEN 'Kuta Selatan'\n",
    "        WHEN address_components.administrative_area_level_3 = ' ' THEN 'Unknown District'\n",
    "        ELSE address_components.administrative_area_level_3\n",
    "    END AS district\n",
    "    FROM\n",
    "    \torder_design\n",
    "    LEFT JOIN\n",
    "    \tuser ON user.id_user = order_design.id_designer\n",
    "    LEFT JOIN\n",
    "    \tcategory_size ON category_size.id_category = order_design.id_category\n",
    "    LEFT JOIN\n",
    "    \tdesign ON design.id_design = order_design.id_design_finish\n",
    "    LEFT JOIN\n",
    "    \tcategory_design ON category_design.id_category_design = design.id_type\n",
    "    LEFT JOIN\n",
    "    \taddress_components ON address_components.address_componentable_id = order_design.id_order\n",
    "    LEFT JOIN \n",
    "        promo_code ON promo_code.id_promo = order_design.id_promo\n",
    "    WHERE \n",
    "    \torder_design.id_user > 249\n",
    "    AND\n",
    "    \torder_design.status = 'finish'\n",
    ") AS master_table;\n",
    "\"\"\""
   ]
  },
  {
   "cell_type": "code",
   "execution_count": 82,
   "metadata": {},
   "outputs": [
    {
     "data": {
      "text/html": [
       "<div>\n",
       "<style scoped>\n",
       "    .dataframe tbody tr th:only-of-type {\n",
       "        vertical-align: middle;\n",
       "    }\n",
       "\n",
       "    .dataframe tbody tr th {\n",
       "        vertical-align: top;\n",
       "    }\n",
       "\n",
       "    .dataframe thead th {\n",
       "        text-align: right;\n",
       "    }\n",
       "</style>\n",
       "<table border=\"1\" class=\"dataframe\">\n",
       "  <thead>\n",
       "    <tr style=\"text-align: right;\">\n",
       "      <th></th>\n",
       "      <th>jumlah_desain_terbuat</th>\n",
       "    </tr>\n",
       "  </thead>\n",
       "  <tbody>\n",
       "    <tr>\n",
       "      <th>0</th>\n",
       "      <td>121</td>\n",
       "    </tr>\n",
       "  </tbody>\n",
       "</table>\n",
       "</div>"
      ],
      "text/plain": [
       "   jumlah_desain_terbuat\n",
       "0                    121"
      ]
     },
     "execution_count": 82,
     "metadata": {},
     "output_type": "execute_result"
    }
   ],
   "source": [
    "jumlah_desain_yang_dibuat = fetch_data(host, port, user, passwd, databs, query_jumlah_design)\n",
    "jumlah_desain_yang_dibuat"
   ]
  },
  {
   "cell_type": "markdown",
   "metadata": {},
   "source": [
    "#### Total Order Berdasarkan Provinsi"
   ]
  },
  {
   "cell_type": "code",
   "execution_count": 85,
   "metadata": {},
   "outputs": [],
   "source": [
    "query_total_order_berdasarkan_provinsi = \"\"\"  \n",
    "SELECT \n",
    "\tprovince,\n",
    "\tCOUNT(id_order) AS jumlah_order\n",
    "FROM(\n",
    "\tSELECT \n",
    "    order_design.id_order,\n",
    "    order_design.id_user,\n",
    "    category_size.id_category,\n",
    "    order_design.id_design_finish,\n",
    "    category_design.id_category_design,\n",
    "    user.name AS user_name,\n",
    "    user.status AS user_status,\n",
    "    design.design_name,\n",
    "    design.status AS design_status,\n",
    "    CASE\n",
    "    \tWHEN category_size.id_category = 1 THEN '< 10m^2'\n",
    "\t\tWHEN category_size.id_category = 2 THEN '11 - 20m^2'\n",
    "   \t\tWHEN category_size.id_category = 3 THEN '21 - 30m^2'\n",
    "   \t\tWHEN category_size.id_category = 4 THEN '31 - 40m^2'\n",
    "   \t\tWHEN category_size.id_category = 5 THEN '41 - 50m^2'\n",
    "   \t\tELSE '> 50m^2'\n",
    "   \tEND AS category_size,\n",
    "   \tcategory_design.name AS category_name,\n",
    "   \torder_design.status AS order_status,\n",
    "   \torder_design.price,\n",
    "   \tpromo_code.code AS promo_code,\n",
    "   \tpromo_code.valid_from,\n",
    "   \tpromo_code.valid_until,\n",
    "   \torder_design.created_at,\n",
    "   \torder_design.updated_at,\n",
    "    CASE\n",
    "    \tWHEN address_components.administrative_area_level_1 IN ('Daerah Khusus Ibukota Jakarta','Jakarta') THEN 'Daerah Khusus Ibukota Jakarta'\n",
    "        WHEN address_components.administrative_area_level_1 = 'Banten' THEN 'Banten'\n",
    "        WHEN address_components.administrative_area_level_1 IN ('Jawa Barat', 'West Java') THEN 'Jawa Barat'\n",
    "        WHEN address_components.administrative_area_level_1 IN ('Jawa Timur', 'East Java') THEN 'Jawa Timur'\n",
    "        WHEN address_components.administrative_area_level_1 = 'Bali' THEN 'Bali'\n",
    "        WHEN address_components.administrative_area_level_1 = 'Sulawesi Selatan' THEN 'Sulawesi Selatan'\n",
    "        WHEN address_components.administrative_area_level_1 IN ('Sumatera Utara', 'North Sumatra') THEN 'Sumatera Utara'\n",
    "        WHEN address_components.administrative_area_level_1 IN ('Jawa Tengah', 'Central Java') THEN 'Jawa Tengah'\n",
    "        WHEN address_components.administrative_area_level_1 = 'Daerah Istimewa Yogyakarta' THEN 'Daerah Istimewa Yogyakarta'\n",
    "        WHEN address_components.administrative_area_level_1 = 'Jambi' THEN 'Jambi'\n",
    "        WHEN address_components.administrative_area_level_1 = 'Lampung' THEN 'Lampung'\n",
    "        WHEN address_components.administrative_area_level_1 = 'Aceh' THEN 'Aceh'\n",
    "        WHEN address_components.administrative_area_level_1 IN ('Sumatera Barat', 'West Sumatra') THEN 'Sumatera Barat'\n",
    "        WHEN address_components.administrative_area_level_1 = 'Federal District' THEN 'Federal District'\n",
    "        WHEN address_components.administrative_area_level_1 = '' OR address_components.administrative_area_level_1 IS NULL THEN 'Unknown Location'\n",
    "        ELSE address_components.administrative_area_level_1\n",
    "  \tEND AS province,\n",
    "    CASE\n",
    "        WHEN address_components.administrative_area_level_2 IN ('Badung', 'Badung Regency') THEN 'Badung'\n",
    "        WHEN address_components.administrative_area_level_2 IN ('Bandung', 'Bandung Regency') THEN 'Bandung'\n",
    "        WHEN address_components.administrative_area_level_2 IN ('Banyumas', 'Banyumas Regency') THEN 'Banyumas'\n",
    "        WHEN address_components.administrative_area_level_2 IN ('Bekasi', 'Bekasi Regency') THEN 'Bekasi'\n",
    "        WHEN address_components.administrative_area_level_2 IN ('Bogor', 'Bogor Regency') THEN 'Bogor'\n",
    "        WHEN address_components.administrative_area_level_2 IN ('Central Jakarta City', 'Jakarta Pusat') THEN 'Jakarta Pusat'\n",
    "        WHEN address_components.administrative_area_level_2 IN ('Ciamis', 'Ciamis Regency') THEN 'Ciamis'\n",
    "        WHEN address_components.administrative_area_level_2 IN ('Cimahi', 'Cimahi City') THEN 'Cimahi'\n",
    "        WHEN address_components.administrative_area_level_2 IN ('Deli Serdang', 'Deli Serdang Regency') THEN 'Deli Serdang'\n",
    "        WHEN address_components.administrative_area_level_2 IN ('Depok', 'Depok City') THEN 'Depok'\n",
    "        WHEN address_components.administrative_area_level_2 IN ('East Jakarta City', 'Jakarta Timur') THEN 'Jakarta Timur'\n",
    "        WHEN address_components.administrative_area_level_2 IN ('Jakarta Barat', 'West Jakarta City') THEN 'Jakarta Barat'\n",
    "        WHEN address_components.administrative_area_level_2 IN ('Jakarta Selatan', 'South Jakarta City') THEN 'Jakarta Selatan'\n",
    "        WHEN address_components.administrative_area_level_2 IN ('Jakarta Utara', 'North Jakarta City') THEN 'Jakarta Utara'\n",
    "        WHEN address_components.administrative_area_level_2 IN ('Jember', 'Jember Regency') THEN 'Jember'\n",
    "        WHEN address_components.administrative_area_level_2 IN ('Klungkung', 'Klungkung Regency') THEN 'Klungkung'\n",
    "        WHEN address_components.administrative_area_level_2 IN ('Pringsewu', 'Pringsewu Regency') THEN 'Pringsewu'\n",
    "        WHEN address_components.administrative_area_level_2 IN ('Sukabumi', 'Sukabumi City') THEN 'Sukabumi'\n",
    "        WHEN address_components.administrative_area_level_2 IN ('Tangerang', 'Tangerang City', 'Tangerang Regency') THEN 'Tangerang'\n",
    "        WHEN address_components.administrative_area_level_2 IN ('Tangerang Selatan', 'South Tangerang City') THEN 'Tangerang Selatan'\n",
    "        WHEN address_components.administrative_area_level_2 IN ('West Bandung', 'West Bandung Regency') THEN 'Bandung Barat'\n",
    "        WHEN address_components.administrative_area_level_2 = ' ' THEN 'Unknown City'\n",
    "        ELSE address_components.administrative_area_level_2\n",
    "    END AS city,\n",
    "    CASE\n",
    "        WHEN address_components.administrative_area_level_3 IN ('South Kuta') THEN 'Kuta Selatan'\n",
    "        WHEN address_components.administrative_area_level_3 = ' ' THEN 'Unknown District'\n",
    "        ELSE address_components.administrative_area_level_3\n",
    "    END AS district\n",
    "    FROM\n",
    "    \torder_design\n",
    "    LEFT JOIN\n",
    "    \tuser ON user.id_user = order_design.id_designer\n",
    "    LEFT JOIN\n",
    "    \tcategory_size ON category_size.id_category = order_design.id_category\n",
    "    LEFT JOIN\n",
    "    \tdesign ON design.id_design = order_design.id_design_finish\n",
    "    LEFT JOIN\n",
    "    \tcategory_design ON category_design.id_category_design = design.id_type\n",
    "    LEFT JOIN\n",
    "    \taddress_components ON address_components.address_componentable_id = order_design.id_order\n",
    "    LEFT JOIN \n",
    "        promo_code ON promo_code.id_promo = order_design.id_promo\n",
    "    WHERE \n",
    "    \torder_design.id_user > 249\n",
    "    AND\n",
    "    \torder_design.status NOT IN ('expired','new')\n",
    "    AND \n",
    "\t\taddress_componentable_type like '%OrderDesign%'\n",
    ") AS master_table\n",
    "GROUP BY \n",
    "\tprovince\n",
    "ORDER BY\n",
    "\tjumlah_order DESC;\n",
    "\"\"\""
   ]
  },
  {
   "cell_type": "code",
   "execution_count": 86,
   "metadata": {},
   "outputs": [
    {
     "data": {
      "text/html": [
       "<div>\n",
       "<style scoped>\n",
       "    .dataframe tbody tr th:only-of-type {\n",
       "        vertical-align: middle;\n",
       "    }\n",
       "\n",
       "    .dataframe tbody tr th {\n",
       "        vertical-align: top;\n",
       "    }\n",
       "\n",
       "    .dataframe thead th {\n",
       "        text-align: right;\n",
       "    }\n",
       "</style>\n",
       "<table border=\"1\" class=\"dataframe\">\n",
       "  <thead>\n",
       "    <tr style=\"text-align: right;\">\n",
       "      <th></th>\n",
       "      <th>province</th>\n",
       "      <th>jumlah_order</th>\n",
       "    </tr>\n",
       "  </thead>\n",
       "  <tbody>\n",
       "    <tr>\n",
       "      <th>0</th>\n",
       "      <td>Jawa Barat</td>\n",
       "      <td>60</td>\n",
       "    </tr>\n",
       "    <tr>\n",
       "      <th>1</th>\n",
       "      <td>Daerah Khusus Ibukota Jakarta</td>\n",
       "      <td>57</td>\n",
       "    </tr>\n",
       "    <tr>\n",
       "      <th>2</th>\n",
       "      <td>Banten</td>\n",
       "      <td>50</td>\n",
       "    </tr>\n",
       "    <tr>\n",
       "      <th>3</th>\n",
       "      <td>Jawa Timur</td>\n",
       "      <td>8</td>\n",
       "    </tr>\n",
       "    <tr>\n",
       "      <th>4</th>\n",
       "      <td>Sumatera Utara</td>\n",
       "      <td>7</td>\n",
       "    </tr>\n",
       "    <tr>\n",
       "      <th>5</th>\n",
       "      <td>Bali</td>\n",
       "      <td>5</td>\n",
       "    </tr>\n",
       "    <tr>\n",
       "      <th>6</th>\n",
       "      <td>Daerah Istimewa Yogyakarta</td>\n",
       "      <td>3</td>\n",
       "    </tr>\n",
       "    <tr>\n",
       "      <th>7</th>\n",
       "      <td>Jawa Tengah</td>\n",
       "      <td>2</td>\n",
       "    </tr>\n",
       "    <tr>\n",
       "      <th>8</th>\n",
       "      <td>Sulawesi Selatan</td>\n",
       "      <td>2</td>\n",
       "    </tr>\n",
       "    <tr>\n",
       "      <th>9</th>\n",
       "      <td>Jambi</td>\n",
       "      <td>1</td>\n",
       "    </tr>\n",
       "    <tr>\n",
       "      <th>10</th>\n",
       "      <td>Federal District</td>\n",
       "      <td>1</td>\n",
       "    </tr>\n",
       "    <tr>\n",
       "      <th>11</th>\n",
       "      <td>Sumatera Barat</td>\n",
       "      <td>1</td>\n",
       "    </tr>\n",
       "    <tr>\n",
       "      <th>12</th>\n",
       "      <td>Unknown Location</td>\n",
       "      <td>1</td>\n",
       "    </tr>\n",
       "    <tr>\n",
       "      <th>13</th>\n",
       "      <td>Lampung</td>\n",
       "      <td>1</td>\n",
       "    </tr>\n",
       "  </tbody>\n",
       "</table>\n",
       "</div>"
      ],
      "text/plain": [
       "                         province  jumlah_order\n",
       "0                      Jawa Barat            60\n",
       "1   Daerah Khusus Ibukota Jakarta            57\n",
       "2                          Banten            50\n",
       "3                      Jawa Timur             8\n",
       "4                  Sumatera Utara             7\n",
       "5                            Bali             5\n",
       "6      Daerah Istimewa Yogyakarta             3\n",
       "7                     Jawa Tengah             2\n",
       "8                Sulawesi Selatan             2\n",
       "9                           Jambi             1\n",
       "10               Federal District             1\n",
       "11                 Sumatera Barat             1\n",
       "12               Unknown Location             1\n",
       "13                        Lampung             1"
      ]
     },
     "execution_count": 86,
     "metadata": {},
     "output_type": "execute_result"
    }
   ],
   "source": [
    "total_order_berdasarkan_provinsi = fetch_data(host, port, user, passwd, databs, query_total_order_berdasarkan_provinsi)\n",
    "total_order_berdasarkan_provinsi"
   ]
  },
  {
   "cell_type": "code",
   "execution_count": 87,
   "metadata": {},
   "outputs": [
    {
     "data": {
      "application/vnd.plotly.v1+json": {
       "config": {
        "plotlyServerURL": "https://plot.ly"
       },
       "data": [
        {
         "alignmentgroup": "True",
         "hovertemplate": "province=%{x}<br>jumlah_order=%{y}<extra></extra>",
         "legendgroup": "",
         "marker": {
          "color": "#636efa",
          "pattern": {
           "shape": ""
          }
         },
         "name": "",
         "offsetgroup": "",
         "orientation": "v",
         "showlegend": false,
         "textposition": "auto",
         "type": "bar",
         "x": [
          "Jawa Barat",
          "Daerah Khusus Ibukota Jakarta",
          "Banten",
          "Jawa Timur",
          "Sumatera Utara",
          "Bali",
          "Daerah Istimewa Yogyakarta",
          "Jawa Tengah",
          "Sulawesi Selatan",
          "Jambi",
          "Federal District",
          "Sumatera Barat",
          "Unknown Location",
          "Lampung"
         ],
         "xaxis": "x",
         "y": [
          60,
          57,
          50,
          8,
          7,
          5,
          3,
          2,
          2,
          1,
          1,
          1,
          1,
          1
         ],
         "yaxis": "y"
        }
       ],
       "layout": {
        "barmode": "relative",
        "legend": {
         "tracegroupgap": 0
        },
        "template": {
         "data": {
          "bar": [
           {
            "error_x": {
             "color": "#2a3f5f"
            },
            "error_y": {
             "color": "#2a3f5f"
            },
            "marker": {
             "line": {
              "color": "#E5ECF6",
              "width": 0.5
             },
             "pattern": {
              "fillmode": "overlay",
              "size": 10,
              "solidity": 0.2
             }
            },
            "type": "bar"
           }
          ],
          "barpolar": [
           {
            "marker": {
             "line": {
              "color": "#E5ECF6",
              "width": 0.5
             },
             "pattern": {
              "fillmode": "overlay",
              "size": 10,
              "solidity": 0.2
             }
            },
            "type": "barpolar"
           }
          ],
          "carpet": [
           {
            "aaxis": {
             "endlinecolor": "#2a3f5f",
             "gridcolor": "white",
             "linecolor": "white",
             "minorgridcolor": "white",
             "startlinecolor": "#2a3f5f"
            },
            "baxis": {
             "endlinecolor": "#2a3f5f",
             "gridcolor": "white",
             "linecolor": "white",
             "minorgridcolor": "white",
             "startlinecolor": "#2a3f5f"
            },
            "type": "carpet"
           }
          ],
          "choropleth": [
           {
            "colorbar": {
             "outlinewidth": 0,
             "ticks": ""
            },
            "type": "choropleth"
           }
          ],
          "contour": [
           {
            "colorbar": {
             "outlinewidth": 0,
             "ticks": ""
            },
            "colorscale": [
             [
              0,
              "#0d0887"
             ],
             [
              0.1111111111111111,
              "#46039f"
             ],
             [
              0.2222222222222222,
              "#7201a8"
             ],
             [
              0.3333333333333333,
              "#9c179e"
             ],
             [
              0.4444444444444444,
              "#bd3786"
             ],
             [
              0.5555555555555556,
              "#d8576b"
             ],
             [
              0.6666666666666666,
              "#ed7953"
             ],
             [
              0.7777777777777778,
              "#fb9f3a"
             ],
             [
              0.8888888888888888,
              "#fdca26"
             ],
             [
              1,
              "#f0f921"
             ]
            ],
            "type": "contour"
           }
          ],
          "contourcarpet": [
           {
            "colorbar": {
             "outlinewidth": 0,
             "ticks": ""
            },
            "type": "contourcarpet"
           }
          ],
          "heatmap": [
           {
            "colorbar": {
             "outlinewidth": 0,
             "ticks": ""
            },
            "colorscale": [
             [
              0,
              "#0d0887"
             ],
             [
              0.1111111111111111,
              "#46039f"
             ],
             [
              0.2222222222222222,
              "#7201a8"
             ],
             [
              0.3333333333333333,
              "#9c179e"
             ],
             [
              0.4444444444444444,
              "#bd3786"
             ],
             [
              0.5555555555555556,
              "#d8576b"
             ],
             [
              0.6666666666666666,
              "#ed7953"
             ],
             [
              0.7777777777777778,
              "#fb9f3a"
             ],
             [
              0.8888888888888888,
              "#fdca26"
             ],
             [
              1,
              "#f0f921"
             ]
            ],
            "type": "heatmap"
           }
          ],
          "heatmapgl": [
           {
            "colorbar": {
             "outlinewidth": 0,
             "ticks": ""
            },
            "colorscale": [
             [
              0,
              "#0d0887"
             ],
             [
              0.1111111111111111,
              "#46039f"
             ],
             [
              0.2222222222222222,
              "#7201a8"
             ],
             [
              0.3333333333333333,
              "#9c179e"
             ],
             [
              0.4444444444444444,
              "#bd3786"
             ],
             [
              0.5555555555555556,
              "#d8576b"
             ],
             [
              0.6666666666666666,
              "#ed7953"
             ],
             [
              0.7777777777777778,
              "#fb9f3a"
             ],
             [
              0.8888888888888888,
              "#fdca26"
             ],
             [
              1,
              "#f0f921"
             ]
            ],
            "type": "heatmapgl"
           }
          ],
          "histogram": [
           {
            "marker": {
             "pattern": {
              "fillmode": "overlay",
              "size": 10,
              "solidity": 0.2
             }
            },
            "type": "histogram"
           }
          ],
          "histogram2d": [
           {
            "colorbar": {
             "outlinewidth": 0,
             "ticks": ""
            },
            "colorscale": [
             [
              0,
              "#0d0887"
             ],
             [
              0.1111111111111111,
              "#46039f"
             ],
             [
              0.2222222222222222,
              "#7201a8"
             ],
             [
              0.3333333333333333,
              "#9c179e"
             ],
             [
              0.4444444444444444,
              "#bd3786"
             ],
             [
              0.5555555555555556,
              "#d8576b"
             ],
             [
              0.6666666666666666,
              "#ed7953"
             ],
             [
              0.7777777777777778,
              "#fb9f3a"
             ],
             [
              0.8888888888888888,
              "#fdca26"
             ],
             [
              1,
              "#f0f921"
             ]
            ],
            "type": "histogram2d"
           }
          ],
          "histogram2dcontour": [
           {
            "colorbar": {
             "outlinewidth": 0,
             "ticks": ""
            },
            "colorscale": [
             [
              0,
              "#0d0887"
             ],
             [
              0.1111111111111111,
              "#46039f"
             ],
             [
              0.2222222222222222,
              "#7201a8"
             ],
             [
              0.3333333333333333,
              "#9c179e"
             ],
             [
              0.4444444444444444,
              "#bd3786"
             ],
             [
              0.5555555555555556,
              "#d8576b"
             ],
             [
              0.6666666666666666,
              "#ed7953"
             ],
             [
              0.7777777777777778,
              "#fb9f3a"
             ],
             [
              0.8888888888888888,
              "#fdca26"
             ],
             [
              1,
              "#f0f921"
             ]
            ],
            "type": "histogram2dcontour"
           }
          ],
          "mesh3d": [
           {
            "colorbar": {
             "outlinewidth": 0,
             "ticks": ""
            },
            "type": "mesh3d"
           }
          ],
          "parcoords": [
           {
            "line": {
             "colorbar": {
              "outlinewidth": 0,
              "ticks": ""
             }
            },
            "type": "parcoords"
           }
          ],
          "pie": [
           {
            "automargin": true,
            "type": "pie"
           }
          ],
          "scatter": [
           {
            "fillpattern": {
             "fillmode": "overlay",
             "size": 10,
             "solidity": 0.2
            },
            "type": "scatter"
           }
          ],
          "scatter3d": [
           {
            "line": {
             "colorbar": {
              "outlinewidth": 0,
              "ticks": ""
             }
            },
            "marker": {
             "colorbar": {
              "outlinewidth": 0,
              "ticks": ""
             }
            },
            "type": "scatter3d"
           }
          ],
          "scattercarpet": [
           {
            "marker": {
             "colorbar": {
              "outlinewidth": 0,
              "ticks": ""
             }
            },
            "type": "scattercarpet"
           }
          ],
          "scattergeo": [
           {
            "marker": {
             "colorbar": {
              "outlinewidth": 0,
              "ticks": ""
             }
            },
            "type": "scattergeo"
           }
          ],
          "scattergl": [
           {
            "marker": {
             "colorbar": {
              "outlinewidth": 0,
              "ticks": ""
             }
            },
            "type": "scattergl"
           }
          ],
          "scattermapbox": [
           {
            "marker": {
             "colorbar": {
              "outlinewidth": 0,
              "ticks": ""
             }
            },
            "type": "scattermapbox"
           }
          ],
          "scatterpolar": [
           {
            "marker": {
             "colorbar": {
              "outlinewidth": 0,
              "ticks": ""
             }
            },
            "type": "scatterpolar"
           }
          ],
          "scatterpolargl": [
           {
            "marker": {
             "colorbar": {
              "outlinewidth": 0,
              "ticks": ""
             }
            },
            "type": "scatterpolargl"
           }
          ],
          "scatterternary": [
           {
            "marker": {
             "colorbar": {
              "outlinewidth": 0,
              "ticks": ""
             }
            },
            "type": "scatterternary"
           }
          ],
          "surface": [
           {
            "colorbar": {
             "outlinewidth": 0,
             "ticks": ""
            },
            "colorscale": [
             [
              0,
              "#0d0887"
             ],
             [
              0.1111111111111111,
              "#46039f"
             ],
             [
              0.2222222222222222,
              "#7201a8"
             ],
             [
              0.3333333333333333,
              "#9c179e"
             ],
             [
              0.4444444444444444,
              "#bd3786"
             ],
             [
              0.5555555555555556,
              "#d8576b"
             ],
             [
              0.6666666666666666,
              "#ed7953"
             ],
             [
              0.7777777777777778,
              "#fb9f3a"
             ],
             [
              0.8888888888888888,
              "#fdca26"
             ],
             [
              1,
              "#f0f921"
             ]
            ],
            "type": "surface"
           }
          ],
          "table": [
           {
            "cells": {
             "fill": {
              "color": "#EBF0F8"
             },
             "line": {
              "color": "white"
             }
            },
            "header": {
             "fill": {
              "color": "#C8D4E3"
             },
             "line": {
              "color": "white"
             }
            },
            "type": "table"
           }
          ]
         },
         "layout": {
          "annotationdefaults": {
           "arrowcolor": "#2a3f5f",
           "arrowhead": 0,
           "arrowwidth": 1
          },
          "autotypenumbers": "strict",
          "coloraxis": {
           "colorbar": {
            "outlinewidth": 0,
            "ticks": ""
           }
          },
          "colorscale": {
           "diverging": [
            [
             0,
             "#8e0152"
            ],
            [
             0.1,
             "#c51b7d"
            ],
            [
             0.2,
             "#de77ae"
            ],
            [
             0.3,
             "#f1b6da"
            ],
            [
             0.4,
             "#fde0ef"
            ],
            [
             0.5,
             "#f7f7f7"
            ],
            [
             0.6,
             "#e6f5d0"
            ],
            [
             0.7,
             "#b8e186"
            ],
            [
             0.8,
             "#7fbc41"
            ],
            [
             0.9,
             "#4d9221"
            ],
            [
             1,
             "#276419"
            ]
           ],
           "sequential": [
            [
             0,
             "#0d0887"
            ],
            [
             0.1111111111111111,
             "#46039f"
            ],
            [
             0.2222222222222222,
             "#7201a8"
            ],
            [
             0.3333333333333333,
             "#9c179e"
            ],
            [
             0.4444444444444444,
             "#bd3786"
            ],
            [
             0.5555555555555556,
             "#d8576b"
            ],
            [
             0.6666666666666666,
             "#ed7953"
            ],
            [
             0.7777777777777778,
             "#fb9f3a"
            ],
            [
             0.8888888888888888,
             "#fdca26"
            ],
            [
             1,
             "#f0f921"
            ]
           ],
           "sequentialminus": [
            [
             0,
             "#0d0887"
            ],
            [
             0.1111111111111111,
             "#46039f"
            ],
            [
             0.2222222222222222,
             "#7201a8"
            ],
            [
             0.3333333333333333,
             "#9c179e"
            ],
            [
             0.4444444444444444,
             "#bd3786"
            ],
            [
             0.5555555555555556,
             "#d8576b"
            ],
            [
             0.6666666666666666,
             "#ed7953"
            ],
            [
             0.7777777777777778,
             "#fb9f3a"
            ],
            [
             0.8888888888888888,
             "#fdca26"
            ],
            [
             1,
             "#f0f921"
            ]
           ]
          },
          "colorway": [
           "#636efa",
           "#EF553B",
           "#00cc96",
           "#ab63fa",
           "#FFA15A",
           "#19d3f3",
           "#FF6692",
           "#B6E880",
           "#FF97FF",
           "#FECB52"
          ],
          "font": {
           "color": "#2a3f5f"
          },
          "geo": {
           "bgcolor": "white",
           "lakecolor": "white",
           "landcolor": "#E5ECF6",
           "showlakes": true,
           "showland": true,
           "subunitcolor": "white"
          },
          "hoverlabel": {
           "align": "left"
          },
          "hovermode": "closest",
          "mapbox": {
           "style": "light"
          },
          "paper_bgcolor": "white",
          "plot_bgcolor": "#E5ECF6",
          "polar": {
           "angularaxis": {
            "gridcolor": "white",
            "linecolor": "white",
            "ticks": ""
           },
           "bgcolor": "#E5ECF6",
           "radialaxis": {
            "gridcolor": "white",
            "linecolor": "white",
            "ticks": ""
           }
          },
          "scene": {
           "xaxis": {
            "backgroundcolor": "#E5ECF6",
            "gridcolor": "white",
            "gridwidth": 2,
            "linecolor": "white",
            "showbackground": true,
            "ticks": "",
            "zerolinecolor": "white"
           },
           "yaxis": {
            "backgroundcolor": "#E5ECF6",
            "gridcolor": "white",
            "gridwidth": 2,
            "linecolor": "white",
            "showbackground": true,
            "ticks": "",
            "zerolinecolor": "white"
           },
           "zaxis": {
            "backgroundcolor": "#E5ECF6",
            "gridcolor": "white",
            "gridwidth": 2,
            "linecolor": "white",
            "showbackground": true,
            "ticks": "",
            "zerolinecolor": "white"
           }
          },
          "shapedefaults": {
           "line": {
            "color": "#2a3f5f"
           }
          },
          "ternary": {
           "aaxis": {
            "gridcolor": "white",
            "linecolor": "white",
            "ticks": ""
           },
           "baxis": {
            "gridcolor": "white",
            "linecolor": "white",
            "ticks": ""
           },
           "bgcolor": "#E5ECF6",
           "caxis": {
            "gridcolor": "white",
            "linecolor": "white",
            "ticks": ""
           }
          },
          "title": {
           "x": 0.05
          },
          "xaxis": {
           "automargin": true,
           "gridcolor": "white",
           "linecolor": "white",
           "ticks": "",
           "title": {
            "standoff": 15
           },
           "zerolinecolor": "white",
           "zerolinewidth": 2
          },
          "yaxis": {
           "automargin": true,
           "gridcolor": "white",
           "linecolor": "white",
           "ticks": "",
           "title": {
            "standoff": 15
           },
           "zerolinecolor": "white",
           "zerolinewidth": 2
          }
         }
        },
        "title": {
         "text": "Total Order Berdasarkan Provinsi"
        },
        "xaxis": {
         "anchor": "y",
         "domain": [
          0,
          1
         ],
         "title": {
          "text": "Province"
         }
        },
        "yaxis": {
         "anchor": "x",
         "domain": [
          0,
          1
         ],
         "title": {
          "text": "Jumlah Order"
         }
        }
       }
      }
     },
     "metadata": {},
     "output_type": "display_data"
    }
   ],
   "source": [
    "fig = px.bar(total_order_berdasarkan_provinsi, x=\"province\", y=\"jumlah_order\", title=\"Total Order Berdasarkan Provinsi\")\n",
    "fig.update_xaxes(title=\"Province\")\n",
    "fig.update_yaxes(title=\"Jumlah Order\")\n",
    "fig.show()"
   ]
  },
  {
   "cell_type": "markdown",
   "metadata": {},
   "source": [
    "Berdasarkan grafik di atas, total order terbanyak berasal dari provinsi `Jawa Barat` dengan jumlah 60 order. Diikuti dengan `DKI Jakarta` dengan jumlah 57 order dan `Banten` dengan jumlah 50 order. Provinsi dengan order paling sedikit adalah `Lampung, Jambi, Sumatera Utara, dan Federal District(Brazil)` dengan jumlah 1 order."
   ]
  },
  {
   "cell_type": "markdown",
   "metadata": {},
   "source": [
    "#### Total Order Berdasarkan Kota"
   ]
  },
  {
   "cell_type": "code",
   "execution_count": 90,
   "metadata": {},
   "outputs": [],
   "source": [
    "query_total_order_berdasarkan_kota = \"\"\"  \n",
    "SELECT \n",
    "\tcity,\n",
    "\tCOUNT(id_order) AS jumlah_order\n",
    "FROM(\n",
    "\tSELECT \n",
    "    order_design.id_order,\n",
    "    order_design.id_user,\n",
    "    category_size.id_category,\n",
    "    order_design.id_design_finish,\n",
    "    category_design.id_category_design,\n",
    "    user.name AS user_name,\n",
    "    user.status AS user_status,\n",
    "    design.design_name,\n",
    "    design.status AS design_status,\n",
    "    CASE\n",
    "    \tWHEN category_size.id_category = 1 THEN '< 10m^2'\n",
    "\t\tWHEN category_size.id_category = 2 THEN '11 - 20m^2'\n",
    "   \t\tWHEN category_size.id_category = 3 THEN '21 - 30m^2'\n",
    "   \t\tWHEN category_size.id_category = 4 THEN '31 - 40m^2'\n",
    "   \t\tWHEN category_size.id_category = 5 THEN '41 - 50m^2'\n",
    "   \t\tELSE '> 50m^2'\n",
    "   \tEND AS category_size,\n",
    "   \tcategory_design.name AS category_name,\n",
    "   \torder_design.status AS order_status,\n",
    "   \torder_design.price,\n",
    "   \tpromo_code.code AS promo_code,\n",
    "   \tpromo_code.valid_from,\n",
    "   \tpromo_code.valid_until,\n",
    "   \torder_design.created_at,\n",
    "   \torder_design.updated_at,\n",
    "    CASE\n",
    "    \tWHEN address_components.administrative_area_level_1 IN ('Daerah Khusus Ibukota Jakarta','Jakarta') THEN 'Daerah Khusus Ibukota Jakarta'\n",
    "        WHEN address_components.administrative_area_level_1 = 'Banten' THEN 'Banten'\n",
    "        WHEN address_components.administrative_area_level_1 IN ('Jawa Barat', 'West Java') THEN 'Jawa Barat'\n",
    "        WHEN address_components.administrative_area_level_1 IN ('Jawa Timur', 'East Java') THEN 'Jawa Timur'\n",
    "        WHEN address_components.administrative_area_level_1 = 'Bali' THEN 'Bali'\n",
    "        WHEN address_components.administrative_area_level_1 = 'Sulawesi Selatan' THEN 'Sulawesi Selatan'\n",
    "        WHEN address_components.administrative_area_level_1 IN ('Sumatera Utara', 'North Sumatra') THEN 'Sumatera Utara'\n",
    "        WHEN address_components.administrative_area_level_1 IN ('Jawa Tengah', 'Central Java') THEN 'Jawa Tengah'\n",
    "        WHEN address_components.administrative_area_level_1 = 'Daerah Istimewa Yogyakarta' THEN 'Daerah Istimewa Yogyakarta'\n",
    "        WHEN address_components.administrative_area_level_1 = 'Jambi' THEN 'Jambi'\n",
    "        WHEN address_components.administrative_area_level_1 = 'Lampung' THEN 'Lampung'\n",
    "        WHEN address_components.administrative_area_level_1 = 'Aceh' THEN 'Aceh'\n",
    "        WHEN address_components.administrative_area_level_1 IN ('Sumatera Barat', 'West Sumatra') THEN 'Sumatera Barat'\n",
    "        WHEN address_components.administrative_area_level_1 = 'Federal District' THEN 'Federal District'\n",
    "        WHEN address_components.administrative_area_level_1 = '' OR address_components.administrative_area_level_1 IS NULL THEN 'Unknown Location'\n",
    "        ELSE address_components.administrative_area_level_1\n",
    "  \tEND AS province,\n",
    "    CASE\n",
    "        WHEN address_components.administrative_area_level_2 IN ('Badung', 'Badung Regency') THEN 'Badung'\n",
    "        WHEN address_components.administrative_area_level_2 IN ('Bandung', 'Bandung Regency') THEN 'Bandung'\n",
    "        WHEN address_components.administrative_area_level_2 IN ('Banyumas', 'Banyumas Regency') THEN 'Banyumas'\n",
    "        WHEN address_components.administrative_area_level_2 IN ('Bekasi', 'Bekasi Regency') THEN 'Bekasi'\n",
    "        WHEN address_components.administrative_area_level_2 IN ('Bogor', 'Bogor Regency') THEN 'Bogor'\n",
    "        WHEN address_components.administrative_area_level_2 IN ('Central Jakarta City', 'Jakarta Pusat') THEN 'Jakarta Pusat'\n",
    "        WHEN address_components.administrative_area_level_2 IN ('Ciamis', 'Ciamis Regency') THEN 'Ciamis'\n",
    "        WHEN address_components.administrative_area_level_2 IN ('Cimahi', 'Cimahi City') THEN 'Cimahi'\n",
    "        WHEN address_components.administrative_area_level_2 IN ('Deli Serdang', 'Deli Serdang Regency') THEN 'Deli Serdang'\n",
    "        WHEN address_components.administrative_area_level_2 IN ('Depok', 'Depok City') THEN 'Depok'\n",
    "        WHEN address_components.administrative_area_level_2 IN ('East Jakarta City', 'Jakarta Timur') THEN 'Jakarta Timur'\n",
    "        WHEN address_components.administrative_area_level_2 IN ('Jakarta Barat', 'West Jakarta City') THEN 'Jakarta Barat'\n",
    "        WHEN address_components.administrative_area_level_2 IN ('Jakarta Selatan', 'South Jakarta City') THEN 'Jakarta Selatan'\n",
    "        WHEN address_components.administrative_area_level_2 IN ('Jakarta Utara', 'North Jakarta City') THEN 'Jakarta Utara'\n",
    "        WHEN address_components.administrative_area_level_2 IN ('Jember', 'Jember Regency') THEN 'Jember'\n",
    "        WHEN address_components.administrative_area_level_2 IN ('Klungkung', 'Klungkung Regency') THEN 'Klungkung'\n",
    "        WHEN address_components.administrative_area_level_2 IN ('Pringsewu', 'Pringsewu Regency') THEN 'Pringsewu'\n",
    "        WHEN address_components.administrative_area_level_2 IN ('Sukabumi', 'Sukabumi City') THEN 'Sukabumi'\n",
    "        WHEN address_components.administrative_area_level_2 IN ('Tangerang', 'Tangerang City', 'Tangerang Regency') THEN 'Tangerang'\n",
    "        WHEN address_components.administrative_area_level_2 IN ('Tangerang Selatan', 'South Tangerang City') THEN 'Tangerang Selatan'\n",
    "        WHEN address_components.administrative_area_level_2 IN ('West Bandung', 'West Bandung Regency') THEN 'Bandung Barat'\n",
    "        WHEN address_components.administrative_area_level_2 = ' ' THEN 'Unknown City'\n",
    "        ELSE address_components.administrative_area_level_2\n",
    "    END AS city,\n",
    "    CASE\n",
    "        WHEN address_components.administrative_area_level_3 IN ('South Kuta') THEN 'Kuta Selatan'\n",
    "        WHEN address_components.administrative_area_level_3 = ' ' THEN 'Unknown District'\n",
    "        ELSE address_components.administrative_area_level_3\n",
    "    END AS district\n",
    "    FROM\n",
    "    \torder_design\n",
    "    LEFT JOIN\n",
    "    \tuser ON user.id_user = order_design.id_designer\n",
    "    LEFT JOIN\n",
    "    \tcategory_size ON category_size.id_category = order_design.id_category\n",
    "    LEFT JOIN\n",
    "    \tdesign ON design.id_design = order_design.id_design_finish\n",
    "    LEFT JOIN\n",
    "    \tcategory_design ON category_design.id_category_design = design.id_type\n",
    "    LEFT JOIN\n",
    "    \taddress_components ON address_components.address_componentable_id = order_design.id_order\n",
    "    LEFT JOIN \n",
    "        promo_code ON promo_code.id_promo = order_design.id_promo\n",
    "    WHERE \n",
    "    \torder_design.id_user > 249\n",
    "    AND\n",
    "    \torder_design.status NOT IN ('expired','new')\n",
    "    AND \n",
    "\t\taddress_componentable_type like '%OrderDesign%'\n",
    ") AS master_table\n",
    "GROUP BY \n",
    "\tcity\n",
    "ORDER BY \n",
    "\tjumlah_order DESC;\n",
    "\"\"\""
   ]
  },
  {
   "cell_type": "code",
   "execution_count": 91,
   "metadata": {},
   "outputs": [
    {
     "data": {
      "text/html": [
       "<div>\n",
       "<style scoped>\n",
       "    .dataframe tbody tr th:only-of-type {\n",
       "        vertical-align: middle;\n",
       "    }\n",
       "\n",
       "    .dataframe tbody tr th {\n",
       "        vertical-align: top;\n",
       "    }\n",
       "\n",
       "    .dataframe thead th {\n",
       "        text-align: right;\n",
       "    }\n",
       "</style>\n",
       "<table border=\"1\" class=\"dataframe\">\n",
       "  <thead>\n",
       "    <tr style=\"text-align: right;\">\n",
       "      <th></th>\n",
       "      <th>city</th>\n",
       "      <th>jumlah_order</th>\n",
       "    </tr>\n",
       "  </thead>\n",
       "  <tbody>\n",
       "    <tr>\n",
       "      <th>0</th>\n",
       "      <td>Tangerang Selatan</td>\n",
       "      <td>28</td>\n",
       "    </tr>\n",
       "    <tr>\n",
       "      <th>1</th>\n",
       "      <td>Tangerang</td>\n",
       "      <td>21</td>\n",
       "    </tr>\n",
       "    <tr>\n",
       "      <th>2</th>\n",
       "      <td>Jakarta Selatan</td>\n",
       "      <td>21</td>\n",
       "    </tr>\n",
       "    <tr>\n",
       "      <th>3</th>\n",
       "      <td>Bogor</td>\n",
       "      <td>16</td>\n",
       "    </tr>\n",
       "    <tr>\n",
       "      <th>4</th>\n",
       "      <td>Bekasi</td>\n",
       "      <td>16</td>\n",
       "    </tr>\n",
       "    <tr>\n",
       "      <th>5</th>\n",
       "      <td>Depok</td>\n",
       "      <td>14</td>\n",
       "    </tr>\n",
       "    <tr>\n",
       "      <th>6</th>\n",
       "      <td>Jakarta Timur</td>\n",
       "      <td>13</td>\n",
       "    </tr>\n",
       "    <tr>\n",
       "      <th>7</th>\n",
       "      <td>Jakarta Utara</td>\n",
       "      <td>10</td>\n",
       "    </tr>\n",
       "    <tr>\n",
       "      <th>8</th>\n",
       "      <td>Jakarta Barat</td>\n",
       "      <td>10</td>\n",
       "    </tr>\n",
       "    <tr>\n",
       "      <th>9</th>\n",
       "      <td>Deli Serdang</td>\n",
       "      <td>7</td>\n",
       "    </tr>\n",
       "    <tr>\n",
       "      <th>10</th>\n",
       "      <td>Cimahi</td>\n",
       "      <td>5</td>\n",
       "    </tr>\n",
       "    <tr>\n",
       "      <th>11</th>\n",
       "      <td>Surabaya</td>\n",
       "      <td>5</td>\n",
       "    </tr>\n",
       "    <tr>\n",
       "      <th>12</th>\n",
       "      <td>Bandung</td>\n",
       "      <td>4</td>\n",
       "    </tr>\n",
       "    <tr>\n",
       "      <th>13</th>\n",
       "      <td>Sukabumi</td>\n",
       "      <td>3</td>\n",
       "    </tr>\n",
       "    <tr>\n",
       "      <th>14</th>\n",
       "      <td>Badung</td>\n",
       "      <td>3</td>\n",
       "    </tr>\n",
       "    <tr>\n",
       "      <th>15</th>\n",
       "      <td>Makassar</td>\n",
       "      <td>2</td>\n",
       "    </tr>\n",
       "    <tr>\n",
       "      <th>16</th>\n",
       "      <td>Unknown City</td>\n",
       "      <td>2</td>\n",
       "    </tr>\n",
       "    <tr>\n",
       "      <th>17</th>\n",
       "      <td>Bantul</td>\n",
       "      <td>2</td>\n",
       "    </tr>\n",
       "    <tr>\n",
       "      <th>18</th>\n",
       "      <td>Bandung Barat</td>\n",
       "      <td>2</td>\n",
       "    </tr>\n",
       "    <tr>\n",
       "      <th>19</th>\n",
       "      <td>Malang</td>\n",
       "      <td>2</td>\n",
       "    </tr>\n",
       "    <tr>\n",
       "      <th>20</th>\n",
       "      <td>Jakarta Pusat</td>\n",
       "      <td>2</td>\n",
       "    </tr>\n",
       "    <tr>\n",
       "      <th>21</th>\n",
       "      <td>Klungkung</td>\n",
       "      <td>1</td>\n",
       "    </tr>\n",
       "    <tr>\n",
       "      <th>22</th>\n",
       "      <td>Surakarta</td>\n",
       "      <td>1</td>\n",
       "    </tr>\n",
       "    <tr>\n",
       "      <th>23</th>\n",
       "      <td>Denpasar</td>\n",
       "      <td>1</td>\n",
       "    </tr>\n",
       "    <tr>\n",
       "      <th>24</th>\n",
       "      <td>Jambi City</td>\n",
       "      <td>1</td>\n",
       "    </tr>\n",
       "    <tr>\n",
       "      <th>25</th>\n",
       "      <td>Sleman</td>\n",
       "      <td>1</td>\n",
       "    </tr>\n",
       "    <tr>\n",
       "      <th>26</th>\n",
       "      <td>Brasilia</td>\n",
       "      <td>1</td>\n",
       "    </tr>\n",
       "    <tr>\n",
       "      <th>27</th>\n",
       "      <td>Kediri</td>\n",
       "      <td>1</td>\n",
       "    </tr>\n",
       "    <tr>\n",
       "      <th>28</th>\n",
       "      <td>Banyumas</td>\n",
       "      <td>1</td>\n",
       "    </tr>\n",
       "    <tr>\n",
       "      <th>29</th>\n",
       "      <td>Pringsewu</td>\n",
       "      <td>1</td>\n",
       "    </tr>\n",
       "    <tr>\n",
       "      <th>30</th>\n",
       "      <td>Lebak</td>\n",
       "      <td>1</td>\n",
       "    </tr>\n",
       "    <tr>\n",
       "      <th>31</th>\n",
       "      <td>Padang City</td>\n",
       "      <td>1</td>\n",
       "    </tr>\n",
       "  </tbody>\n",
       "</table>\n",
       "</div>"
      ],
      "text/plain": [
       "                 city  jumlah_order\n",
       "0   Tangerang Selatan            28\n",
       "1           Tangerang            21\n",
       "2     Jakarta Selatan            21\n",
       "3               Bogor            16\n",
       "4              Bekasi            16\n",
       "5               Depok            14\n",
       "6       Jakarta Timur            13\n",
       "7       Jakarta Utara            10\n",
       "8       Jakarta Barat            10\n",
       "9        Deli Serdang             7\n",
       "10             Cimahi             5\n",
       "11           Surabaya             5\n",
       "12            Bandung             4\n",
       "13           Sukabumi             3\n",
       "14             Badung             3\n",
       "15           Makassar             2\n",
       "16       Unknown City             2\n",
       "17             Bantul             2\n",
       "18      Bandung Barat             2\n",
       "19             Malang             2\n",
       "20      Jakarta Pusat             2\n",
       "21          Klungkung             1\n",
       "22          Surakarta             1\n",
       "23           Denpasar             1\n",
       "24         Jambi City             1\n",
       "25             Sleman             1\n",
       "26           Brasilia             1\n",
       "27             Kediri             1\n",
       "28           Banyumas             1\n",
       "29          Pringsewu             1\n",
       "30              Lebak             1\n",
       "31        Padang City             1"
      ]
     },
     "execution_count": 91,
     "metadata": {},
     "output_type": "execute_result"
    }
   ],
   "source": [
    "total_order_berdasarkan_kota = fetch_data(host, port, user, passwd, databs, query_total_order_berdasarkan_kota)\n",
    "total_order_berdasarkan_kota"
   ]
  },
  {
   "cell_type": "markdown",
   "metadata": {},
   "source": [
    "#### Total Order Berdasarkan Kecamatan"
   ]
  },
  {
   "cell_type": "code",
   "execution_count": 98,
   "metadata": {},
   "outputs": [],
   "source": [
    "query_total_order_berdasarkan_kecamatan = \"\"\"  \n",
    "SELECT \n",
    "\tdistrict,\n",
    "\tCOUNT(id_order) AS jumlah_order\n",
    "FROM(\n",
    "\tSELECT \n",
    "    order_design.id_order,\n",
    "    order_design.id_user,\n",
    "    category_size.id_category,\n",
    "    order_design.id_design_finish,\n",
    "    category_design.id_category_design,\n",
    "    user.name AS user_name,\n",
    "    user.status AS user_status,\n",
    "    design.design_name,\n",
    "    design.status AS design_status,\n",
    "    CASE\n",
    "    \tWHEN category_size.id_category = 1 THEN '< 10m^2'\n",
    "\t\tWHEN category_size.id_category = 2 THEN '11 - 20m^2'\n",
    "   \t\tWHEN category_size.id_category = 3 THEN '21 - 30m^2'\n",
    "   \t\tWHEN category_size.id_category = 4 THEN '31 - 40m^2'\n",
    "   \t\tWHEN category_size.id_category = 5 THEN '41 - 50m^2'\n",
    "   \t\tELSE '> 50m^2'\n",
    "   \tEND AS category_size,\n",
    "   \tcategory_design.name AS category_name,\n",
    "   \torder_design.status AS order_status,\n",
    "   \torder_design.price,\n",
    "   \tpromo_code.code AS promo_code,\n",
    "   \tpromo_code.valid_from,\n",
    "   \tpromo_code.valid_until,\n",
    "   \torder_design.created_at,\n",
    "   \torder_design.updated_at,\n",
    "    CASE\n",
    "    \tWHEN address_components.administrative_area_level_1 IN ('Daerah Khusus Ibukota Jakarta','Jakarta') THEN 'Daerah Khusus Ibukota Jakarta'\n",
    "        WHEN address_components.administrative_area_level_1 = 'Banten' THEN 'Banten'\n",
    "        WHEN address_components.administrative_area_level_1 IN ('Jawa Barat', 'West Java') THEN 'Jawa Barat'\n",
    "        WHEN address_components.administrative_area_level_1 IN ('Jawa Timur', 'East Java') THEN 'Jawa Timur'\n",
    "        WHEN address_components.administrative_area_level_1 = 'Bali' THEN 'Bali'\n",
    "        WHEN address_components.administrative_area_level_1 = 'Sulawesi Selatan' THEN 'Sulawesi Selatan'\n",
    "        WHEN address_components.administrative_area_level_1 IN ('Sumatera Utara', 'North Sumatra') THEN 'Sumatera Utara'\n",
    "        WHEN address_components.administrative_area_level_1 IN ('Jawa Tengah', 'Central Java') THEN 'Jawa Tengah'\n",
    "        WHEN address_components.administrative_area_level_1 = 'Daerah Istimewa Yogyakarta' THEN 'Daerah Istimewa Yogyakarta'\n",
    "        WHEN address_components.administrative_area_level_1 = 'Jambi' THEN 'Jambi'\n",
    "        WHEN address_components.administrative_area_level_1 = 'Lampung' THEN 'Lampung'\n",
    "        WHEN address_components.administrative_area_level_1 = 'Aceh' THEN 'Aceh'\n",
    "        WHEN address_components.administrative_area_level_1 IN ('Sumatera Barat', 'West Sumatra') THEN 'Sumatera Barat'\n",
    "        WHEN address_components.administrative_area_level_1 = 'Federal District' THEN 'Federal District'\n",
    "        WHEN address_components.administrative_area_level_1 = '' OR address_components.administrative_area_level_1 IS NULL THEN 'Unknown Location'\n",
    "        ELSE address_components.administrative_area_level_1\n",
    "  \tEND AS province,\n",
    "    CASE\n",
    "        WHEN address_components.administrative_area_level_2 IN ('Badung', 'Badung Regency') THEN 'Badung'\n",
    "        WHEN address_components.administrative_area_level_2 IN ('Bandung', 'Bandung Regency') THEN 'Bandung'\n",
    "        WHEN address_components.administrative_area_level_2 IN ('Banyumas', 'Banyumas Regency') THEN 'Banyumas'\n",
    "        WHEN address_components.administrative_area_level_2 IN ('Bekasi', 'Bekasi Regency') THEN 'Bekasi'\n",
    "        WHEN address_components.administrative_area_level_2 IN ('Bogor', 'Bogor Regency') THEN 'Bogor'\n",
    "        WHEN address_components.administrative_area_level_2 IN ('Central Jakarta City', 'Jakarta Pusat') THEN 'Jakarta Pusat'\n",
    "        WHEN address_components.administrative_area_level_2 IN ('Ciamis', 'Ciamis Regency') THEN 'Ciamis'\n",
    "        WHEN address_components.administrative_area_level_2 IN ('Cimahi', 'Cimahi City') THEN 'Cimahi'\n",
    "        WHEN address_components.administrative_area_level_2 IN ('Deli Serdang', 'Deli Serdang Regency') THEN 'Deli Serdang'\n",
    "        WHEN address_components.administrative_area_level_2 IN ('Depok', 'Depok City') THEN 'Depok'\n",
    "        WHEN address_components.administrative_area_level_2 IN ('East Jakarta City', 'Jakarta Timur') THEN 'Jakarta Timur'\n",
    "        WHEN address_components.administrative_area_level_2 IN ('Jakarta Barat', 'West Jakarta City') THEN 'Jakarta Barat'\n",
    "        WHEN address_components.administrative_area_level_2 IN ('Jakarta Selatan', 'South Jakarta City') THEN 'Jakarta Selatan'\n",
    "        WHEN address_components.administrative_area_level_2 IN ('Jakarta Utara', 'North Jakarta City') THEN 'Jakarta Utara'\n",
    "        WHEN address_components.administrative_area_level_2 IN ('Jember', 'Jember Regency') THEN 'Jember'\n",
    "        WHEN address_components.administrative_area_level_2 IN ('Klungkung', 'Klungkung Regency') THEN 'Klungkung'\n",
    "        WHEN address_components.administrative_area_level_2 IN ('Pringsewu', 'Pringsewu Regency') THEN 'Pringsewu'\n",
    "        WHEN address_components.administrative_area_level_2 IN ('Sukabumi', 'Sukabumi City') THEN 'Sukabumi'\n",
    "        WHEN address_components.administrative_area_level_2 IN ('Tangerang', 'Tangerang City', 'Tangerang Regency') THEN 'Tangerang'\n",
    "        WHEN address_components.administrative_area_level_2 IN ('Tangerang Selatan', 'South Tangerang City') THEN 'Tangerang Selatan'\n",
    "        WHEN address_components.administrative_area_level_2 IN ('West Bandung', 'West Bandung Regency') THEN 'Bandung Barat'\n",
    "        WHEN address_components.administrative_area_level_2 = ' ' THEN 'Unknown City'\n",
    "        ELSE address_components.administrative_area_level_2\n",
    "    END AS city,\n",
    "    CASE\n",
    "        WHEN address_components.administrative_area_level_3 IN ('South Kuta') THEN 'Kuta Selatan'\n",
    "        WHEN address_components.administrative_area_level_3 = ' ' THEN 'Unknown District'\n",
    "        ELSE address_components.administrative_area_level_3\n",
    "    END AS district\n",
    "    FROM\n",
    "    \torder_design\n",
    "    LEFT JOIN\n",
    "    \tuser ON user.id_user = order_design.id_designer\n",
    "    LEFT JOIN\n",
    "    \tcategory_size ON category_size.id_category = order_design.id_category\n",
    "    LEFT JOIN\n",
    "    \tdesign ON design.id_design = order_design.id_design_finish\n",
    "    LEFT JOIN\n",
    "    \tcategory_design ON category_design.id_category_design = design.id_type\n",
    "    LEFT JOIN\n",
    "    \taddress_components ON address_components.address_componentable_id = order_design.id_order\n",
    "    LEFT JOIN \n",
    "        promo_code ON promo_code.id_promo = order_design.id_promo\n",
    "    WHERE \n",
    "    \torder_design.id_user > 249\n",
    "    AND\n",
    "    \torder_design.status NOT IN ('expired','new')\n",
    "    AND \n",
    "        address_componentable_type like '%OrderDesign%'\n",
    ") AS master_table\n",
    "GROUP BY \n",
    "\tdistrict\n",
    "ORDER BY \n",
    "\tjumlah_order DESC;\n",
    "\"\"\""
   ]
  },
  {
   "cell_type": "code",
   "execution_count": 99,
   "metadata": {},
   "outputs": [
    {
     "data": {
      "text/html": [
       "<div>\n",
       "<style scoped>\n",
       "    .dataframe tbody tr th:only-of-type {\n",
       "        vertical-align: middle;\n",
       "    }\n",
       "\n",
       "    .dataframe tbody tr th {\n",
       "        vertical-align: top;\n",
       "    }\n",
       "\n",
       "    .dataframe thead th {\n",
       "        text-align: right;\n",
       "    }\n",
       "</style>\n",
       "<table border=\"1\" class=\"dataframe\">\n",
       "  <thead>\n",
       "    <tr style=\"text-align: right;\">\n",
       "      <th></th>\n",
       "      <th>district</th>\n",
       "      <th>jumlah_order</th>\n",
       "    </tr>\n",
       "  </thead>\n",
       "  <tbody>\n",
       "    <tr>\n",
       "      <th>0</th>\n",
       "      <td>Unknown District</td>\n",
       "      <td>16</td>\n",
       "    </tr>\n",
       "    <tr>\n",
       "      <th>1</th>\n",
       "      <td>Tanjung Morawa</td>\n",
       "      <td>7</td>\n",
       "    </tr>\n",
       "    <tr>\n",
       "      <th>2</th>\n",
       "      <td>Serpong</td>\n",
       "      <td>7</td>\n",
       "    </tr>\n",
       "    <tr>\n",
       "      <th>3</th>\n",
       "      <td>Jagakarsa</td>\n",
       "      <td>5</td>\n",
       "    </tr>\n",
       "    <tr>\n",
       "      <th>4</th>\n",
       "      <td>Pondok Aren</td>\n",
       "      <td>5</td>\n",
       "    </tr>\n",
       "    <tr>\n",
       "      <th>...</th>\n",
       "      <td>...</td>\n",
       "      <td>...</td>\n",
       "    </tr>\n",
       "    <tr>\n",
       "      <th>100</th>\n",
       "      <td>Sukolilo</td>\n",
       "      <td>1</td>\n",
       "    </tr>\n",
       "    <tr>\n",
       "      <th>101</th>\n",
       "      <td>Tarumajaya</td>\n",
       "      <td>1</td>\n",
       "    </tr>\n",
       "    <tr>\n",
       "      <th>102</th>\n",
       "      <td>Mengwi</td>\n",
       "      <td>1</td>\n",
       "    </tr>\n",
       "    <tr>\n",
       "      <th>103</th>\n",
       "      <td>Jatisampurna</td>\n",
       "      <td>1</td>\n",
       "    </tr>\n",
       "    <tr>\n",
       "      <th>104</th>\n",
       "      <td>Beji</td>\n",
       "      <td>1</td>\n",
       "    </tr>\n",
       "  </tbody>\n",
       "</table>\n",
       "<p>105 rows × 2 columns</p>\n",
       "</div>"
      ],
      "text/plain": [
       "             district  jumlah_order\n",
       "0    Unknown District            16\n",
       "1      Tanjung Morawa             7\n",
       "2             Serpong             7\n",
       "3           Jagakarsa             5\n",
       "4         Pondok Aren             5\n",
       "..                ...           ...\n",
       "100          Sukolilo             1\n",
       "101        Tarumajaya             1\n",
       "102            Mengwi             1\n",
       "103      Jatisampurna             1\n",
       "104              Beji             1\n",
       "\n",
       "[105 rows x 2 columns]"
      ]
     },
     "execution_count": 99,
     "metadata": {},
     "output_type": "execute_result"
    }
   ],
   "source": [
    "total_order_berdasarkan_kecamatan = fetch_data(host, port, user, passwd, databs, query_total_order_berdasarkan_kecamatan)\n",
    "total_order_berdasarkan_kecamatan"
   ]
  },
  {
   "cell_type": "markdown",
   "metadata": {},
   "source": [
    "#### Tipe Taman yang Populer "
   ]
  },
  {
   "cell_type": "code",
   "execution_count": 106,
   "metadata": {},
   "outputs": [],
   "source": [
    "query_tipe_taman_yang_populer = \"\"\"\n",
    "SELECT \n",
    "\tcategory_name,\n",
    "    count(id_order) as jumlah_order\n",
    "FROM(\n",
    "\tSELECT \n",
    "    order_design.id_order,\n",
    "    order_design.id_user,\n",
    "    category_size.id_category,\n",
    "    order_design.id_design_finish,\n",
    "    category_design.id_category_design,\n",
    "    user.name AS user_name,\n",
    "    user.status AS user_status,\n",
    "    design.design_name,\n",
    "    design.status AS design_status,\n",
    "    CASE\n",
    "    \tWHEN category_size.id_category = 1 THEN '< 10m^2'\n",
    "\t\tWHEN category_size.id_category = 2 THEN '11 - 20m^2'\n",
    "   \t\tWHEN category_size.id_category = 3 THEN '21 - 30m^2'\n",
    "   \t\tWHEN category_size.id_category = 4 THEN '31 - 40m^2'\n",
    "   \t\tWHEN category_size.id_category = 5 THEN '41 - 50m^2'\n",
    "   \t\tELSE '> 50m^2'\n",
    "   \tEND AS category_size,\n",
    "\tCASE\n",
    "\t\tWHEN category_design.name = 'Tropis' THEN 'Tropis'\n",
    "\t\tWHEN category_design.name = 'Kering' THEN 'Kering'\n",
    "\t\tWHEN category_design.name = 'Minimalis' THEN 'Minimalis'\n",
    "\t\tWHEN category_design.name = 'Mediterania' THEN 'Mediterania'\n",
    "\t\tELSE 'Unknown Type'\n",
    "\tEND AS category_name,\n",
    "   \torder_design.status AS order_status,\n",
    "   \torder_design.price,\n",
    "   \tpromo_code.code AS promo_code,\n",
    "   \tpromo_code.valid_from,\n",
    "   \tpromo_code.valid_until,\n",
    "   \torder_design.created_at,\n",
    "   \torder_design.updated_at,\n",
    "    CASE\n",
    "    \tWHEN address_components.administrative_area_level_1 IN ('Daerah Khusus Ibukota Jakarta','Jakarta') THEN 'Daerah Khusus Ibukota Jakarta'\n",
    "        WHEN address_components.administrative_area_level_1 = 'Banten' THEN 'Banten'\n",
    "        WHEN address_components.administrative_area_level_1 IN ('Jawa Barat', 'West Java') THEN 'Jawa Barat'\n",
    "        WHEN address_components.administrative_area_level_1 IN ('Jawa Timur', 'East Java') THEN 'Jawa Timur'\n",
    "        WHEN address_components.administrative_area_level_1 = 'Bali' THEN 'Bali'\n",
    "        WHEN address_components.administrative_area_level_1 = 'Sulawesi Selatan' THEN 'Sulawesi Selatan'\n",
    "        WHEN address_components.administrative_area_level_1 IN ('Sumatera Utara', 'North Sumatra') THEN 'Sumatera Utara'\n",
    "        WHEN address_components.administrative_area_level_1 IN ('Jawa Tengah', 'Central Java') THEN 'Jawa Tengah'\n",
    "        WHEN address_components.administrative_area_level_1 = 'Daerah Istimewa Yogyakarta' THEN 'Daerah Istimewa Yogyakarta'\n",
    "        WHEN address_components.administrative_area_level_1 = 'Jambi' THEN 'Jambi'\n",
    "        WHEN address_components.administrative_area_level_1 = 'Lampung' THEN 'Lampung'\n",
    "        WHEN address_components.administrative_area_level_1 = 'Aceh' THEN 'Aceh'\n",
    "        WHEN address_components.administrative_area_level_1 IN ('Sumatera Barat', 'West Sumatra') THEN 'Sumatera Barat'\n",
    "        WHEN address_components.administrative_area_level_1 = 'Federal District' THEN 'Federal District'\n",
    "        WHEN address_components.administrative_area_level_1 = '' OR address_components.administrative_area_level_1 IS NULL THEN 'Unknown Location'\n",
    "        ELSE address_components.administrative_area_level_1\n",
    "  \tEND AS province,\n",
    "    CASE\n",
    "        WHEN address_components.administrative_area_level_2 IN ('Badung', 'Badung Regency') THEN 'Badung'\n",
    "        WHEN address_components.administrative_area_level_2 IN ('Bandung', 'Bandung Regency') THEN 'Bandung'\n",
    "        WHEN address_components.administrative_area_level_2 IN ('Banyumas', 'Banyumas Regency') THEN 'Banyumas'\n",
    "        WHEN address_components.administrative_area_level_2 IN ('Bekasi', 'Bekasi Regency') THEN 'Bekasi'\n",
    "        WHEN address_components.administrative_area_level_2 IN ('Bogor', 'Bogor Regency') THEN 'Bogor'\n",
    "        WHEN address_components.administrative_area_level_2 IN ('Central Jakarta City', 'Jakarta Pusat') THEN 'Jakarta Pusat'\n",
    "        WHEN address_components.administrative_area_level_2 IN ('Ciamis', 'Ciamis Regency') THEN 'Ciamis'\n",
    "        WHEN address_components.administrative_area_level_2 IN ('Cimahi', 'Cimahi City') THEN 'Cimahi'\n",
    "        WHEN address_components.administrative_area_level_2 IN ('Deli Serdang', 'Deli Serdang Regency') THEN 'Deli Serdang'\n",
    "        WHEN address_components.administrative_area_level_2 IN ('Depok', 'Depok City') THEN 'Depok'\n",
    "        WHEN address_components.administrative_area_level_2 IN ('East Jakarta City', 'Jakarta Timur') THEN 'Jakarta Timur'\n",
    "        WHEN address_components.administrative_area_level_2 IN ('Jakarta Barat', 'West Jakarta City') THEN 'Jakarta Barat'\n",
    "        WHEN address_components.administrative_area_level_2 IN ('Jakarta Selatan', 'South Jakarta City') THEN 'Jakarta Selatan'\n",
    "        WHEN address_components.administrative_area_level_2 IN ('Jakarta Utara', 'North Jakarta City') THEN 'Jakarta Utara'\n",
    "        WHEN address_components.administrative_area_level_2 IN ('Jember', 'Jember Regency') THEN 'Jember'\n",
    "        WHEN address_components.administrative_area_level_2 IN ('Klungkung', 'Klungkung Regency') THEN 'Klungkung'\n",
    "        WHEN address_components.administrative_area_level_2 IN ('Pringsewu', 'Pringsewu Regency') THEN 'Pringsewu'\n",
    "        WHEN address_components.administrative_area_level_2 IN ('Sukabumi', 'Sukabumi City') THEN 'Sukabumi'\n",
    "        WHEN address_components.administrative_area_level_2 IN ('Tangerang', 'Tangerang City', 'Tangerang Regency') THEN 'Tangerang'\n",
    "        WHEN address_components.administrative_area_level_2 IN ('Tangerang Selatan', 'South Tangerang City') THEN 'Tangerang Selatan'\n",
    "        WHEN address_components.administrative_area_level_2 IN ('West Bandung', 'West Bandung Regency') THEN 'Bandung Barat'\n",
    "        WHEN address_components.administrative_area_level_2 = ' ' THEN 'Unknown City'\n",
    "        ELSE address_components.administrative_area_level_2\n",
    "    END AS city,\n",
    "    CASE\n",
    "        WHEN address_components.administrative_area_level_3 IN ('South Kuta') THEN 'Kuta Selatan'\n",
    "        WHEN address_components.administrative_area_level_3 = ' ' THEN 'Unknown District'\n",
    "        ELSE address_components.administrative_area_level_3\n",
    "    END AS district\n",
    "    FROM\n",
    "    \torder_design\n",
    "    LEFT JOIN\n",
    "    \tuser ON user.id_user = order_design.id_designer\n",
    "    LEFT JOIN\n",
    "    \tcategory_size ON category_size.id_category = order_design.id_category\n",
    "    LEFT JOIN\n",
    "    \tdesign ON design.id_design = order_design.id_design_finish\n",
    "    LEFT JOIN\n",
    "    \tcategory_design ON category_design.id_category_design = design.id_type\n",
    "    LEFT JOIN\n",
    "    \taddress_components ON address_components.address_componentable_id = order_design.id_order\n",
    "    LEFT JOIN \n",
    "        promo_code ON promo_code.id_promo = order_design.id_promo\n",
    "    WHERE \n",
    "    \torder_design.id_user > 249\n",
    "    AND\n",
    "    \torder_design.status NOT IN ('expired','new')\n",
    ") AS master_table \n",
    "GROUP BY \n",
    "\tcategory_name\n",
    "ORDER BY \n",
    "\tjumlah_order DESC;\n",
    "\"\"\""
   ]
  },
  {
   "cell_type": "code",
   "execution_count": 107,
   "metadata": {},
   "outputs": [
    {
     "data": {
      "text/html": [
       "<div>\n",
       "<style scoped>\n",
       "    .dataframe tbody tr th:only-of-type {\n",
       "        vertical-align: middle;\n",
       "    }\n",
       "\n",
       "    .dataframe tbody tr th {\n",
       "        vertical-align: top;\n",
       "    }\n",
       "\n",
       "    .dataframe thead th {\n",
       "        text-align: right;\n",
       "    }\n",
       "</style>\n",
       "<table border=\"1\" class=\"dataframe\">\n",
       "  <thead>\n",
       "    <tr style=\"text-align: right;\">\n",
       "      <th></th>\n",
       "      <th>category_name</th>\n",
       "      <th>jumlah_order</th>\n",
       "    </tr>\n",
       "  </thead>\n",
       "  <tbody>\n",
       "    <tr>\n",
       "      <th>0</th>\n",
       "      <td>Minimalis</td>\n",
       "      <td>116</td>\n",
       "    </tr>\n",
       "    <tr>\n",
       "      <th>1</th>\n",
       "      <td>Kering</td>\n",
       "      <td>93</td>\n",
       "    </tr>\n",
       "    <tr>\n",
       "      <th>2</th>\n",
       "      <td>Tropis</td>\n",
       "      <td>83</td>\n",
       "    </tr>\n",
       "    <tr>\n",
       "      <th>3</th>\n",
       "      <td>Unknown Type</td>\n",
       "      <td>64</td>\n",
       "    </tr>\n",
       "    <tr>\n",
       "      <th>4</th>\n",
       "      <td>Mediterania</td>\n",
       "      <td>3</td>\n",
       "    </tr>\n",
       "  </tbody>\n",
       "</table>\n",
       "</div>"
      ],
      "text/plain": [
       "  category_name  jumlah_order\n",
       "0     Minimalis           116\n",
       "1        Kering            93\n",
       "2        Tropis            83\n",
       "3  Unknown Type            64\n",
       "4   Mediterania             3"
      ]
     },
     "execution_count": 107,
     "metadata": {},
     "output_type": "execute_result"
    }
   ],
   "source": [
    "tipe_taman_yang_populer = fetch_data(host, port, user, passwd, databs, query_tipe_taman_yang_populer)\n",
    "tipe_taman_yang_populer"
   ]
  },
  {
   "cell_type": "code",
   "execution_count": 108,
   "metadata": {},
   "outputs": [
    {
     "data": {
      "image/png": "[encoded data removed]",
      "text/plain": [
       "<Figure size 1000x600 with 1 Axes>"
      ]
     },
     "metadata": {},
     "output_type": "display_data"
    }
   ],
   "source": [
    "\n",
    "plt.figure(figsize=(10, 6))\n",
    "sns.barplot(x='jumlah_order', y='category_name', data=tipe_taman_yang_populer)\n",
    "plt.title('Jumlah Order Berdasarkan Tipe Taman', fontsize=16)\n",
    "plt.xlabel('Jumlah Order', fontsize=12)\n",
    "plt.ylabel('Tipe Taman', fontsize=12)\n",
    "plt.tight_layout()\n",
    "plt.show()"
   ]
  },
  {
   "cell_type": "code",
   "execution_count": null,
   "metadata": {},
   "outputs": [
    {
     "data": {
      "text/html": [
       "<div>\n",
       "<style scoped>\n",
       "    .dataframe tbody tr th:only-of-type {\n",
       "        vertical-align: middle;\n",
       "    }\n",
       "\n",
       "    .dataframe tbody tr th {\n",
       "        vertical-align: top;\n",
       "    }\n",
       "\n",
       "    .dataframe thead th {\n",
       "        text-align: right;\n",
       "    }\n",
       "</style>\n",
       "<table border=\"1\" class=\"dataframe\">\n",
       "  <thead>\n",
       "    <tr style=\"text-align: right;\">\n",
       "      <th></th>\n",
       "      <th>category_name</th>\n",
       "      <th>jumlah_order</th>\n",
       "    </tr>\n",
       "  </thead>\n",
       "  <tbody>\n",
       "    <tr>\n",
       "      <th>0</th>\n",
       "      <td>Minimalis</td>\n",
       "      <td>116</td>\n",
       "    </tr>\n",
       "    <tr>\n",
       "      <th>1</th>\n",
       "      <td>Kering</td>\n",
       "      <td>93</td>\n",
       "    </tr>\n",
       "    <tr>\n",
       "      <th>2</th>\n",
       "      <td>Tropis</td>\n",
       "      <td>83</td>\n",
       "    </tr>\n",
       "    <tr>\n",
       "      <th>3</th>\n",
       "      <td>Unknown Type</td>\n",
       "      <td>64</td>\n",
       "    </tr>\n",
       "    <tr>\n",
       "      <th>4</th>\n",
       "      <td>Mediterania</td>\n",
       "      <td>3</td>\n",
       "    </tr>\n",
       "  </tbody>\n",
       "</table>\n",
       "</div>"
      ],
      "text/plain": [
       "  category_name  jumlah_order\n",
       "0     Minimalis           116\n",
       "1        Kering            93\n",
       "2        Tropis            83\n",
       "3  Unknown Type            64\n",
       "4   Mediterania             3"
      ]
     },
     "execution_count": 139,
     "metadata": {},
     "output_type": "execute_result"
    }
   ],
   "source": [
    "tipe_taman_yang_populer = fetch_data(host, port, user, passwd, databs, query_tipe_taman_yang_populer)\n",
    "tipe_taman_yang_populer"
   ]
  },
  {
   "cell_type": "markdown",
   "metadata": {},
   "source": [
    "#### Persebaran Order Desain Berdasarkan Provinsi "
   ]
  },
  {
   "cell_type": "code",
   "execution_count": 109,
   "metadata": {},
   "outputs": [],
   "source": [
    "query_persebaran_order = \"\"\"  \n",
    "SELECT \n",
    "    id_order,\n",
    "    province,\n",
    "    city,\n",
    "    district,\n",
    "    order_status,\n",
    "    price,\n",
    "    CAST(latitude AS FLOAT) AS latitude,\n",
    "    CAST(longitude AS FLOAT) AS longitude,\n",
    "    created_at\n",
    "FROM\n",
    "    (SELECT\n",
    "        order_design.id_order,\n",
    "        order_design.id_user,\n",
    "        category_size.id_category,\n",
    "        order_design.id_design_finish,\n",
    "        category_design.id_category_design,\n",
    "        user.name AS user_name,\n",
    "        user.status AS user_status,\n",
    "        design.design_name,\n",
    "        design.status AS design_status,\n",
    "        CASE\n",
    "        \tWHEN category_size.id_category = 1 THEN '< 10m^2'\n",
    "        \tWHEN category_size.id_category = 2 THEN '11 - 20m^2'\n",
    "        \tWHEN category_size.id_category = 3 THEN '21 - 30m^2'\n",
    "        \tWHEN category_size.id_category = 4 THEN '31 - 40m^2'\n",
    "        \tWHEN category_size.id_category = 5 THEN '41 - 50m^2'\n",
    "        \tELSE '> 50m^2'\n",
    "        END AS category_size,\n",
    "        category_design.name AS category_name,\n",
    "        order_design.status AS order_status,\n",
    "        order_design.price,\n",
    "        promo_code.code,\n",
    "        promo_code.valid_from,\n",
    "        promo_code.valid_until,\n",
    "        order_design.created_at,\n",
    "        order_design.updated_at,\n",
    "        CASE\n",
    "            WHEN address_components.administrative_area_level_1 IN ('Daerah Khusus Ibukota Jakarta','Jakarta') THEN 'Daerah Khusus Ibukota Jakarta'\n",
    "            WHEN address_components.administrative_area_level_1 = 'Banten' THEN 'Banten'\n",
    "            WHEN address_components.administrative_area_level_1 IN ('Jawa Barat', 'West Java') THEN 'Jawa Barat'\n",
    "            WHEN address_components.administrative_area_level_1 IN ('Jawa Timur', 'East Java') THEN 'Jawa Timur'\n",
    "            WHEN address_components.administrative_area_level_1 = 'Bali' THEN 'Bali'\n",
    "            WHEN address_components.administrative_area_level_1 = 'Sulawesi Selatan' THEN 'Sulawesi Selatan'\n",
    "            WHEN address_components.administrative_area_level_1 IN ('Sumatera Utara', 'North Sumatra') THEN 'Sumatera Utara'\n",
    "            WHEN address_components.administrative_area_level_1 IN ('Jawa Tengah', 'Central Java') THEN 'Jawa Tengah'\n",
    "            WHEN address_components.administrative_area_level_1 = 'Daerah Istimewa Yogyakarta' THEN 'Daerah Istimewa Yogyakarta'\n",
    "            WHEN address_components.administrative_area_level_1 = 'Jambi' THEN 'Jambi'\n",
    "            WHEN address_components.administrative_area_level_1 = 'Lampung' THEN 'Lampung'\n",
    "            WHEN address_components.administrative_area_level_1 = 'Aceh' THEN 'Aceh'\n",
    "            WHEN address_components.administrative_area_level_1 IN ('Sumatera Barat', 'West Sumatra') THEN 'Sumatera Barat'\n",
    "            WHEN address_components.administrative_area_level_1 = 'Federal District' THEN 'Federal District'\n",
    "            WHEN address_components.administrative_area_level_1 = '' OR address_components.administrative_area_level_1 IS NULL THEN 'Unknown Location'\n",
    "            ELSE address_components.administrative_area_level_1\n",
    "        END AS province,\n",
    "        CASE\n",
    "            WHEN address_components.administrative_area_level_2 IN ('Badung', 'Badung Regency') THEN 'Badung'\n",
    "            WHEN address_components.administrative_area_level_2 IN ('Bandung', 'Bandung Regency') THEN 'Bandung'\n",
    "            WHEN address_components.administrative_area_level_2 IN ('Banyumas', 'Banyumas Regency') THEN 'Banyumas'\n",
    "            WHEN address_components.administrative_area_level_2 IN ('Bekasi', 'Bekasi Regency') THEN 'Bekasi'\n",
    "            WHEN address_components.administrative_area_level_2 IN ('Bogor', 'Bogor Regency') THEN 'Bogor'\n",
    "            WHEN address_components.administrative_area_level_2 IN ('Central Jakarta City', 'Jakarta Pusat') THEN 'Jakarta Pusat'\n",
    "            WHEN address_components.administrative_area_level_2 IN ('Ciamis', 'Ciamis Regency') THEN 'Ciamis'\n",
    "            WHEN address_components.administrative_area_level_2 IN ('Cimahi', 'Cimahi City') THEN 'Cimahi'\n",
    "\t        WHEN address_components.administrative_area_level_2 IN ('Deli Serdang', 'Deli Serdang Regency') THEN 'Deli Serdang'\n",
    "            WHEN address_components.administrative_area_level_2 IN ('Depok', 'Depok City') THEN 'Depok'\n",
    "            WHEN address_components.administrative_area_level_2 IN ('East Jakarta City', 'Jakarta Timur') THEN 'Jakarta Timur'\n",
    "            WHEN address_components.administrative_area_level_2 IN ('Jakarta Barat', 'West Jakarta City') THEN 'Jakarta Barat'\n",
    "            WHEN address_components.administrative_area_level_2 IN ('Jakarta Selatan', 'South Jakarta City') THEN 'Jakarta Selatan'\n",
    "            WHEN address_components.administrative_area_level_2 IN ('Jakarta Utara', 'North Jakarta City') THEN 'Jakarta Utara'\n",
    "            WHEN address_components.administrative_area_level_2 IN ('Jember', 'Jember Regency') THEN 'Jember'\n",
    "            WHEN address_components.administrative_area_level_2 IN ('Klungkung', 'Klungkung Regency') THEN 'Klungkung'\n",
    "            WHEN address_components.administrative_area_level_2 IN ('Pringsewu', 'Pringsewu Regency') THEN 'Pringsewu'\n",
    "            WHEN address_components.administrative_area_level_2 IN ('Sukabumi', 'Sukabumi City') THEN 'Sukabumi'\n",
    "            WHEN address_components.administrative_area_level_2 IN ('Tangerang', 'Tangerang City', 'Tangerang Regency') THEN 'Tangerang'\n",
    "            WHEN address_components.administrative_area_level_2 IN ('Tangerang Selatan', 'South Tangerang City') THEN 'Tangerang Selatan'\n",
    "            WHEN address_components.administrative_area_level_2 IN ('West Bandung', 'West Bandung Regency') THEN 'Bandung Barat'\n",
    "            ELSE address_components.administrative_area_level_2\n",
    "        END AS city,\n",
    "        CASE\n",
    "            WHEN address_components.administrative_area_level_3 IN ('South Kuta') THEN 'Kuta Selatan'\n",
    "            ELSE address_components.administrative_area_level_3\n",
    "        END AS district,\n",
    "        latitude,\n",
    "        longitude\n",
    "    FROM\n",
    "       \torder_design\n",
    "    LEFT JOIN\n",
    "       \tuser ON user.id_user = order_design.id_designer\n",
    "    LEFT JOIN\n",
    "       \tcategory_size ON category_size.id_category = order_design.id_category\n",
    "    LEFT JOIN\n",
    "       \tdesign ON design.id_design = order_design.id_design_finish\n",
    "    LEFT JOIN\n",
    "       \tcategory_design ON category_design.id_category_design = design.id_type\n",
    "    LEFT JOIN\n",
    "       \taddress_components ON address_components.address_componentable_id = order_design.id_order\n",
    "    LEFT JOIN \n",
    "        promo_code on promo_code.id_promo = order_design.id_promo\n",
    "    WHERE \n",
    "    \torder_design.id_user > 249\n",
    "    AND \n",
    "    \torder_design.status NOT IN ('expired','new')\n",
    "    AND \n",
    "    \taddress_components.address_componentable_type LIKE '%OrderDesign%'\n",
    ")as master_table;\n",
    "\"\"\""
   ]
  },
  {
   "cell_type": "code",
   "execution_count": 110,
   "metadata": {},
   "outputs": [
    {
     "data": {
      "text/html": [
       "<div>\n",
       "<style scoped>\n",
       "    .dataframe tbody tr th:only-of-type {\n",
       "        vertical-align: middle;\n",
       "    }\n",
       "\n",
       "    .dataframe tbody tr th {\n",
       "        vertical-align: top;\n",
       "    }\n",
       "\n",
       "    .dataframe thead th {\n",
       "        text-align: right;\n",
       "    }\n",
       "</style>\n",
       "<table border=\"1\" class=\"dataframe\">\n",
       "  <thead>\n",
       "    <tr style=\"text-align: right;\">\n",
       "      <th></th>\n",
       "      <th>id_order</th>\n",
       "      <th>province</th>\n",
       "      <th>city</th>\n",
       "      <th>district</th>\n",
       "      <th>order_status</th>\n",
       "      <th>price</th>\n",
       "      <th>latitude</th>\n",
       "      <th>longitude</th>\n",
       "      <th>created_at</th>\n",
       "    </tr>\n",
       "  </thead>\n",
       "  <tbody>\n",
       "    <tr>\n",
       "      <th>0</th>\n",
       "      <td>568</td>\n",
       "      <td>Banten</td>\n",
       "      <td>Tangerang Selatan</td>\n",
       "      <td></td>\n",
       "      <td>in_review</td>\n",
       "      <td>388500.0</td>\n",
       "      <td>-6.28352</td>\n",
       "      <td>106.7110</td>\n",
       "      <td>2024-04-20 15:28:15</td>\n",
       "    </tr>\n",
       "    <tr>\n",
       "      <th>1</th>\n",
       "      <td>569</td>\n",
       "      <td>Daerah Khusus Ibukota Jakarta</td>\n",
       "      <td>Jakarta Timur</td>\n",
       "      <td>Cakung</td>\n",
       "      <td>in_review</td>\n",
       "      <td>277500.0</td>\n",
       "      <td>-6.19922</td>\n",
       "      <td>106.9270</td>\n",
       "      <td>2024-04-21 10:30:22</td>\n",
       "    </tr>\n",
       "    <tr>\n",
       "      <th>2</th>\n",
       "      <td>570</td>\n",
       "      <td>Daerah Khusus Ibukota Jakarta</td>\n",
       "      <td>Jakarta Timur</td>\n",
       "      <td>Ciracas</td>\n",
       "      <td>finish</td>\n",
       "      <td>444000.0</td>\n",
       "      <td>-6.32984</td>\n",
       "      <td>106.8760</td>\n",
       "      <td>2024-04-21 16:00:33</td>\n",
       "    </tr>\n",
       "    <tr>\n",
       "      <th>3</th>\n",
       "      <td>571</td>\n",
       "      <td>Banten</td>\n",
       "      <td>Tangerang Selatan</td>\n",
       "      <td>Pondok Aren</td>\n",
       "      <td>in_review</td>\n",
       "      <td>388500.0</td>\n",
       "      <td>-6.26076</td>\n",
       "      <td>106.6900</td>\n",
       "      <td>2024-04-22 10:25:36</td>\n",
       "    </tr>\n",
       "    <tr>\n",
       "      <th>4</th>\n",
       "      <td>572</td>\n",
       "      <td>Daerah Khusus Ibukota Jakarta</td>\n",
       "      <td>Jakarta Timur</td>\n",
       "      <td>Pasar Rebo</td>\n",
       "      <td>finish</td>\n",
       "      <td>0.0</td>\n",
       "      <td>-6.29776</td>\n",
       "      <td>106.8620</td>\n",
       "      <td>2024-04-22 11:41:42</td>\n",
       "    </tr>\n",
       "    <tr>\n",
       "      <th>...</th>\n",
       "      <td>...</td>\n",
       "      <td>...</td>\n",
       "      <td>...</td>\n",
       "      <td>...</td>\n",
       "      <td>...</td>\n",
       "      <td>...</td>\n",
       "      <td>...</td>\n",
       "      <td>...</td>\n",
       "      <td>...</td>\n",
       "    </tr>\n",
       "    <tr>\n",
       "      <th>194</th>\n",
       "      <td>914</td>\n",
       "      <td>Daerah Khusus Ibukota Jakarta</td>\n",
       "      <td>Jakarta Timur</td>\n",
       "      <td>Kramat jati</td>\n",
       "      <td>finish</td>\n",
       "      <td>0.0</td>\n",
       "      <td>-6.25960</td>\n",
       "      <td>106.8690</td>\n",
       "      <td>2024-09-21 09:44:30</td>\n",
       "    </tr>\n",
       "    <tr>\n",
       "      <th>195</th>\n",
       "      <td>915</td>\n",
       "      <td>Sumatera Utara</td>\n",
       "      <td>Deli Serdang</td>\n",
       "      <td>Tanjung Morawa</td>\n",
       "      <td>on_going</td>\n",
       "      <td>0.0</td>\n",
       "      <td>3.53093</td>\n",
       "      <td>98.7633</td>\n",
       "      <td>2024-09-21 16:23:20</td>\n",
       "    </tr>\n",
       "    <tr>\n",
       "      <th>196</th>\n",
       "      <td>916</td>\n",
       "      <td>Sumatera Utara</td>\n",
       "      <td>Deli Serdang</td>\n",
       "      <td>Tanjung Morawa</td>\n",
       "      <td>on_going</td>\n",
       "      <td>NaN</td>\n",
       "      <td>3.53093</td>\n",
       "      <td>98.7633</td>\n",
       "      <td>2024-09-21 16:23:20</td>\n",
       "    </tr>\n",
       "    <tr>\n",
       "      <th>197</th>\n",
       "      <td>917</td>\n",
       "      <td>Sumatera Utara</td>\n",
       "      <td>Deli Serdang</td>\n",
       "      <td>Tanjung Morawa</td>\n",
       "      <td>on_going</td>\n",
       "      <td>NaN</td>\n",
       "      <td>3.53093</td>\n",
       "      <td>98.7633</td>\n",
       "      <td>2024-09-21 16:23:20</td>\n",
       "    </tr>\n",
       "    <tr>\n",
       "      <th>198</th>\n",
       "      <td>918</td>\n",
       "      <td>Sumatera Utara</td>\n",
       "      <td>Deli Serdang</td>\n",
       "      <td>Tanjung Morawa</td>\n",
       "      <td>in_review_internal</td>\n",
       "      <td>250000.0</td>\n",
       "      <td>3.53093</td>\n",
       "      <td>98.7633</td>\n",
       "      <td>2024-09-23 08:53:49</td>\n",
       "    </tr>\n",
       "  </tbody>\n",
       "</table>\n",
       "<p>199 rows × 9 columns</p>\n",
       "</div>"
      ],
      "text/plain": [
       "     id_order                       province               city  \\\n",
       "0         568                         Banten  Tangerang Selatan   \n",
       "1         569  Daerah Khusus Ibukota Jakarta      Jakarta Timur   \n",
       "2         570  Daerah Khusus Ibukota Jakarta      Jakarta Timur   \n",
       "3         571                         Banten  Tangerang Selatan   \n",
       "4         572  Daerah Khusus Ibukota Jakarta      Jakarta Timur   \n",
       "..        ...                            ...                ...   \n",
       "194       914  Daerah Khusus Ibukota Jakarta      Jakarta Timur   \n",
       "195       915                 Sumatera Utara       Deli Serdang   \n",
       "196       916                 Sumatera Utara       Deli Serdang   \n",
       "197       917                 Sumatera Utara       Deli Serdang   \n",
       "198       918                 Sumatera Utara       Deli Serdang   \n",
       "\n",
       "           district        order_status     price  latitude  longitude  \\\n",
       "0                             in_review  388500.0  -6.28352   106.7110   \n",
       "1            Cakung           in_review  277500.0  -6.19922   106.9270   \n",
       "2           Ciracas              finish  444000.0  -6.32984   106.8760   \n",
       "3       Pondok Aren           in_review  388500.0  -6.26076   106.6900   \n",
       "4        Pasar Rebo              finish       0.0  -6.29776   106.8620   \n",
       "..              ...                 ...       ...       ...        ...   \n",
       "194     Kramat jati              finish       0.0  -6.25960   106.8690   \n",
       "195  Tanjung Morawa            on_going       0.0   3.53093    98.7633   \n",
       "196  Tanjung Morawa            on_going       NaN   3.53093    98.7633   \n",
       "197  Tanjung Morawa            on_going       NaN   3.53093    98.7633   \n",
       "198  Tanjung Morawa  in_review_internal  250000.0   3.53093    98.7633   \n",
       "\n",
       "             created_at  \n",
       "0   2024-04-20 15:28:15  \n",
       "1   2024-04-21 10:30:22  \n",
       "2   2024-04-21 16:00:33  \n",
       "3   2024-04-22 10:25:36  \n",
       "4   2024-04-22 11:41:42  \n",
       "..                  ...  \n",
       "194 2024-09-21 09:44:30  \n",
       "195 2024-09-21 16:23:20  \n",
       "196 2024-09-21 16:23:20  \n",
       "197 2024-09-21 16:23:20  \n",
       "198 2024-09-23 08:53:49  \n",
       "\n",
       "[199 rows x 9 columns]"
      ]
     },
     "execution_count": 110,
     "metadata": {},
     "output_type": "execute_result"
    }
   ],
   "source": [
    "persebaran_order = fetch_data(host, port, user, passwd, databs, query_persebaran_order)\n",
    "persebaran_order"
   ]
  },
  {
   "cell_type": "markdown",
   "metadata": {},
   "source": [
    "### Operasional"
   ]
  },
  {
   "cell_type": "markdown",
   "metadata": {},
   "source": [
    "#### Total Desain yang Dibuatkan Taman"
   ]
  },
  {
   "cell_type": "code",
   "execution_count": 115,
   "metadata": {},
   "outputs": [],
   "source": [
    "query_desain_dibuatkan_taman = \"\"\"  \n",
    "SELECT \n",
    "    COUNT(id_design_finish) AS jumlah_desain\n",
    "FROM(\n",
    "\tSELECT \n",
    "    order_design.id_order,\n",
    "    order_design.id_user,\n",
    "    category_size.id_category,\n",
    "    order_design.id_design_finish,\n",
    "    category_design.id_category_design,\n",
    "    user.name AS user_name,\n",
    "    user.status AS user_status,\n",
    "    design.design_name,\n",
    "    design.status AS design_status,\n",
    "    CASE\n",
    "    \tWHEN category_size.id_category = 1 THEN '< 10m^2'\n",
    "\t\tWHEN category_size.id_category = 2 THEN '11 - 20m^2'\n",
    "   \t\tWHEN category_size.id_category = 3 THEN '21 - 30m^2'\n",
    "   \t\tWHEN category_size.id_category = 4 THEN '31 - 40m^2'\n",
    "   \t\tWHEN category_size.id_category = 5 THEN '41 - 50m^2'\n",
    "   \t\tELSE '> 50m^2'\n",
    "   \tEND AS category_size,\n",
    "   \tcategory_design.name AS category_name,\n",
    "   \torder_design.status AS order_status,\n",
    "   \torder_design.price,\n",
    "   \tpromo_code.code AS promo_code,\n",
    "   \tpromo_code.valid_from,\n",
    "   \tpromo_code.valid_until,\n",
    "   \torder_design.created_at,\n",
    "   \torder_design.updated_at,\n",
    "    CASE\n",
    "    \tWHEN address_components.administrative_area_level_1 IN ('Daerah Khusus Ibukota Jakarta','Jakarta') THEN 'Daerah Khusus Ibukota Jakarta'\n",
    "        WHEN address_components.administrative_area_level_1 = 'Banten' THEN 'Banten'\n",
    "        WHEN address_components.administrative_area_level_1 IN ('Jawa Barat', 'West Java') THEN 'Jawa Barat'\n",
    "        WHEN address_components.administrative_area_level_1 IN ('Jawa Timur', 'East Java') THEN 'Jawa Timur'\n",
    "        WHEN address_components.administrative_area_level_1 = 'Bali' THEN 'Bali'\n",
    "        WHEN address_components.administrative_area_level_1 = 'Sulawesi Selatan' THEN 'Sulawesi Selatan'\n",
    "        WHEN address_components.administrative_area_level_1 IN ('Sumatera Utara', 'North Sumatra') THEN 'Sumatera Utara'\n",
    "        WHEN address_components.administrative_area_level_1 IN ('Jawa Tengah', 'Central Java') THEN 'Jawa Tengah'\n",
    "        WHEN address_components.administrative_area_level_1 = 'Daerah Istimewa Yogyakarta' THEN 'Daerah Istimewa Yogyakarta'\n",
    "        WHEN address_components.administrative_area_level_1 = 'Jambi' THEN 'Jambi'\n",
    "        WHEN address_components.administrative_area_level_1 = 'Lampung' THEN 'Lampung'\n",
    "        WHEN address_components.administrative_area_level_1 = 'Aceh' THEN 'Aceh'\n",
    "        WHEN address_components.administrative_area_level_1 IN ('Sumatera Barat', 'West Sumatra') THEN 'Sumatera Barat'\n",
    "        WHEN address_components.administrative_area_level_1 = 'Federal District' THEN 'Federal District'\n",
    "        WHEN address_components.administrative_area_level_1 = '' OR address_components.administrative_area_level_1 IS NULL THEN 'Unknown Location'\n",
    "        ELSE address_components.administrative_area_level_1\n",
    "  \tEND AS province,\n",
    "    CASE\n",
    "        WHEN address_components.administrative_area_level_2 IN ('Badung', 'Badung Regency') THEN 'Badung'\n",
    "        WHEN address_components.administrative_area_level_2 IN ('Bandung', 'Bandung Regency') THEN 'Bandung'\n",
    "        WHEN address_components.administrative_area_level_2 IN ('Banyumas', 'Banyumas Regency') THEN 'Banyumas'\n",
    "        WHEN address_components.administrative_area_level_2 IN ('Bekasi', 'Bekasi Regency') THEN 'Bekasi'\n",
    "        WHEN address_components.administrative_area_level_2 IN ('Bogor', 'Bogor Regency') THEN 'Bogor'\n",
    "        WHEN address_components.administrative_area_level_2 IN ('Central Jakarta City', 'Jakarta Pusat') THEN 'Jakarta Pusat'\n",
    "        WHEN address_components.administrative_area_level_2 IN ('Ciamis', 'Ciamis Regency') THEN 'Ciamis'\n",
    "        WHEN address_components.administrative_area_level_2 IN ('Cimahi', 'Cimahi City') THEN 'Cimahi'\n",
    "        WHEN address_components.administrative_area_level_2 IN ('Deli Serdang', 'Deli Serdang Regency') THEN 'Deli Serdang'\n",
    "        WHEN address_components.administrative_area_level_2 IN ('Depok', 'Depok City') THEN 'Depok'\n",
    "        WHEN address_components.administrative_area_level_2 IN ('East Jakarta City', 'Jakarta Timur') THEN 'Jakarta Timur'\n",
    "        WHEN address_components.administrative_area_level_2 IN ('Jakarta Barat', 'West Jakarta City') THEN 'Jakarta Barat'\n",
    "        WHEN address_components.administrative_area_level_2 IN ('Jakarta Selatan', 'South Jakarta City') THEN 'Jakarta Selatan'\n",
    "        WHEN address_components.administrative_area_level_2 IN ('Jakarta Utara', 'North Jakarta City') THEN 'Jakarta Utara'\n",
    "        WHEN address_components.administrative_area_level_2 IN ('Jember', 'Jember Regency') THEN 'Jember'\n",
    "        WHEN address_components.administrative_area_level_2 IN ('Klungkung', 'Klungkung Regency') THEN 'Klungkung'\n",
    "        WHEN address_components.administrative_area_level_2 IN ('Pringsewu', 'Pringsewu Regency') THEN 'Pringsewu'\n",
    "        WHEN address_components.administrative_area_level_2 IN ('Sukabumi', 'Sukabumi City') THEN 'Sukabumi'\n",
    "        WHEN address_components.administrative_area_level_2 IN ('Tangerang', 'Tangerang City', 'Tangerang Regency') THEN 'Tangerang'\n",
    "        WHEN address_components.administrative_area_level_2 IN ('Tangerang Selatan', 'South Tangerang City') THEN 'Tangerang Selatan'\n",
    "        WHEN address_components.administrative_area_level_2 IN ('West Bandung', 'West Bandung Regency') THEN 'Bandung Barat'\n",
    "        WHEN address_components.administrative_area_level_2 = ' ' THEN 'Unknown City'\n",
    "        ELSE address_components.administrative_area_level_2\n",
    "    END AS city,\n",
    "    CASE\n",
    "        WHEN address_components.administrative_area_level_3 IN ('South Kuta') THEN 'Kuta Selatan'\n",
    "        WHEN address_components.administrative_area_level_3 = ' ' THEN 'Unknown District'\n",
    "        ELSE address_components.administrative_area_level_3\n",
    "    END AS district\n",
    "    FROM\n",
    "    \torder_design\n",
    "    JOIN \n",
    "        order_garden ON order_garden.id_design_finish = order_design.id_design_finish\n",
    "    LEFT JOIN\n",
    "    \tuser ON user.id_user = order_design.id_designer\n",
    "    LEFT JOIN\n",
    "    \tcategory_size ON category_size.id_category = order_design.id_category\n",
    "    LEFT JOIN\n",
    "    \tdesign ON design.id_design = order_design.id_design_finish\n",
    "    LEFT JOIN\n",
    "    \tcategory_design ON category_design.id_category_design = design.id_type\n",
    "    LEFT JOIN\n",
    "    \taddress_components ON address_components.address_componentable_id = order_design.id_order\n",
    "    LEFT JOIN \n",
    "        promo_code ON promo_code.id_promo = order_design.id_promo\n",
    "    WHERE \n",
    "    \torder_design.id_user > 249\n",
    "    AND\n",
    "    \torder_design.status NOT IN ('expired','new')\n",
    ") AS master_table\n",
    "\"\"\""
   ]
  },
  {
   "cell_type": "code",
   "execution_count": 116,
   "metadata": {},
   "outputs": [
    {
     "data": {
      "text/html": [
       "<div>\n",
       "<style scoped>\n",
       "    .dataframe tbody tr th:only-of-type {\n",
       "        vertical-align: middle;\n",
       "    }\n",
       "\n",
       "    .dataframe tbody tr th {\n",
       "        vertical-align: top;\n",
       "    }\n",
       "\n",
       "    .dataframe thead th {\n",
       "        text-align: right;\n",
       "    }\n",
       "</style>\n",
       "<table border=\"1\" class=\"dataframe\">\n",
       "  <thead>\n",
       "    <tr style=\"text-align: right;\">\n",
       "      <th></th>\n",
       "      <th>jumlah_desain</th>\n",
       "    </tr>\n",
       "  </thead>\n",
       "  <tbody>\n",
       "    <tr>\n",
       "      <th>0</th>\n",
       "      <td>114</td>\n",
       "    </tr>\n",
       "  </tbody>\n",
       "</table>\n",
       "</div>"
      ],
      "text/plain": [
       "   jumlah_desain\n",
       "0            114"
      ]
     },
     "execution_count": 116,
     "metadata": {},
     "output_type": "execute_result"
    }
   ],
   "source": [
    "desain_dibuatkan_taman = fetch_data(host, port, user, passwd, databs, query_desain_dibuatkan_taman)\n",
    "desain_dibuatkan_taman"
   ]
  },
  {
   "cell_type": "markdown",
   "metadata": {},
   "source": [
    "#### Total Desain Berdasarkan Kategori Ukuran"
   ]
  },
  {
   "cell_type": "code",
   "execution_count": 117,
   "metadata": {},
   "outputs": [],
   "source": [
    "query_total_desain_berdasarkan_ukuran = \"\"\"\n",
    "SELECT \n",
    "    category_size,\n",
    "    COUNT(design_name) AS jumlah_desain\n",
    "FROM(\n",
    "\tSELECT \n",
    "    order_design.id_order,\n",
    "    order_design.id_user,\n",
    "    category_size.id_category,\n",
    "    order_design.id_design_finish,\n",
    "    category_design.id_category_design,\n",
    "    user.name AS user_name,\n",
    "    user.status AS user_status,\n",
    "    design.design_name,\n",
    "    design.status AS design_status,\n",
    "    CASE\n",
    "    \tWHEN category_size.id_category = 1 THEN '< 10m^2'\n",
    "\t\tWHEN category_size.id_category = 2 THEN '11 - 20m^2'\n",
    "   \t\tWHEN category_size.id_category = 3 THEN '21 - 30m^2'\n",
    "   \t\tWHEN category_size.id_category = 4 THEN '31 - 40m^2'\n",
    "   \t\tWHEN category_size.id_category = 5 THEN '41 - 50m^2'\n",
    "   \t\tELSE '> 50m^2'\n",
    "   \tEND AS category_size,\n",
    "   \tcategory_design.name AS category_name,\n",
    "   \torder_design.status AS order_status,\n",
    "   \torder_design.price,\n",
    "   \tpromo_code.code AS promo_code,\n",
    "   \tpromo_code.valid_from,\n",
    "   \tpromo_code.valid_until,\n",
    "   \torder_design.created_at,\n",
    "   \torder_design.updated_at,\n",
    "    CASE\n",
    "    \tWHEN address_components.administrative_area_level_1 IN ('Daerah Khusus Ibukota Jakarta','Jakarta') THEN 'Daerah Khusus Ibukota Jakarta'\n",
    "        WHEN address_components.administrative_area_level_1 = 'Banten' THEN 'Banten'\n",
    "        WHEN address_components.administrative_area_level_1 IN ('Jawa Barat', 'West Java') THEN 'Jawa Barat'\n",
    "        WHEN address_components.administrative_area_level_1 IN ('Jawa Timur', 'East Java') THEN 'Jawa Timur'\n",
    "        WHEN address_components.administrative_area_level_1 = 'Bali' THEN 'Bali'\n",
    "        WHEN address_components.administrative_area_level_1 = 'Sulawesi Selatan' THEN 'Sulawesi Selatan'\n",
    "        WHEN address_components.administrative_area_level_1 IN ('Sumatera Utara', 'North Sumatra') THEN 'Sumatera Utara'\n",
    "        WHEN address_components.administrative_area_level_1 IN ('Jawa Tengah', 'Central Java') THEN 'Jawa Tengah'\n",
    "        WHEN address_components.administrative_area_level_1 = 'Daerah Istimewa Yogyakarta' THEN 'Daerah Istimewa Yogyakarta'\n",
    "        WHEN address_components.administrative_area_level_1 = 'Jambi' THEN 'Jambi'\n",
    "        WHEN address_components.administrative_area_level_1 = 'Lampung' THEN 'Lampung'\n",
    "        WHEN address_components.administrative_area_level_1 = 'Aceh' THEN 'Aceh'\n",
    "        WHEN address_components.administrative_area_level_1 IN ('Sumatera Barat', 'West Sumatra') THEN 'Sumatera Barat'\n",
    "        WHEN address_components.administrative_area_level_1 = 'Federal District' THEN 'Federal District'\n",
    "        WHEN address_components.administrative_area_level_1 = '' OR address_components.administrative_area_level_1 IS NULL THEN 'Unknown Location'\n",
    "        ELSE address_components.administrative_area_level_1\n",
    "  \tEND AS province,\n",
    "    CASE\n",
    "        WHEN address_components.administrative_area_level_2 IN ('Badung', 'Badung Regency') THEN 'Badung'\n",
    "        WHEN address_components.administrative_area_level_2 IN ('Bandung', 'Bandung Regency') THEN 'Bandung'\n",
    "        WHEN address_components.administrative_area_level_2 IN ('Banyumas', 'Banyumas Regency') THEN 'Banyumas'\n",
    "        WHEN address_components.administrative_area_level_2 IN ('Bekasi', 'Bekasi Regency') THEN 'Bekasi'\n",
    "        WHEN address_components.administrative_area_level_2 IN ('Bogor', 'Bogor Regency') THEN 'Bogor'\n",
    "        WHEN address_components.administrative_area_level_2 IN ('Central Jakarta City', 'Jakarta Pusat') THEN 'Jakarta Pusat'\n",
    "        WHEN address_components.administrative_area_level_2 IN ('Ciamis', 'Ciamis Regency') THEN 'Ciamis'\n",
    "        WHEN address_components.administrative_area_level_2 IN ('Cimahi', 'Cimahi City') THEN 'Cimahi'\n",
    "        WHEN address_components.administrative_area_level_2 IN ('Deli Serdang', 'Deli Serdang Regency') THEN 'Deli Serdang'\n",
    "        WHEN address_components.administrative_area_level_2 IN ('Depok', 'Depok City') THEN 'Depok'\n",
    "        WHEN address_components.administrative_area_level_2 IN ('East Jakarta City', 'Jakarta Timur') THEN 'Jakarta Timur'\n",
    "        WHEN address_components.administrative_area_level_2 IN ('Jakarta Barat', 'West Jakarta City') THEN 'Jakarta Barat'\n",
    "        WHEN address_components.administrative_area_level_2 IN ('Jakarta Selatan', 'South Jakarta City') THEN 'Jakarta Selatan'\n",
    "        WHEN address_components.administrative_area_level_2 IN ('Jakarta Utara', 'North Jakarta City') THEN 'Jakarta Utara'\n",
    "        WHEN address_components.administrative_area_level_2 IN ('Jember', 'Jember Regency') THEN 'Jember'\n",
    "        WHEN address_components.administrative_area_level_2 IN ('Klungkung', 'Klungkung Regency') THEN 'Klungkung'\n",
    "        WHEN address_components.administrative_area_level_2 IN ('Pringsewu', 'Pringsewu Regency') THEN 'Pringsewu'\n",
    "        WHEN address_components.administrative_area_level_2 IN ('Sukabumi', 'Sukabumi City') THEN 'Sukabumi'\n",
    "        WHEN address_components.administrative_area_level_2 IN ('Tangerang', 'Tangerang City', 'Tangerang Regency') THEN 'Tangerang'\n",
    "        WHEN address_components.administrative_area_level_2 IN ('Tangerang Selatan', 'South Tangerang City') THEN 'Tangerang Selatan'\n",
    "        WHEN address_components.administrative_area_level_2 IN ('West Bandung', 'West Bandung Regency') THEN 'Bandung Barat'\n",
    "        WHEN address_components.administrative_area_level_2 = ' ' THEN 'Unknown City'\n",
    "        ELSE address_components.administrative_area_level_2\n",
    "    END AS city,\n",
    "    CASE\n",
    "        WHEN address_components.administrative_area_level_3 IN ('South Kuta') THEN 'Kuta Selatan'\n",
    "        WHEN address_components.administrative_area_level_3 = ' ' THEN 'Unknown District'\n",
    "        ELSE address_components.administrative_area_level_3\n",
    "    END AS district\n",
    "    FROM\n",
    "    \torder_design\n",
    "    LEFT JOIN\n",
    "    \tuser ON user.id_user = order_design.id_designer\n",
    "    LEFT JOIN\n",
    "    \tcategory_size ON category_size.id_category = order_design.id_category\n",
    "    LEFT JOIN\n",
    "    \tdesign ON design.id_design = order_design.id_design_finish\n",
    "    LEFT JOIN\n",
    "    \tcategory_design ON category_design.id_category_design = design.id_type\n",
    "    LEFT JOIN\n",
    "    \taddress_components ON address_components.address_componentable_id = order_design.id_order\n",
    "    LEFT JOIN \n",
    "        promo_code ON promo_code.id_promo = order_design.id_promo\n",
    "    WHERE \n",
    "    \torder_design.id_user > 249\n",
    "    AND\n",
    "    \torder_design.status NOT IN ('expired','new')\n",
    ") AS master_table\n",
    "GROUP BY \n",
    "    category_size\n",
    "ORDER BY \n",
    "    jumlah_desain DESC;\n",
    "\"\"\""
   ]
  },
  {
   "cell_type": "code",
   "execution_count": 118,
   "metadata": {},
   "outputs": [
    {
     "data": {
      "text/html": [
       "<div>\n",
       "<style scoped>\n",
       "    .dataframe tbody tr th:only-of-type {\n",
       "        vertical-align: middle;\n",
       "    }\n",
       "\n",
       "    .dataframe tbody tr th {\n",
       "        vertical-align: top;\n",
       "    }\n",
       "\n",
       "    .dataframe thead th {\n",
       "        text-align: right;\n",
       "    }\n",
       "</style>\n",
       "<table border=\"1\" class=\"dataframe\">\n",
       "  <thead>\n",
       "    <tr style=\"text-align: right;\">\n",
       "      <th></th>\n",
       "      <th>category_size</th>\n",
       "      <th>jumlah_desain</th>\n",
       "    </tr>\n",
       "  </thead>\n",
       "  <tbody>\n",
       "    <tr>\n",
       "      <th>0</th>\n",
       "      <td>&lt; 10m^2</td>\n",
       "      <td>138</td>\n",
       "    </tr>\n",
       "    <tr>\n",
       "      <th>1</th>\n",
       "      <td>11 - 20m^2</td>\n",
       "      <td>79</td>\n",
       "    </tr>\n",
       "    <tr>\n",
       "      <th>2</th>\n",
       "      <td>&gt; 50m^2</td>\n",
       "      <td>32</td>\n",
       "    </tr>\n",
       "    <tr>\n",
       "      <th>3</th>\n",
       "      <td>21 - 30m^2</td>\n",
       "      <td>25</td>\n",
       "    </tr>\n",
       "    <tr>\n",
       "      <th>4</th>\n",
       "      <td>31 - 40m^2</td>\n",
       "      <td>12</td>\n",
       "    </tr>\n",
       "    <tr>\n",
       "      <th>5</th>\n",
       "      <td>41 - 50m^2</td>\n",
       "      <td>11</td>\n",
       "    </tr>\n",
       "  </tbody>\n",
       "</table>\n",
       "</div>"
      ],
      "text/plain": [
       "  category_size  jumlah_desain\n",
       "0       < 10m^2            138\n",
       "1    11 - 20m^2             79\n",
       "2       > 50m^2             32\n",
       "3    21 - 30m^2             25\n",
       "4    31 - 40m^2             12\n",
       "5    41 - 50m^2             11"
      ]
     },
     "execution_count": 118,
     "metadata": {},
     "output_type": "execute_result"
    }
   ],
   "source": [
    "total_desain_berdasarkan_ukuran = fetch_data(host, port, user, passwd, databs, query_total_desain_berdasarkan_ukuran)\n",
    "total_desain_berdasarkan_ukuran"
   ]
  },
  {
   "cell_type": "code",
   "execution_count": 119,
   "metadata": {},
   "outputs": [
    {
     "data": {
      "image/png": "[encoded data removed]",
      "text/plain": [
       "<Figure size 800x400 with 1 Axes>"
      ]
     },
     "metadata": {},
     "output_type": "display_data"
    }
   ],
   "source": [
    "plt.figure(figsize=(8, 4))\n",
    "plt.bar(total_desain_berdasarkan_ukuran['category_size'],total_desain_berdasarkan_ukuran['jumlah_desain'], color='cyan')\n",
    "\n",
    "# Menambahkan judul dan label\n",
    "plt.title(\"Total Desain Berdasarkan Kategori Ukuran\")\n",
    "plt.xlabel(\"Jumlah Desain\")\n",
    "plt.ylabel(\"Kategori Ukuran\")\n",
    "\n",
    "# Menampilkan plot\n",
    "plt.show()"
   ]
  },
  {
   "cell_type": "markdown",
   "metadata": {},
   "source": [
    "Berdasarkan grafik tersebut, jumlah order tertinggi berasal dari kategori ukuran `< 10m^2` yaitu sebanyak 138 jumlah order. Sedangkan jumlah order terendah berasal dari kategori ukuran `41 - 50m^2` yaitu sebanyak 15 jumlah order."
   ]
  },
  {
   "cell_type": "markdown",
   "metadata": {},
   "source": [
    "#### Total Order yang Dibatalkan"
   ]
  },
  {
   "cell_type": "code",
   "execution_count": 120,
   "metadata": {},
   "outputs": [],
   "source": [
    "query_order_dibatalkan = \"\"\"  \n",
    "SELECT\n",
    "    COUNT(order_status) AS jumlah_dibatalkan\n",
    "FROM(\n",
    "\tSELECT \n",
    "    order_design.id_order,\n",
    "    order_design.id_user,\n",
    "    category_size.id_category,\n",
    "    order_design.id_design_finish,\n",
    "    category_design.id_category_design,\n",
    "    user.name AS user_name,\n",
    "    user.status AS user_status,\n",
    "    design.design_name,\n",
    "    design.status AS design_status,\n",
    "    CASE\n",
    "    \tWHEN category_size.id_category = 1 THEN '< 10m^2'\n",
    "\t\tWHEN category_size.id_category = 2 THEN '11 - 20m^2'\n",
    "   \t\tWHEN category_size.id_category = 3 THEN '21 - 30m^2'\n",
    "   \t\tWHEN category_size.id_category = 4 THEN '31 - 40m^2'\n",
    "   \t\tWHEN category_size.id_category = 5 THEN '41 - 50m^2'\n",
    "   \t\tELSE '> 50m^2'\n",
    "   \tEND AS category_size,\n",
    "   \tcategory_design.name AS category_name,\n",
    "   \torder_design.status AS order_status,\n",
    "   \torder_design.price,\n",
    "   \tpromo_code.code AS promo_code,\n",
    "   \tpromo_code.valid_from,\n",
    "   \tpromo_code.valid_until,\n",
    "   \torder_design.created_at,\n",
    "   \torder_design.updated_at,\n",
    "    CASE\n",
    "    \tWHEN address_components.administrative_area_level_1 IN ('Daerah Khusus Ibukota Jakarta','Jakarta') THEN 'Daerah Khusus Ibukota Jakarta'\n",
    "        WHEN address_components.administrative_area_level_1 = 'Banten' THEN 'Banten'\n",
    "        WHEN address_components.administrative_area_level_1 IN ('Jawa Barat', 'West Java') THEN 'Jawa Barat'\n",
    "        WHEN address_components.administrative_area_level_1 IN ('Jawa Timur', 'East Java') THEN 'Jawa Timur'\n",
    "        WHEN address_components.administrative_area_level_1 = 'Bali' THEN 'Bali'\n",
    "        WHEN address_components.administrative_area_level_1 = 'Sulawesi Selatan' THEN 'Sulawesi Selatan'\n",
    "        WHEN address_components.administrative_area_level_1 IN ('Sumatera Utara', 'North Sumatra') THEN 'Sumatera Utara'\n",
    "        WHEN address_components.administrative_area_level_1 IN ('Jawa Tengah', 'Central Java') THEN 'Jawa Tengah'\n",
    "        WHEN address_components.administrative_area_level_1 = 'Daerah Istimewa Yogyakarta' THEN 'Daerah Istimewa Yogyakarta'\n",
    "        WHEN address_components.administrative_area_level_1 = 'Jambi' THEN 'Jambi'\n",
    "        WHEN address_components.administrative_area_level_1 = 'Lampung' THEN 'Lampung'\n",
    "        WHEN address_components.administrative_area_level_1 = 'Aceh' THEN 'Aceh'\n",
    "        WHEN address_components.administrative_area_level_1 IN ('Sumatera Barat', 'West Sumatra') THEN 'Sumatera Barat'\n",
    "        WHEN address_components.administrative_area_level_1 = 'Federal District' THEN 'Federal District'\n",
    "        WHEN address_components.administrative_area_level_1 = '' OR address_components.administrative_area_level_1 IS NULL THEN 'Unknown Location'\n",
    "        ELSE address_components.administrative_area_level_1\n",
    "  \tEND AS province,\n",
    "    CASE\n",
    "        WHEN address_components.administrative_area_level_2 IN ('Badung', 'Badung Regency') THEN 'Badung'\n",
    "        WHEN address_components.administrative_area_level_2 IN ('Bandung', 'Bandung Regency') THEN 'Bandung'\n",
    "        WHEN address_components.administrative_area_level_2 IN ('Banyumas', 'Banyumas Regency') THEN 'Banyumas'\n",
    "        WHEN address_components.administrative_area_level_2 IN ('Bekasi', 'Bekasi Regency') THEN 'Bekasi'\n",
    "        WHEN address_components.administrative_area_level_2 IN ('Bogor', 'Bogor Regency') THEN 'Bogor'\n",
    "        WHEN address_components.administrative_area_level_2 IN ('Central Jakarta City', 'Jakarta Pusat') THEN 'Jakarta Pusat'\n",
    "        WHEN address_components.administrative_area_level_2 IN ('Ciamis', 'Ciamis Regency') THEN 'Ciamis'\n",
    "        WHEN address_components.administrative_area_level_2 IN ('Cimahi', 'Cimahi City') THEN 'Cimahi'\n",
    "        WHEN address_components.administrative_area_level_2 IN ('Deli Serdang', 'Deli Serdang Regency') THEN 'Deli Serdang'\n",
    "        WHEN address_components.administrative_area_level_2 IN ('Depok', 'Depok City') THEN 'Depok'\n",
    "        WHEN address_components.administrative_area_level_2 IN ('East Jakarta City', 'Jakarta Timur') THEN 'Jakarta Timur'\n",
    "        WHEN address_components.administrative_area_level_2 IN ('Jakarta Barat', 'West Jakarta City') THEN 'Jakarta Barat'\n",
    "        WHEN address_components.administrative_area_level_2 IN ('Jakarta Selatan', 'South Jakarta City') THEN 'Jakarta Selatan'\n",
    "        WHEN address_components.administrative_area_level_2 IN ('Jakarta Utara', 'North Jakarta City') THEN 'Jakarta Utara'\n",
    "        WHEN address_components.administrative_area_level_2 IN ('Jember', 'Jember Regency') THEN 'Jember'\n",
    "        WHEN address_components.administrative_area_level_2 IN ('Klungkung', 'Klungkung Regency') THEN 'Klungkung'\n",
    "        WHEN address_components.administrative_area_level_2 IN ('Pringsewu', 'Pringsewu Regency') THEN 'Pringsewu'\n",
    "        WHEN address_components.administrative_area_level_2 IN ('Sukabumi', 'Sukabumi City') THEN 'Sukabumi'\n",
    "        WHEN address_components.administrative_area_level_2 IN ('Tangerang', 'Tangerang City', 'Tangerang Regency') THEN 'Tangerang'\n",
    "        WHEN address_components.administrative_area_level_2 IN ('Tangerang Selatan', 'South Tangerang City') THEN 'Tangerang Selatan'\n",
    "        WHEN address_components.administrative_area_level_2 IN ('West Bandung', 'West Bandung Regency') THEN 'Bandung Barat'\n",
    "        WHEN address_components.administrative_area_level_2 = ' ' THEN 'Unknown City'\n",
    "        ELSE address_components.administrative_area_level_2\n",
    "    END AS city,\n",
    "    CASE\n",
    "        WHEN address_components.administrative_area_level_3 IN ('South Kuta') THEN 'Kuta Selatan'\n",
    "        WHEN address_components.administrative_area_level_3 = ' ' THEN 'Unknown District'\n",
    "        ELSE address_components.administrative_area_level_3\n",
    "    END AS district\n",
    "    FROM\n",
    "    \torder_design\n",
    "    LEFT JOIN\n",
    "    \tuser ON user.id_user = order_design.id_designer\n",
    "    LEFT JOIN\n",
    "    \tcategory_size ON category_size.id_category = order_design.id_category\n",
    "    LEFT JOIN\n",
    "    \tdesign ON design.id_design = order_design.id_design_finish\n",
    "    LEFT JOIN\n",
    "    \tcategory_design ON category_design.id_category_design = design.id_type\n",
    "    LEFT JOIN\n",
    "    \taddress_components ON address_components.address_componentable_id = order_design.id_order\n",
    "    LEFT JOIN \n",
    "        promo_code ON promo_code.id_promo = order_design.id_promo\n",
    "    WHERE \n",
    "    \torder_design.id_user > 249\n",
    "    AND\n",
    "    \torder_design.status = 'expired'\n",
    ") AS master_table;\n",
    "\"\"\""
   ]
  },
  {
   "cell_type": "code",
   "execution_count": 121,
   "metadata": {},
   "outputs": [
    {
     "data": {
      "text/html": [
       "<div>\n",
       "<style scoped>\n",
       "    .dataframe tbody tr th:only-of-type {\n",
       "        vertical-align: middle;\n",
       "    }\n",
       "\n",
       "    .dataframe tbody tr th {\n",
       "        vertical-align: top;\n",
       "    }\n",
       "\n",
       "    .dataframe thead th {\n",
       "        text-align: right;\n",
       "    }\n",
       "</style>\n",
       "<table border=\"1\" class=\"dataframe\">\n",
       "  <thead>\n",
       "    <tr style=\"text-align: right;\">\n",
       "      <th></th>\n",
       "      <th>jumlah_dibatalkan</th>\n",
       "    </tr>\n",
       "  </thead>\n",
       "  <tbody>\n",
       "    <tr>\n",
       "      <th>0</th>\n",
       "      <td>48</td>\n",
       "    </tr>\n",
       "  </tbody>\n",
       "</table>\n",
       "</div>"
      ],
      "text/plain": [
       "   jumlah_dibatalkan\n",
       "0                 48"
      ]
     },
     "execution_count": 121,
     "metadata": {},
     "output_type": "execute_result"
    }
   ],
   "source": [
    "total_order_dibatalkan = fetch_data(host, port, user, passwd, databs, query_order_dibatalkan)\n",
    "total_order_dibatalkan"
   ]
  },
  {
   "cell_type": "markdown",
   "metadata": {},
   "source": [
    "#### Total Desain yang Masuk"
   ]
  },
  {
   "cell_type": "code",
   "execution_count": 124,
   "metadata": {},
   "outputs": [],
   "source": [
    "query_jumlah_desain_masuk = \"\"\"  \n",
    "SELECT \n",
    "    COUNT(design_name) AS jumlah_desain\n",
    "FROM(\n",
    "\tSELECT \n",
    "    order_design.id_order,\n",
    "    order_design.id_user,\n",
    "    category_size.id_category,\n",
    "    order_design.id_design_finish,\n",
    "    category_design.id_category_design,\n",
    "    user.name AS user_name,\n",
    "    user.status AS user_status,\n",
    "    design.design_name,\n",
    "    design.status AS design_status,\n",
    "    CASE\n",
    "    \tWHEN category_size.id_category = 1 THEN '< 10m^2'\n",
    "\t\tWHEN category_size.id_category = 2 THEN '11 - 20m^2'\n",
    "   \t\tWHEN category_size.id_category = 3 THEN '21 - 30m^2'\n",
    "   \t\tWHEN category_size.id_category = 4 THEN '31 - 40m^2'\n",
    "   \t\tWHEN category_size.id_category = 5 THEN '41 - 50m^2'\n",
    "   \t\tELSE '> 50m^2'\n",
    "   \tEND AS category_size,\n",
    "   \tcategory_design.name AS category_name,\n",
    "   \torder_design.status AS order_status,\n",
    "   \torder_design.price,\n",
    "   \tpromo_code.code AS promo_code,\n",
    "   \tpromo_code.valid_from,\n",
    "   \tpromo_code.valid_until,\n",
    "   \torder_design.created_at,\n",
    "   \torder_design.updated_at,\n",
    "    CASE\n",
    "    \tWHEN address_components.administrative_area_level_1 IN ('Daerah Khusus Ibukota Jakarta','Jakarta') THEN 'Daerah Khusus Ibukota Jakarta'\n",
    "        WHEN address_components.administrative_area_level_1 = 'Banten' THEN 'Banten'\n",
    "        WHEN address_components.administrative_area_level_1 IN ('Jawa Barat', 'West Java') THEN 'Jawa Barat'\n",
    "        WHEN address_components.administrative_area_level_1 IN ('Jawa Timur', 'East Java') THEN 'Jawa Timur'\n",
    "        WHEN address_components.administrative_area_level_1 = 'Bali' THEN 'Bali'\n",
    "        WHEN address_components.administrative_area_level_1 = 'Sulawesi Selatan' THEN 'Sulawesi Selatan'\n",
    "        WHEN address_components.administrative_area_level_1 IN ('Sumatera Utara', 'North Sumatra') THEN 'Sumatera Utara'\n",
    "        WHEN address_components.administrative_area_level_1 IN ('Jawa Tengah', 'Central Java') THEN 'Jawa Tengah'\n",
    "        WHEN address_components.administrative_area_level_1 = 'Daerah Istimewa Yogyakarta' THEN 'Daerah Istimewa Yogyakarta'\n",
    "        WHEN address_components.administrative_area_level_1 = 'Jambi' THEN 'Jambi'\n",
    "        WHEN address_components.administrative_area_level_1 = 'Lampung' THEN 'Lampung'\n",
    "        WHEN address_components.administrative_area_level_1 = 'Aceh' THEN 'Aceh'\n",
    "        WHEN address_components.administrative_area_level_1 IN ('Sumatera Barat', 'West Sumatra') THEN 'Sumatera Barat'\n",
    "        WHEN address_components.administrative_area_level_1 = 'Federal District' THEN 'Federal District'\n",
    "        WHEN address_components.administrative_area_level_1 = '' OR address_components.administrative_area_level_1 IS NULL THEN 'Unknown Location'\n",
    "        ELSE address_components.administrative_area_level_1\n",
    "  \tEND AS province,\n",
    "    CASE\n",
    "        WHEN address_components.administrative_area_level_2 IN ('Badung', 'Badung Regency') THEN 'Badung'\n",
    "        WHEN address_components.administrative_area_level_2 IN ('Bandung', 'Bandung Regency') THEN 'Bandung'\n",
    "        WHEN address_components.administrative_area_level_2 IN ('Banyumas', 'Banyumas Regency') THEN 'Banyumas'\n",
    "        WHEN address_components.administrative_area_level_2 IN ('Bekasi', 'Bekasi Regency') THEN 'Bekasi'\n",
    "        WHEN address_components.administrative_area_level_2 IN ('Bogor', 'Bogor Regency') THEN 'Bogor'\n",
    "        WHEN address_components.administrative_area_level_2 IN ('Central Jakarta City', 'Jakarta Pusat') THEN 'Jakarta Pusat'\n",
    "        WHEN address_components.administrative_area_level_2 IN ('Ciamis', 'Ciamis Regency') THEN 'Ciamis'\n",
    "        WHEN address_components.administrative_area_level_2 IN ('Cimahi', 'Cimahi City') THEN 'Cimahi'\n",
    "        WHEN address_components.administrative_area_level_2 IN ('Deli Serdang', 'Deli Serdang Regency') THEN 'Deli Serdang'\n",
    "        WHEN address_components.administrative_area_level_2 IN ('Depok', 'Depok City') THEN 'Depok'\n",
    "        WHEN address_components.administrative_area_level_2 IN ('East Jakarta City', 'Jakarta Timur') THEN 'Jakarta Timur'\n",
    "        WHEN address_components.administrative_area_level_2 IN ('Jakarta Barat', 'West Jakarta City') THEN 'Jakarta Barat'\n",
    "        WHEN address_components.administrative_area_level_2 IN ('Jakarta Selatan', 'South Jakarta City') THEN 'Jakarta Selatan'\n",
    "        WHEN address_components.administrative_area_level_2 IN ('Jakarta Utara', 'North Jakarta City') THEN 'Jakarta Utara'\n",
    "        WHEN address_components.administrative_area_level_2 IN ('Jember', 'Jember Regency') THEN 'Jember'\n",
    "        WHEN address_components.administrative_area_level_2 IN ('Klungkung', 'Klungkung Regency') THEN 'Klungkung'\n",
    "        WHEN address_components.administrative_area_level_2 IN ('Pringsewu', 'Pringsewu Regency') THEN 'Pringsewu'\n",
    "        WHEN address_components.administrative_area_level_2 IN ('Sukabumi', 'Sukabumi City') THEN 'Sukabumi'\n",
    "        WHEN address_components.administrative_area_level_2 IN ('Tangerang', 'Tangerang City', 'Tangerang Regency') THEN 'Tangerang'\n",
    "        WHEN address_components.administrative_area_level_2 IN ('Tangerang Selatan', 'South Tangerang City') THEN 'Tangerang Selatan'\n",
    "        WHEN address_components.administrative_area_level_2 IN ('West Bandung', 'West Bandung Regency') THEN 'Bandung Barat'\n",
    "        WHEN address_components.administrative_area_level_2 = ' ' THEN 'Unknown City'\n",
    "        ELSE address_components.administrative_area_level_2\n",
    "    END AS city,\n",
    "    CASE\n",
    "        WHEN address_components.administrative_area_level_3 IN ('South Kuta') THEN 'Kuta Selatan'\n",
    "        WHEN address_components.administrative_area_level_3 = ' ' THEN 'Unknown District'\n",
    "        ELSE address_components.administrative_area_level_3\n",
    "    END AS district\n",
    "    FROM\n",
    "    \torder_design\n",
    "    LEFT JOIN\n",
    "    \tuser ON user.id_user = order_design.id_designer\n",
    "    LEFT JOIN\n",
    "    \tcategory_size ON category_size.id_category = order_design.id_category\n",
    "    JOIN\n",
    "    \tdesign ON design.id_design = order_design.id_design_finish\n",
    "    LEFT JOIN\n",
    "    \tcategory_design ON category_design.id_category_design = design.id_type\n",
    "    LEFT JOIN\n",
    "    \taddress_components ON address_components.address_componentable_id = order_design.id_order\n",
    "    LEFT JOIN \n",
    "        promo_code ON promo_code.id_promo = order_design.id_promo\n",
    "    WHERE \n",
    "    \torder_design.id_user > 249\n",
    "    AND\n",
    "    \torder_design.status NOT IN ('expired','new')\n",
    ") AS master_table;\n",
    "\"\"\""
   ]
  },
  {
   "cell_type": "code",
   "execution_count": 125,
   "metadata": {},
   "outputs": [
    {
     "data": {
      "text/html": [
       "<div>\n",
       "<style scoped>\n",
       "    .dataframe tbody tr th:only-of-type {\n",
       "        vertical-align: middle;\n",
       "    }\n",
       "\n",
       "    .dataframe tbody tr th {\n",
       "        vertical-align: top;\n",
       "    }\n",
       "\n",
       "    .dataframe thead th {\n",
       "        text-align: right;\n",
       "    }\n",
       "</style>\n",
       "<table border=\"1\" class=\"dataframe\">\n",
       "  <thead>\n",
       "    <tr style=\"text-align: right;\">\n",
       "      <th></th>\n",
       "      <th>jumlah_desain</th>\n",
       "    </tr>\n",
       "  </thead>\n",
       "  <tbody>\n",
       "    <tr>\n",
       "      <th>0</th>\n",
       "      <td>297</td>\n",
       "    </tr>\n",
       "  </tbody>\n",
       "</table>\n",
       "</div>"
      ],
      "text/plain": [
       "   jumlah_desain\n",
       "0            297"
      ]
     },
     "execution_count": 125,
     "metadata": {},
     "output_type": "execute_result"
    }
   ],
   "source": [
    "total_design_masuk = fetch_data(host, port, user, passwd, databs, query_jumlah_desain_masuk)\n",
    "total_design_masuk"
   ]
  },
  {
   "cell_type": "markdown",
   "metadata": {},
   "source": [
    "#### Waktu Rata-rata Untuk Menyelesaikan 1 Proyek"
   ]
  },
  {
   "cell_type": "code",
   "execution_count": 126,
   "metadata": {},
   "outputs": [],
   "source": [
    "query_waktu_1_proyek = \"\"\"\n",
    "SELECT\n",
    "ROUND(AVG(DATEDIFF(updated_at, created_at)),0) AS rata2_waktu_dalam_hari\n",
    "FROM (\n",
    "\tSELECT \n",
    "    order_design.id_order,\n",
    "    order_design.id_user,\n",
    "    category_size.id_category,\n",
    "    order_design.id_design_finish,\n",
    "    category_design.id_category_design,\n",
    "    user.name AS user_name,\n",
    "    user.status AS user_status,\n",
    "    design.design_name,\n",
    "    design.status AS design_status,\n",
    "    CASE\n",
    "    \tWHEN category_size.id_category = 1 THEN '< 10m^2'\n",
    "\t\tWHEN category_size.id_category = 2 THEN '11 - 20m^2'\n",
    "   \t\tWHEN category_size.id_category = 3 THEN '21 - 30m^2'\n",
    "   \t\tWHEN category_size.id_category = 4 THEN '31 - 40m^2'\n",
    "   \t\tWHEN category_size.id_category = 5 THEN '41 - 50m^2'\n",
    "   \t\tELSE '> 50m^2'\n",
    "   \tEND AS category_size,\n",
    "   \tcategory_design.name AS category_name,\n",
    "   \torder_design.status AS order_status,\n",
    "   \torder_design.price,\n",
    "   \tpromo_code.code AS promo_code,\n",
    "   \tpromo_code.valid_from,\n",
    "   \tpromo_code.valid_until,\n",
    "   \torder_design.created_at,\n",
    "   \torder_design.updated_at,\n",
    "    CASE\n",
    "    \tWHEN address_components.administrative_area_level_1 IN ('Daerah Khusus Ibukota Jakarta','Jakarta') THEN 'Daerah Khusus Ibukota Jakarta'\n",
    "        WHEN address_components.administrative_area_level_1 = 'Banten' THEN 'Banten'\n",
    "        WHEN address_components.administrative_area_level_1 IN ('Jawa Barat', 'West Java') THEN 'Jawa Barat'\n",
    "        WHEN address_components.administrative_area_level_1 IN ('Jawa Timur', 'East Java') THEN 'Jawa Timur'\n",
    "        WHEN address_components.administrative_area_level_1 = 'Bali' THEN 'Bali'\n",
    "        WHEN address_components.administrative_area_level_1 = 'Sulawesi Selatan' THEN 'Sulawesi Selatan'\n",
    "        WHEN address_components.administrative_area_level_1 IN ('Sumatera Utara', 'North Sumatra') THEN 'Sumatera Utara'\n",
    "        WHEN address_components.administrative_area_level_1 IN ('Jawa Tengah', 'Central Java') THEN 'Jawa Tengah'\n",
    "        WHEN address_components.administrative_area_level_1 = 'Daerah Istimewa Yogyakarta' THEN 'Daerah Istimewa Yogyakarta'\n",
    "        WHEN address_components.administrative_area_level_1 = 'Jambi' THEN 'Jambi'\n",
    "        WHEN address_components.administrative_area_level_1 = 'Lampung' THEN 'Lampung'\n",
    "        WHEN address_components.administrative_area_level_1 = 'Aceh' THEN 'Aceh'\n",
    "        WHEN address_components.administrative_area_level_1 IN ('Sumatera Barat', 'West Sumatra') THEN 'Sumatera Barat'\n",
    "        WHEN address_components.administrative_area_level_1 = 'Federal District' THEN 'Federal District'\n",
    "        WHEN address_components.administrative_area_level_1 = '' OR address_components.administrative_area_level_1 IS NULL THEN 'Unknown Location'\n",
    "        ELSE address_components.administrative_area_level_1\n",
    "  \tEND AS province,\n",
    "    CASE\n",
    "        WHEN address_components.administrative_area_level_2 IN ('Badung', 'Badung Regency') THEN 'Badung'\n",
    "        WHEN address_components.administrative_area_level_2 IN ('Bandung', 'Bandung Regency') THEN 'Bandung'\n",
    "        WHEN address_components.administrative_area_level_2 IN ('Banyumas', 'Banyumas Regency') THEN 'Banyumas'\n",
    "        WHEN address_components.administrative_area_level_2 IN ('Bekasi', 'Bekasi Regency') THEN 'Bekasi'\n",
    "        WHEN address_components.administrative_area_level_2 IN ('Bogor', 'Bogor Regency') THEN 'Bogor'\n",
    "        WHEN address_components.administrative_area_level_2 IN ('Central Jakarta City', 'Jakarta Pusat') THEN 'Jakarta Pusat'\n",
    "        WHEN address_components.administrative_area_level_2 IN ('Ciamis', 'Ciamis Regency') THEN 'Ciamis'\n",
    "        WHEN address_components.administrative_area_level_2 IN ('Cimahi', 'Cimahi City') THEN 'Cimahi'\n",
    "        WHEN address_components.administrative_area_level_2 IN ('Deli Serdang', 'Deli Serdang Regency') THEN 'Deli Serdang'\n",
    "        WHEN address_components.administrative_area_level_2 IN ('Depok', 'Depok City') THEN 'Depok'\n",
    "        WHEN address_components.administrative_area_level_2 IN ('East Jakarta City', 'Jakarta Timur') THEN 'Jakarta Timur'\n",
    "        WHEN address_components.administrative_area_level_2 IN ('Jakarta Barat', 'West Jakarta City') THEN 'Jakarta Barat'\n",
    "        WHEN address_components.administrative_area_level_2 IN ('Jakarta Selatan', 'South Jakarta City') THEN 'Jakarta Selatan'\n",
    "        WHEN address_components.administrative_area_level_2 IN ('Jakarta Utara', 'North Jakarta City') THEN 'Jakarta Utara'\n",
    "        WHEN address_components.administrative_area_level_2 IN ('Jember', 'Jember Regency') THEN 'Jember'\n",
    "        WHEN address_components.administrative_area_level_2 IN ('Klungkung', 'Klungkung Regency') THEN 'Klungkung'\n",
    "        WHEN address_components.administrative_area_level_2 IN ('Pringsewu', 'Pringsewu Regency') THEN 'Pringsewu'\n",
    "        WHEN address_components.administrative_area_level_2 IN ('Sukabumi', 'Sukabumi City') THEN 'Sukabumi'\n",
    "        WHEN address_components.administrative_area_level_2 IN ('Tangerang', 'Tangerang City', 'Tangerang Regency') THEN 'Tangerang'\n",
    "        WHEN address_components.administrative_area_level_2 IN ('Tangerang Selatan', 'South Tangerang City') THEN 'Tangerang Selatan'\n",
    "        WHEN address_components.administrative_area_level_2 IN ('West Bandung', 'West Bandung Regency') THEN 'Bandung Barat'\n",
    "        WHEN address_components.administrative_area_level_2 = ' ' THEN 'Unknown City'\n",
    "        ELSE address_components.administrative_area_level_2\n",
    "    END AS city,\n",
    "    CASE\n",
    "        WHEN address_components.administrative_area_level_3 IN ('South Kuta') THEN 'Kuta Selatan'\n",
    "        WHEN address_components.administrative_area_level_3 = ' ' THEN 'Unknown District'\n",
    "        ELSE address_components.administrative_area_level_3\n",
    "    END AS district\n",
    "    FROM\n",
    "    \torder_design\n",
    "    LEFT JOIN\n",
    "    \tuser ON user.id_user = order_design.id_designer\n",
    "    LEFT JOIN\n",
    "    \tcategory_size ON category_size.id_category = order_design.id_category\n",
    "    LEFT JOIN\n",
    "    \tdesign ON design.id_design = order_design.id_design_finish\n",
    "    LEFT JOIN\n",
    "    \tcategory_design ON category_design.id_category_design = design.id_type\n",
    "    LEFT JOIN\n",
    "    \taddress_components ON address_components.address_componentable_id = order_design.id_order\n",
    "    LEFT JOIN \n",
    "        promo_code ON promo_code.id_promo = order_design.id_promo\n",
    "    WHERE \n",
    "    \torder_design.id_user > 249\n",
    "    AND\n",
    "    \torder_design.status = 'finish'\n",
    ") AS master_table;\n",
    "\"\"\""
   ]
  },
  {
   "cell_type": "code",
   "execution_count": 127,
   "metadata": {},
   "outputs": [
    {
     "data": {
      "text/html": [
       "<div>\n",
       "<style scoped>\n",
       "    .dataframe tbody tr th:only-of-type {\n",
       "        vertical-align: middle;\n",
       "    }\n",
       "\n",
       "    .dataframe tbody tr th {\n",
       "        vertical-align: top;\n",
       "    }\n",
       "\n",
       "    .dataframe thead th {\n",
       "        text-align: right;\n",
       "    }\n",
       "</style>\n",
       "<table border=\"1\" class=\"dataframe\">\n",
       "  <thead>\n",
       "    <tr style=\"text-align: right;\">\n",
       "      <th></th>\n",
       "      <th>rata2_waktu_dalam_hari</th>\n",
       "    </tr>\n",
       "  </thead>\n",
       "  <tbody>\n",
       "    <tr>\n",
       "      <th>0</th>\n",
       "      <td>29.0</td>\n",
       "    </tr>\n",
       "  </tbody>\n",
       "</table>\n",
       "</div>"
      ],
      "text/plain": [
       "   rata2_waktu_dalam_hari\n",
       "0                    29.0"
      ]
     },
     "execution_count": 127,
     "metadata": {},
     "output_type": "execute_result"
    }
   ],
   "source": [
    "waktu_1_proyek = fetch_data(host, port, user, passwd, databs, query_waktu_1_proyek)\n",
    "waktu_1_proyek "
   ]
  },
  {
   "cell_type": "markdown",
   "metadata": {},
   "source": [
    "#### Jumlah Proyek yang Dihandle oleh Desainer "
   ]
  },
  {
   "cell_type": "code",
   "execution_count": 130,
   "metadata": {},
   "outputs": [],
   "source": [
    "query_proyek = \"\"\"  \n",
    "SELECT \n",
    "    user_name,\n",
    "    COUNT(id_design_finish) AS jumlah_proyek\n",
    "FROM(\n",
    "\tSELECT \n",
    "    order_design.id_order,\n",
    "    order_design.id_user,\n",
    "    category_size.id_category,\n",
    "    order_design.id_design_finish,\n",
    "    category_design.id_category_design,\n",
    "    user.name AS user_name,\n",
    "    user.status AS user_status,\n",
    "    design.design_name,\n",
    "    design.status AS design_status,\n",
    "    CASE\n",
    "    \tWHEN category_size.id_category = 1 THEN '< 10m^2'\n",
    "\t\tWHEN category_size.id_category = 2 THEN '11 - 20m^2'\n",
    "   \t\tWHEN category_size.id_category = 3 THEN '21 - 30m^2'\n",
    "   \t\tWHEN category_size.id_category = 4 THEN '31 - 40m^2'\n",
    "   \t\tWHEN category_size.id_category = 5 THEN '41 - 50m^2'\n",
    "   \t\tELSE '> 50m^2'\n",
    "   \tEND AS category_size,\n",
    "   \tcategory_design.name AS category_name,\n",
    "   \torder_design.status AS order_status,\n",
    "   \torder_design.price,\n",
    "   \tpromo_code.code AS promo_code,\n",
    "   \tpromo_code.valid_from,\n",
    "   \tpromo_code.valid_until,\n",
    "   \torder_design.created_at,\n",
    "   \torder_design.updated_at,\n",
    "    CASE\n",
    "    \tWHEN address_components.administrative_area_level_1 IN ('Daerah Khusus Ibukota Jakarta','Jakarta') THEN 'Daerah Khusus Ibukota Jakarta'\n",
    "        WHEN address_components.administrative_area_level_1 = 'Banten' THEN 'Banten'\n",
    "        WHEN address_components.administrative_area_level_1 IN ('Jawa Barat', 'West Java') THEN 'Jawa Barat'\n",
    "        WHEN address_components.administrative_area_level_1 IN ('Jawa Timur', 'East Java') THEN 'Jawa Timur'\n",
    "        WHEN address_components.administrative_area_level_1 = 'Bali' THEN 'Bali'\n",
    "        WHEN address_components.administrative_area_level_1 = 'Sulawesi Selatan' THEN 'Sulawesi Selatan'\n",
    "        WHEN address_components.administrative_area_level_1 IN ('Sumatera Utara', 'North Sumatra') THEN 'Sumatera Utara'\n",
    "        WHEN address_components.administrative_area_level_1 IN ('Jawa Tengah', 'Central Java') THEN 'Jawa Tengah'\n",
    "        WHEN address_components.administrative_area_level_1 = 'Daerah Istimewa Yogyakarta' THEN 'Daerah Istimewa Yogyakarta'\n",
    "        WHEN address_components.administrative_area_level_1 = 'Jambi' THEN 'Jambi'\n",
    "        WHEN address_components.administrative_area_level_1 = 'Lampung' THEN 'Lampung'\n",
    "        WHEN address_components.administrative_area_level_1 = 'Aceh' THEN 'Aceh'\n",
    "        WHEN address_components.administrative_area_level_1 IN ('Sumatera Barat', 'West Sumatra') THEN 'Sumatera Barat'\n",
    "        WHEN address_components.administrative_area_level_1 = 'Federal District' THEN 'Federal District'\n",
    "        WHEN address_components.administrative_area_level_1 = '' OR address_components.administrative_area_level_1 IS NULL THEN 'Unknown Location'\n",
    "        ELSE address_components.administrative_area_level_1\n",
    "  \tEND AS province,\n",
    "    CASE\n",
    "        WHEN address_components.administrative_area_level_2 IN ('Badung', 'Badung Regency') THEN 'Badung'\n",
    "        WHEN address_components.administrative_area_level_2 IN ('Bandung', 'Bandung Regency') THEN 'Bandung'\n",
    "        WHEN address_components.administrative_area_level_2 IN ('Banyumas', 'Banyumas Regency') THEN 'Banyumas'\n",
    "        WHEN address_components.administrative_area_level_2 IN ('Bekasi', 'Bekasi Regency') THEN 'Bekasi'\n",
    "        WHEN address_components.administrative_area_level_2 IN ('Bogor', 'Bogor Regency') THEN 'Bogor'\n",
    "        WHEN address_components.administrative_area_level_2 IN ('Central Jakarta City', 'Jakarta Pusat') THEN 'Jakarta Pusat'\n",
    "        WHEN address_components.administrative_area_level_2 IN ('Ciamis', 'Ciamis Regency') THEN 'Ciamis'\n",
    "        WHEN address_components.administrative_area_level_2 IN ('Cimahi', 'Cimahi City') THEN 'Cimahi'\n",
    "        WHEN address_components.administrative_area_level_2 IN ('Deli Serdang', 'Deli Serdang Regency') THEN 'Deli Serdang'\n",
    "        WHEN address_components.administrative_area_level_2 IN ('Depok', 'Depok City') THEN 'Depok'\n",
    "        WHEN address_components.administrative_area_level_2 IN ('East Jakarta City', 'Jakarta Timur') THEN 'Jakarta Timur'\n",
    "        WHEN address_components.administrative_area_level_2 IN ('Jakarta Barat', 'West Jakarta City') THEN 'Jakarta Barat'\n",
    "        WHEN address_components.administrative_area_level_2 IN ('Jakarta Selatan', 'South Jakarta City') THEN 'Jakarta Selatan'\n",
    "        WHEN address_components.administrative_area_level_2 IN ('Jakarta Utara', 'North Jakarta City') THEN 'Jakarta Utara'\n",
    "        WHEN address_components.administrative_area_level_2 IN ('Jember', 'Jember Regency') THEN 'Jember'\n",
    "        WHEN address_components.administrative_area_level_2 IN ('Klungkung', 'Klungkung Regency') THEN 'Klungkung'\n",
    "        WHEN address_components.administrative_area_level_2 IN ('Pringsewu', 'Pringsewu Regency') THEN 'Pringsewu'\n",
    "        WHEN address_components.administrative_area_level_2 IN ('Sukabumi', 'Sukabumi City') THEN 'Sukabumi'\n",
    "        WHEN address_components.administrative_area_level_2 IN ('Tangerang', 'Tangerang City', 'Tangerang Regency') THEN 'Tangerang'\n",
    "        WHEN address_components.administrative_area_level_2 IN ('Tangerang Selatan', 'South Tangerang City') THEN 'Tangerang Selatan'\n",
    "        WHEN address_components.administrative_area_level_2 IN ('West Bandung', 'West Bandung Regency') THEN 'Bandung Barat'\n",
    "        WHEN address_components.administrative_area_level_2 = ' ' THEN 'Unknown City'\n",
    "        ELSE address_components.administrative_area_level_2\n",
    "    END AS city,\n",
    "    CASE\n",
    "        WHEN address_components.administrative_area_level_3 IN ('South Kuta') THEN 'Kuta Selatan'\n",
    "        WHEN address_components.administrative_area_level_3 = ' ' THEN 'Unknown District'\n",
    "        ELSE address_components.administrative_area_level_3\n",
    "    END AS district\n",
    "    FROM\n",
    "    \torder_design\n",
    "    LEFT JOIN\n",
    "    \tuser ON user.id_user = order_design.id_designer\n",
    "    LEFT JOIN\n",
    "    \tcategory_size ON category_size.id_category = order_design.id_category\n",
    "    LEFT JOIN\n",
    "    \tdesign ON design.id_design = order_design.id_design_finish\n",
    "    LEFT JOIN\n",
    "    \tcategory_design ON category_design.id_category_design = design.id_type\n",
    "    LEFT JOIN\n",
    "    \taddress_components ON address_components.address_componentable_id = order_design.id_order\n",
    "    LEFT JOIN \n",
    "        promo_code ON promo_code.id_promo = order_design.id_promo\n",
    "    WHERE \n",
    "    \torder_design.id_user > 249\n",
    "    AND\n",
    "    \torder_design.status NOT IN ('expired','new')\n",
    ") AS master_table\n",
    "GROUP BY \n",
    "\tuser_name\n",
    "ORDER BY \n",
    "\tjumlah_proyek DESC;\n",
    "\"\"\""
   ]
  },
  {
   "cell_type": "code",
   "execution_count": 131,
   "metadata": {},
   "outputs": [
    {
     "data": {
      "text/html": [
       "<div>\n",
       "<style scoped>\n",
       "    .dataframe tbody tr th:only-of-type {\n",
       "        vertical-align: middle;\n",
       "    }\n",
       "\n",
       "    .dataframe tbody tr th {\n",
       "        vertical-align: top;\n",
       "    }\n",
       "\n",
       "    .dataframe thead th {\n",
       "        text-align: right;\n",
       "    }\n",
       "</style>\n",
       "<table border=\"1\" class=\"dataframe\">\n",
       "  <thead>\n",
       "    <tr style=\"text-align: right;\">\n",
       "      <th></th>\n",
       "      <th>user_name</th>\n",
       "      <th>jumlah_proyek</th>\n",
       "    </tr>\n",
       "  </thead>\n",
       "  <tbody>\n",
       "    <tr>\n",
       "      <th>0</th>\n",
       "      <td>Arista Putri Valentin</td>\n",
       "      <td>31</td>\n",
       "    </tr>\n",
       "    <tr>\n",
       "      <th>1</th>\n",
       "      <td>Muhamad Rizq Januar</td>\n",
       "      <td>17</td>\n",
       "    </tr>\n",
       "    <tr>\n",
       "      <th>2</th>\n",
       "      <td>Mochammad Faizal Gibran</td>\n",
       "      <td>14</td>\n",
       "    </tr>\n",
       "    <tr>\n",
       "      <th>3</th>\n",
       "      <td>Fitria khoerunnisa</td>\n",
       "      <td>12</td>\n",
       "    </tr>\n",
       "    <tr>\n",
       "      <th>4</th>\n",
       "      <td>Fresylia Novita</td>\n",
       "      <td>11</td>\n",
       "    </tr>\n",
       "    <tr>\n",
       "      <th>5</th>\n",
       "      <td>Ayudia Karima</td>\n",
       "      <td>10</td>\n",
       "    </tr>\n",
       "    <tr>\n",
       "      <th>6</th>\n",
       "      <td>Fridazanita</td>\n",
       "      <td>9</td>\n",
       "    </tr>\n",
       "    <tr>\n",
       "      <th>7</th>\n",
       "      <td>Nila Reina Puspita</td>\n",
       "      <td>9</td>\n",
       "    </tr>\n",
       "    <tr>\n",
       "      <th>8</th>\n",
       "      <td>Agung Priambodo</td>\n",
       "      <td>9</td>\n",
       "    </tr>\n",
       "    <tr>\n",
       "      <th>9</th>\n",
       "      <td>FAIRUZ NURUL FADHILAH</td>\n",
       "      <td>8</td>\n",
       "    </tr>\n",
       "    <tr>\n",
       "      <th>10</th>\n",
       "      <td>Sony Setiawan</td>\n",
       "      <td>8</td>\n",
       "    </tr>\n",
       "    <tr>\n",
       "      <th>11</th>\n",
       "      <td>Olivia</td>\n",
       "      <td>8</td>\n",
       "    </tr>\n",
       "    <tr>\n",
       "      <th>12</th>\n",
       "      <td>Fitra Dzaamalina</td>\n",
       "      <td>7</td>\n",
       "    </tr>\n",
       "    <tr>\n",
       "      <th>13</th>\n",
       "      <td>Muhammad Nizam Nabielsyah</td>\n",
       "      <td>7</td>\n",
       "    </tr>\n",
       "    <tr>\n",
       "      <th>14</th>\n",
       "      <td>Evita</td>\n",
       "      <td>7</td>\n",
       "    </tr>\n",
       "    <tr>\n",
       "      <th>15</th>\n",
       "      <td>Gadhing Aderiza Akbar</td>\n",
       "      <td>7</td>\n",
       "    </tr>\n",
       "    <tr>\n",
       "      <th>16</th>\n",
       "      <td>Sadrina Putri N</td>\n",
       "      <td>7</td>\n",
       "    </tr>\n",
       "    <tr>\n",
       "      <th>17</th>\n",
       "      <td>Nurfadliani Kadir</td>\n",
       "      <td>6</td>\n",
       "    </tr>\n",
       "    <tr>\n",
       "      <th>18</th>\n",
       "      <td>Alia Zatalini</td>\n",
       "      <td>6</td>\n",
       "    </tr>\n",
       "    <tr>\n",
       "      <th>19</th>\n",
       "      <td>Putra Filemon Adinugroho</td>\n",
       "      <td>6</td>\n",
       "    </tr>\n",
       "    <tr>\n",
       "      <th>20</th>\n",
       "      <td>Nisha Mourrow Firdaus</td>\n",
       "      <td>6</td>\n",
       "    </tr>\n",
       "    <tr>\n",
       "      <th>21</th>\n",
       "      <td>Laurensia Lely Gayatri</td>\n",
       "      <td>6</td>\n",
       "    </tr>\n",
       "    <tr>\n",
       "      <th>22</th>\n",
       "      <td>Muhammad Haidar Muthahhari</td>\n",
       "      <td>5</td>\n",
       "    </tr>\n",
       "    <tr>\n",
       "      <th>23</th>\n",
       "      <td>Amrina Rosyada</td>\n",
       "      <td>5</td>\n",
       "    </tr>\n",
       "    <tr>\n",
       "      <th>24</th>\n",
       "      <td>Hanifah Maghfira Nuraini</td>\n",
       "      <td>5</td>\n",
       "    </tr>\n",
       "    <tr>\n",
       "      <th>25</th>\n",
       "      <td>Shafa Miranti</td>\n",
       "      <td>5</td>\n",
       "    </tr>\n",
       "    <tr>\n",
       "      <th>26</th>\n",
       "      <td>Diandra Faradina</td>\n",
       "      <td>4</td>\n",
       "    </tr>\n",
       "    <tr>\n",
       "      <th>27</th>\n",
       "      <td>Nela Larasati Nalle</td>\n",
       "      <td>4</td>\n",
       "    </tr>\n",
       "    <tr>\n",
       "      <th>28</th>\n",
       "      <td>Elizabeth Agustin Basana Manihuruk</td>\n",
       "      <td>4</td>\n",
       "    </tr>\n",
       "    <tr>\n",
       "      <th>29</th>\n",
       "      <td>Irviananda Adenia</td>\n",
       "      <td>4</td>\n",
       "    </tr>\n",
       "    <tr>\n",
       "      <th>30</th>\n",
       "      <td>Abdul Muchlis Febriansyah</td>\n",
       "      <td>4</td>\n",
       "    </tr>\n",
       "    <tr>\n",
       "      <th>31</th>\n",
       "      <td>Freelancer</td>\n",
       "      <td>4</td>\n",
       "    </tr>\n",
       "    <tr>\n",
       "      <th>32</th>\n",
       "      <td>Lucky Anggoro Wahyu Wijaya</td>\n",
       "      <td>4</td>\n",
       "    </tr>\n",
       "    <tr>\n",
       "      <th>33</th>\n",
       "      <td>windah inayati</td>\n",
       "      <td>3</td>\n",
       "    </tr>\n",
       "    <tr>\n",
       "      <th>34</th>\n",
       "      <td>Retno Wulandari</td>\n",
       "      <td>3</td>\n",
       "    </tr>\n",
       "    <tr>\n",
       "      <th>35</th>\n",
       "      <td>Gemilia Elvarino</td>\n",
       "      <td>3</td>\n",
       "    </tr>\n",
       "    <tr>\n",
       "      <th>36</th>\n",
       "      <td>Annisa Putri Winata</td>\n",
       "      <td>2</td>\n",
       "    </tr>\n",
       "    <tr>\n",
       "      <th>37</th>\n",
       "      <td>Rizki Novaldi Ramadhan</td>\n",
       "      <td>2</td>\n",
       "    </tr>\n",
       "    <tr>\n",
       "      <th>38</th>\n",
       "      <td>Nadia Zulfa</td>\n",
       "      <td>2</td>\n",
       "    </tr>\n",
       "    <tr>\n",
       "      <th>39</th>\n",
       "      <td>Muhammad Ichsan Hafidz</td>\n",
       "      <td>2</td>\n",
       "    </tr>\n",
       "    <tr>\n",
       "      <th>40</th>\n",
       "      <td>Didik Purnomo</td>\n",
       "      <td>2</td>\n",
       "    </tr>\n",
       "    <tr>\n",
       "      <th>41</th>\n",
       "      <td>Syarifah Nurhasni Firrasyida</td>\n",
       "      <td>2</td>\n",
       "    </tr>\n",
       "    <tr>\n",
       "      <th>42</th>\n",
       "      <td>Endang Oktaviani</td>\n",
       "      <td>2</td>\n",
       "    </tr>\n",
       "    <tr>\n",
       "      <th>43</th>\n",
       "      <td>Albario Renaldy</td>\n",
       "      <td>1</td>\n",
       "    </tr>\n",
       "    <tr>\n",
       "      <th>44</th>\n",
       "      <td>Gradasi Alam</td>\n",
       "      <td>1</td>\n",
       "    </tr>\n",
       "    <tr>\n",
       "      <th>45</th>\n",
       "      <td>shifa fadhilatul munawaroh</td>\n",
       "      <td>1</td>\n",
       "    </tr>\n",
       "    <tr>\n",
       "      <th>46</th>\n",
       "      <td>M. Fajri Budiman</td>\n",
       "      <td>1</td>\n",
       "    </tr>\n",
       "    <tr>\n",
       "      <th>47</th>\n",
       "      <td>Khairul Syam Efendi Rangkuti</td>\n",
       "      <td>1</td>\n",
       "    </tr>\n",
       "    <tr>\n",
       "      <th>48</th>\n",
       "      <td>Nurjannah Puspiasari</td>\n",
       "      <td>1</td>\n",
       "    </tr>\n",
       "    <tr>\n",
       "      <th>49</th>\n",
       "      <td>Shafwan</td>\n",
       "      <td>1</td>\n",
       "    </tr>\n",
       "    <tr>\n",
       "      <th>50</th>\n",
       "      <td>aghnina rahmatika</td>\n",
       "      <td>1</td>\n",
       "    </tr>\n",
       "    <tr>\n",
       "      <th>51</th>\n",
       "      <td>Nazun Thousan</td>\n",
       "      <td>1</td>\n",
       "    </tr>\n",
       "    <tr>\n",
       "      <th>52</th>\n",
       "      <td>None</td>\n",
       "      <td>1</td>\n",
       "    </tr>\n",
       "    <tr>\n",
       "      <th>53</th>\n",
       "      <td>Muhammad Riansyah nurhidayat</td>\n",
       "      <td>1</td>\n",
       "    </tr>\n",
       "    <tr>\n",
       "      <th>54</th>\n",
       "      <td>Muhammad Waldi Fiddaroini</td>\n",
       "      <td>1</td>\n",
       "    </tr>\n",
       "    <tr>\n",
       "      <th>55</th>\n",
       "      <td>Fitri Amalia</td>\n",
       "      <td>1</td>\n",
       "    </tr>\n",
       "    <tr>\n",
       "      <th>56</th>\n",
       "      <td>Nindya Kirana</td>\n",
       "      <td>1</td>\n",
       "    </tr>\n",
       "    <tr>\n",
       "      <th>57</th>\n",
       "      <td>isrofi dwi subarkah</td>\n",
       "      <td>1</td>\n",
       "    </tr>\n",
       "    <tr>\n",
       "      <th>58</th>\n",
       "      <td>Hendri caw</td>\n",
       "      <td>0</td>\n",
       "    </tr>\n",
       "  </tbody>\n",
       "</table>\n",
       "</div>"
      ],
      "text/plain": [
       "                             user_name  jumlah_proyek\n",
       "0                Arista Putri Valentin             31\n",
       "1                  Muhamad Rizq Januar             17\n",
       "2              Mochammad Faizal Gibran             14\n",
       "3                   Fitria khoerunnisa             12\n",
       "4                      Fresylia Novita             11\n",
       "5                        Ayudia Karima             10\n",
       "6                          Fridazanita              9\n",
       "7                   Nila Reina Puspita              9\n",
       "8                      Agung Priambodo              9\n",
       "9                FAIRUZ NURUL FADHILAH              8\n",
       "10                       Sony Setiawan              8\n",
       "11                              Olivia              8\n",
       "12                    Fitra Dzaamalina              7\n",
       "13           Muhammad Nizam Nabielsyah              7\n",
       "14                               Evita              7\n",
       "15               Gadhing Aderiza Akbar              7\n",
       "16                     Sadrina Putri N              7\n",
       "17                   Nurfadliani Kadir              6\n",
       "18                       Alia Zatalini              6\n",
       "19            Putra Filemon Adinugroho              6\n",
       "20               Nisha Mourrow Firdaus              6\n",
       "21              Laurensia Lely Gayatri              6\n",
       "22          Muhammad Haidar Muthahhari              5\n",
       "23                      Amrina Rosyada              5\n",
       "24            Hanifah Maghfira Nuraini              5\n",
       "25                       Shafa Miranti              5\n",
       "26                    Diandra Faradina              4\n",
       "27                 Nela Larasati Nalle              4\n",
       "28  Elizabeth Agustin Basana Manihuruk              4\n",
       "29                   Irviananda Adenia              4\n",
       "30           Abdul Muchlis Febriansyah              4\n",
       "31                          Freelancer              4\n",
       "32          Lucky Anggoro Wahyu Wijaya              4\n",
       "33                      windah inayati              3\n",
       "34                     Retno Wulandari              3\n",
       "35                    Gemilia Elvarino              3\n",
       "36                 Annisa Putri Winata              2\n",
       "37              Rizki Novaldi Ramadhan              2\n",
       "38                         Nadia Zulfa              2\n",
       "39              Muhammad Ichsan Hafidz              2\n",
       "40                       Didik Purnomo              2\n",
       "41        Syarifah Nurhasni Firrasyida              2\n",
       "42                    Endang Oktaviani              2\n",
       "43                     Albario Renaldy              1\n",
       "44                        Gradasi Alam              1\n",
       "45          shifa fadhilatul munawaroh              1\n",
       "46                    M. Fajri Budiman              1\n",
       "47        Khairul Syam Efendi Rangkuti              1\n",
       "48                Nurjannah Puspiasari              1\n",
       "49                             Shafwan              1\n",
       "50                   aghnina rahmatika              1\n",
       "51                       Nazun Thousan              1\n",
       "52                                None              1\n",
       "53        Muhammad Riansyah nurhidayat              1\n",
       "54           Muhammad Waldi Fiddaroini              1\n",
       "55                        Fitri Amalia              1\n",
       "56                       Nindya Kirana              1\n",
       "57                 isrofi dwi subarkah              1\n",
       "58                          Hendri caw              0"
      ]
     },
     "execution_count": 131,
     "metadata": {},
     "output_type": "execute_result"
    }
   ],
   "source": [
    "jumlah_proyek = fetch_data(host, port, user, passwd, databs, query_proyek)\n",
    "jumlah_proyek "
   ]
  }
 ],
 "metadata": {
  "kernelspec": {
   "display_name": "base",
   "language": "python",
   "name": "python3"
  },
  "language_info": {
   "codemirror_mode": {
    "name": "ipython",
    "version": 3
   },
   "file_extension": ".py",
   "mimetype": "text/x-python",
   "name": "python",
   "nbconvert_exporter": "python",
   "pygments_lexer": "ipython3",
   "version": "3.11.5"
  }
 },
 "nbformat": 4,
 "nbformat_minor": 2
}
